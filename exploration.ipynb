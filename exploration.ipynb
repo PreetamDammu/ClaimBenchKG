{
 "cells": [
  {
   "cell_type": "code",
   "execution_count": 1,
   "metadata": {},
   "outputs": [],
   "source": [
    "import pandas as pd\n",
    "from collections import Counter\n",
    "from utils.openai_helpers import query_openai_model\n",
    "from utils.wiki_helpers import get_label_for_qid, get_triplet_labels"
   ]
  },
  {
   "cell_type": "code",
   "execution_count": 2,
   "metadata": {},
   "outputs": [],
   "source": [
    "with open('inputs/wikidata5m/wikidata5m_transductive_valid.txt', 'r') as file:\n",
    "    wiki_valid = file.readlines()"
   ]
  },
  {
   "cell_type": "code",
   "execution_count": 3,
   "metadata": {},
   "outputs": [],
   "source": [
    "def convert_to_triplets(input_list):\n",
    "    \"\"\"\n",
    "    :param input_list: List of strings formatted as 'head\\trelation\\ttail\\n'\n",
    "    :return: List of triplets (head, relation, tail)\n",
    "    \"\"\"\n",
    "    # Split each string by the tab character and strip the newline character, then store as a tuple\n",
    "    triplets = [tuple(item.strip().split('\\t')) for item in input_list]\n",
    "    return triplets\n",
    "\n",
    "def top_n_entities(triplets, n=10):\n",
    "    \"\"\"\n",
    "    :param triplets: List of triplets (head, relation, tail)\n",
    "    :param n: Number of top entities to return\n",
    "    :return: List of tuples (entity, count) for the top n occurring entities\n",
    "    \"\"\"\n",
    "    entities = entities = [triplet[0] for triplet in triplets] + [triplet[2] for triplet in triplets]\n",
    "    entity_counts = Counter(entities)\n",
    "    top_entities = entity_counts.most_common(n)\n",
    "    \n",
    "    return top_entities\n",
    "\n",
    "def triplets_containing_entity(triplets, qid):\n",
    "    \"\"\"\n",
    "    :param triplets: List of triplets (entity, relation, entity)\n",
    "    :param qid: The QID of the entity to filter by\n",
    "    :return: List of triplets that contain the specified QID\n",
    "    \"\"\"\n",
    "    filtered_triplets = [triplet for triplet in triplets if qid in triplet]\n",
    "    \n",
    "    return filtered_triplets"
   ]
  },
  {
   "cell_type": "code",
   "execution_count": 4,
   "metadata": {},
   "outputs": [],
   "source": [
    "list_of_triplets = convert_to_triplets(wiki_valid)"
   ]
  },
  {
   "cell_type": "code",
   "execution_count": 5,
   "metadata": {},
   "outputs": [
    {
     "data": {
      "text/plain": [
       "[('Q3576734', 'P495', 'Q30'),\n",
       " ('Q641724', 'P1412', 'Q1860'),\n",
       " ('Q959357', 'P39', 'Q49476'),\n",
       " ('Q4263990', 'P105', 'Q7432'),\n",
       " ('Q4119101', 'P171', 'Q2906912')]"
      ]
     },
     "execution_count": 5,
     "metadata": {},
     "output_type": "execute_result"
    }
   ],
   "source": [
    "list_of_triplets[:5]"
   ]
  },
  {
   "cell_type": "code",
   "execution_count": 6,
   "metadata": {},
   "outputs": [
    {
     "data": {
      "text/plain": [
       "5163"
      ]
     },
     "execution_count": 6,
     "metadata": {},
     "output_type": "execute_result"
    }
   ],
   "source": [
    "len(list_of_triplets)"
   ]
  },
  {
   "cell_type": "code",
   "execution_count": 7,
   "metadata": {},
   "outputs": [],
   "source": [
    "top_entities = top_n_entities(list_of_triplets, 30)"
   ]
  },
  {
   "cell_type": "code",
   "execution_count": 8,
   "metadata": {},
   "outputs": [
    {
     "data": {
      "text/plain": [
       "[('Q5', 377),\n",
       " ('Q30', 202),\n",
       " ('Q16521', 84),\n",
       " ('Q145', 67),\n",
       " ('Q7432', 64),\n",
       " ('Q2736', 53),\n",
       " ('Q1860', 52),\n",
       " ('Q82955', 42),\n",
       " ('Q6723', 38),\n",
       " ('Q486972', 33),\n",
       " ('Q6655', 33),\n",
       " ('Q937857', 33),\n",
       " ('Q16', 31),\n",
       " ('Q183', 30),\n",
       " ('Q532', 28),\n",
       " ('Q11424', 28),\n",
       " ('Q482994', 25),\n",
       " ('Q794', 23),\n",
       " ('Q142', 23),\n",
       " ('Q33999', 22),\n",
       " ('Q668', 21),\n",
       " ('Q408', 20),\n",
       " ('Q571', 20),\n",
       " ('Q134556', 19),\n",
       " ('Q34740', 15),\n",
       " ('Q4830453', 15),\n",
       " ('Q38', 14),\n",
       " ('Q336286', 13),\n",
       " ('Q8502', 13),\n",
       " ('Q188', 13)]"
      ]
     },
     "execution_count": 8,
     "metadata": {},
     "output_type": "execute_result"
    }
   ],
   "source": [
    "top_entities"
   ]
  },
  {
   "cell_type": "code",
   "execution_count": 9,
   "metadata": {},
   "outputs": [
    {
     "data": {
      "text/plain": [
       "[('Q3835811', 'P495', 'Q38'),\n",
       " ('Q19577450', 'P27', 'Q38'),\n",
       " ('Q3770400', 'P27', 'Q38'),\n",
       " ('Q1223267', 'P17', 'Q38'),\n",
       " ('Q327719', 'P27', 'Q38'),\n",
       " ('Q7335559', 'P17', 'Q38'),\n",
       " ('Q2314711', 'P17', 'Q38'),\n",
       " ('Q955524', 'P27', 'Q38'),\n",
       " ('Q3631503', 'P20', 'Q38'),\n",
       " ('Q46462', 'P17', 'Q38'),\n",
       " ('Q1637348', 'P17', 'Q38'),\n",
       " ('Q53195', 'P17', 'Q38'),\n",
       " ('Q3138845', 'P495', 'Q38'),\n",
       " ('Q1131395', 'P17', 'Q38')]"
      ]
     },
     "execution_count": 9,
     "metadata": {},
     "output_type": "execute_result"
    }
   ],
   "source": [
    "triplets_containing_entity(list_of_triplets, 'Q38')"
   ]
  },
  {
   "cell_type": "code",
   "execution_count": 10,
   "metadata": {},
   "outputs": [],
   "source": [
    "# generated_text, usage = query_openai_model(\"What is the capital of France?\")"
   ]
  },
  {
   "cell_type": "code",
   "execution_count": null,
   "metadata": {},
   "outputs": [],
   "source": []
  },
  {
   "cell_type": "code",
   "execution_count": 11,
   "metadata": {},
   "outputs": [
    {
     "data": {
      "text/plain": [
       "('Catch as Catch Can', '1967 film by Franco Indovina')"
      ]
     },
     "execution_count": 11,
     "metadata": {},
     "output_type": "execute_result"
    }
   ],
   "source": [
    "get_label_for_qid('Q3835811')"
   ]
  },
  {
   "cell_type": "code",
   "execution_count": 12,
   "metadata": {},
   "outputs": [
    {
     "data": {
      "text/plain": [
       "(('Catch as Catch Can', 'country of origin', 'Italy'),\n",
       " ('1967 film by Franco Indovina',\n",
       "  'country of origin of this item (creative work, food, phrase, product, etc.)',\n",
       "  'country in Southern Europe'))"
      ]
     },
     "execution_count": 12,
     "metadata": {},
     "output_type": "execute_result"
    }
   ],
   "source": [
    "get_triplet_labels(('Q3835811', 'P495', 'Q38'))"
   ]
  },
  {
   "cell_type": "code",
   "execution_count": null,
   "metadata": {},
   "outputs": [],
   "source": []
  }
 ],
 "metadata": {
  "kernelspec": {
   "display_name": "azureml_py38_PT_TF",
   "language": "python",
   "name": "python3"
  },
  "language_info": {
   "codemirror_mode": {
    "name": "ipython",
    "version": 3
   },
   "file_extension": ".py",
   "mimetype": "text/x-python",
   "name": "python",
   "nbconvert_exporter": "python",
   "pygments_lexer": "ipython3",
   "version": "3.8.5"
  }
 },
 "nbformat": 4,
 "nbformat_minor": 2
}
