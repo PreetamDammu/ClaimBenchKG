{
 "cells": [
  {
   "cell_type": "code",
   "execution_count": 2,
   "metadata": {},
   "outputs": [],
   "source": [
    "from utils.openai_helpers import query_openai_model\n",
    "from utils.preprocess_functions import convert_to_triplets, top_n_entities, triplets_containing_entity\n",
    "from utils.preprocess_functions import get_labels_and_descriptions_for_triplets, format_triplets_text\n",
    "from utils.wiki_helpers import get_label_for_qid, get_triplet_labels\n",
    "from utils.prompt_functions import get_prompt_v1, get_prompt_v2\n",
    "import json"
   ]
  },
  {
   "cell_type": "code",
   "execution_count": 3,
   "metadata": {},
   "outputs": [],
   "source": [
    "with open('inputs/wikidata5m/wikidata5m_transductive_valid.txt', 'r') as file:\n",
    "    wiki_valid = file.readlines()"
   ]
  },
  {
   "cell_type": "code",
   "execution_count": 4,
   "metadata": {},
   "outputs": [],
   "source": [
    "list_of_triplets = convert_to_triplets(wiki_valid)"
   ]
  },
  {
   "cell_type": "code",
   "execution_count": 5,
   "metadata": {},
   "outputs": [
    {
     "data": {
      "text/plain": [
       "[('Q3576734', 'P495', 'Q30'),\n",
       " ('Q641724', 'P1412', 'Q1860'),\n",
       " ('Q959357', 'P39', 'Q49476'),\n",
       " ('Q4263990', 'P105', 'Q7432'),\n",
       " ('Q4119101', 'P171', 'Q2906912')]"
      ]
     },
     "execution_count": 5,
     "metadata": {},
     "output_type": "execute_result"
    }
   ],
   "source": [
    "list_of_triplets[:5]"
   ]
  },
  {
   "cell_type": "code",
   "execution_count": 6,
   "metadata": {},
   "outputs": [
    {
     "data": {
      "text/plain": [
       "5163"
      ]
     },
     "execution_count": 6,
     "metadata": {},
     "output_type": "execute_result"
    }
   ],
   "source": [
    "len(list_of_triplets)"
   ]
  },
  {
   "cell_type": "code",
   "execution_count": 7,
   "metadata": {},
   "outputs": [],
   "source": [
    "top_entities = top_n_entities(list_of_triplets, 30)"
   ]
  },
  {
   "cell_type": "code",
   "execution_count": 8,
   "metadata": {},
   "outputs": [
    {
     "data": {
      "text/plain": [
       "[('Q5', 377),\n",
       " ('Q30', 202),\n",
       " ('Q16521', 84),\n",
       " ('Q145', 67),\n",
       " ('Q7432', 64),\n",
       " ('Q2736', 53),\n",
       " ('Q1860', 52),\n",
       " ('Q82955', 42),\n",
       " ('Q6723', 38),\n",
       " ('Q486972', 33),\n",
       " ('Q6655', 33),\n",
       " ('Q937857', 33),\n",
       " ('Q16', 31),\n",
       " ('Q183', 30),\n",
       " ('Q532', 28),\n",
       " ('Q11424', 28),\n",
       " ('Q482994', 25),\n",
       " ('Q794', 23),\n",
       " ('Q142', 23),\n",
       " ('Q33999', 22),\n",
       " ('Q668', 21),\n",
       " ('Q408', 20),\n",
       " ('Q571', 20),\n",
       " ('Q134556', 19),\n",
       " ('Q34740', 15),\n",
       " ('Q4830453', 15),\n",
       " ('Q38', 14),\n",
       " ('Q336286', 13),\n",
       " ('Q8502', 13),\n",
       " ('Q188', 13)]"
      ]
     },
     "execution_count": 8,
     "metadata": {},
     "output_type": "execute_result"
    }
   ],
   "source": [
    "top_entities"
   ]
  },
  {
   "cell_type": "code",
   "execution_count": 9,
   "metadata": {},
   "outputs": [],
   "source": [
    "req_list = triplets_containing_entity(list_of_triplets, 'Q38')"
   ]
  },
  {
   "cell_type": "code",
   "execution_count": 10,
   "metadata": {},
   "outputs": [],
   "source": [
    "# generated_text, usage = query_openai_model(\"What is the capital of France?\")"
   ]
  },
  {
   "cell_type": "code",
   "execution_count": 11,
   "metadata": {},
   "outputs": [
    {
     "data": {
      "text/plain": [
       "('Catch as Catch Can', '1967 film by Franco Indovina')"
      ]
     },
     "execution_count": 11,
     "metadata": {},
     "output_type": "execute_result"
    }
   ],
   "source": [
    "get_label_for_qid('Q3835811')"
   ]
  },
  {
   "cell_type": "code",
   "execution_count": 12,
   "metadata": {},
   "outputs": [
    {
     "data": {
      "text/plain": [
       "(('Catch as Catch Can', 'country of origin', 'Italy'),\n",
       " ('1967 film by Franco Indovina',\n",
       "  'country of origin of this item (creative work, food, phrase, product, etc.)',\n",
       "  'country in Southern Europe'))"
      ]
     },
     "execution_count": 12,
     "metadata": {},
     "output_type": "execute_result"
    }
   ],
   "source": [
    "get_triplet_labels(('Q3835811', 'P495', 'Q38'))"
   ]
  },
  {
   "cell_type": "code",
   "execution_count": 13,
   "metadata": {},
   "outputs": [
    {
     "name": "stderr",
     "output_type": "stream",
     "text": [
      "  0%|          | 0/14 [00:00<?, ?it/s]"
     ]
    },
    {
     "name": "stderr",
     "output_type": "stream",
     "text": [
      "100%|██████████| 14/14 [00:11<00:00,  1.21it/s]\n"
     ]
    }
   ],
   "source": [
    "triplet_list, desc_list = get_labels_and_descriptions_for_triplets(req_list)"
   ]
  },
  {
   "cell_type": "code",
   "execution_count": 14,
   "metadata": {},
   "outputs": [],
   "source": [
    "# triplet_list"
   ]
  },
  {
   "cell_type": "code",
   "execution_count": 15,
   "metadata": {},
   "outputs": [],
   "source": [
    "# desc_list"
   ]
  },
  {
   "cell_type": "code",
   "execution_count": 16,
   "metadata": {},
   "outputs": [
    {
     "name": "stdout",
     "output_type": "stream",
     "text": [
      "(Catch as Catch Can (1967 film by Franco Indovina), country of origin, Italy (country in Southern Europe))\n",
      "(Lodovico Nulli (sport shooter), country of citizenship, Italy (country in Southern Europe))\n",
      "(Giuseppe Danise (Italian opera singer (1882-1963)), country of citizenship, Italy (country in Southern Europe))\n",
      "(Gulf of La Spezia (body of water on the north-western coast of Italy), country, Italy (country in Southern Europe))\n",
      "(Luigi Ferdinando Tagliavini (Italian musician), country of citizenship, Italy (country in Southern Europe))\n",
      "(Ripabianca (human settlement in Deruta, Italy), country, Italy (country in Southern Europe))\n",
      "(Arzani-Volpini (also known as Scuderia Volpini, Italian Formula One constructor), country, Italy (country in Southern Europe))\n",
      "(Franco Brusati (Italian film director and screenwriter), country of citizenship, Italy (country in Southern Europe))\n",
      "(Anna Palm de Rosa (Swedish artist (1859-1924)), place of death, Italy (country in Southern Europe))\n",
      "(San Zenone degli Ezzelini (Italian comune), country, Italy (country in Southern Europe))\n",
      "(Messner Mountain Museum (group of museums in Italy), country, Italy (country in Southern Europe))\n",
      "(Sequals (Italian comune), country, Italy (country in Southern Europe))\n",
      "(Ho! (1968 film by Robert Enrico), country of origin, Italy (country in Southern Europe))\n",
      "(Montefioralle (human settlement in Greve in Chianti, Metropolitan City of Florence, Tuscany, Italy), country, Italy (country in Southern Europe))\n"
     ]
    }
   ],
   "source": [
    "triplet_text = format_triplets_text(triplet_list, desc_list)\n",
    "print(triplet_text)"
   ]
  },
  {
   "cell_type": "code",
   "execution_count": 17,
   "metadata": {},
   "outputs": [
    {
     "name": "stdout",
     "output_type": "stream",
     "text": [
      "\n",
      "Use the triplets and their descriptions provided below to generate a coherent paragraph.\n",
      "You may use only a subset of the triplets if you wish. The focus is to generate a paragraph that is natural, coherent and informative.\n",
      "\n",
      "Return the paragraph generated, and a mapping for each triplet to the claim in the paragraph that it was used to generate.\n",
      "\n",
      "Structure your response as a JSON object with the following keys:\n",
      "- \"mapping\": A dictionary mapping each claim in the paragraph to the triplet or set of triplets that were used to generate it.\n",
      "- \"paragraph\": The paragraph generated\n",
      "\n",
      "The triplets and their descriptions provided in brackets are as follows:\n",
      "(Catch as Catch Can (1967 film by Franco Indovina), country of origin, Italy (country in Southern Europe))\n",
      "(Lodovico Nulli (sport shooter), country of citizenship, Italy (country in Southern Europe))\n",
      "(Giuseppe Danise (Italian opera singer (1882-1963)), country of citizenship, Italy (country in Southern Europe))\n",
      "(Gulf of La Spezia (body of water on the north-western coast of Italy), country, Italy (country in Southern Europe))\n",
      "(Luigi Ferdinando Tagliavini (Italian musician), country of citizenship, Italy (country in Southern Europe))\n",
      "(Ripabianca (human settlement in Deruta, Italy), country, Italy (country in Southern Europe))\n",
      "(Arzani-Volpini (also known as Scuderia Volpini, Italian Formula One constructor), country, Italy (country in Southern Europe))\n",
      "(Franco Brusati (Italian film director and screenwriter), country of citizenship, Italy (country in Southern Europe))\n",
      "(Anna Palm de Rosa (Swedish artist (1859-1924)), place of death, Italy (country in Southern Europe))\n",
      "(San Zenone degli Ezzelini (Italian comune), country, Italy (country in Southern Europe))\n",
      "(Messner Mountain Museum (group of museums in Italy), country, Italy (country in Southern Europe))\n",
      "(Sequals (Italian comune), country, Italy (country in Southern Europe))\n",
      "(Ho! (1968 film by Robert Enrico), country of origin, Italy (country in Southern Europe))\n",
      "(Montefioralle (human settlement in Greve in Chianti, Metropolitan City of Florence, Tuscany, Italy), country, Italy (country in Southern Europe))\n",
      "\n"
     ]
    }
   ],
   "source": [
    "prompt = get_prompt_v1(triplet_text)\n",
    "print(prompt)"
   ]
  },
  {
   "cell_type": "code",
   "execution_count": 22,
   "metadata": {},
   "outputs": [],
   "source": [
    "generated_text, usage = query_openai_model(prompt)"
   ]
  },
  {
   "cell_type": "code",
   "execution_count": 18,
   "metadata": {},
   "outputs": [
    {
     "name": "stdout",
     "output_type": "stream",
     "text": [
      "{\n",
      "  \"mapping\": {\n",
      "    \"Italy has been the birthplace and home to numerous influential individuals across various fields, including the arts, sports, and cinema.\": [\"Lodovico Nulli (sport shooter), country of citizenship, Italy (country in Southern Europe)\", \"Giuseppe Danise (Italian opera singer (1882-1963)), country of citizenship, Italy (country in Southern Europe)\", \"Luigi Ferdinando Tagliavini (Italian musician), country of citizenship, Italy (country in Southern Europe)\", \"Franco Brusati (Italian film director and screenwriter), country of citizenship, Italy (country in Southern Europe)\"],\n",
      "    \"It also serves as the setting for significant human settlements and natural wonders, contributing to its cultural and geographical diversity.\": [\"Gulf of La Spezia (body of water on the north-western coast of Italy), country, Italy (country in Southern Europe)\", \"Ripabianca (human settlement in Deruta, Italy), country, Italy (country in Southern Europe)\", \"San Zenone degli Ezzelini (Italian comune), country, Italy (country in Southern Europe)\", \"Montefioralle (human settlement in Greve in Chianti, Metropolitan City of Florence, Tuscany, Italy), country, Italy (country in Southern Europe)\"],\n",
      "    \"Furthermore, Italy's contribution to the automotive and entertainment industries is highlighted through the presence of entities like Arzani-Volpini and the production of films such as 'Catch as Catch Can' and 'Ho!'\": [\"Arzani-Volpini (also known as Scuderia Volpini, Italian Formula One constructor), country, Italy (country in Southern Europe)\", \"Catch as Catch Can (1967 film by Franco Indovina), country of origin, Italy (country in Southern Europe)\", \"Ho! (1968 film by Robert Enrico), country of origin, Italy (country in Southern Europe)\"],\n",
      "    \"The country also attracts international talents and has been the final resting place for notable figures like Anna Palm de Rosa, further enriching its cultural tapestry.\": [\"Anna Palm de Rosa (Swedish artist (1859-1924)), place of death, Italy (country in Southern Europe)\"]\n",
      "  },\n",
      "  \"paragraph\": \"Italy has been the birthplace and home to numerous influential individuals across various fields, including the arts, sports, and cinema. It also serves as the setting for significant human settlements and natural wonders, contributing to its cultural and geographical diversity. Furthermore, Italy's contribution to the automotive and entertainment industries is highlighted through the presence of entities like Arzani-Volpini and the production of films such as 'Catch as Catch Can' and 'Ho!'. The country also attracts international talents and has been the final resting place for notable figures like Anna Palm de Rosa, further enriching its cultural tapestry.\"\n",
      "}\n"
     ]
    }
   ],
   "source": [
    "print(generated_text)"
   ]
  },
  {
   "cell_type": "code",
   "execution_count": 19,
   "metadata": {},
   "outputs": [],
   "source": [
    "gen = json.loads(generated_text)"
   ]
  },
  {
   "cell_type": "code",
   "execution_count": 20,
   "metadata": {},
   "outputs": [
    {
     "name": "stdout",
     "output_type": "stream",
     "text": [
      "Italy has been the birthplace and home to numerous influential individuals across various fields, including the arts, sports, and cinema. It also serves as the setting for significant human settlements and natural wonders, contributing to its cultural and geographical diversity. Furthermore, Italy's contribution to the automotive and entertainment industries is highlighted through the presence of entities like Arzani-Volpini and the production of films such as 'Catch as Catch Can' and 'Ho!'. The country also attracts international talents and has been the final resting place for notable figures like Anna Palm de Rosa, further enriching its cultural tapestry.\n"
     ]
    }
   ],
   "source": [
    "print(gen['paragraph'])"
   ]
  },
  {
   "cell_type": "code",
   "execution_count": 21,
   "metadata": {},
   "outputs": [
    {
     "name": "stdout",
     "output_type": "stream",
     "text": [
      "{'Italy has been the birthplace and home to numerous influential individuals across various fields, including the arts, sports, and cinema.': ['Lodovico Nulli (sport shooter), country of citizenship, Italy (country in Southern Europe)', 'Giuseppe Danise (Italian opera singer (1882-1963)), country of citizenship, Italy (country in Southern Europe)', 'Luigi Ferdinando Tagliavini (Italian musician), country of citizenship, Italy (country in Southern Europe)', 'Franco Brusati (Italian film director and screenwriter), country of citizenship, Italy (country in Southern Europe)'], 'It also serves as the setting for significant human settlements and natural wonders, contributing to its cultural and geographical diversity.': ['Gulf of La Spezia (body of water on the north-western coast of Italy), country, Italy (country in Southern Europe)', 'Ripabianca (human settlement in Deruta, Italy), country, Italy (country in Southern Europe)', 'San Zenone degli Ezzelini (Italian comune), country, Italy (country in Southern Europe)', 'Montefioralle (human settlement in Greve in Chianti, Metropolitan City of Florence, Tuscany, Italy), country, Italy (country in Southern Europe)'], \"Furthermore, Italy's contribution to the automotive and entertainment industries is highlighted through the presence of entities like Arzani-Volpini and the production of films such as 'Catch as Catch Can' and 'Ho!'\": ['Arzani-Volpini (also known as Scuderia Volpini, Italian Formula One constructor), country, Italy (country in Southern Europe)', 'Catch as Catch Can (1967 film by Franco Indovina), country of origin, Italy (country in Southern Europe)', 'Ho! (1968 film by Robert Enrico), country of origin, Italy (country in Southern Europe)'], 'The country also attracts international talents and has been the final resting place for notable figures like Anna Palm de Rosa, further enriching its cultural tapestry.': ['Anna Palm de Rosa (Swedish artist (1859-1924)), place of death, Italy (country in Southern Europe)']}\n"
     ]
    }
   ],
   "source": [
    "print(gen['mapping'])"
   ]
  },
  {
   "cell_type": "code",
   "execution_count": 23,
   "metadata": {},
   "outputs": [
    {
     "name": "stdout",
     "output_type": "stream",
     "text": [
      "{\n",
      "  \"mapping\": {\n",
      "    \"Italy is renowned for its diverse contributions to culture, sports, and the arts, a tradition that spans from historical towns to the cinematic and operatic stages.\": [\"Catch as Catch Can (1967 film by Franco Indovina), country of origin, Italy (country in Southern Europe)\", \"Lodovico Nulli (sport shooter), country of citizenship, Italy (country in Southern Europe)\", \"Giuseppe Danise (Italian opera singer (1882-1963)), country of citizenship, Italy (country in Southern Europe)\", \"Luigi Ferdinando Tagliavini (Italian musician), country of citizenship, Italy (country in Southern Europe)\", \"Franco Brusati (Italian film director and screenwriter), country of citizenship, Italy (country in Southern Europe)\"],\n",
      "    \"From the serene Gulf of La Spezia to the charming streets of Ripabianca and Montefioralle, Italy's geography is as rich and varied as its cultural output.\": [\"Gulf of La Spezia (body of water on the north-western coast of Italy), country, Italy (country in Southern Europe)\", \"Ripabianca (human settlement in Deruta, Italy), country, Italy (country in Southern Europe)\", \"Montefioralle (human settlement in Greve in Chianti, Metropolitan City of Florence, Tuscany, Italy), country, Italy (country in Southern Europe)\"],\n",
      "    \"Additionally, Italy's historical significance is highlighted through its preservation of history in places like the Messner Mountain Museum and the commitment of communities in San Zenone degli Ezzelini and Sequals.\": [\"Messner Mountain Museum (group of museums in Italy), country, Italy (country in Southern Europe)\", \"San Zenone degli Ezzelini (Italian comune), country, Italy (country in Southern Europe)\", \"Sequals (Italian comune), country, Italy (country in Southern Europe)\"],\n",
      "    \"Even in the realm of innovation and sport, Italy shines with contributions from Arzani-Volpini in Formula One racing.\": [\"Arzani-Volpini (also known as Scuderia Volpini, Italian Formula One constructor), country, Italy (country in Southern Europe)\"],\n",
      "    \"Italy's allure also extends beyond its borders, attracting figures like the Swedish artist Anna Palm de Rosa, who spent her final days there.\": [\"Anna Palm de Rosa (Swedish artist (1859-1924)), place of death, Italy (country in Southern Europe)\"]\n",
      "  },\n",
      "  \"paragraph\": \"Italy is renowned for its diverse contributions to culture, sports, and the arts, a tradition that spans from historical towns to the cinematic and operatic stages. From the serene Gulf of La Spezia to the charming streets of Ripabianca and Montefioralle, Italy's geography is as rich and varied as its cultural output. Additionally, Italy's historical significance is highlighted through its preservation of history in places like the Messner Mountain Museum and the commitment of communities in San Zenone degli Ezzelini and Sequals. Even in the realm of innovation and sport, Italy shines with contributions from Arzani-Volpini in Formula One racing. Italy's allure also extends beyond its borders, attracting figures like the Swedish artist Anna Palm de Rosa, who spent her final days there.\"\n",
      "}\n"
     ]
    }
   ],
   "source": [
    "print(generated_text)"
   ]
  },
  {
   "cell_type": "code",
   "execution_count": 18,
   "metadata": {},
   "outputs": [
    {
     "name": "stdout",
     "output_type": "stream",
     "text": [
      "\n",
      "Use the triplets and their descriptions provided below to generate a coherent paragraph.\n",
      "You may use only a subset of the triplets if you wish. The focus is to generate a paragraph that is natural, coherent and informative.\n",
      "\n",
      "\n",
      "Return the paragraph generated, and a mapping for each triplet to the claim in the paragraph that it was used to generate.\n",
      "\n",
      "Structure your response as a JSON object with the following keys:\n",
      "- \"mapping\": A dictionary mapping each claim in the paragraph to the triplet or set of triplets that were used to generate it.\n",
      "- \"paragraph\": The paragraph generated\n",
      "\n",
      "NOTE: The mapping only needs to be at the level of the triplet, not the individual entities within the triplet. \n",
      "For example, if the paragraph contains the claim \"The capital of France is Paris\", the mapping should indicate that this claim was generated using the triplet (\"France\", \"capital\", \"Paris\").\n",
      "Both the subject and object entities should be mentioned in the corresponding claim in the paragraph.\n",
      "\n",
      "The triplets and their descriptions provided in brackets are as follows:\n",
      "(Catch as Catch Can (1967 film by Franco Indovina), country of origin, Italy (country in Southern Europe))\n",
      "(Lodovico Nulli (sport shooter), country of citizenship, Italy (country in Southern Europe))\n",
      "(Giuseppe Danise (Italian opera singer (1882-1963)), country of citizenship, Italy (country in Southern Europe))\n",
      "(Gulf of La Spezia (body of water on the north-western coast of Italy), country, Italy (country in Southern Europe))\n",
      "(Luigi Ferdinando Tagliavini (Italian musician), country of citizenship, Italy (country in Southern Europe))\n",
      "(Ripabianca (human settlement in Deruta, Italy), country, Italy (country in Southern Europe))\n",
      "(Arzani-Volpini (also known as Scuderia Volpini, Italian Formula One constructor), country, Italy (country in Southern Europe))\n",
      "(Franco Brusati (Italian film director and screenwriter), country of citizenship, Italy (country in Southern Europe))\n",
      "(Anna Palm de Rosa (Swedish artist (1859-1924)), place of death, Italy (country in Southern Europe))\n",
      "(San Zenone degli Ezzelini (Italian comune), country, Italy (country in Southern Europe))\n",
      "(Messner Mountain Museum (group of museums in Italy), country, Italy (country in Southern Europe))\n",
      "(Sequals (Italian comune), country, Italy (country in Southern Europe))\n",
      "(Ho! (1968 film by Robert Enrico), country of origin, Italy (country in Southern Europe))\n",
      "(Montefioralle (human settlement in Greve in Chianti, Metropolitan City of Florence, Tuscany, Italy), country, Italy (country in Southern Europe))\n",
      "\n",
      "{\n",
      "  \"mapping\": {\n",
      "    \"Italy is home to a rich tapestry of culture, history, and notable figures across various fields, including cinema, sports, music, and more.\": [\"Catch as Catch Can (1967 film by Franco Indovina), country of origin, Italy (country in Southern Europe)\", \"Lodovico Nulli (sport shooter), country of citizenship, Italy (country in Southern Europe)\", \"Giuseppe Danise (Italian opera singer (1882-1963)), country of citizenship, Italy (country in Southern Europe)\", \"Luigi Ferdinando Tagliavini (Italian musician), country of citizenship, Italy (country in Southern Europe)\", \"Franco Brusati (Italian film director and screenwriter), country of citizenship, Italy (country in Southern Europe)\"],\n",
      "    \"Its diverse landscapes include the Gulf of La Spezia, a beautiful body of water on the north-western coast, and the picturesque human settlements of Ripabianca and Montefioralle.\": [\"Gulf of La Spezia (body of water on the north-western coast of Italy), country, Italy (country in Southern Europe)\", \"Ripabianca (human settlement in Deruta, Italy), country, Italy (country in Southern Europe)\", \"Montefioralle (human settlement in Greve in Chianti, Metropolitan City of Florence, Tuscany, Italy), country, Italy (country in Southern Europe)\"],\n",
      "    \"Italy's contribution to the automotive and art world is also significant, seen through the lens of Arzani-Volpini, an Italian Formula One constructor, and the legacy of Anna Palm de Rosa, a Swedish artist who found her final resting place in Italy.\": [\"Arzani-Volpini (also known as Scuderia Volpini, Italian Formula One constructor), country, Italy (country in Southern Europe)\", \"Anna Palm de Rosa (Swedish artist (1859-1924)), place of death, Italy (country in Southern Europe)\"],\n",
      "    \"The country is dotted with comunes like San Zenone degli Ezzelini and Sequals, and hosts the Messner Mountain Museum, showcasing Italy's enduring allure and its role as a custodian of history and culture.\": [\"San Zenone degli Ezzelini (Italian comune), country, Italy (country in Southern Europe)\", \"Sequals (Italian comune), country, Italy (country in Southern Europe)\", \"Messner Mountain Museum (group of museums in Italy), country, Italy (country in Southern Europe)\"]\n",
      "  },\n",
      "  \"paragraph\": \"Italy is home to a rich tapestry of culture, history, and notable figures across various fields, including cinema, sports, music, and more. The country has been the birthplace or home to influential figures such as Franco Indovina, Lodovico Nulli, Giuseppe Danise, Luigi Ferdinando Tagliavini, and Franco Brusati, each contributing uniquely to their respective domains. Its diverse landscapes include the Gulf of La Spezia, a beautiful body of water on the north-western coast, and the picturesque human settlements of Ripabianca and Montefioralle. Italy's contribution to the automotive and art world is also significant, seen through the lens of Arzani-Volpini, an Italian Formula One constructor, and the legacy of Anna Palm de Rosa, a Swedish artist who found her final resting place in Italy. The country is dotted with comunes like San Zenone degli Ezzelini and Sequals, and hosts the Messner Mountain Museum, showcasing Italy's enduring allure and its role as a custodian of history and culture.\"\n",
      "}\n"
     ]
    }
   ],
   "source": [
    "prompt = get_prompt_v2(triplet_text)\n",
    "print(prompt)\n",
    "generated_text, usage = query_openai_model(prompt)\n",
    "print(generated_text)"
   ]
  },
  {
   "cell_type": "code",
   "execution_count": 19,
   "metadata": {},
   "outputs": [
    {
     "name": "stdout",
     "output_type": "stream",
     "text": [
      "{\n",
      "  \"mapping\": {\n",
      "    \"Italy is home to a rich tapestry of culture, history, and notable figures across various fields, including cinema, sports, music, and more.\": [\"Catch as Catch Can (1967 film by Franco Indovina), country of origin, Italy (country in Southern Europe)\", \"Lodovico Nulli (sport shooter), country of citizenship, Italy (country in Southern Europe)\", \"Giuseppe Danise (Italian opera singer (1882-1963)), country of citizenship, Italy (country in Southern Europe)\", \"Luigi Ferdinando Tagliavini (Italian musician), country of citizenship, Italy (country in Southern Europe)\", \"Franco Brusati (Italian film director and screenwriter), country of citizenship, Italy (country in Southern Europe)\"],\n",
      "    \"Its diverse landscapes include the Gulf of La Spezia, a beautiful body of water on the north-western coast, and the picturesque human settlements of Ripabianca and Montefioralle.\": [\"Gulf of La Spezia (body of water on the north-western coast of Italy), country, Italy (country in Southern Europe)\", \"Ripabianca (human settlement in Deruta, Italy), country, Italy (country in Southern Europe)\", \"Montefioralle (human settlement in Greve in Chianti, Metropolitan City of Florence, Tuscany, Italy), country, Italy (country in Southern Europe)\"],\n",
      "    \"Italy's contribution to the automotive and art world is also significant, seen through the lens of Arzani-Volpini, an Italian Formula One constructor, and the legacy of Anna Palm de Rosa, a Swedish artist who found her final resting place in Italy.\": [\"Arzani-Volpini (also known as Scuderia Volpini, Italian Formula One constructor), country, Italy (country in Southern Europe)\", \"Anna Palm de Rosa (Swedish artist (1859-1924)), place of death, Italy (country in Southern Europe)\"],\n",
      "    \"The country is dotted with comunes like San Zenone degli Ezzelini and Sequals, and hosts the Messner Mountain Museum, showcasing Italy's enduring allure and its role as a custodian of history and culture.\": [\"San Zenone degli Ezzelini (Italian comune), country, Italy (country in Southern Europe)\", \"Sequals (Italian comune), country, Italy (country in Southern Europe)\", \"Messner Mountain Museum (group of museums in Italy), country, Italy (country in Southern Europe)\"]\n",
      "  },\n",
      "  \"paragraph\": \"Italy is home to a rich tapestry of culture, history, and notable figures across various fields, including cinema, sports, music, and more. The country has been the birthplace or home to influential figures such as Franco Indovina, Lodovico Nulli, Giuseppe Danise, Luigi Ferdinando Tagliavini, and Franco Brusati, each contributing uniquely to their respective domains. Its diverse landscapes include the Gulf of La Spezia, a beautiful body of water on the north-western coast, and the picturesque human settlements of Ripabianca and Montefioralle. Italy's contribution to the automotive and art world is also significant, seen through the lens of Arzani-Volpini, an Italian Formula One constructor, and the legacy of Anna Palm de Rosa, a Swedish artist who found her final resting place in Italy. The country is dotted with comunes like San Zenone degli Ezzelini and Sequals, and hosts the Messner Mountain Museum, showcasing Italy's enduring allure and its role as a custodian of history and culture.\"\n",
      "}\n"
     ]
    }
   ],
   "source": [
    "print(generated_text)"
   ]
  },
  {
   "cell_type": "code",
   "execution_count": 20,
   "metadata": {},
   "outputs": [],
   "source": [
    "generated_text, usage = query_openai_model(prompt)\n",
    "print(generated_text)"
   ]
  },
  {
   "cell_type": "code",
   "execution_count": 21,
   "metadata": {},
   "outputs": [
    {
     "name": "stdout",
     "output_type": "stream",
     "text": [
      "{\n",
      "  \"mapping\": {\n",
      "    \"Italy has been the birthplace or significant location for a diverse range of talents, including filmmakers Franco Indovina and Robert Enrico, opera singer Giuseppe Danise, and sports shooter Lodovico Nulli.\": [\"Catch as Catch Can (1967 film by Franco Indovina), country of origin, Italy (country in Southern Europe)\", \"Ho! (1968 film by Robert Enrico), country of origin, Italy (country in Southern Europe)\", \"Giuseppe Danise (Italian opera singer (1882-1963)), country of citizenship, Italy (country in Southern Europe)\", \"Lodovico Nulli (sport shooter), country of citizenship, Italy (country in Southern Europe)\"],\n",
      "    \"The nation's contributions to culture extend further with musicians like Luigi Ferdinando Tagliavini and filmmakers like Franco Brusati, showcasing Italy's rich artistic heritage.\": [\"Luigi Ferdinando Tagliavini (Italian musician), country of citizenship, Italy (country in Southern Europe)\", \"Franco Brusati (Italian film director and screenwriter), country of citizenship, Italy (country in Southern Europe)\"],\n",
      "    \"Italy's geographical and structural diversity is reflected in its many locations like the Gulf of La Spezia, the quaint human settlements of Ripabianca and Montefioralle, and the innovative Messner Mountain Museum.\": [\"Gulf of La Spezia (body of water on the north-western coast of Italy), country, Italy (country in Southern Europe)\", \"Ripabianca (human settlement in Deruta, Italy), country, Italy (country in Southern Europe)\", \"Montefioralle (human settlement in Greve in Chianti, Metropolitan City of Florence, Tuscany, Italy), country, Italy (country in Southern Europe)\", \"Messner Mountain Museum (group of museums in Italy), country, Italy (country in Southern Europe)\"],\n",
      "    \"The country is also a place of final rest for international talents like Swedish artist Anna Palm de Rosa, further indicating Italy’s global cultural significance.\": [\"Anna Palm de Rosa (Swedish artist (1859-1924)), place of death, Italy (country in Southern Europe)\"]\n",
      "  },\n",
      "  \"paragraph\": \"Italy has been the birthplace or significant location for a diverse range of talents, including filmmakers Franco Indovina and Robert Enrico, opera singer Giuseppe Danise, and sports shooter Lodovico Nulli. The nation's contributions to culture extend further with musicians like Luigi Ferdinando Tagliavini and filmmakers like Franco Brusati, showcasing Italy's rich artistic heritage. Italy's geographical and structural diversity is reflected in its many locations like the Gulf of La Spezia, the quaint human settlements of Ripabianca and Montefioralle, and the innovative Messner Mountain Museum. The country is also a place of final rest for international talents like Swedish artist Anna Palm de Rosa, further indicating Italy’s global cultural significance.\"\n",
      "}\n"
     ]
    }
   ],
   "source": [
    "print(generated_text)"
   ]
  },
  {
   "cell_type": "code",
   "execution_count": null,
   "metadata": {},
   "outputs": [],
   "source": []
  }
 ],
 "metadata": {
  "kernelspec": {
   "display_name": "azureml_py38_PT_TF",
   "language": "python",
   "name": "python3"
  },
  "language_info": {
   "codemirror_mode": {
    "name": "ipython",
    "version": 3
   },
   "file_extension": ".py",
   "mimetype": "text/x-python",
   "name": "python",
   "nbconvert_exporter": "python",
   "pygments_lexer": "ipython3",
   "version": "3.8.5"
  }
 },
 "nbformat": 4,
 "nbformat_minor": 2
}
