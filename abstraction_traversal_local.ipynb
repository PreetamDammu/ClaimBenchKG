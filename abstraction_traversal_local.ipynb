{
 "cells": [
  {
   "cell_type": "code",
   "execution_count": 3,
   "metadata": {},
   "outputs": [],
   "source": [
    "from rdflib import Graph, URIRef, Literal\n"
   ]
  },
  {
   "cell_type": "code",
   "execution_count": 6,
   "metadata": {},
   "outputs": [],
   "source": [
    "# Load the N-Triples file into an RDFLib graph\n",
    "graph = Graph()\n",
    "\n",
    "# Error handling for parsing the N-Triples file\n",
    "try:\n",
    "    graph.parse(\"/home/azureuser/cloudfiles/code/Users/preetams/dump/parsed_dump.nt\", format=\"nt\")\n",
    "except Exception as e:\n",
    "    print(f\"Error parsing .nt file: {e}\")"
   ]
  },
  {
   "cell_type": "code",
   "execution_count": null,
   "metadata": {},
   "outputs": [],
   "source": [
    "    \n",
    "    \n",
    "# Load the N-Triples file into an RDFLib graph\n",
    "graph = Graph()\n",
    "graph.parse(\"/home/azureuser/cloudfiles/code/Users/preetams/dump/latest-truthy.nt\", format=\"nt\")\n",
    "\n",
    "# Define namespaces\n",
    "WIKIBASE = URIRef(\"http://wikiba.se/ontology#\")\n",
    "RDFS = URIRef(\"http://www.w3.org/2000/01/rdf-schema#\")\n",
    "SCHEMA = URIRef(\"http://schema.org/\")\n"
   ]
  }
 ],
 "metadata": {
  "kernelspec": {
   "display_name": "kg",
   "language": "python",
   "name": "python3"
  },
  "language_info": {
   "codemirror_mode": {
    "name": "ipython",
    "version": 3
   },
   "file_extension": ".py",
   "mimetype": "text/x-python",
   "name": "python",
   "nbconvert_exporter": "python",
   "pygments_lexer": "ipython3",
   "version": "3.11.9"
  }
 },
 "nbformat": 4,
 "nbformat_minor": 2
}
