{
 "cells": [
  {
   "cell_type": "markdown",
   "metadata": {},
   "source": [
    "# Testing Queries\n",
    "\n",
    "Note: For now, we are lucky that the imports work, because we are using relative imports, and at one point, it will cause errors."
   ]
  },
  {
   "cell_type": "markdown",
   "metadata": {},
   "source": [
    "## IMPORTS"
   ]
  },
  {
   "cell_type": "code",
   "execution_count": 1,
   "metadata": {},
   "outputs": [],
   "source": [
    "import os\n",
    "import sys\n",
    "import random\n",
    "import requests\n",
    "import argparse\n",
    "from typing import List, Set\n",
    "\n",
    "import numpy as np\n",
    "import pandas as pd"
   ]
  },
  {
   "cell_type": "code",
   "execution_count": 2,
   "metadata": {},
   "outputs": [],
   "source": [
    "from db.yagodb import YagoDB\n",
    "from db.constants.main import YAGO_ALL_ENTITY_COUNT, YAGO_FACTS_ENTITY_COUNT\n",
    "from db.functions.entity import get_random_entities_query"
   ]
  },
  {
   "cell_type": "code",
   "execution_count": 3,
   "metadata": {},
   "outputs": [],
   "source": [
    "from kg.query import get_triples_multiple_subjects_query, get_description_multiple_entities_query, query_kg, get_triples_from_response"
   ]
  },
  {
   "cell_type": "code",
   "execution_count": 4,
   "metadata": {},
   "outputs": [],
   "source": [
    "from utils.constants import YAGO_ENTITY_STORE_DB_PATH, YAGO_PREFIXES_PATH, YAGO_ENDPOINT_URL\n",
    "from utils.prefix import get_prefixes, get_url_from_prefix_and_id\n",
    "from utils.random_walk2 import SPARQL_COLUMNS_DICT, RandomWalk2"
   ]
  },
  {
   "cell_type": "markdown",
   "metadata": {},
   "source": [
    "### CONSTANTS"
   ]
  },
  {
   "cell_type": "markdown",
   "metadata": {},
   "source": [
    "### FUNCTIONS"
   ]
  },
  {
   "cell_type": "markdown",
   "metadata": {},
   "source": [
    "### Experiment Single Walks"
   ]
  },
  {
   "cell_type": "code",
   "execution_count": 5,
   "metadata": {},
   "outputs": [],
   "source": [
    "yago_db = YagoDB(YAGO_ENTITY_STORE_DB_PATH)"
   ]
  },
  {
   "cell_type": "code",
   "execution_count": 6,
   "metadata": {},
   "outputs": [],
   "source": [
    "random_walk_2 = RandomWalk2(yago_db)"
   ]
  },
  {
   "cell_type": "code",
   "execution_count": 7,
   "metadata": {},
   "outputs": [
    {
     "name": "stdout",
     "output_type": "stream",
     "text": [
      "\n",
      "    PREFIX yago: <http://yago-knowledge.org/resource/>\n",
      "PREFIX rdf: <http://www.w3.org/1999/02/22-rdf-syntax-ns#>\n",
      "PREFIX rdfs: <http://www.w3.org/2000/01/rdf-schema#>\n",
      "PREFIX schema: <http://schema.org/>\n",
      "    SELECT ?subject ?predicate ?object WHERE {\n",
      "        VALUES ?subject { <http://yago-knowledge.org/resource/Kic_7255674_Q97032219> <http://yago-knowledge.org/resource/Lady_Proffering_A_Hookah_Q107663631> <http://yago-knowledge.org/resource/Ferral_Del_Bernesga_Q5679755> <http://yago-knowledge.org/resource/Des_J234850_U002E_58_U002B_332255_U002E_6_Q77309283> <http://yago-knowledge.org/resource/Gibs_4830_Q87931226> <http://yago-knowledge.org/resource/Q12209592> <http://yago-knowledge.org/resource/Nickel_Directive> <http://yago-knowledge.org/resource/Q12207468> <http://yago-knowledge.org/resource/Cd-26_10003_Q87310880> <http://yago-knowledge.org/resource/Canton_De_Bagnols-Sur-Cèze_Q88077655> }\n",
      "        ?subject ?predicate ?object\n",
      "        FILTER (?predicate not in (rdfs:comment,schema:url))\n",
      "    }\n",
      "    \n",
      "\n",
      "    PREFIX yago: <http://yago-knowledge.org/resource/>\n",
      "PREFIX rdf: <http://www.w3.org/1999/02/22-rdf-syntax-ns#>\n",
      "PREFIX rdfs: <http://www.w3.org/2000/01/rdf-schema#>\n",
      "PREFIX schema: <http://schema.org/>\n",
      "    SELECT ?subject ?predicate ?object WHERE {\n",
      "        VALUES ?subject { <http://yago-knowledge.org/resource/Star> <http://yago-knowledge.org/resource/Painting__u0028_object_u0029_> <http://yago-knowledge.org/resource/Spain> <http://yago-knowledge.org/resource/Galaxy> <http://yago-knowledge.org/resource/Star> <http://yago-knowledge.org/resource/Yemen> <http://yago-knowledge.org/resource/Directive__u0028_European_Union_u0029_> <http://yago-knowledge.org/resource/Village> <http://yago-knowledge.org/resource/Star> }\n",
      "        ?subject ?predicate ?object\n",
      "        FILTER (?predicate not in (rdfs:comment,schema:url))\n",
      "    }\n",
      "    \n"
     ]
    }
   ],
   "source": [
    "entities_df = random_walk_2.random_walk_description_batch(num_of_entities=10, depth=3)"
   ]
  },
  {
   "cell_type": "code",
   "execution_count": 8,
   "metadata": {},
   "outputs": [
    {
     "data": {
      "text/html": [
       "<div>\n",
       "<style scoped>\n",
       "    .dataframe tbody tr th:only-of-type {\n",
       "        vertical-align: middle;\n",
       "    }\n",
       "\n",
       "    .dataframe tbody tr th {\n",
       "        vertical-align: top;\n",
       "    }\n",
       "\n",
       "    .dataframe thead th {\n",
       "        text-align: right;\n",
       "    }\n",
       "</style>\n",
       "<table border=\"1\" class=\"dataframe\">\n",
       "  <thead>\n",
       "    <tr style=\"text-align: right;\">\n",
       "      <th></th>\n",
       "      <th>entity0</th>\n",
       "      <th>description0</th>\n",
       "      <th>predicate1</th>\n",
       "      <th>entity1</th>\n",
       "      <th>description1</th>\n",
       "      <th>predicate2</th>\n",
       "      <th>entity2</th>\n",
       "      <th>description2</th>\n",
       "    </tr>\n",
       "  </thead>\n",
       "  <tbody>\n",
       "    <tr>\n",
       "      <th>0</th>\n",
       "      <td>http://yago-knowledge.org/resource/Kic_7255674...</td>\n",
       "      <td>star in the constellation Lyra</td>\n",
       "      <td>http://www.w3.org/1999/02/22-rdf-syntax-ns#type</td>\n",
       "      <td>http://yago-knowledge.org/resource/Star</td>\n",
       "      <td>astronomical object consisting of a luminous s...</td>\n",
       "      <td>http://www.w3.org/2000/01/rdf-schema#subClassOf</td>\n",
       "      <td>http://yago-knowledge.org/resource/Fusor__u002...</td>\n",
       "      <td>astronomical object that achieves core fusion ...</td>\n",
       "    </tr>\n",
       "    <tr>\n",
       "      <th>1</th>\n",
       "      <td>http://yago-knowledge.org/resource/Lady_Proffe...</td>\n",
       "      <td>object MSS 0999 in the Khalili Collection of I...</td>\n",
       "      <td>http://www.w3.org/1999/02/22-rdf-syntax-ns#type</td>\n",
       "      <td>http://yago-knowledge.org/resource/Painting__u...</td>\n",
       "      <td>visual artwork, surface artistically covered w...</td>\n",
       "      <td>http://www.w3.org/2000/01/rdf-schema#subClassOf</td>\n",
       "      <td>http://yago-knowledge.org/resource/Two-Dimensi...</td>\n",
       "      <td>most paintings, drawings, prints, etc.</td>\n",
       "    </tr>\n",
       "    <tr>\n",
       "      <th>2</th>\n",
       "      <td>http://yago-knowledge.org/resource/Ferral_Del_...</td>\n",
       "      <td>human settlement in León Province, Castile and...</td>\n",
       "      <td>http://schema.org/location</td>\n",
       "      <td>http://yago-knowledge.org/resource/Spain</td>\n",
       "      <td>country in southwestern Europe with territorie...</td>\n",
       "      <td>http://schema.org/memberOf</td>\n",
       "      <td>http://yago-knowledge.org/resource/Internation...</td>\n",
       "      <td>World Bank Group member financial institution</td>\n",
       "    </tr>\n",
       "    <tr>\n",
       "      <th>3</th>\n",
       "      <td>http://yago-knowledge.org/resource/Des_J234850...</td>\n",
       "      <td>galaxy</td>\n",
       "      <td>http://www.w3.org/1999/02/22-rdf-syntax-ns#type</td>\n",
       "      <td>http://yago-knowledge.org/resource/Galaxy</td>\n",
       "      <td>large gravitationally bound system of stars an...</td>\n",
       "      <td>http://www.w3.org/2000/01/rdf-schema#subClassOf</td>\n",
       "      <td>http://yago-knowledge.org/resource/Deep-sky_ob...</td>\n",
       "      <td>any astronomical object that is not an individ...</td>\n",
       "    </tr>\n",
       "    <tr>\n",
       "      <th>4</th>\n",
       "      <td>http://yago-knowledge.org/resource/Gibs_4830_Q...</td>\n",
       "      <td>star in the constellation Sagittarius</td>\n",
       "      <td>http://www.w3.org/1999/02/22-rdf-syntax-ns#type</td>\n",
       "      <td>http://yago-knowledge.org/resource/Star</td>\n",
       "      <td>astronomical object consisting of a luminous s...</td>\n",
       "      <td>http://www.w3.org/2000/01/rdf-schema#subClassOf</td>\n",
       "      <td>http://yago-knowledge.org/resource/Fusor__u002...</td>\n",
       "      <td>astronomical object that achieves core fusion ...</td>\n",
       "    </tr>\n",
       "    <tr>\n",
       "      <th>5</th>\n",
       "      <td>http://yago-knowledge.org/resource/Q12209592</td>\n",
       "      <td>NaN</td>\n",
       "      <td>http://schema.org/location</td>\n",
       "      <td>http://yago-knowledge.org/resource/Yemen</td>\n",
       "      <td>sovereign state in western Asia</td>\n",
       "      <td>http://yago-knowledge.org/resource/capital</td>\n",
       "      <td>http://yago-knowledge.org/resource/Sanaa</td>\n",
       "      <td>capital city of Yemen</td>\n",
       "    </tr>\n",
       "    <tr>\n",
       "      <th>6</th>\n",
       "      <td>http://yago-knowledge.org/resource/Nickel_Dire...</td>\n",
       "      <td>European Union Directive (EU) 1994/27</td>\n",
       "      <td>http://www.w3.org/1999/02/22-rdf-syntax-ns#type</td>\n",
       "      <td>http://yago-knowledge.org/resource/Directive__...</td>\n",
       "      <td>legislative act of the European Union</td>\n",
       "      <td>http://www.w3.org/2000/01/rdf-schema#subClassOf</td>\n",
       "      <td>http://yago-knowledge.org/resource/Directive_Q...</td>\n",
       "      <td>an authoritative decision from an official bod...</td>\n",
       "    </tr>\n",
       "    <tr>\n",
       "      <th>7</th>\n",
       "      <td>http://yago-knowledge.org/resource/Q12207468</td>\n",
       "      <td>village</td>\n",
       "      <td>http://www.w3.org/1999/02/22-rdf-syntax-ns#type</td>\n",
       "      <td>http://yago-knowledge.org/resource/Village</td>\n",
       "      <td>small clustered human settlement smaller than ...</td>\n",
       "      <td>http://www.w3.org/2000/01/rdf-schema#subClassOf</td>\n",
       "      <td>http://yago-knowledge.org/resource/Locality_Q3...</td>\n",
       "      <td>place of human settlement</td>\n",
       "    </tr>\n",
       "    <tr>\n",
       "      <th>8</th>\n",
       "      <td>http://yago-knowledge.org/resource/Cd-26_10003...</td>\n",
       "      <td>star in the constellation Hydra</td>\n",
       "      <td>http://www.w3.org/1999/02/22-rdf-syntax-ns#type</td>\n",
       "      <td>http://yago-knowledge.org/resource/Star</td>\n",
       "      <td>astronomical object consisting of a luminous s...</td>\n",
       "      <td>http://www.w3.org/2000/01/rdf-schema#subClassOf</td>\n",
       "      <td>http://yago-knowledge.org/resource/Fusor__u002...</td>\n",
       "      <td>astronomical object that achieves core fusion ...</td>\n",
       "    </tr>\n",
       "    <tr>\n",
       "      <th>9</th>\n",
       "      <td>http://yago-knowledge.org/resource/Canton_De_B...</td>\n",
       "      <td>NaN</td>\n",
       "      <td>None</td>\n",
       "      <td>None</td>\n",
       "      <td>NaN</td>\n",
       "      <td>None</td>\n",
       "      <td>None</td>\n",
       "      <td>NaN</td>\n",
       "    </tr>\n",
       "  </tbody>\n",
       "</table>\n",
       "</div>"
      ],
      "text/plain": [
       "                                             entity0  \\\n",
       "0  http://yago-knowledge.org/resource/Kic_7255674...   \n",
       "1  http://yago-knowledge.org/resource/Lady_Proffe...   \n",
       "2  http://yago-knowledge.org/resource/Ferral_Del_...   \n",
       "3  http://yago-knowledge.org/resource/Des_J234850...   \n",
       "4  http://yago-knowledge.org/resource/Gibs_4830_Q...   \n",
       "5       http://yago-knowledge.org/resource/Q12209592   \n",
       "6  http://yago-knowledge.org/resource/Nickel_Dire...   \n",
       "7       http://yago-knowledge.org/resource/Q12207468   \n",
       "8  http://yago-knowledge.org/resource/Cd-26_10003...   \n",
       "9  http://yago-knowledge.org/resource/Canton_De_B...   \n",
       "\n",
       "                                        description0  \\\n",
       "0                     star in the constellation Lyra   \n",
       "1  object MSS 0999 in the Khalili Collection of I...   \n",
       "2  human settlement in León Province, Castile and...   \n",
       "3                                             galaxy   \n",
       "4              star in the constellation Sagittarius   \n",
       "5                                                NaN   \n",
       "6              European Union Directive (EU) 1994/27   \n",
       "7                                            village   \n",
       "8                    star in the constellation Hydra   \n",
       "9                                                NaN   \n",
       "\n",
       "                                        predicate1  \\\n",
       "0  http://www.w3.org/1999/02/22-rdf-syntax-ns#type   \n",
       "1  http://www.w3.org/1999/02/22-rdf-syntax-ns#type   \n",
       "2                       http://schema.org/location   \n",
       "3  http://www.w3.org/1999/02/22-rdf-syntax-ns#type   \n",
       "4  http://www.w3.org/1999/02/22-rdf-syntax-ns#type   \n",
       "5                       http://schema.org/location   \n",
       "6  http://www.w3.org/1999/02/22-rdf-syntax-ns#type   \n",
       "7  http://www.w3.org/1999/02/22-rdf-syntax-ns#type   \n",
       "8  http://www.w3.org/1999/02/22-rdf-syntax-ns#type   \n",
       "9                                             None   \n",
       "\n",
       "                                             entity1  \\\n",
       "0            http://yago-knowledge.org/resource/Star   \n",
       "1  http://yago-knowledge.org/resource/Painting__u...   \n",
       "2           http://yago-knowledge.org/resource/Spain   \n",
       "3          http://yago-knowledge.org/resource/Galaxy   \n",
       "4            http://yago-knowledge.org/resource/Star   \n",
       "5           http://yago-knowledge.org/resource/Yemen   \n",
       "6  http://yago-knowledge.org/resource/Directive__...   \n",
       "7         http://yago-knowledge.org/resource/Village   \n",
       "8            http://yago-knowledge.org/resource/Star   \n",
       "9                                               None   \n",
       "\n",
       "                                        description1  \\\n",
       "0  astronomical object consisting of a luminous s...   \n",
       "1  visual artwork, surface artistically covered w...   \n",
       "2  country in southwestern Europe with territorie...   \n",
       "3  large gravitationally bound system of stars an...   \n",
       "4  astronomical object consisting of a luminous s...   \n",
       "5                    sovereign state in western Asia   \n",
       "6              legislative act of the European Union   \n",
       "7  small clustered human settlement smaller than ...   \n",
       "8  astronomical object consisting of a luminous s...   \n",
       "9                                                NaN   \n",
       "\n",
       "                                        predicate2  \\\n",
       "0  http://www.w3.org/2000/01/rdf-schema#subClassOf   \n",
       "1  http://www.w3.org/2000/01/rdf-schema#subClassOf   \n",
       "2                       http://schema.org/memberOf   \n",
       "3  http://www.w3.org/2000/01/rdf-schema#subClassOf   \n",
       "4  http://www.w3.org/2000/01/rdf-schema#subClassOf   \n",
       "5       http://yago-knowledge.org/resource/capital   \n",
       "6  http://www.w3.org/2000/01/rdf-schema#subClassOf   \n",
       "7  http://www.w3.org/2000/01/rdf-schema#subClassOf   \n",
       "8  http://www.w3.org/2000/01/rdf-schema#subClassOf   \n",
       "9                                             None   \n",
       "\n",
       "                                             entity2  \\\n",
       "0  http://yago-knowledge.org/resource/Fusor__u002...   \n",
       "1  http://yago-knowledge.org/resource/Two-Dimensi...   \n",
       "2  http://yago-knowledge.org/resource/Internation...   \n",
       "3  http://yago-knowledge.org/resource/Deep-sky_ob...   \n",
       "4  http://yago-knowledge.org/resource/Fusor__u002...   \n",
       "5           http://yago-knowledge.org/resource/Sanaa   \n",
       "6  http://yago-knowledge.org/resource/Directive_Q...   \n",
       "7  http://yago-knowledge.org/resource/Locality_Q3...   \n",
       "8  http://yago-knowledge.org/resource/Fusor__u002...   \n",
       "9                                               None   \n",
       "\n",
       "                                        description2  \n",
       "0  astronomical object that achieves core fusion ...  \n",
       "1             most paintings, drawings, prints, etc.  \n",
       "2      World Bank Group member financial institution  \n",
       "3  any astronomical object that is not an individ...  \n",
       "4  astronomical object that achieves core fusion ...  \n",
       "5                              capital city of Yemen  \n",
       "6  an authoritative decision from an official bod...  \n",
       "7                          place of human settlement  \n",
       "8  astronomical object that achieves core fusion ...  \n",
       "9                                                NaN  "
      ]
     },
     "execution_count": 8,
     "metadata": {},
     "output_type": "execute_result"
    }
   ],
   "source": [
    "entities_df"
   ]
  },
  {
   "cell_type": "code",
   "execution_count": 9,
   "metadata": {},
   "outputs": [
    {
     "data": {
      "text/plain": [
       "1"
      ]
     },
     "execution_count": 9,
     "metadata": {},
     "output_type": "execute_result"
    }
   ],
   "source": [
    "entities_df[\"description1\"].isna().sum()"
   ]
  },
  {
   "cell_type": "code",
   "execution_count": 10,
   "metadata": {},
   "outputs": [
    {
     "data": {
      "text/plain": [
       "'http://yago-knowledge.org/resource/Canton_De_Bagnols-Sur-Cèze_Q88077655'"
      ]
     },
     "execution_count": 10,
     "metadata": {},
     "output_type": "execute_result"
    }
   ],
   "source": [
    "entities_df.iloc[9][\"entity0\"]"
   ]
  },
  {
   "cell_type": "code",
   "execution_count": 10,
   "metadata": {},
   "outputs": [],
   "source": [
    "entities_df.head(10).to_csv(\"walks.csv\", index=False)"
   ]
  },
  {
   "cell_type": "code",
   "execution_count": null,
   "metadata": {},
   "outputs": [],
   "source": []
  }
 ],
 "metadata": {
  "kernelspec": {
   "display_name": "claimbenchkg2",
   "language": "python",
   "name": "python3"
  },
  "language_info": {
   "codemirror_mode": {
    "name": "ipython",
    "version": 3
   },
   "file_extension": ".py",
   "mimetype": "text/x-python",
   "name": "python",
   "nbconvert_exporter": "python",
   "pygments_lexer": "ipython3",
   "version": "3.12.7"
  }
 },
 "nbformat": 4,
 "nbformat_minor": 2
}
