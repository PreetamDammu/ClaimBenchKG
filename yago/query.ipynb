{
 "cells": [
  {
   "cell_type": "markdown",
   "metadata": {},
   "source": [
    "# Testing Queries\n",
    "\n",
    "Note: For now, we are lucky that the imports work, because we are using relative imports, and at one point, it will cause errors."
   ]
  },
  {
   "cell_type": "markdown",
   "metadata": {},
   "source": [
    "## IMPORTS"
   ]
  },
  {
   "cell_type": "code",
   "execution_count": 1,
   "metadata": {},
   "outputs": [],
   "source": [
    "import os\n",
    "import sys\n",
    "import random\n",
    "import requests\n",
    "import argparse\n",
    "from typing import List, Set\n",
    "\n",
    "import numpy as np\n",
    "import pandas as pd"
   ]
  },
  {
   "cell_type": "code",
   "execution_count": 2,
   "metadata": {},
   "outputs": [],
   "source": [
    "from db.yagodb import YagoDB\n",
    "from db.constants.main import YAGO_ALL_ENTITY_COUNT, YAGO_FACTS_ENTITY_COUNT\n",
    "from db.functions.entity import get_random_entities_query"
   ]
  },
  {
   "cell_type": "code",
   "execution_count": 3,
   "metadata": {},
   "outputs": [],
   "source": [
    "from kg.query import get_triples_multiple_subjects_query, get_description_multiple_entities_query, query_kg, get_triples_from_response"
   ]
  },
  {
   "cell_type": "code",
   "execution_count": 4,
   "metadata": {},
   "outputs": [],
   "source": [
    "from utils.constants import YAGO_ENTITY_STORE_DB_PATH, YAGO_PREFIXES_PATH, YAGO_ENDPOINT_URL\n",
    "from utils.prefix import get_prefixes, get_url_from_prefix_and_id\n",
    "from utils.random_walk2 import SPARQL_COLUMNS_DICT, RandomWalk2"
   ]
  },
  {
   "cell_type": "markdown",
   "metadata": {},
   "source": [
    "### CONSTANTS"
   ]
  },
  {
   "cell_type": "markdown",
   "metadata": {},
   "source": [
    "### FUNCTIONS"
   ]
  },
  {
   "cell_type": "markdown",
   "metadata": {},
   "source": [
    "### Experiment Single Walks"
   ]
  },
  {
   "cell_type": "code",
   "execution_count": 5,
   "metadata": {},
   "outputs": [],
   "source": [
    "yago_db = YagoDB(YAGO_ENTITY_STORE_DB_PATH)"
   ]
  },
  {
   "cell_type": "code",
   "execution_count": 6,
   "metadata": {},
   "outputs": [],
   "source": [
    "random_walk_2 = RandomWalk2(yago_db)"
   ]
  },
  {
   "cell_type": "code",
   "execution_count": 9,
   "metadata": {},
   "outputs": [
    {
     "name": "stdout",
     "output_type": "stream",
     "text": [
      "\n",
      "    SELECT ?subject ?predicate ?object WHERE {\n",
      "        VALUES ?subject { <http://yago-knowledge.org/resource/Ogle_Blg-Ell-21555_Q89964614> <http://yago-knowledge.org/resource/Cedar_Hammock_Drainage_Canal_Q49244522> <http://yago-knowledge.org/resource/B3_0010_U002B_395_Q89638069> <http://yago-knowledge.org/resource/Yoshio_Miyashita_Q21019659> <http://yago-knowledge.org/resource/Nectria_Parilis_Q108101219> <http://yago-knowledge.org/resource/Kic_7613906_Q82615739> <http://yago-knowledge.org/resource/Ogle_Blg-Ell-4807_Q92602041> <http://yago-knowledge.org/resource/Mehmet_Özel_Q116555456> <http://yago-knowledge.org/resource/Estrogens_And_Aging_U002E__Q35004693> <http://yago-knowledge.org/resource/Jiřina_Dušáková_Q106656820> }\n",
      "        ?subject ?predicate ?object\n",
      "        \n",
      "        filter(lang(?object) = 'en' )\n",
      "    }\n",
      "    \n",
      "\n",
      "    SELECT ?subject ?predicate ?object WHERE {\n",
      "        VALUES ?subject {  }\n",
      "        ?subject ?predicate ?object\n",
      "        \n",
      "        filter(lang(?object) = 'en' )\n",
      "    }\n",
      "    \n"
     ]
    },
    {
     "name": "stderr",
     "output_type": "stream",
     "text": [
      "/home/ubuntu/ClaimBenchKG/yago/utils/random_walk2.py:250: FutureWarning: Downcasting object dtype arrays on .fillna, .ffill, .bfill is deprecated and will change in a future version. Call result.infer_objects(copy=False) instead. To opt-in to the future behavior, set `pd.set_option('future.no_silent_downcasting', True)`\n",
      "  entity_counts_df[count_label] = entity_counts_df[count_label].fillna(0)\n"
     ]
    }
   ],
   "source": [
    "entities_df = random_walk_2.random_walk_description_batch(num_of_entities=10, depth=3)"
   ]
  },
  {
   "cell_type": "code",
   "execution_count": 10,
   "metadata": {},
   "outputs": [
    {
     "data": {
      "text/html": [
       "<div>\n",
       "<style scoped>\n",
       "    .dataframe tbody tr th:only-of-type {\n",
       "        vertical-align: middle;\n",
       "    }\n",
       "\n",
       "    .dataframe tbody tr th {\n",
       "        vertical-align: top;\n",
       "    }\n",
       "\n",
       "    .dataframe thead th {\n",
       "        text-align: right;\n",
       "    }\n",
       "</style>\n",
       "<table border=\"1\" class=\"dataframe\">\n",
       "  <thead>\n",
       "    <tr style=\"text-align: right;\">\n",
       "      <th></th>\n",
       "      <th>entity0</th>\n",
       "      <th>description0</th>\n",
       "      <th>predicate1</th>\n",
       "      <th>entity1</th>\n",
       "      <th>description1</th>\n",
       "      <th>predicate2</th>\n",
       "      <th>entity2</th>\n",
       "      <th>description2</th>\n",
       "    </tr>\n",
       "  </thead>\n",
       "  <tbody>\n",
       "    <tr>\n",
       "      <th>0</th>\n",
       "      <td>http://yago-knowledge.org/resource/Ogle_Blg-El...</td>\n",
       "      <td>rotating ellipsoidal variable</td>\n",
       "      <td>http://www.w3.org/2000/01/rdf-schema#comment</td>\n",
       "      <td>rotating ellipsoidal variable</td>\n",
       "      <td>NaN</td>\n",
       "      <td>None</td>\n",
       "      <td>None</td>\n",
       "      <td>NaN</td>\n",
       "    </tr>\n",
       "    <tr>\n",
       "      <th>1</th>\n",
       "      <td>http://yago-knowledge.org/resource/Cedar_Hammo...</td>\n",
       "      <td>canal in Manatee County, Florida, United State...</td>\n",
       "      <td>http://www.w3.org/2000/01/rdf-schema#comment</td>\n",
       "      <td>canal in Manatee County, Florida, United State...</td>\n",
       "      <td>NaN</td>\n",
       "      <td>None</td>\n",
       "      <td>None</td>\n",
       "      <td>NaN</td>\n",
       "    </tr>\n",
       "    <tr>\n",
       "      <th>2</th>\n",
       "      <td>http://yago-knowledge.org/resource/B3_0010_U00...</td>\n",
       "      <td>astronomical radio source in the constellation...</td>\n",
       "      <td>http://www.w3.org/2000/01/rdf-schema#label</td>\n",
       "      <td>B3 0010+395</td>\n",
       "      <td>NaN</td>\n",
       "      <td>None</td>\n",
       "      <td>None</td>\n",
       "      <td>NaN</td>\n",
       "    </tr>\n",
       "    <tr>\n",
       "      <th>3</th>\n",
       "      <td>http://yago-knowledge.org/resource/Yoshio_Miya...</td>\n",
       "      <td>baseball player (1916-1984)</td>\n",
       "      <td>http://www.w3.org/2000/01/rdf-schema#label</td>\n",
       "      <td>Yoshio Miyashita</td>\n",
       "      <td>NaN</td>\n",
       "      <td>None</td>\n",
       "      <td>None</td>\n",
       "      <td>NaN</td>\n",
       "    </tr>\n",
       "    <tr>\n",
       "      <th>4</th>\n",
       "      <td>http://yago-knowledge.org/resource/Nectria_Par...</td>\n",
       "      <td>NaN</td>\n",
       "      <td>http://www.w3.org/2000/01/rdf-schema#label</td>\n",
       "      <td>Nectria parilis</td>\n",
       "      <td>NaN</td>\n",
       "      <td>None</td>\n",
       "      <td>None</td>\n",
       "      <td>NaN</td>\n",
       "    </tr>\n",
       "    <tr>\n",
       "      <th>5</th>\n",
       "      <td>http://yago-knowledge.org/resource/Kic_7613906...</td>\n",
       "      <td>star in the constellation Cygnus</td>\n",
       "      <td>http://www.w3.org/2000/01/rdf-schema#label</td>\n",
       "      <td>KIC 7613906</td>\n",
       "      <td>NaN</td>\n",
       "      <td>None</td>\n",
       "      <td>None</td>\n",
       "      <td>NaN</td>\n",
       "    </tr>\n",
       "    <tr>\n",
       "      <th>6</th>\n",
       "      <td>http://yago-knowledge.org/resource/Ogle_Blg-El...</td>\n",
       "      <td>rotating ellipsoidal variable</td>\n",
       "      <td>http://www.w3.org/2000/01/rdf-schema#label</td>\n",
       "      <td>OGLE BLG-ELL-4807</td>\n",
       "      <td>NaN</td>\n",
       "      <td>None</td>\n",
       "      <td>None</td>\n",
       "      <td>NaN</td>\n",
       "    </tr>\n",
       "    <tr>\n",
       "      <th>7</th>\n",
       "      <td>http://yago-knowledge.org/resource/Mehmet_Özel...</td>\n",
       "      <td>NaN</td>\n",
       "      <td>None</td>\n",
       "      <td>None</td>\n",
       "      <td>NaN</td>\n",
       "      <td>None</td>\n",
       "      <td>None</td>\n",
       "      <td>NaN</td>\n",
       "    </tr>\n",
       "    <tr>\n",
       "      <th>8</th>\n",
       "      <td>http://yago-knowledge.org/resource/Estrogens_A...</td>\n",
       "      <td>scientific article</td>\n",
       "      <td>http://www.w3.org/2000/01/rdf-schema#label</td>\n",
       "      <td>Estrogens and aging.</td>\n",
       "      <td>NaN</td>\n",
       "      <td>None</td>\n",
       "      <td>None</td>\n",
       "      <td>NaN</td>\n",
       "    </tr>\n",
       "    <tr>\n",
       "      <th>9</th>\n",
       "      <td>http://yago-knowledge.org/resource/Jiřina_Dušá...</td>\n",
       "      <td>NaN</td>\n",
       "      <td>None</td>\n",
       "      <td>None</td>\n",
       "      <td>NaN</td>\n",
       "      <td>None</td>\n",
       "      <td>None</td>\n",
       "      <td>NaN</td>\n",
       "    </tr>\n",
       "  </tbody>\n",
       "</table>\n",
       "</div>"
      ],
      "text/plain": [
       "                                             entity0  \\\n",
       "0  http://yago-knowledge.org/resource/Ogle_Blg-El...   \n",
       "1  http://yago-knowledge.org/resource/Cedar_Hammo...   \n",
       "2  http://yago-knowledge.org/resource/B3_0010_U00...   \n",
       "3  http://yago-knowledge.org/resource/Yoshio_Miya...   \n",
       "4  http://yago-knowledge.org/resource/Nectria_Par...   \n",
       "5  http://yago-knowledge.org/resource/Kic_7613906...   \n",
       "6  http://yago-knowledge.org/resource/Ogle_Blg-El...   \n",
       "7  http://yago-knowledge.org/resource/Mehmet_Özel...   \n",
       "8  http://yago-knowledge.org/resource/Estrogens_A...   \n",
       "9  http://yago-knowledge.org/resource/Jiřina_Dušá...   \n",
       "\n",
       "                                        description0  \\\n",
       "0                      rotating ellipsoidal variable   \n",
       "1  canal in Manatee County, Florida, United State...   \n",
       "2  astronomical radio source in the constellation...   \n",
       "3                        baseball player (1916-1984)   \n",
       "4                                                NaN   \n",
       "5                   star in the constellation Cygnus   \n",
       "6                      rotating ellipsoidal variable   \n",
       "7                                                NaN   \n",
       "8                                 scientific article   \n",
       "9                                                NaN   \n",
       "\n",
       "                                     predicate1  \\\n",
       "0  http://www.w3.org/2000/01/rdf-schema#comment   \n",
       "1  http://www.w3.org/2000/01/rdf-schema#comment   \n",
       "2    http://www.w3.org/2000/01/rdf-schema#label   \n",
       "3    http://www.w3.org/2000/01/rdf-schema#label   \n",
       "4    http://www.w3.org/2000/01/rdf-schema#label   \n",
       "5    http://www.w3.org/2000/01/rdf-schema#label   \n",
       "6    http://www.w3.org/2000/01/rdf-schema#label   \n",
       "7                                          None   \n",
       "8    http://www.w3.org/2000/01/rdf-schema#label   \n",
       "9                                          None   \n",
       "\n",
       "                                             entity1 description1 predicate2  \\\n",
       "0                      rotating ellipsoidal variable          NaN       None   \n",
       "1  canal in Manatee County, Florida, United State...          NaN       None   \n",
       "2                                        B3 0010+395          NaN       None   \n",
       "3                                   Yoshio Miyashita          NaN       None   \n",
       "4                                    Nectria parilis          NaN       None   \n",
       "5                                        KIC 7613906          NaN       None   \n",
       "6                                  OGLE BLG-ELL-4807          NaN       None   \n",
       "7                                               None          NaN       None   \n",
       "8                               Estrogens and aging.          NaN       None   \n",
       "9                                               None          NaN       None   \n",
       "\n",
       "  entity2 description2  \n",
       "0    None          NaN  \n",
       "1    None          NaN  \n",
       "2    None          NaN  \n",
       "3    None          NaN  \n",
       "4    None          NaN  \n",
       "5    None          NaN  \n",
       "6    None          NaN  \n",
       "7    None          NaN  \n",
       "8    None          NaN  \n",
       "9    None          NaN  "
      ]
     },
     "execution_count": 10,
     "metadata": {},
     "output_type": "execute_result"
    }
   ],
   "source": [
    "entities_df"
   ]
  },
  {
   "cell_type": "code",
   "execution_count": 11,
   "metadata": {},
   "outputs": [
    {
     "data": {
      "text/plain": [
       "10"
      ]
     },
     "execution_count": 11,
     "metadata": {},
     "output_type": "execute_result"
    }
   ],
   "source": [
    "entities_df[\"description1\"].isna().sum()"
   ]
  },
  {
   "cell_type": "code",
   "execution_count": null,
   "metadata": {},
   "outputs": [],
   "source": [
    "entities_df"
   ]
  },
  {
   "cell_type": "code",
   "execution_count": 10,
   "metadata": {},
   "outputs": [],
   "source": [
    "entities_df.head(10).to_csv(\"walks.csv\", index=False)"
   ]
  },
  {
   "cell_type": "code",
   "execution_count": null,
   "metadata": {},
   "outputs": [],
   "source": []
  }
 ],
 "metadata": {
  "kernelspec": {
   "display_name": "claimbenchkg2",
   "language": "python",
   "name": "python3"
  },
  "language_info": {
   "codemirror_mode": {
    "name": "ipython",
    "version": 3
   },
   "file_extension": ".py",
   "mimetype": "text/x-python",
   "name": "python",
   "nbconvert_exporter": "python",
   "pygments_lexer": "ipython3",
   "version": "3.12.7"
  }
 },
 "nbformat": 4,
 "nbformat_minor": 2
}
