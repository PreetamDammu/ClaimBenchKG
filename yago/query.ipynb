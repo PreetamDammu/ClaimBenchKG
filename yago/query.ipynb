{
 "cells": [
  {
   "cell_type": "markdown",
   "metadata": {},
   "source": [
    "# Testing Queries\n",
    "\n",
    "Note: For now, we are lucky that the imports work, because we are using relative imports, and at one point, it will cause errors."
   ]
  },
  {
   "cell_type": "markdown",
   "metadata": {},
   "source": [
    "## IMPORTS"
   ]
  },
  {
   "cell_type": "code",
   "execution_count": 1,
   "metadata": {},
   "outputs": [],
   "source": [
    "import os\n",
    "import sys\n",
    "import random\n",
    "import requests\n",
    "import argparse\n",
    "from typing import List, Set\n",
    "\n",
    "import numpy as np\n",
    "import pandas as pd"
   ]
  },
  {
   "cell_type": "code",
   "execution_count": 2,
   "metadata": {},
   "outputs": [],
   "source": [
    "from db.yagodb import YagoDB\n",
    "from db.constants.main import YAGO_ALL_ENTITY_COUNT, YAGO_FACTS_ENTITY_COUNT\n",
    "from db.functions.entity import get_random_entities_query"
   ]
  },
  {
   "cell_type": "code",
   "execution_count": 3,
   "metadata": {},
   "outputs": [],
   "source": [
    "from kg.query import get_triples_multiple_subjects_query, get_description_multiple_entities_query, query_kg, get_triples_from_response"
   ]
  },
  {
   "cell_type": "code",
   "execution_count": 4,
   "metadata": {},
   "outputs": [],
   "source": [
    "from utils.constants import YAGO_ENTITY_STORE_DB_PATH, YAGO_PREFIXES_PATH, YAGO_ENDPOINT_URL\n",
    "from utils.prefix import get_prefixes, get_url_from_prefix_and_id\n",
    "from utils.random_walk2 import SPARQL_COLUMNS_DICT, RandomWalk2"
   ]
  },
  {
   "cell_type": "markdown",
   "metadata": {},
   "source": [
    "### CONSTANTS"
   ]
  },
  {
   "cell_type": "markdown",
   "metadata": {},
   "source": [
    "### FUNCTIONS"
   ]
  },
  {
   "cell_type": "markdown",
   "metadata": {},
   "source": [
    "### Experiment Single Walks"
   ]
  },
  {
   "cell_type": "code",
   "execution_count": 5,
   "metadata": {},
   "outputs": [],
   "source": [
    "yago_db = YagoDB(YAGO_ENTITY_STORE_DB_PATH)"
   ]
  },
  {
   "cell_type": "code",
   "execution_count": 6,
   "metadata": {},
   "outputs": [],
   "source": [
    "random_walk_2 = RandomWalk2(yago_db)"
   ]
  },
  {
   "cell_type": "code",
   "execution_count": 7,
   "metadata": {},
   "outputs": [
    {
     "name": "stdout",
     "output_type": "stream",
     "text": [
      "Length of entity_list:  100\n",
      "Length of entity_list:  100\n",
      "Length of triples for entity0:  <class 'pandas.core.frame.DataFrame'> 235\n",
      "Length of entities with valid neighbors:  17\n",
      "Length of entity_list:  17\n",
      "Length of entity_list:  17\n",
      "Length of triples for entity1:  <class 'pandas.core.frame.DataFrame'> 5293\n",
      "Length of entities with valid neighbors:  16\n",
      "Length of entity_list:  11\n"
     ]
    }
   ],
   "source": [
    "entities_df = random_walk_2.random_walk_description_batch(num_of_entities=100, depth=3)"
   ]
  },
  {
   "cell_type": "code",
   "execution_count": 11,
   "metadata": {},
   "outputs": [
    {
     "data": {
      "text/html": [
       "<div>\n",
       "<style scoped>\n",
       "    .dataframe tbody tr th:only-of-type {\n",
       "        vertical-align: middle;\n",
       "    }\n",
       "\n",
       "    .dataframe tbody tr th {\n",
       "        vertical-align: top;\n",
       "    }\n",
       "\n",
       "    .dataframe thead th {\n",
       "        text-align: right;\n",
       "    }\n",
       "</style>\n",
       "<table border=\"1\" class=\"dataframe\">\n",
       "  <thead>\n",
       "    <tr style=\"text-align: right;\">\n",
       "      <th></th>\n",
       "      <th>entity0</th>\n",
       "      <th>description0</th>\n",
       "      <th>predicate1</th>\n",
       "      <th>entity1</th>\n",
       "      <th>description1</th>\n",
       "      <th>predicate2</th>\n",
       "      <th>entity2</th>\n",
       "      <th>description2</th>\n",
       "    </tr>\n",
       "  </thead>\n",
       "  <tbody>\n",
       "    <tr>\n",
       "      <th>0</th>\n",
       "      <td>http://yago-knowledge.org/resource/Bangladeshi...</td>\n",
       "      <td>international cricket tour</td>\n",
       "      <td>http://schema.org/location</td>\n",
       "      <td>http://yago-knowledge.org/resource/Pakistan</td>\n",
       "      <td>sovereign state in South Asia</td>\n",
       "      <td>http://yago-knowledge.org/resource/neighbors</td>\n",
       "      <td>http://yago-knowledge.org/resource/Afghanistan</td>\n",
       "      <td>country in Central and South Asia</td>\n",
       "    </tr>\n",
       "    <tr>\n",
       "      <th>1</th>\n",
       "      <td>http://yago-knowledge.org/resource/Q29823478</td>\n",
       "      <td>NaN</td>\n",
       "      <td>None</td>\n",
       "      <td>None</td>\n",
       "      <td>NaN</td>\n",
       "      <td>None</td>\n",
       "      <td>None</td>\n",
       "      <td>NaN</td>\n",
       "    </tr>\n",
       "    <tr>\n",
       "      <th>2</th>\n",
       "      <td>http://yago-knowledge.org/resource/Michael_Lo_...</td>\n",
       "      <td>NaN</td>\n",
       "      <td>None</td>\n",
       "      <td>None</td>\n",
       "      <td>NaN</td>\n",
       "      <td>None</td>\n",
       "      <td>None</td>\n",
       "      <td>NaN</td>\n",
       "    </tr>\n",
       "    <tr>\n",
       "      <th>3</th>\n",
       "      <td>http://yago-knowledge.org/resource/School_At_1...</td>\n",
       "      <td>NaN</td>\n",
       "      <td>None</td>\n",
       "      <td>None</td>\n",
       "      <td>NaN</td>\n",
       "      <td>None</td>\n",
       "      <td>None</td>\n",
       "      <td>NaN</td>\n",
       "    </tr>\n",
       "    <tr>\n",
       "      <th>4</th>\n",
       "      <td>http://yago-knowledge.org/resource/Tramlaan_Q1...</td>\n",
       "      <td>NaN</td>\n",
       "      <td>None</td>\n",
       "      <td>None</td>\n",
       "      <td>NaN</td>\n",
       "      <td>None</td>\n",
       "      <td>None</td>\n",
       "      <td>NaN</td>\n",
       "    </tr>\n",
       "    <tr>\n",
       "      <th>...</th>\n",
       "      <td>...</td>\n",
       "      <td>...</td>\n",
       "      <td>...</td>\n",
       "      <td>...</td>\n",
       "      <td>...</td>\n",
       "      <td>...</td>\n",
       "      <td>...</td>\n",
       "      <td>...</td>\n",
       "    </tr>\n",
       "    <tr>\n",
       "      <th>95</th>\n",
       "      <td>http://yago-knowledge.org/resource/2Mass_J0525...</td>\n",
       "      <td>NaN</td>\n",
       "      <td>None</td>\n",
       "      <td>None</td>\n",
       "      <td>NaN</td>\n",
       "      <td>None</td>\n",
       "      <td>None</td>\n",
       "      <td>NaN</td>\n",
       "    </tr>\n",
       "    <tr>\n",
       "      <th>96</th>\n",
       "      <td>http://yago-knowledge.org/resource/Xandente_Q1...</td>\n",
       "      <td>NaN</td>\n",
       "      <td>None</td>\n",
       "      <td>None</td>\n",
       "      <td>NaN</td>\n",
       "      <td>None</td>\n",
       "      <td>None</td>\n",
       "      <td>NaN</td>\n",
       "    </tr>\n",
       "    <tr>\n",
       "      <th>97</th>\n",
       "      <td>http://yago-knowledge.org/resource/A_U002E__Fe...</td>\n",
       "      <td>NaN</td>\n",
       "      <td>None</td>\n",
       "      <td>None</td>\n",
       "      <td>NaN</td>\n",
       "      <td>None</td>\n",
       "      <td>None</td>\n",
       "      <td>NaN</td>\n",
       "    </tr>\n",
       "    <tr>\n",
       "      <th>98</th>\n",
       "      <td>http://yago-knowledge.org/resource/Retropharyn...</td>\n",
       "      <td>NaN</td>\n",
       "      <td>None</td>\n",
       "      <td>None</td>\n",
       "      <td>NaN</td>\n",
       "      <td>None</td>\n",
       "      <td>None</td>\n",
       "      <td>NaN</td>\n",
       "    </tr>\n",
       "    <tr>\n",
       "      <th>99</th>\n",
       "      <td>http://yago-knowledge.org/resource/Golden_Melo...</td>\n",
       "      <td>NaN</td>\n",
       "      <td>http://www.w3.org/1999/02/22-rdf-syntax-ns#type</td>\n",
       "      <td>http://yago-knowledge.org/resource/Music_award</td>\n",
       "      <td>award or prize given for skill or distinction ...</td>\n",
       "      <td>http://www.w3.org/2000/01/rdf-schema#label</td>\n",
       "      <td>جایزه موسیقی</td>\n",
       "      <td>NaN</td>\n",
       "    </tr>\n",
       "  </tbody>\n",
       "</table>\n",
       "<p>100 rows × 8 columns</p>\n",
       "</div>"
      ],
      "text/plain": [
       "                                              entity0  \\\n",
       "0   http://yago-knowledge.org/resource/Bangladeshi...   \n",
       "1        http://yago-knowledge.org/resource/Q29823478   \n",
       "2   http://yago-knowledge.org/resource/Michael_Lo_...   \n",
       "3   http://yago-knowledge.org/resource/School_At_1...   \n",
       "4   http://yago-knowledge.org/resource/Tramlaan_Q1...   \n",
       "..                                                ...   \n",
       "95  http://yago-knowledge.org/resource/2Mass_J0525...   \n",
       "96  http://yago-knowledge.org/resource/Xandente_Q1...   \n",
       "97  http://yago-knowledge.org/resource/A_U002E__Fe...   \n",
       "98  http://yago-knowledge.org/resource/Retropharyn...   \n",
       "99  http://yago-knowledge.org/resource/Golden_Melo...   \n",
       "\n",
       "                  description0  \\\n",
       "0   international cricket tour   \n",
       "1                          NaN   \n",
       "2                          NaN   \n",
       "3                          NaN   \n",
       "4                          NaN   \n",
       "..                         ...   \n",
       "95                         NaN   \n",
       "96                         NaN   \n",
       "97                         NaN   \n",
       "98                         NaN   \n",
       "99                         NaN   \n",
       "\n",
       "                                         predicate1  \\\n",
       "0                        http://schema.org/location   \n",
       "1                                              None   \n",
       "2                                              None   \n",
       "3                                              None   \n",
       "4                                              None   \n",
       "..                                              ...   \n",
       "95                                             None   \n",
       "96                                             None   \n",
       "97                                             None   \n",
       "98                                             None   \n",
       "99  http://www.w3.org/1999/02/22-rdf-syntax-ns#type   \n",
       "\n",
       "                                           entity1  \\\n",
       "0      http://yago-knowledge.org/resource/Pakistan   \n",
       "1                                             None   \n",
       "2                                             None   \n",
       "3                                             None   \n",
       "4                                             None   \n",
       "..                                             ...   \n",
       "95                                            None   \n",
       "96                                            None   \n",
       "97                                            None   \n",
       "98                                            None   \n",
       "99  http://yago-knowledge.org/resource/Music_award   \n",
       "\n",
       "                                         description1  \\\n",
       "0                       sovereign state in South Asia   \n",
       "1                                                 NaN   \n",
       "2                                                 NaN   \n",
       "3                                                 NaN   \n",
       "4                                                 NaN   \n",
       "..                                                ...   \n",
       "95                                                NaN   \n",
       "96                                                NaN   \n",
       "97                                                NaN   \n",
       "98                                                NaN   \n",
       "99  award or prize given for skill or distinction ...   \n",
       "\n",
       "                                      predicate2  \\\n",
       "0   http://yago-knowledge.org/resource/neighbors   \n",
       "1                                           None   \n",
       "2                                           None   \n",
       "3                                           None   \n",
       "4                                           None   \n",
       "..                                           ...   \n",
       "95                                          None   \n",
       "96                                          None   \n",
       "97                                          None   \n",
       "98                                          None   \n",
       "99    http://www.w3.org/2000/01/rdf-schema#label   \n",
       "\n",
       "                                           entity2  \\\n",
       "0   http://yago-knowledge.org/resource/Afghanistan   \n",
       "1                                             None   \n",
       "2                                             None   \n",
       "3                                             None   \n",
       "4                                             None   \n",
       "..                                             ...   \n",
       "95                                            None   \n",
       "96                                            None   \n",
       "97                                            None   \n",
       "98                                            None   \n",
       "99                                    جایزه موسیقی   \n",
       "\n",
       "                         description2  \n",
       "0   country in Central and South Asia  \n",
       "1                                 NaN  \n",
       "2                                 NaN  \n",
       "3                                 NaN  \n",
       "4                                 NaN  \n",
       "..                                ...  \n",
       "95                                NaN  \n",
       "96                                NaN  \n",
       "97                                NaN  \n",
       "98                                NaN  \n",
       "99                                NaN  \n",
       "\n",
       "[100 rows x 8 columns]"
      ]
     },
     "execution_count": 11,
     "metadata": {},
     "output_type": "execute_result"
    }
   ],
   "source": [
    "entities_df"
   ]
  },
  {
   "cell_type": "code",
   "execution_count": 50,
   "metadata": {},
   "outputs": [
    {
     "data": {
      "text/plain": [
       "np.int64(85)"
      ]
     },
     "execution_count": 50,
     "metadata": {},
     "output_type": "execute_result"
    }
   ],
   "source": [
    "entities_df[\"description1\"].isna().sum()"
   ]
  },
  {
   "cell_type": "code",
   "execution_count": 8,
   "metadata": {},
   "outputs": [
    {
     "data": {
      "text/plain": [
       "'http://yago-knowledge.org/resource/Sdss_J093110_U002E_75_U002B_135031_U002E_3_Q78051022'"
      ]
     },
     "execution_count": 8,
     "metadata": {},
     "output_type": "execute_result"
    }
   ],
   "source": [
    "entities_df.iloc[25][\"entity0\"]"
   ]
  },
  {
   "cell_type": "code",
   "execution_count": 10,
   "metadata": {},
   "outputs": [],
   "source": [
    "entities_df.head(10).to_csv(\"walks.csv\", index=False)"
   ]
  },
  {
   "cell_type": "code",
   "execution_count": null,
   "metadata": {},
   "outputs": [],
   "source": []
  }
 ],
 "metadata": {
  "kernelspec": {
   "display_name": "claimbenchkg2",
   "language": "python",
   "name": "python3"
  },
  "language_info": {
   "codemirror_mode": {
    "name": "ipython",
    "version": 3
   },
   "file_extension": ".py",
   "mimetype": "text/x-python",
   "name": "python",
   "nbconvert_exporter": "python",
   "pygments_lexer": "ipython3",
   "version": "3.12.7"
  }
 },
 "nbformat": 4,
 "nbformat_minor": 2
}
