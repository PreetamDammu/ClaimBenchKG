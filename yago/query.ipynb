{
 "cells": [
  {
   "cell_type": "markdown",
   "metadata": {},
   "source": [
    "# Testing Queries\n",
    "\n",
    "Note: For now, we are lucky that the imports work, because we are using relative imports, and at one point, it will cause errors."
   ]
  },
  {
   "cell_type": "markdown",
   "metadata": {},
   "source": [
    "## IMPORTS"
   ]
  },
  {
   "cell_type": "code",
   "execution_count": 1,
   "metadata": {},
   "outputs": [],
   "source": [
    "import os\n",
    "import sys\n",
    "import random\n",
    "import requests\n",
    "import argparse\n",
    "from typing import List, Set\n",
    "\n",
    "import numpy as np\n",
    "import pandas as pd"
   ]
  },
  {
   "cell_type": "code",
   "execution_count": 2,
   "metadata": {},
   "outputs": [],
   "source": [
    "from db.yagodb import YagoDB\n",
    "from db.constants.main import YAGO_ALL_ENTITY_COUNT, YAGO_FACTS_ENTITY_COUNT\n",
    "from db.functions.entity import get_random_entities_query"
   ]
  },
  {
   "cell_type": "code",
   "execution_count": 3,
   "metadata": {},
   "outputs": [],
   "source": [
    "from utils.constants import YAGO_ENTITY_STORE_DB_PATH, YAGO_PREFIXES_PATH, YAGO_ENDPOINT_URL\n",
    "from utils.functions import get_prefixes, get_url_from_prefix_and_id, get_triples_query, \\\n",
    "    get_triples_multiple_subjects_query, query_kg"
   ]
  },
  {
   "cell_type": "markdown",
   "metadata": {},
   "source": [
    "### CONSTANTS"
   ]
  },
  {
   "cell_type": "code",
   "execution_count": 4,
   "metadata": {},
   "outputs": [],
   "source": [
    "SPARQL_COLUMNS_DICT = {\n",
    "    \"subject\": \"subject\",\n",
    "    \"predicate\": \"predicate\",\n",
    "    \"object\": \"object\"\n",
    "}"
   ]
  },
  {
   "cell_type": "markdown",
   "metadata": {},
   "source": [
    "### FUNCTIONS"
   ]
  },
  {
   "cell_type": "code",
   "execution_count": 5,
   "metadata": {},
   "outputs": [],
   "source": [
    "def random_walk(self, depth: int = 3) -> List[str]:\n",
    "    \"\"\"Random walk on the YAGO knowledge graph.\n",
    "\n",
    "    Args:\n",
    "    - depth: Depth of the walk\n",
    "\n",
    "    Returns:\n",
    "    - A list of node IDs visited during the walk\n",
    "    \"\"\"\n",
    "    random_entity = query_random_entities(yago_db)\n",
    "\n",
    "    subject = get_url_from_prefix_and_id(PREFIXES, random_entity[0][0])\n",
    "\n",
    "    walk = [subject]\n",
    "    for _ in range(depth):\n",
    "        print(walk)\n",
    "        triple = query_triple(YAGO_ENDPOINT_URL, f\"<{walk[-1]}>\")\n",
    "        if triple is None:\n",
    "            break\n",
    "        walk.append(triple[\"predicate\"][\"value\"])\n",
    "        walk.append(triple[\"object\"][\"value\"])\n",
    "    return walk"
   ]
  },
  {
   "cell_type": "code",
   "execution_count": 6,
   "metadata": {},
   "outputs": [],
   "source": [
    "def get_triples_from_response(response: dict, *,\n",
    "    sparql_columns_dict: dict = SPARQL_COLUMNS_DICT) -> pd.DataFrame:\n",
    "    \"\"\"\n",
    "    Extracts triples from the response of a SPARQL query.\n",
    "    \"\"\"\n",
    "    triples = []\n",
    "    for row in response[\"results\"][\"bindings\"]:\n",
    "        triple = {}\n",
    "        for key, value in row.items():\n",
    "            triple[sparql_columns_dict[key]] = value[\"value\"]\n",
    "        triples.append(triple)\n",
    "    return pd.DataFrame(triples)"
   ]
  },
  {
   "cell_type": "code",
   "execution_count": 7,
   "metadata": {},
   "outputs": [],
   "source": [
    "def sample_triple_for_entity_as_list(triples_df: pd.DataFrame, entity: str, *, \n",
    "    sparql_columns_dict: dict = SPARQL_COLUMNS_DICT) -> List[str]:\n",
    "    \"\"\"\n",
    "    Samples triples for a given entity.\n",
    "    \"\"\"\n",
    "    if entity is None:\n",
    "        return [None, None]\n",
    "    matched_triples_df = triples_df[triples_df[sparql_columns_dict[\"subject\"]] == entity]\\\n",
    "        [[sparql_columns_dict[\"predicate\"], sparql_columns_dict[\"object\"]]]\n",
    "    if len(matched_triples_df) == 0:\n",
    "        return [None, None]\n",
    "    sampled_triple = matched_triples_df.sample(n=1, replace=False).iloc[0]\n",
    "    return [sampled_triple[sparql_columns_dict[\"predicate\"]], sampled_triple[sparql_columns_dict[\"object\"]]]"
   ]
  },
  {
   "cell_type": "code",
   "execution_count": 8,
   "metadata": {},
   "outputs": [],
   "source": [
    "def single_hop_multiple_entities(yago_db: YagoDB, entities_df: pd.DataFrame) -> pd.DataFrame:\n",
    "    \"\"\"\n",
    "    Single-hop random walk on the YAGO knowledge graph.\n",
    "    Takes a dataframe of entities and returns a dataframe of entities and their neighbors.\n",
    "    \"\"\"\n",
    "    query2 = get_triples_multiple_subjects_query(\n",
    "        entities=[f\"<{entity}>\" for entity in entities_df[\"entity0\"].tolist()], \n",
    "        columns_dict=SPARQL_COLUMNS_DICT\n",
    "    )\n",
    "    response = query_kg(YAGO_ENDPOINT_URL, query2)\n",
    "    triples = get_triples_from_response(response)\n",
    "    entities_hop_1 = entities_df.apply(\n",
    "        lambda row: sample_triple_for_entity_as_list(triples_df=triples, entity=row[\"entity0\"]), \n",
    "        axis=1, result_type=\"expand\").rename(columns={0: \"predicate1\", 1: \"entity1\"})\n",
    "    return entities_hop_1"
   ]
  },
  {
   "cell_type": "code",
   "execution_count": 9,
   "metadata": {},
   "outputs": [],
   "source": [
    "def random_walks_multiple(yago_db: YagoDB, *, num_of_entities: int = 10, depth: int = 3) -> pd.DataFrame:\n",
    "    \"\"\"\n",
    "    Random walks on the YAGO knowledge graph.\n",
    "    \"\"\"\n",
    "    query1 = get_random_entities_query(num_of_entities=num_of_entities)\n",
    "    entities = yago_db.query(query1)\n",
    "    entities_df = pd.DataFrame([f\"{entity[1]}\" for entity in entities], columns=[\"entity0\"])\n",
    "\n",
    "    for i in range(depth - 1):\n",
    "        entities_single_hop = single_hop_multiple_entities(yago_db, entities_df)\n",
    "        entities_df[[f\"predicate{i+1}\", f\"entity{i+1}\"]] = entities_single_hop\n",
    "\n",
    "    return entities_df"
   ]
  },
  {
   "cell_type": "markdown",
   "metadata": {},
   "source": [
    "### Experiment Single Walks"
   ]
  },
  {
   "cell_type": "code",
   "execution_count": 10,
   "metadata": {},
   "outputs": [],
   "source": [
    "yago_db = YagoDB(YAGO_ENTITY_STORE_DB_PATH)"
   ]
  },
  {
   "cell_type": "code",
   "execution_count": 11,
   "metadata": {},
   "outputs": [],
   "source": [
    "random_walks = random_walks_multiple(yago_db, num_of_entities=1000, depth=3)"
   ]
  },
  {
   "cell_type": "code",
   "execution_count": 12,
   "metadata": {},
   "outputs": [
    {
     "data": {
      "text/html": [
       "<div>\n",
       "<style scoped>\n",
       "    .dataframe tbody tr th:only-of-type {\n",
       "        vertical-align: middle;\n",
       "    }\n",
       "\n",
       "    .dataframe tbody tr th {\n",
       "        vertical-align: top;\n",
       "    }\n",
       "\n",
       "    .dataframe thead th {\n",
       "        text-align: right;\n",
       "    }\n",
       "</style>\n",
       "<table border=\"1\" class=\"dataframe\">\n",
       "  <thead>\n",
       "    <tr style=\"text-align: right;\">\n",
       "      <th></th>\n",
       "      <th>entity0</th>\n",
       "      <th>predicate1</th>\n",
       "      <th>entity1</th>\n",
       "      <th>predicate2</th>\n",
       "      <th>entity2</th>\n",
       "    </tr>\n",
       "  </thead>\n",
       "  <tbody>\n",
       "    <tr>\n",
       "      <th>0</th>\n",
       "      <td>http://yago-knowledge.org/resource/Lcs-Cl_J051...</td>\n",
       "      <td>http://www.w3.org/2002/07/owl#sameAs</td>\n",
       "      <td>http://www.wikidata.org/entity/Q84515442</td>\n",
       "      <td>http://www.w3.org/1999/02/22-rdf-syntax-ns#type</td>\n",
       "      <td>http://yago-knowledge.org/resource/Galaxy_cluster</td>\n",
       "    </tr>\n",
       "    <tr>\n",
       "      <th>1</th>\n",
       "      <td>http://yago-knowledge.org/resource/Internal_Re...</td>\n",
       "      <td>http://www.w3.org/1999/02/22-rdf-syntax-ns#type</td>\n",
       "      <td>http://yago-knowledge.org/resource/Science_pro...</td>\n",
       "      <td>http://www.w3.org/2002/07/owl#sameAs</td>\n",
       "      <td>http://www.wikidata.org/entity/Q116115390</td>\n",
       "    </tr>\n",
       "    <tr>\n",
       "      <th>2</th>\n",
       "      <td>http://yago-knowledge.org/resource/Denise_Fabr...</td>\n",
       "      <td>http://www.w3.org/1999/02/22-rdf-syntax-ns#type</td>\n",
       "      <td>http://yago-knowledge.org/resource/Researcher</td>\n",
       "      <td>http://www.w3.org/2002/07/owl#sameAs</td>\n",
       "      <td>http://www.wikidata.org/entity/Q92654511</td>\n",
       "    </tr>\n",
       "    <tr>\n",
       "      <th>3</th>\n",
       "      <td>http://yago-knowledge.org/resource/Alloclusia_...</td>\n",
       "      <td>http://schema.org/parentTaxon</td>\n",
       "      <td>http://yago-knowledge.org/resource/Alloclusia_...</td>\n",
       "      <td>http://www.w3.org/1999/02/22-rdf-syntax-ns#type</td>\n",
       "      <td>http://schema.org/Taxon</td>\n",
       "    </tr>\n",
       "    <tr>\n",
       "      <th>4</th>\n",
       "      <td>http://yago-knowledge.org/resource/Micrallecto...</td>\n",
       "      <td>http://www.w3.org/1999/02/22-rdf-syntax-ns#type</td>\n",
       "      <td>http://schema.org/Taxon</td>\n",
       "      <td>http://schema.org/parentTaxon</td>\n",
       "      <td>http://yago-knowledge.org/resource/Micrallecto</td>\n",
       "    </tr>\n",
       "    <tr>\n",
       "      <th>...</th>\n",
       "      <td>...</td>\n",
       "      <td>...</td>\n",
       "      <td>...</td>\n",
       "      <td>...</td>\n",
       "      <td>...</td>\n",
       "    </tr>\n",
       "    <tr>\n",
       "      <th>995</th>\n",
       "      <td>http://yago-knowledge.org/resource/Thuto-Ke-Ma...</td>\n",
       "      <td>http://www.w3.org/2002/07/owl#sameAs</td>\n",
       "      <td>http://www.wikidata.org/entity/Q97334283</td>\n",
       "      <td>http://schema.org/location</td>\n",
       "      <td>http://yago-knowledge.org/resource/South_Africa</td>\n",
       "    </tr>\n",
       "    <tr>\n",
       "      <th>996</th>\n",
       "      <td>http://yago-knowledge.org/resource/Portrait_Of...</td>\n",
       "      <td>http://schema.org/material</td>\n",
       "      <td>http://yago-knowledge.org/resource/Oil_paint_g...</td>\n",
       "      <td>http://schema.org/material</td>\n",
       "      <td>http://yago-knowledge.org/resource/Oil_paint_g...</td>\n",
       "    </tr>\n",
       "    <tr>\n",
       "      <th>997</th>\n",
       "      <td>http://yago-knowledge.org/resource/Ucac2_38244...</td>\n",
       "      <td>http://www.w3.org/2002/07/owl#sameAs</td>\n",
       "      <td>http://www.wikidata.org/entity/Q87341254</td>\n",
       "      <td>http://www.w3.org/2002/07/owl#sameAs</td>\n",
       "      <td>http://www.wikidata.org/entity/Q87341254</td>\n",
       "    </tr>\n",
       "    <tr>\n",
       "      <th>998</th>\n",
       "      <td>http://yago-knowledge.org/resource/2008_Six-re...</td>\n",
       "      <td>http://schema.org/location</td>\n",
       "      <td>http://yago-knowledge.org/resource/Bangkok</td>\n",
       "      <td>http://www.w3.org/2002/07/owl#sameAs</td>\n",
       "      <td>http://www.wikidata.org/entity/Q2084994</td>\n",
       "    </tr>\n",
       "    <tr>\n",
       "      <th>999</th>\n",
       "      <td>http://yago-knowledge.org/resource/J_U002E__Wh...</td>\n",
       "      <td>http://schema.org/award</td>\n",
       "      <td>http://yago-knowledge.org/resource/Lloyd_u0027...</td>\n",
       "      <td>http://schema.org/award</td>\n",
       "      <td>http://yago-knowledge.org/resource/Distinguish...</td>\n",
       "    </tr>\n",
       "  </tbody>\n",
       "</table>\n",
       "<p>1000 rows × 5 columns</p>\n",
       "</div>"
      ],
      "text/plain": [
       "                                               entity0  \\\n",
       "0    http://yago-knowledge.org/resource/Lcs-Cl_J051...   \n",
       "1    http://yago-knowledge.org/resource/Internal_Re...   \n",
       "2    http://yago-knowledge.org/resource/Denise_Fabr...   \n",
       "3    http://yago-knowledge.org/resource/Alloclusia_...   \n",
       "4    http://yago-knowledge.org/resource/Micrallecto...   \n",
       "..                                                 ...   \n",
       "995  http://yago-knowledge.org/resource/Thuto-Ke-Ma...   \n",
       "996  http://yago-knowledge.org/resource/Portrait_Of...   \n",
       "997  http://yago-knowledge.org/resource/Ucac2_38244...   \n",
       "998  http://yago-knowledge.org/resource/2008_Six-re...   \n",
       "999  http://yago-knowledge.org/resource/J_U002E__Wh...   \n",
       "\n",
       "                                          predicate1  \\\n",
       "0               http://www.w3.org/2002/07/owl#sameAs   \n",
       "1    http://www.w3.org/1999/02/22-rdf-syntax-ns#type   \n",
       "2    http://www.w3.org/1999/02/22-rdf-syntax-ns#type   \n",
       "3                      http://schema.org/parentTaxon   \n",
       "4    http://www.w3.org/1999/02/22-rdf-syntax-ns#type   \n",
       "..                                               ...   \n",
       "995             http://www.w3.org/2002/07/owl#sameAs   \n",
       "996                       http://schema.org/material   \n",
       "997             http://www.w3.org/2002/07/owl#sameAs   \n",
       "998                       http://schema.org/location   \n",
       "999                          http://schema.org/award   \n",
       "\n",
       "                                               entity1  \\\n",
       "0             http://www.wikidata.org/entity/Q84515442   \n",
       "1    http://yago-knowledge.org/resource/Science_pro...   \n",
       "2        http://yago-knowledge.org/resource/Researcher   \n",
       "3    http://yago-knowledge.org/resource/Alloclusia_...   \n",
       "4                              http://schema.org/Taxon   \n",
       "..                                                 ...   \n",
       "995           http://www.wikidata.org/entity/Q97334283   \n",
       "996  http://yago-knowledge.org/resource/Oil_paint_g...   \n",
       "997           http://www.wikidata.org/entity/Q87341254   \n",
       "998         http://yago-knowledge.org/resource/Bangkok   \n",
       "999  http://yago-knowledge.org/resource/Lloyd_u0027...   \n",
       "\n",
       "                                          predicate2  \\\n",
       "0    http://www.w3.org/1999/02/22-rdf-syntax-ns#type   \n",
       "1               http://www.w3.org/2002/07/owl#sameAs   \n",
       "2               http://www.w3.org/2002/07/owl#sameAs   \n",
       "3    http://www.w3.org/1999/02/22-rdf-syntax-ns#type   \n",
       "4                      http://schema.org/parentTaxon   \n",
       "..                                               ...   \n",
       "995                       http://schema.org/location   \n",
       "996                       http://schema.org/material   \n",
       "997             http://www.w3.org/2002/07/owl#sameAs   \n",
       "998             http://www.w3.org/2002/07/owl#sameAs   \n",
       "999                          http://schema.org/award   \n",
       "\n",
       "                                               entity2  \n",
       "0    http://yago-knowledge.org/resource/Galaxy_cluster  \n",
       "1            http://www.wikidata.org/entity/Q116115390  \n",
       "2             http://www.wikidata.org/entity/Q92654511  \n",
       "3                              http://schema.org/Taxon  \n",
       "4       http://yago-knowledge.org/resource/Micrallecto  \n",
       "..                                                 ...  \n",
       "995    http://yago-knowledge.org/resource/South_Africa  \n",
       "996  http://yago-knowledge.org/resource/Oil_paint_g...  \n",
       "997           http://www.wikidata.org/entity/Q87341254  \n",
       "998            http://www.wikidata.org/entity/Q2084994  \n",
       "999  http://yago-knowledge.org/resource/Distinguish...  \n",
       "\n",
       "[1000 rows x 5 columns]"
      ]
     },
     "execution_count": 12,
     "metadata": {},
     "output_type": "execute_result"
    }
   ],
   "source": [
    "random_walks"
   ]
  },
  {
   "cell_type": "code",
   "execution_count": null,
   "metadata": {},
   "outputs": [],
   "source": []
  }
 ],
 "metadata": {
  "kernelspec": {
   "display_name": "claimbenchkg2",
   "language": "python",
   "name": "python3"
  },
  "language_info": {
   "codemirror_mode": {
    "name": "ipython",
    "version": 3
   },
   "file_extension": ".py",
   "mimetype": "text/x-python",
   "name": "python",
   "nbconvert_exporter": "python",
   "pygments_lexer": "ipython3",
   "version": "3.12.7"
  }
 },
 "nbformat": 4,
 "nbformat_minor": 2
}
