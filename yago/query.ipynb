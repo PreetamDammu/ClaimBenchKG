{
 "cells": [
  {
   "cell_type": "markdown",
   "metadata": {},
   "source": [
    "# Testing Queries\n",
    "\n",
    "Note: For now, we are lucky that the imports work, because we are using relative imports, and at one point, it will cause errors."
   ]
  },
  {
   "cell_type": "markdown",
   "metadata": {},
   "source": [
    "## IMPORTS"
   ]
  },
  {
   "cell_type": "code",
   "execution_count": 1,
   "metadata": {},
   "outputs": [],
   "source": [
    "import os\n",
    "import sys\n",
    "import random\n",
    "import requests\n",
    "import argparse\n",
    "from typing import List, Set\n",
    "\n",
    "import numpy as np\n",
    "import pandas as pd"
   ]
  },
  {
   "cell_type": "code",
   "execution_count": 2,
   "metadata": {},
   "outputs": [],
   "source": [
    "from db.yagodb import YagoDB\n",
    "from db.constants.main import YAGO_ALL_ENTITY_COUNT, YAGO_FACTS_ENTITY_COUNT\n",
    "from db.functions.entity import get_random_entities_query"
   ]
  },
  {
   "cell_type": "code",
   "execution_count": 3,
   "metadata": {},
   "outputs": [],
   "source": [
    "from kg.query import get_triples_multiple_subjects_query, get_description_multiple_entities_query, query_kg, get_triples_from_response"
   ]
  },
  {
   "cell_type": "code",
   "execution_count": 4,
   "metadata": {},
   "outputs": [],
   "source": [
    "from utils.constants import YAGO_ENTITY_STORE_DB_PATH, YAGO_PREFIXES_PATH, YAGO_ENDPOINT_URL\n",
    "from utils.prefix import get_prefixes, get_url_from_prefix_and_id\n",
    "from utils.random_walk2 import SPARQL_COLUMNS_DICT, RandomWalk2"
   ]
  },
  {
   "cell_type": "markdown",
   "metadata": {},
   "source": [
    "### CONSTANTS"
   ]
  },
  {
   "cell_type": "markdown",
   "metadata": {},
   "source": [
    "### FUNCTIONS"
   ]
  },
  {
   "cell_type": "markdown",
   "metadata": {},
   "source": [
    "### Experiment Single Walks"
   ]
  },
  {
   "cell_type": "code",
   "execution_count": 5,
   "metadata": {},
   "outputs": [],
   "source": [
    "yago_db = YagoDB(YAGO_ENTITY_STORE_DB_PATH)"
   ]
  },
  {
   "cell_type": "code",
   "execution_count": 6,
   "metadata": {},
   "outputs": [],
   "source": [
    "random_walk_2 = RandomWalk2(yago_db)"
   ]
  },
  {
   "cell_type": "code",
   "execution_count": 15,
   "metadata": {},
   "outputs": [],
   "source": [
    "entities_df = random_walk_2.random_walk_description_batch(num_of_entities=100, depth=3)"
   ]
  },
  {
   "cell_type": "code",
   "execution_count": 16,
   "metadata": {},
   "outputs": [
    {
     "data": {
      "text/html": [
       "<div>\n",
       "<style scoped>\n",
       "    .dataframe tbody tr th:only-of-type {\n",
       "        vertical-align: middle;\n",
       "    }\n",
       "\n",
       "    .dataframe tbody tr th {\n",
       "        vertical-align: top;\n",
       "    }\n",
       "\n",
       "    .dataframe thead th {\n",
       "        text-align: right;\n",
       "    }\n",
       "</style>\n",
       "<table border=\"1\" class=\"dataframe\">\n",
       "  <thead>\n",
       "    <tr style=\"text-align: right;\">\n",
       "      <th></th>\n",
       "      <th>entity0</th>\n",
       "      <th>description0</th>\n",
       "      <th>predicate1</th>\n",
       "      <th>entity1</th>\n",
       "      <th>description1</th>\n",
       "      <th>predicate2</th>\n",
       "      <th>entity2</th>\n",
       "      <th>description2</th>\n",
       "    </tr>\n",
       "  </thead>\n",
       "  <tbody>\n",
       "    <tr>\n",
       "      <th>0</th>\n",
       "      <td>http://yago-knowledge.org/resource/Söldner_Att...</td>\n",
       "      <td>NaN</td>\n",
       "      <td>None</td>\n",
       "      <td>None</td>\n",
       "      <td>NaN</td>\n",
       "      <td>None</td>\n",
       "      <td>None</td>\n",
       "      <td>NaN</td>\n",
       "    </tr>\n",
       "    <tr>\n",
       "      <th>1</th>\n",
       "      <td>http://yago-knowledge.org/resource/Guangxingza...</td>\n",
       "      <td>shoal in People's Republic of China</td>\n",
       "      <td>http://schema.org/location</td>\n",
       "      <td>http://yago-knowledge.org/resource/China</td>\n",
       "      <td>country in East Asia</td>\n",
       "      <td>http://schema.org/memberOf</td>\n",
       "      <td>http://yago-knowledge.org/resource/G20</td>\n",
       "      <td>group of finance ministers and central bank go...</td>\n",
       "    </tr>\n",
       "    <tr>\n",
       "      <th>2</th>\n",
       "      <td>http://yago-knowledge.org/resource/Rogério_Con...</td>\n",
       "      <td>NaN</td>\n",
       "      <td>None</td>\n",
       "      <td>None</td>\n",
       "      <td>NaN</td>\n",
       "      <td>None</td>\n",
       "      <td>None</td>\n",
       "      <td>NaN</td>\n",
       "    </tr>\n",
       "    <tr>\n",
       "      <th>3</th>\n",
       "      <td>http://yago-knowledge.org/resource/Tyc_6521-76...</td>\n",
       "      <td>star in the constellation Canis Major</td>\n",
       "      <td>http://www.w3.org/1999/02/22-rdf-syntax-ns#type</td>\n",
       "      <td>http://yago-knowledge.org/resource/Star</td>\n",
       "      <td>astronomical object consisting of a luminous s...</td>\n",
       "      <td>http://www.w3.org/2000/01/rdf-schema#subClassOf</td>\n",
       "      <td>http://yago-knowledge.org/resource/Fusor__u002...</td>\n",
       "      <td>astronomical object that achieves core fusion ...</td>\n",
       "    </tr>\n",
       "    <tr>\n",
       "      <th>4</th>\n",
       "      <td>http://yago-knowledge.org/resource/Abhaya_Hira...</td>\n",
       "      <td>Indian playback singer</td>\n",
       "      <td>http://schema.org/nationality</td>\n",
       "      <td>http://yago-knowledge.org/resource/India</td>\n",
       "      <td>country in South Asia</td>\n",
       "      <td>http://yago-knowledge.org/resource/neighbors</td>\n",
       "      <td>http://yago-knowledge.org/resource/Myanmar</td>\n",
       "      <td>sovereign state in Southeast Asia</td>\n",
       "    </tr>\n",
       "    <tr>\n",
       "      <th>...</th>\n",
       "      <td>...</td>\n",
       "      <td>...</td>\n",
       "      <td>...</td>\n",
       "      <td>...</td>\n",
       "      <td>...</td>\n",
       "      <td>...</td>\n",
       "      <td>...</td>\n",
       "      <td>...</td>\n",
       "    </tr>\n",
       "    <tr>\n",
       "      <th>95</th>\n",
       "      <td>http://yago-knowledge.org/resource/Gen_U0023__...</td>\n",
       "      <td>star in the constellation Virgo</td>\n",
       "      <td>http://www.w3.org/1999/02/22-rdf-syntax-ns#type</td>\n",
       "      <td>http://yago-knowledge.org/resource/Star</td>\n",
       "      <td>astronomical object consisting of a luminous s...</td>\n",
       "      <td>http://www.w3.org/2000/01/rdf-schema#subClassOf</td>\n",
       "      <td>http://yago-knowledge.org/resource/Fusor__u002...</td>\n",
       "      <td>astronomical object that achieves core fusion ...</td>\n",
       "    </tr>\n",
       "    <tr>\n",
       "      <th>96</th>\n",
       "      <td>http://yago-knowledge.org/resource/Michele_Mem...</td>\n",
       "      <td>NaN</td>\n",
       "      <td>None</td>\n",
       "      <td>None</td>\n",
       "      <td>NaN</td>\n",
       "      <td>None</td>\n",
       "      <td>None</td>\n",
       "      <td>NaN</td>\n",
       "    </tr>\n",
       "    <tr>\n",
       "      <th>97</th>\n",
       "      <td>http://yago-knowledge.org/resource/Q98994100</td>\n",
       "      <td>Wikinews article</td>\n",
       "      <td>http://www.w3.org/1999/02/22-rdf-syntax-ns#type</td>\n",
       "      <td>http://yago-knowledge.org/resource/Wikinews_Ar...</td>\n",
       "      <td>used with property P31</td>\n",
       "      <td>http://www.w3.org/2000/01/rdf-schema#label</td>\n",
       "      <td>维基新闻新闻稿</td>\n",
       "      <td>NaN</td>\n",
       "    </tr>\n",
       "    <tr>\n",
       "      <th>98</th>\n",
       "      <td>http://yago-knowledge.org/resource/Hyakkan_Shi...</td>\n",
       "      <td>island in Japan</td>\n",
       "      <td>http://schema.org/location</td>\n",
       "      <td>http://yago-knowledge.org/resource/Japan</td>\n",
       "      <td>island country in East Asia</td>\n",
       "      <td>http://yago-knowledge.org/resource/neighbors</td>\n",
       "      <td>http://yago-knowledge.org/resource/China</td>\n",
       "      <td>country in East Asia</td>\n",
       "    </tr>\n",
       "    <tr>\n",
       "      <th>99</th>\n",
       "      <td>http://yago-knowledge.org/resource/Wohnhaus_Q3...</td>\n",
       "      <td>building in Purbach am Neusiedlersee, Austria</td>\n",
       "      <td>http://schema.org/location</td>\n",
       "      <td>http://yago-knowledge.org/resource/Austria</td>\n",
       "      <td>country in Central Europe</td>\n",
       "      <td>http://yago-knowledge.org/resource/neighbors</td>\n",
       "      <td>http://yago-knowledge.org/resource/Hungary</td>\n",
       "      <td>country in Central Europe</td>\n",
       "    </tr>\n",
       "  </tbody>\n",
       "</table>\n",
       "<p>100 rows × 8 columns</p>\n",
       "</div>"
      ],
      "text/plain": [
       "                                              entity0  \\\n",
       "0   http://yago-knowledge.org/resource/Söldner_Att...   \n",
       "1   http://yago-knowledge.org/resource/Guangxingza...   \n",
       "2   http://yago-knowledge.org/resource/Rogério_Con...   \n",
       "3   http://yago-knowledge.org/resource/Tyc_6521-76...   \n",
       "4   http://yago-knowledge.org/resource/Abhaya_Hira...   \n",
       "..                                                ...   \n",
       "95  http://yago-knowledge.org/resource/Gen_U0023__...   \n",
       "96  http://yago-knowledge.org/resource/Michele_Mem...   \n",
       "97       http://yago-knowledge.org/resource/Q98994100   \n",
       "98  http://yago-knowledge.org/resource/Hyakkan_Shi...   \n",
       "99  http://yago-knowledge.org/resource/Wohnhaus_Q3...   \n",
       "\n",
       "                                     description0  \\\n",
       "0                                             NaN   \n",
       "1             shoal in People's Republic of China   \n",
       "2                                             NaN   \n",
       "3           star in the constellation Canis Major   \n",
       "4                          Indian playback singer   \n",
       "..                                            ...   \n",
       "95                star in the constellation Virgo   \n",
       "96                                            NaN   \n",
       "97                               Wikinews article   \n",
       "98                                island in Japan   \n",
       "99  building in Purbach am Neusiedlersee, Austria   \n",
       "\n",
       "                                         predicate1  \\\n",
       "0                                              None   \n",
       "1                        http://schema.org/location   \n",
       "2                                              None   \n",
       "3   http://www.w3.org/1999/02/22-rdf-syntax-ns#type   \n",
       "4                     http://schema.org/nationality   \n",
       "..                                              ...   \n",
       "95  http://www.w3.org/1999/02/22-rdf-syntax-ns#type   \n",
       "96                                             None   \n",
       "97  http://www.w3.org/1999/02/22-rdf-syntax-ns#type   \n",
       "98                       http://schema.org/location   \n",
       "99                       http://schema.org/location   \n",
       "\n",
       "                                              entity1  \\\n",
       "0                                                None   \n",
       "1            http://yago-knowledge.org/resource/China   \n",
       "2                                                None   \n",
       "3             http://yago-knowledge.org/resource/Star   \n",
       "4            http://yago-knowledge.org/resource/India   \n",
       "..                                                ...   \n",
       "95            http://yago-knowledge.org/resource/Star   \n",
       "96                                               None   \n",
       "97  http://yago-knowledge.org/resource/Wikinews_Ar...   \n",
       "98           http://yago-knowledge.org/resource/Japan   \n",
       "99         http://yago-knowledge.org/resource/Austria   \n",
       "\n",
       "                                         description1  \\\n",
       "0                                                 NaN   \n",
       "1                                country in East Asia   \n",
       "2                                                 NaN   \n",
       "3   astronomical object consisting of a luminous s...   \n",
       "4                               country in South Asia   \n",
       "..                                                ...   \n",
       "95  astronomical object consisting of a luminous s...   \n",
       "96                                                NaN   \n",
       "97                             used with property P31   \n",
       "98                        island country in East Asia   \n",
       "99                          country in Central Europe   \n",
       "\n",
       "                                         predicate2  \\\n",
       "0                                              None   \n",
       "1                        http://schema.org/memberOf   \n",
       "2                                              None   \n",
       "3   http://www.w3.org/2000/01/rdf-schema#subClassOf   \n",
       "4      http://yago-knowledge.org/resource/neighbors   \n",
       "..                                              ...   \n",
       "95  http://www.w3.org/2000/01/rdf-schema#subClassOf   \n",
       "96                                             None   \n",
       "97       http://www.w3.org/2000/01/rdf-schema#label   \n",
       "98     http://yago-knowledge.org/resource/neighbors   \n",
       "99     http://yago-knowledge.org/resource/neighbors   \n",
       "\n",
       "                                              entity2  \\\n",
       "0                                                None   \n",
       "1              http://yago-knowledge.org/resource/G20   \n",
       "2                                                None   \n",
       "3   http://yago-knowledge.org/resource/Fusor__u002...   \n",
       "4          http://yago-knowledge.org/resource/Myanmar   \n",
       "..                                                ...   \n",
       "95  http://yago-knowledge.org/resource/Fusor__u002...   \n",
       "96                                               None   \n",
       "97                                            维基新闻新闻稿   \n",
       "98           http://yago-knowledge.org/resource/China   \n",
       "99         http://yago-knowledge.org/resource/Hungary   \n",
       "\n",
       "                                         description2  \n",
       "0                                                 NaN  \n",
       "1   group of finance ministers and central bank go...  \n",
       "2                                                 NaN  \n",
       "3   astronomical object that achieves core fusion ...  \n",
       "4                   sovereign state in Southeast Asia  \n",
       "..                                                ...  \n",
       "95  astronomical object that achieves core fusion ...  \n",
       "96                                                NaN  \n",
       "97                                                NaN  \n",
       "98                               country in East Asia  \n",
       "99                          country in Central Europe  \n",
       "\n",
       "[100 rows x 8 columns]"
      ]
     },
     "execution_count": 16,
     "metadata": {},
     "output_type": "execute_result"
    }
   ],
   "source": [
    "entities_df"
   ]
  },
  {
   "cell_type": "code",
   "execution_count": 19,
   "metadata": {},
   "outputs": [
    {
     "data": {
      "text/plain": [
       "17"
      ]
     },
     "execution_count": 19,
     "metadata": {},
     "output_type": "execute_result"
    }
   ],
   "source": [
    "entities_df[\"description1\"].isna().sum()"
   ]
  },
  {
   "cell_type": "code",
   "execution_count": 18,
   "metadata": {},
   "outputs": [
    {
     "data": {
      "text/plain": [
       "'http://yago-knowledge.org/resource/Michele_Membrè_Q22692987'"
      ]
     },
     "execution_count": 18,
     "metadata": {},
     "output_type": "execute_result"
    }
   ],
   "source": [
    "entities_df.iloc[96][\"entity0\"]"
   ]
  },
  {
   "cell_type": "code",
   "execution_count": 10,
   "metadata": {},
   "outputs": [],
   "source": [
    "entities_df.head(10).to_csv(\"walks.csv\", index=False)"
   ]
  },
  {
   "cell_type": "code",
   "execution_count": null,
   "metadata": {},
   "outputs": [],
   "source": []
  }
 ],
 "metadata": {
  "kernelspec": {
   "display_name": "claimbenchkg2",
   "language": "python",
   "name": "python3"
  },
  "language_info": {
   "codemirror_mode": {
    "name": "ipython",
    "version": 3
   },
   "file_extension": ".py",
   "mimetype": "text/x-python",
   "name": "python",
   "nbconvert_exporter": "python",
   "pygments_lexer": "ipython3",
   "version": "3.12.7"
  }
 },
 "nbformat": 4,
 "nbformat_minor": 2
}
