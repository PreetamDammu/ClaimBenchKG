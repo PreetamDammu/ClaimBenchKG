{
 "cells": [
  {
   "cell_type": "markdown",
   "metadata": {},
   "source": [
    "# Testing Queries\n",
    "\n",
    "Note: For now, we are lucky that the imports work, because we are using relative imports, and at one point, it will cause errors."
   ]
  },
  {
   "cell_type": "markdown",
   "metadata": {},
   "source": [
    "## IMPORTS"
   ]
  },
  {
   "cell_type": "code",
   "execution_count": 1,
   "metadata": {},
   "outputs": [],
   "source": [
    "import os\n",
    "import sys\n",
    "import random\n",
    "import requests\n",
    "import argparse\n",
    "from typing import List, Set\n",
    "\n",
    "import numpy as np\n",
    "import pandas as pd"
   ]
  },
  {
   "cell_type": "code",
   "execution_count": 2,
   "metadata": {},
   "outputs": [],
   "source": [
    "from db.yagodb import YagoDB\n",
    "from db.constants.main import YAGO_ALL_ENTITY_COUNT, YAGO_FACTS_ENTITY_COUNT\n",
    "from db.functions.entity import get_random_entities_query"
   ]
  },
  {
   "cell_type": "code",
   "execution_count": 3,
   "metadata": {},
   "outputs": [],
   "source": [
    "from kg.query import get_triples_multiple_subjects_query, get_description_multiple_entities_query, query_kg, get_triples_from_response"
   ]
  },
  {
   "cell_type": "code",
   "execution_count": 4,
   "metadata": {},
   "outputs": [],
   "source": [
    "from utils.constants import YAGO_ENTITY_STORE_DB_PATH, YAGO_PREFIXES_PATH, YAGO_ENDPOINT_URL\n",
    "from utils.prefix import get_prefixes, get_url_from_prefix_and_id\n",
    "from utils.random_walk2 import SPARQL_COLUMNS_DICT, RandomWalk2"
   ]
  },
  {
   "cell_type": "markdown",
   "metadata": {},
   "source": [
    "### CONSTANTS"
   ]
  },
  {
   "cell_type": "markdown",
   "metadata": {},
   "source": [
    "### FUNCTIONS"
   ]
  },
  {
   "cell_type": "markdown",
   "metadata": {},
   "source": [
    "### Experiment Single Walks"
   ]
  },
  {
   "cell_type": "code",
   "execution_count": 5,
   "metadata": {},
   "outputs": [],
   "source": [
    "yago_db = YagoDB(YAGO_ENTITY_STORE_DB_PATH)"
   ]
  },
  {
   "cell_type": "code",
   "execution_count": 6,
   "metadata": {},
   "outputs": [],
   "source": [
    "random_walk_2 = RandomWalk2(yago_db)"
   ]
  },
  {
   "cell_type": "code",
   "execution_count": 7,
   "metadata": {},
   "outputs": [],
   "source": [
    "entities_df = random_walk_2.random_walk_description_batch(num_of_entities=10, depth=3)"
   ]
  },
  {
   "cell_type": "code",
   "execution_count": 8,
   "metadata": {},
   "outputs": [
    {
     "data": {
      "text/html": [
       "<div>\n",
       "<style scoped>\n",
       "    .dataframe tbody tr th:only-of-type {\n",
       "        vertical-align: middle;\n",
       "    }\n",
       "\n",
       "    .dataframe tbody tr th {\n",
       "        vertical-align: top;\n",
       "    }\n",
       "\n",
       "    .dataframe thead th {\n",
       "        text-align: right;\n",
       "    }\n",
       "</style>\n",
       "<table border=\"1\" class=\"dataframe\">\n",
       "  <thead>\n",
       "    <tr style=\"text-align: right;\">\n",
       "      <th></th>\n",
       "      <th>entity0</th>\n",
       "      <th>description0</th>\n",
       "      <th>predicate1</th>\n",
       "      <th>entity1</th>\n",
       "      <th>description1</th>\n",
       "      <th>predicate2</th>\n",
       "      <th>entity2</th>\n",
       "      <th>description2</th>\n",
       "    </tr>\n",
       "  </thead>\n",
       "  <tbody>\n",
       "    <tr>\n",
       "      <th>0</th>\n",
       "      <td>http://yago-knowledge.org/resource/_U005B_Fbc2...</td>\n",
       "      <td>galaxy in the constellation Carina</td>\n",
       "      <td>http://www.w3.org/1999/02/22-rdf-syntax-ns#type</td>\n",
       "      <td>http://yago-knowledge.org/resource/Galaxy</td>\n",
       "      <td>large gravitationally bound system of stars an...</td>\n",
       "      <td>http://www.w3.org/2000/01/rdf-schema#subClassOf</td>\n",
       "      <td>http://yago-knowledge.org/resource/Deep-sky_ob...</td>\n",
       "      <td>any astronomical object that is not an individ...</td>\n",
       "    </tr>\n",
       "    <tr>\n",
       "      <th>1</th>\n",
       "      <td>http://yago-knowledge.org/resource/_U0028_2R_U...</td>\n",
       "      <td>chemical compound</td>\n",
       "      <td>http://www.w3.org/1999/02/22-rdf-syntax-ns#type</td>\n",
       "      <td>http://yago-knowledge.org/resource/Chemical_co...</td>\n",
       "      <td>pure chemical substance consisting of two or m...</td>\n",
       "      <td>http://www.w3.org/2000/01/rdf-schema#subClassOf</td>\n",
       "      <td>http://yago-knowledge.org/resource/Pure_Substa...</td>\n",
       "      <td>chemical substance composed of atoms or molecu...</td>\n",
       "    </tr>\n",
       "    <tr>\n",
       "      <th>2</th>\n",
       "      <td>http://yago-knowledge.org/resource/Louis_Frolla</td>\n",
       "      <td>Monegasque writer (1904-1978)</td>\n",
       "      <td>http://schema.org/birthPlace</td>\n",
       "      <td>http://yago-knowledge.org/resource/Monaco</td>\n",
       "      <td>sovereign city-state on the French Riviera</td>\n",
       "      <td>http://yago-knowledge.org/resource/neighbors</td>\n",
       "      <td>http://yago-knowledge.org/resource/European_Union</td>\n",
       "      <td>political and economic union of 27 European st...</td>\n",
       "    </tr>\n",
       "    <tr>\n",
       "      <th>3</th>\n",
       "      <td>http://yago-knowledge.org/resource/Leda_37546_...</td>\n",
       "      <td>galaxy in the constellation Leo</td>\n",
       "      <td>http://www.w3.org/1999/02/22-rdf-syntax-ns#type</td>\n",
       "      <td>http://yago-knowledge.org/resource/Galaxy</td>\n",
       "      <td>large gravitationally bound system of stars an...</td>\n",
       "      <td>http://www.w3.org/2000/01/rdf-schema#subClassOf</td>\n",
       "      <td>http://yago-knowledge.org/resource/Deep-sky_ob...</td>\n",
       "      <td>any astronomical object that is not an individ...</td>\n",
       "    </tr>\n",
       "    <tr>\n",
       "      <th>4</th>\n",
       "      <td>http://yago-knowledge.org/resource/Martin_Lütt...</td>\n",
       "      <td>NaN</td>\n",
       "      <td>None</td>\n",
       "      <td>None</td>\n",
       "      <td>NaN</td>\n",
       "      <td>None</td>\n",
       "      <td>None</td>\n",
       "      <td>NaN</td>\n",
       "    </tr>\n",
       "    <tr>\n",
       "      <th>5</th>\n",
       "      <td>http://yago-knowledge.org/resource/Ucac3_66-68...</td>\n",
       "      <td>star in the constellation Carina</td>\n",
       "      <td>http://www.w3.org/1999/02/22-rdf-syntax-ns#type</td>\n",
       "      <td>http://yago-knowledge.org/resource/Star</td>\n",
       "      <td>astronomical object consisting of a luminous s...</td>\n",
       "      <td>http://www.w3.org/2000/01/rdf-schema#subClassOf</td>\n",
       "      <td>http://yago-knowledge.org/resource/Fusor__u002...</td>\n",
       "      <td>astronomical object that achieves core fusion ...</td>\n",
       "    </tr>\n",
       "    <tr>\n",
       "      <th>6</th>\n",
       "      <td>http://yago-knowledge.org/resource/Effect_Of_O...</td>\n",
       "      <td>clinical trial</td>\n",
       "      <td>http://www.w3.org/1999/02/22-rdf-syntax-ns#type</td>\n",
       "      <td>http://yago-knowledge.org/resource/Clinical_trial</td>\n",
       "      <td>phase of clinical research in medicine</td>\n",
       "      <td>http://www.w3.org/2000/01/rdf-schema#subClassOf</td>\n",
       "      <td>http://yago-knowledge.org/resource/Product_tes...</td>\n",
       "      <td>a process of measuring the properties or perfo...</td>\n",
       "    </tr>\n",
       "    <tr>\n",
       "      <th>7</th>\n",
       "      <td>http://yago-knowledge.org/resource/Wohnhaus_In...</td>\n",
       "      <td>NaN</td>\n",
       "      <td>None</td>\n",
       "      <td>None</td>\n",
       "      <td>NaN</td>\n",
       "      <td>None</td>\n",
       "      <td>None</td>\n",
       "      <td>NaN</td>\n",
       "    </tr>\n",
       "    <tr>\n",
       "      <th>8</th>\n",
       "      <td>http://yago-knowledge.org/resource/No_Matter_W...</td>\n",
       "      <td>1998 single by Boyzone</td>\n",
       "      <td>http://www.w3.org/1999/02/22-rdf-syntax-ns#type</td>\n",
       "      <td>http://yago-knowledge.org/resource/Single__u00...</td>\n",
       "      <td>group of single releases by an artist usually ...</td>\n",
       "      <td>http://schema.org/alternateName</td>\n",
       "      <td>singel</td>\n",
       "      <td>NaN</td>\n",
       "    </tr>\n",
       "    <tr>\n",
       "      <th>9</th>\n",
       "      <td>http://yago-knowledge.org/resource/Q20143943</td>\n",
       "      <td>human settlement in Mexico</td>\n",
       "      <td>http://www.w3.org/1999/02/22-rdf-syntax-ns#type</td>\n",
       "      <td>http://schema.org/AdministrativeArea</td>\n",
       "      <td>community of any size, in which people live</td>\n",
       "      <td>http://schema.org/alternateName</td>\n",
       "      <td>bestuurlijke indeling</td>\n",
       "      <td>NaN</td>\n",
       "    </tr>\n",
       "  </tbody>\n",
       "</table>\n",
       "</div>"
      ],
      "text/plain": [
       "                                             entity0  \\\n",
       "0  http://yago-knowledge.org/resource/_U005B_Fbc2...   \n",
       "1  http://yago-knowledge.org/resource/_U0028_2R_U...   \n",
       "2    http://yago-knowledge.org/resource/Louis_Frolla   \n",
       "3  http://yago-knowledge.org/resource/Leda_37546_...   \n",
       "4  http://yago-knowledge.org/resource/Martin_Lütt...   \n",
       "5  http://yago-knowledge.org/resource/Ucac3_66-68...   \n",
       "6  http://yago-knowledge.org/resource/Effect_Of_O...   \n",
       "7  http://yago-knowledge.org/resource/Wohnhaus_In...   \n",
       "8  http://yago-knowledge.org/resource/No_Matter_W...   \n",
       "9       http://yago-knowledge.org/resource/Q20143943   \n",
       "\n",
       "                         description0  \\\n",
       "0  galaxy in the constellation Carina   \n",
       "1                   chemical compound   \n",
       "2       Monegasque writer (1904-1978)   \n",
       "3     galaxy in the constellation Leo   \n",
       "4                                 NaN   \n",
       "5    star in the constellation Carina   \n",
       "6                      clinical trial   \n",
       "7                                 NaN   \n",
       "8              1998 single by Boyzone   \n",
       "9          human settlement in Mexico   \n",
       "\n",
       "                                        predicate1  \\\n",
       "0  http://www.w3.org/1999/02/22-rdf-syntax-ns#type   \n",
       "1  http://www.w3.org/1999/02/22-rdf-syntax-ns#type   \n",
       "2                     http://schema.org/birthPlace   \n",
       "3  http://www.w3.org/1999/02/22-rdf-syntax-ns#type   \n",
       "4                                             None   \n",
       "5  http://www.w3.org/1999/02/22-rdf-syntax-ns#type   \n",
       "6  http://www.w3.org/1999/02/22-rdf-syntax-ns#type   \n",
       "7                                             None   \n",
       "8  http://www.w3.org/1999/02/22-rdf-syntax-ns#type   \n",
       "9  http://www.w3.org/1999/02/22-rdf-syntax-ns#type   \n",
       "\n",
       "                                             entity1  \\\n",
       "0          http://yago-knowledge.org/resource/Galaxy   \n",
       "1  http://yago-knowledge.org/resource/Chemical_co...   \n",
       "2          http://yago-knowledge.org/resource/Monaco   \n",
       "3          http://yago-knowledge.org/resource/Galaxy   \n",
       "4                                               None   \n",
       "5            http://yago-knowledge.org/resource/Star   \n",
       "6  http://yago-knowledge.org/resource/Clinical_trial   \n",
       "7                                               None   \n",
       "8  http://yago-knowledge.org/resource/Single__u00...   \n",
       "9               http://schema.org/AdministrativeArea   \n",
       "\n",
       "                                        description1  \\\n",
       "0  large gravitationally bound system of stars an...   \n",
       "1  pure chemical substance consisting of two or m...   \n",
       "2         sovereign city-state on the French Riviera   \n",
       "3  large gravitationally bound system of stars an...   \n",
       "4                                                NaN   \n",
       "5  astronomical object consisting of a luminous s...   \n",
       "6             phase of clinical research in medicine   \n",
       "7                                                NaN   \n",
       "8  group of single releases by an artist usually ...   \n",
       "9        community of any size, in which people live   \n",
       "\n",
       "                                        predicate2  \\\n",
       "0  http://www.w3.org/2000/01/rdf-schema#subClassOf   \n",
       "1  http://www.w3.org/2000/01/rdf-schema#subClassOf   \n",
       "2     http://yago-knowledge.org/resource/neighbors   \n",
       "3  http://www.w3.org/2000/01/rdf-schema#subClassOf   \n",
       "4                                             None   \n",
       "5  http://www.w3.org/2000/01/rdf-schema#subClassOf   \n",
       "6  http://www.w3.org/2000/01/rdf-schema#subClassOf   \n",
       "7                                             None   \n",
       "8                  http://schema.org/alternateName   \n",
       "9                  http://schema.org/alternateName   \n",
       "\n",
       "                                             entity2  \\\n",
       "0  http://yago-knowledge.org/resource/Deep-sky_ob...   \n",
       "1  http://yago-knowledge.org/resource/Pure_Substa...   \n",
       "2  http://yago-knowledge.org/resource/European_Union   \n",
       "3  http://yago-knowledge.org/resource/Deep-sky_ob...   \n",
       "4                                               None   \n",
       "5  http://yago-knowledge.org/resource/Fusor__u002...   \n",
       "6  http://yago-knowledge.org/resource/Product_tes...   \n",
       "7                                               None   \n",
       "8                                             singel   \n",
       "9                              bestuurlijke indeling   \n",
       "\n",
       "                                        description2  \n",
       "0  any astronomical object that is not an individ...  \n",
       "1  chemical substance composed of atoms or molecu...  \n",
       "2  political and economic union of 27 European st...  \n",
       "3  any astronomical object that is not an individ...  \n",
       "4                                                NaN  \n",
       "5  astronomical object that achieves core fusion ...  \n",
       "6  a process of measuring the properties or perfo...  \n",
       "7                                                NaN  \n",
       "8                                                NaN  \n",
       "9                                                NaN  "
      ]
     },
     "execution_count": 8,
     "metadata": {},
     "output_type": "execute_result"
    }
   ],
   "source": [
    "entities_df"
   ]
  },
  {
   "cell_type": "code",
   "execution_count": 11,
   "metadata": {},
   "outputs": [
    {
     "data": {
      "text/plain": [
       "4"
      ]
     },
     "execution_count": 11,
     "metadata": {},
     "output_type": "execute_result"
    }
   ],
   "source": [
    "entities_df[\"description0\"].isna().sum()"
   ]
  },
  {
   "cell_type": "code",
   "execution_count": 10,
   "metadata": {},
   "outputs": [
    {
     "data": {
      "text/plain": [
       "'http://yago-knowledge.org/resource/Canton_De_Bagnols-Sur-Cèze_Q88077655'"
      ]
     },
     "execution_count": 10,
     "metadata": {},
     "output_type": "execute_result"
    }
   ],
   "source": [
    "entities_df.iloc[9][\"entity0\"]"
   ]
  },
  {
   "cell_type": "code",
   "execution_count": 10,
   "metadata": {},
   "outputs": [],
   "source": [
    "entities_df.head(10).to_csv(\"walks.csv\", index=False)"
   ]
  },
  {
   "cell_type": "code",
   "execution_count": null,
   "metadata": {},
   "outputs": [],
   "source": []
  }
 ],
 "metadata": {
  "kernelspec": {
   "display_name": "claimbenchkg2",
   "language": "python",
   "name": "python3"
  },
  "language_info": {
   "codemirror_mode": {
    "name": "ipython",
    "version": 3
   },
   "file_extension": ".py",
   "mimetype": "text/x-python",
   "name": "python",
   "nbconvert_exporter": "python",
   "pygments_lexer": "ipython3",
   "version": "3.12.7"
  }
 },
 "nbformat": 4,
 "nbformat_minor": 2
}
