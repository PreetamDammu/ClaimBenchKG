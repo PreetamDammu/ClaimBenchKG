{
 "cells": [
  {
   "cell_type": "markdown",
   "metadata": {},
   "source": [
    "# Testing Queries\n",
    "\n",
    "Note: For now, we are lucky that the imports work, because we are using relative imports, and at one point, it will cause errors."
   ]
  },
  {
   "cell_type": "markdown",
   "metadata": {},
   "source": [
    "## IMPORTS"
   ]
  },
  {
   "cell_type": "code",
   "execution_count": 3,
   "metadata": {},
   "outputs": [],
   "source": [
    "import os\n",
    "import sys\n",
    "import random\n",
    "import requests\n",
    "import argparse\n",
    "from typing import List, Set\n",
    "\n",
    "import numpy as np\n",
    "import pandas as pd"
   ]
  },
  {
   "cell_type": "code",
   "execution_count": 4,
   "metadata": {},
   "outputs": [],
   "source": [
    "from db.yagodb import YagoDB\n",
    "from db.constants.main import YAGO_ALL_ENTITY_COUNT, YAGO_FACTS_ENTITY_COUNT\n",
    "from db.functions.entity import get_random_entities_query"
   ]
  },
  {
   "cell_type": "code",
   "execution_count": 5,
   "metadata": {},
   "outputs": [],
   "source": [
    "from utils.constants import YAGO_ENTITY_STORE_DB_PATH, YAGO_PREFIXES_PATH, YAGO_ENDPOINT_URL\n",
    "from utils.functions import get_prefixes, get_url_from_prefix_and_id, get_triples_query, \\\n",
    "    get_triples_multiple_subjects_query, query_kg"
   ]
  },
  {
   "cell_type": "markdown",
   "metadata": {},
   "source": [
    "### CONSTANTS"
   ]
  },
  {
   "cell_type": "code",
   "execution_count": 6,
   "metadata": {},
   "outputs": [],
   "source": [
    "SPARQL_COLUMNS_DICT = {\n",
    "    \"subject\": \"subject\",\n",
    "    \"predicate\": \"predicate\",\n",
    "    \"object\": \"object\"\n",
    "}"
   ]
  },
  {
   "cell_type": "markdown",
   "metadata": {},
   "source": [
    "### FUNCTIONS"
   ]
  },
  {
   "cell_type": "code",
   "execution_count": 7,
   "metadata": {},
   "outputs": [],
   "source": [
    "def random_walk(self, depth: int = 3) -> List[str]:\n",
    "    \"\"\"Random walk on the YAGO knowledge graph.\n",
    "\n",
    "    Args:\n",
    "    - depth: Depth of the walk\n",
    "\n",
    "    Returns:\n",
    "    - A list of node IDs visited during the walk\n",
    "    \"\"\"\n",
    "    random_entity = query_random_entities(yago_db)\n",
    "\n",
    "    subject = get_url_from_prefix_and_id(PREFIXES, random_entity[0][0])\n",
    "\n",
    "    walk = [subject]\n",
    "    for _ in range(depth):\n",
    "        print(walk)\n",
    "        triple = query_triple(YAGO_ENDPOINT_URL, f\"<{walk[-1]}>\")\n",
    "        if triple is None:\n",
    "            break\n",
    "        walk.append(triple[\"predicate\"][\"value\"])\n",
    "        walk.append(triple[\"object\"][\"value\"])\n",
    "    return walk"
   ]
  },
  {
   "cell_type": "code",
   "execution_count": 8,
   "metadata": {},
   "outputs": [],
   "source": [
    "def get_triples_from_response(response: dict, *,\n",
    "    sparql_columns_dict: dict = SPARQL_COLUMNS_DICT) -> pd.DataFrame:\n",
    "    \"\"\"\n",
    "    Extracts triples from the response of a SPARQL query.\n",
    "    \"\"\"\n",
    "    triples = []\n",
    "    for row in response[\"results\"][\"bindings\"]:\n",
    "        triple = {}\n",
    "        for key, value in row.items():\n",
    "            triple[sparql_columns_dict[key]] = value[\"value\"]\n",
    "        triples.append(triple)\n",
    "    return pd.DataFrame(triples)"
   ]
  },
  {
   "cell_type": "code",
   "execution_count": 9,
   "metadata": {},
   "outputs": [],
   "source": [
    "def sample_triple_for_entity_as_list(triples_df: pd.DataFrame, entity: str, *, \n",
    "    sparql_columns_dict: dict = SPARQL_COLUMNS_DICT) -> List[str]:\n",
    "    \"\"\"\n",
    "    Samples triples for a given entity.\n",
    "    \"\"\"\n",
    "    if entity is None:\n",
    "        return [None, None]\n",
    "    matched_triples_df = triples_df[triples_df[sparql_columns_dict[\"subject\"]] == entity]\\\n",
    "        [[sparql_columns_dict[\"predicate\"], sparql_columns_dict[\"object\"]]]\n",
    "    if len(matched_triples_df) == 0:\n",
    "        return [None, None]\n",
    "    sampled_triple = matched_triples_df.sample(n=1, replace=False).iloc[0]\n",
    "    return [sampled_triple[sparql_columns_dict[\"predicate\"]], sampled_triple[sparql_columns_dict[\"object\"]]]"
   ]
  },
  {
   "cell_type": "code",
   "execution_count": 10,
   "metadata": {},
   "outputs": [],
   "source": [
    "def single_hop_multiple_entities(yago_db: YagoDB, entities_df: pd.DataFrame) -> pd.DataFrame:\n",
    "    \"\"\"\n",
    "    Single-hop random walk on the YAGO knowledge graph.\n",
    "    \"\"\"\n",
    "    query2 = get_triples_multiple_subjects_query(\n",
    "        entities=[f\"<{entity}>\" for entity in entities_df[\"entity0\"].tolist()], \n",
    "        columns_dict=SPARQL_COLUMNS_DICT\n",
    "    )\n",
    "    response = query_kg(YAGO_ENDPOINT_URL, query2)\n",
    "    triples = get_triples_from_response(response)\n",
    "    entities_hop_1 = entities_df.apply(\n",
    "        lambda row: sample_triple_for_entity_as_list(triples_df=triples, entity=row[\"entity0\"]), \n",
    "        axis=1, result_type=\"expand\").rename(columns={0: \"predicate1\", 1: \"entity1\"})\n",
    "    return entities_hop_1"
   ]
  },
  {
   "cell_type": "code",
   "execution_count": 25,
   "metadata": {},
   "outputs": [],
   "source": [
    "def random_walks_multiple(yago_db: YagoDB, *, num_of_entities: int = 10, depth: int = 3) -> pd.DataFrame:\n",
    "    \"\"\"\n",
    "    Random walks on the YAGO knowledge graph.\n",
    "    \"\"\"\n",
    "    query1 = get_random_entities_query(num_of_entities=num_of_entities)\n",
    "    entities = yago_db.query(query1)\n",
    "    entities_df = pd.DataFrame([f\"{entity[1]}\" for entity in entities], columns=[\"entity0\"])\n",
    "\n",
    "    for i in range(depth - 1):\n",
    "        entities_single_hop = single_hop_multiple_entities(yago_db, entities_df)\n",
    "        entities_df[[f\"predicate{i+1}\", f\"entity{i+1}\"]] = entities_single_hop\n",
    "\n",
    "    return entities_df"
   ]
  },
  {
   "cell_type": "markdown",
   "metadata": {},
   "source": [
    "### Experiment Single Walks"
   ]
  },
  {
   "cell_type": "code",
   "execution_count": 12,
   "metadata": {},
   "outputs": [],
   "source": [
    "yago_db = YagoDB(YAGO_ENTITY_STORE_DB_PATH)"
   ]
  },
  {
   "cell_type": "code",
   "execution_count": 26,
   "metadata": {},
   "outputs": [],
   "source": [
    "random_walks = random_walks_multiple(yago_db, num_of_entities=10, depth=3)"
   ]
  },
  {
   "cell_type": "code",
   "execution_count": 27,
   "metadata": {},
   "outputs": [
    {
     "data": {
      "text/html": [
       "<div>\n",
       "<style scoped>\n",
       "    .dataframe tbody tr th:only-of-type {\n",
       "        vertical-align: middle;\n",
       "    }\n",
       "\n",
       "    .dataframe tbody tr th {\n",
       "        vertical-align: top;\n",
       "    }\n",
       "\n",
       "    .dataframe thead th {\n",
       "        text-align: right;\n",
       "    }\n",
       "</style>\n",
       "<table border=\"1\" class=\"dataframe\">\n",
       "  <thead>\n",
       "    <tr style=\"text-align: right;\">\n",
       "      <th></th>\n",
       "      <th>entity0</th>\n",
       "      <th>predicate1</th>\n",
       "      <th>entity1</th>\n",
       "      <th>predicate2</th>\n",
       "      <th>entity2</th>\n",
       "    </tr>\n",
       "  </thead>\n",
       "  <tbody>\n",
       "    <tr>\n",
       "      <th>0</th>\n",
       "      <td>http://yago-knowledge.org/resource/Erythema_No...</td>\n",
       "      <td>http://www.w3.org/2002/07/owl#sameAs</td>\n",
       "      <td>http://www.wikidata.org/entity/Q34588049</td>\n",
       "      <td>http://www.w3.org/2002/07/owl#sameAs</td>\n",
       "      <td>http://www.wikidata.org/entity/Q34588049</td>\n",
       "    </tr>\n",
       "    <tr>\n",
       "      <th>1</th>\n",
       "      <td>http://yago-knowledge.org/resource/Preface_-_A...</td>\n",
       "      <td>http://www.w3.org/1999/02/22-rdf-syntax-ns#type</td>\n",
       "      <td>http://yago-knowledge.org/resource/Editorial</td>\n",
       "      <td>http://www.w3.org/2002/07/owl#sameAs</td>\n",
       "      <td>http://www.wikidata.org/entity/Q89235903</td>\n",
       "    </tr>\n",
       "    <tr>\n",
       "      <th>2</th>\n",
       "      <td>http://yago-knowledge.org/resource/Bactrocera_...</td>\n",
       "      <td>http://schema.org/parentTaxon</td>\n",
       "      <td>http://yago-knowledge.org/resource/Bactrocera</td>\n",
       "      <td>http://www.w3.org/1999/02/22-rdf-syntax-ns#type</td>\n",
       "      <td>http://schema.org/Taxon</td>\n",
       "    </tr>\n",
       "    <tr>\n",
       "      <th>3</th>\n",
       "      <td>http://yago-knowledge.org/resource/Tyc_9222-23...</td>\n",
       "      <td>http://www.w3.org/1999/02/22-rdf-syntax-ns#type</td>\n",
       "      <td>http://yago-knowledge.org/resource/Star</td>\n",
       "      <td>http://www.w3.org/2002/07/owl#sameAs</td>\n",
       "      <td>http://www.wikidata.org/entity/Q75527678</td>\n",
       "    </tr>\n",
       "    <tr>\n",
       "      <th>4</th>\n",
       "      <td>http://yago-knowledge.org/resource/Aderonke_El...</td>\n",
       "      <td>http://www.w3.org/2002/07/owl#sameAs</td>\n",
       "      <td>http://www.wikidata.org/entity/Q101044387</td>\n",
       "      <td>http://www.w3.org/1999/02/22-rdf-syntax-ns#type</td>\n",
       "      <td>http://yago-knowledge.org/resource/Researcher</td>\n",
       "    </tr>\n",
       "    <tr>\n",
       "      <th>5</th>\n",
       "      <td>http://yago-knowledge.org/resource/Linn_County...</td>\n",
       "      <td>http://www.w3.org/2002/07/owl#sameAs</td>\n",
       "      <td>http://www.wikidata.org/entity/Q69476064</td>\n",
       "      <td>http://www.w3.org/2002/07/owl#sameAs</td>\n",
       "      <td>http://www.wikidata.org/entity/Q69476064</td>\n",
       "    </tr>\n",
       "    <tr>\n",
       "      <th>6</th>\n",
       "      <td>http://yago-knowledge.org/resource/Nakaway_Ahk...</td>\n",
       "      <td>http://schema.org/location</td>\n",
       "      <td>http://yago-knowledge.org/resource/Canada</td>\n",
       "      <td>http://www.w3.org/2002/07/owl#sameAs</td>\n",
       "      <td>http://www.wikidata.org/entity/Q85787672</td>\n",
       "    </tr>\n",
       "    <tr>\n",
       "      <th>7</th>\n",
       "      <td>http://yago-knowledge.org/resource/Fung_Kam_To...</td>\n",
       "      <td>http://www.w3.org/2002/07/owl#sameAs</td>\n",
       "      <td>http://www.wikidata.org/entity/Q9375302</td>\n",
       "      <td>http://schema.org/gender</td>\n",
       "      <td>http://yago-knowledge.org/resource/Male_gender</td>\n",
       "    </tr>\n",
       "    <tr>\n",
       "      <th>8</th>\n",
       "      <td>http://yago-knowledge.org/resource/Gilbert_Rid...</td>\n",
       "      <td>http://www.w3.org/2002/07/owl#sameAs</td>\n",
       "      <td>http://www.wikidata.org/entity/Q110180569</td>\n",
       "      <td>http://www.w3.org/2002/07/owl#sameAs</td>\n",
       "      <td>http://www.wikidata.org/entity/Q110180569</td>\n",
       "    </tr>\n",
       "    <tr>\n",
       "      <th>9</th>\n",
       "      <td>http://yago-knowledge.org/resource/2019_Local_...</td>\n",
       "      <td>http://www.w3.org/2002/07/owl#sameAs</td>\n",
       "      <td>http://www.wikidata.org/entity/Q86837342</td>\n",
       "      <td>http://schema.org/location</td>\n",
       "      <td>http://yago-knowledge.org/resource/Bulgaria</td>\n",
       "    </tr>\n",
       "  </tbody>\n",
       "</table>\n",
       "</div>"
      ],
      "text/plain": [
       "                                             entity0  \\\n",
       "0  http://yago-knowledge.org/resource/Erythema_No...   \n",
       "1  http://yago-knowledge.org/resource/Preface_-_A...   \n",
       "2  http://yago-knowledge.org/resource/Bactrocera_...   \n",
       "3  http://yago-knowledge.org/resource/Tyc_9222-23...   \n",
       "4  http://yago-knowledge.org/resource/Aderonke_El...   \n",
       "5  http://yago-knowledge.org/resource/Linn_County...   \n",
       "6  http://yago-knowledge.org/resource/Nakaway_Ahk...   \n",
       "7  http://yago-knowledge.org/resource/Fung_Kam_To...   \n",
       "8  http://yago-knowledge.org/resource/Gilbert_Rid...   \n",
       "9  http://yago-knowledge.org/resource/2019_Local_...   \n",
       "\n",
       "                                        predicate1  \\\n",
       "0             http://www.w3.org/2002/07/owl#sameAs   \n",
       "1  http://www.w3.org/1999/02/22-rdf-syntax-ns#type   \n",
       "2                    http://schema.org/parentTaxon   \n",
       "3  http://www.w3.org/1999/02/22-rdf-syntax-ns#type   \n",
       "4             http://www.w3.org/2002/07/owl#sameAs   \n",
       "5             http://www.w3.org/2002/07/owl#sameAs   \n",
       "6                       http://schema.org/location   \n",
       "7             http://www.w3.org/2002/07/owl#sameAs   \n",
       "8             http://www.w3.org/2002/07/owl#sameAs   \n",
       "9             http://www.w3.org/2002/07/owl#sameAs   \n",
       "\n",
       "                                         entity1  \\\n",
       "0       http://www.wikidata.org/entity/Q34588049   \n",
       "1   http://yago-knowledge.org/resource/Editorial   \n",
       "2  http://yago-knowledge.org/resource/Bactrocera   \n",
       "3        http://yago-knowledge.org/resource/Star   \n",
       "4      http://www.wikidata.org/entity/Q101044387   \n",
       "5       http://www.wikidata.org/entity/Q69476064   \n",
       "6      http://yago-knowledge.org/resource/Canada   \n",
       "7        http://www.wikidata.org/entity/Q9375302   \n",
       "8      http://www.wikidata.org/entity/Q110180569   \n",
       "9       http://www.wikidata.org/entity/Q86837342   \n",
       "\n",
       "                                        predicate2  \\\n",
       "0             http://www.w3.org/2002/07/owl#sameAs   \n",
       "1             http://www.w3.org/2002/07/owl#sameAs   \n",
       "2  http://www.w3.org/1999/02/22-rdf-syntax-ns#type   \n",
       "3             http://www.w3.org/2002/07/owl#sameAs   \n",
       "4  http://www.w3.org/1999/02/22-rdf-syntax-ns#type   \n",
       "5             http://www.w3.org/2002/07/owl#sameAs   \n",
       "6             http://www.w3.org/2002/07/owl#sameAs   \n",
       "7                         http://schema.org/gender   \n",
       "8             http://www.w3.org/2002/07/owl#sameAs   \n",
       "9                       http://schema.org/location   \n",
       "\n",
       "                                          entity2  \n",
       "0        http://www.wikidata.org/entity/Q34588049  \n",
       "1        http://www.wikidata.org/entity/Q89235903  \n",
       "2                         http://schema.org/Taxon  \n",
       "3        http://www.wikidata.org/entity/Q75527678  \n",
       "4   http://yago-knowledge.org/resource/Researcher  \n",
       "5        http://www.wikidata.org/entity/Q69476064  \n",
       "6        http://www.wikidata.org/entity/Q85787672  \n",
       "7  http://yago-knowledge.org/resource/Male_gender  \n",
       "8       http://www.wikidata.org/entity/Q110180569  \n",
       "9     http://yago-knowledge.org/resource/Bulgaria  "
      ]
     },
     "execution_count": 27,
     "metadata": {},
     "output_type": "execute_result"
    }
   ],
   "source": [
    "random_walks"
   ]
  },
  {
   "cell_type": "code",
   "execution_count": null,
   "metadata": {},
   "outputs": [],
   "source": []
  }
 ],
 "metadata": {
  "kernelspec": {
   "display_name": "claimbenchkg2",
   "language": "python",
   "name": "python3"
  },
  "language_info": {
   "codemirror_mode": {
    "name": "ipython",
    "version": 3
   },
   "file_extension": ".py",
   "mimetype": "text/x-python",
   "name": "python",
   "nbconvert_exporter": "python",
   "pygments_lexer": "ipython3",
   "version": "3.12.7"
  }
 },
 "nbformat": 4,
 "nbformat_minor": 2
}
