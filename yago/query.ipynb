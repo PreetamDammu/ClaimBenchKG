{
 "cells": [
  {
   "cell_type": "markdown",
   "metadata": {},
   "source": [
    "# Testing Queries\n",
    "\n",
    "Note: For now, we are lucky that the imports work, because we are using relative imports, and at one point, it will cause errors."
   ]
  },
  {
   "cell_type": "markdown",
   "metadata": {},
   "source": [
    "## IMPORTS"
   ]
  },
  {
   "cell_type": "code",
   "execution_count": 2,
   "metadata": {},
   "outputs": [],
   "source": [
    "import os\n",
    "import sys\n",
    "import random\n",
    "import requests\n",
    "import argparse\n",
    "from typing import List, Set\n",
    "\n",
    "import numpy as np\n",
    "import pandas as pd"
   ]
  },
  {
   "cell_type": "code",
   "execution_count": 3,
   "metadata": {},
   "outputs": [],
   "source": [
    "from db.yagodb import YagoDB\n",
    "from db.constants.main import YAGO_ALL_ENTITY_COUNT, YAGO_FACTS_ENTITY_COUNT\n",
    "from db.functions.entity import get_random_entities_query"
   ]
  },
  {
   "cell_type": "code",
   "execution_count": 4,
   "metadata": {},
   "outputs": [],
   "source": [
    "from utils.constants import YAGO_ENTITY_STORE_DB_PATH, YAGO_PREFIXES_PATH, YAGO_ENDPOINT_URL\n",
    "from utils.functions import get_prefixes, get_url_from_prefix_and_id, get_triples_query, \\\n",
    "    get_triples_multiple_subjects_query, query_kg"
   ]
  },
  {
   "cell_type": "markdown",
   "metadata": {},
   "source": [
    "### CONSTANTS"
   ]
  },
  {
   "cell_type": "code",
   "execution_count": null,
   "metadata": {},
   "outputs": [],
   "source": [
    "SPARQL_COLUMNS_DICT = {\n",
    "    \"subject\": \"subject\",\n",
    "    \"predicate\": \"predicate\",\n",
    "    \"object\": \"object\"\n",
    "}"
   ]
  },
  {
   "cell_type": "markdown",
   "metadata": {},
   "source": [
    "### FUNCTIONS"
   ]
  },
  {
   "cell_type": "code",
   "execution_count": 6,
   "metadata": {},
   "outputs": [],
   "source": [
    "def random_walk(self, depth: int = 3) -> List[str]:\n",
    "    \"\"\"Random walk on the YAGO knowledge graph.\n",
    "\n",
    "    Args:\n",
    "    - depth: Depth of the walk\n",
    "\n",
    "    Returns:\n",
    "    - A list of node IDs visited during the walk\n",
    "    \"\"\"\n",
    "    random_entity = query_random_entities(yago_db)\n",
    "\n",
    "    subject = get_url_from_prefix_and_id(PREFIXES, random_entity[0][0])\n",
    "\n",
    "    walk = [subject]\n",
    "    for _ in range(depth):\n",
    "        print(walk)\n",
    "        triple = query_triple(YAGO_ENDPOINT_URL, f\"<{walk[-1]}>\")\n",
    "        if triple is None:\n",
    "            break\n",
    "        walk.append(triple[\"predicate\"][\"value\"])\n",
    "        walk.append(triple[\"object\"][\"value\"])\n",
    "    return walk"
   ]
  },
  {
   "cell_type": "code",
   "execution_count": 7,
   "metadata": {},
   "outputs": [],
   "source": [
    "def get_triples_from_response(response: dict, *,\n",
    "    sparql_columns_dict: dict = SPARQL_COLUMNS_DICT) -> pd.DataFrame:\n",
    "    \"\"\"\n",
    "    Extracts triples from the response of a SPARQL query.\n",
    "    \"\"\"\n",
    "    triples = []\n",
    "    for row in response[\"results\"][\"bindings\"]:\n",
    "        triple = {}\n",
    "        for key, value in row.items():\n",
    "            triple[sparql_columns_dict[key]] = value[\"value\"]\n",
    "        triples.append(triple)\n",
    "    return pd.DataFrame(triples)"
   ]
  },
  {
   "cell_type": "code",
   "execution_count": 70,
   "metadata": {},
   "outputs": [],
   "source": [
    "def sample_triple_for_entity_as_list(triples_df: pd.DataFrame, entity: str, *, \n",
    "    sparql_columns_dict: dict = SPARQL_COLUMNS_DICT) -> List[str]:\n",
    "    \"\"\"\n",
    "    Samples triples for a given entity.\n",
    "    \"\"\"\n",
    "    if entity is None:\n",
    "        return [None, None]\n",
    "    matched_triples_df = triples_df[triples_df[sparql_columns_dict[\"subject\"]] == entity]\\\n",
    "        [[sparql_columns_dict[\"predicate\"], sparql_columns_dict[\"object\"]]]\n",
    "    if len(matched_triples_df) == 0:\n",
    "        return [None, None]\n",
    "    sampled_triple = matched_triples_df.sample(n=1, replace=False).iloc[0]\n",
    "    return [sampled_triple[sparql_columns_dict[\"predicate\"]], sampled_triple[sparql_columns_dict[\"object\"]]]"
   ]
  },
  {
   "cell_type": "code",
   "execution_count": 9,
   "metadata": {},
   "outputs": [],
   "source": [
    "yago_db = YagoDB(YAGO_ENTITY_STORE_DB_PATH)"
   ]
  },
  {
   "cell_type": "code",
   "execution_count": 10,
   "metadata": {},
   "outputs": [],
   "source": [
    "query1 = get_random_entities_query(num_of_entities=10)\n",
    "entities = yago_db.query(query1)\n",
    "entities_df = pd.DataFrame([f\"{entity[1]}\" for entity in entities], columns=[\"entity0\"])"
   ]
  },
  {
   "cell_type": "code",
   "execution_count": 11,
   "metadata": {},
   "outputs": [
    {
     "name": "stdout",
     "output_type": "stream",
     "text": [
      "\n",
      "    SELECT ?subject ?predicate ?object WHERE {\n",
      "        VALUES ?subject { <http://yago-knowledge.org/resource/Francis_Fenwick_Pearson_Q76229521> <http://yago-knowledge.org/resource/Vladimir_Plekunov_Q4364816> <http://yago-knowledge.org/resource/Lorenz_Banfi_Q13100915> <http://yago-knowledge.org/resource/John_Warr> <http://yago-knowledge.org/resource/Fakulta_Mechaniky_A_Matematiky_Novosibirské_Státní_Univerzity_Q4292118> <http://yago-knowledge.org/resource/Nyadzati_Q31419332> <http://yago-knowledge.org/resource/Scott_Brennan__u0028_rower_u0029_> <http://yago-knowledge.org/resource/Li_Qian_Q64514430> <http://yago-knowledge.org/resource/Protestant_Church__U0028_Kühnhausen_U0029__Q63197068> <http://yago-knowledge.org/resource/Trolleybus_Transport_In_Opava_Q9361770> }\n",
      "        ?subject ?predicate ?object\n",
      "        FILTER isIRI(?object)\n",
      "    }\n",
      "    \n"
     ]
    }
   ],
   "source": [
    "query2 = get_triples_multiple_subjects_query(\n",
    "    entities=[f\"<{entity}>\" for entity in entities_df[\"entity0\"].tolist()], \n",
    "    columns_dict=SPARQL_COLUMNS_DICT\n",
    ")\n",
    "print(query2)"
   ]
  },
  {
   "cell_type": "code",
   "execution_count": 12,
   "metadata": {},
   "outputs": [
    {
     "name": "stdout",
     "output_type": "stream",
     "text": [
      "{'head': {'vars': ['subject', 'predicate', 'object']}, 'results': {'bindings': [{'subject': {'type': 'uri', 'value': 'http://yago-knowledge.org/resource/Vladimir_Plekunov_Q4364816'}, 'predicate': {'type': 'uri', 'value': 'http://schema.org/award'}, 'object': {'type': 'uri', 'value': 'http://yago-knowledge.org/resource/Order_Of_The_Patriotic_War_2Nd_Class_Q18200478'}}, {'subject': {'type': 'uri', 'value': 'http://yago-knowledge.org/resource/Vladimir_Plekunov_Q4364816'}, 'predicate': {'type': 'uri', 'value': 'http://schema.org/award'}, 'object': {'type': 'uri', 'value': 'http://yago-knowledge.org/resource/Order_of_the_Badge_of_Honour'}}, {'subject': {'type': 'uri', 'value': 'http://yago-knowledge.org/resource/Vladimir_Plekunov_Q4364816'}, 'predicate': {'type': 'uri', 'value': 'http://schema.org/award'}, 'object': {'type': 'uri', 'value': 'http://yago-knowledge.org/resource/Medal__u0022_For_the_Defence_of_Moscow_u0022_'}}, {'subject': {'type': 'uri', 'value': 'http://yago-knowledge.org/resource/Vladimir_Plekunov_Q4364816'}, 'predicate': {'type': 'uri', 'value': 'http://schema.org/gender'}, 'object': {'type': 'uri', 'value': 'http://yago-knowledge.org/resource/Male_gender'}}, {'subject': {'type': 'uri', 'value': 'http://yago-knowledge.org/resource/Vladimir_Plekunov_Q4364816'}, 'predicate': {'type': 'uri', 'value': 'http://schema.org/knowsLanguage'}, 'object': {'type': 'uri', 'value': 'http://yago-knowledge.org/resource/Russian_language_generic_instance'}}, {'subject': {'type': 'uri', 'value': 'http://yago-knowledge.org/resource/Vladimir_Plekunov_Q4364816'}, 'predicate': {'type': 'uri', 'value': 'http://schema.org/nationality'}, 'object': {'type': 'uri', 'value': 'http://yago-knowledge.org/resource/Russia'}}, {'subject': {'type': 'uri', 'value': 'http://yago-knowledge.org/resource/Vladimir_Plekunov_Q4364816'}, 'predicate': {'type': 'uri', 'value': 'http://www.w3.org/1999/02/22-rdf-syntax-ns#type'}, 'object': {'type': 'uri', 'value': 'http://yago-knowledge.org/resource/Painter'}}, {'subject': {'type': 'uri', 'value': 'http://yago-knowledge.org/resource/Vladimir_Plekunov_Q4364816'}, 'predicate': {'type': 'uri', 'value': 'http://www.w3.org/2002/07/owl#sameAs'}, 'object': {'type': 'uri', 'value': 'http://www.wikidata.org/entity/Q4364816'}}, {'subject': {'type': 'uri', 'value': 'http://yago-knowledge.org/resource/Lorenz_Banfi_Q13100915'}, 'predicate': {'type': 'uri', 'value': 'http://schema.org/gender'}, 'object': {'type': 'uri', 'value': 'http://yago-knowledge.org/resource/Male_gender'}}, {'subject': {'type': 'uri', 'value': 'http://yago-knowledge.org/resource/Lorenz_Banfi_Q13100915'}, 'predicate': {'type': 'uri', 'value': 'http://www.w3.org/1999/02/22-rdf-syntax-ns#type'}, 'object': {'type': 'uri', 'value': 'http://yago-knowledge.org/resource/Politician'}}, {'subject': {'type': 'uri', 'value': 'http://yago-knowledge.org/resource/Lorenz_Banfi_Q13100915'}, 'predicate': {'type': 'uri', 'value': 'http://www.w3.org/2002/07/owl#sameAs'}, 'object': {'type': 'uri', 'value': 'http://www.wikidata.org/entity/Q13100915'}}, {'subject': {'type': 'uri', 'value': 'http://yago-knowledge.org/resource/Nyadzati_Q31419332'}, 'predicate': {'type': 'uri', 'value': 'http://schema.org/location'}, 'object': {'type': 'uri', 'value': 'http://yago-knowledge.org/resource/Zimbabwe'}}, {'subject': {'type': 'uri', 'value': 'http://yago-knowledge.org/resource/Nyadzati_Q31419332'}, 'predicate': {'type': 'uri', 'value': 'http://schema.org/location'}, 'object': {'type': 'uri', 'value': 'http://yago-knowledge.org/resource/Mashonaland_East_Province'}}, {'subject': {'type': 'uri', 'value': 'http://yago-knowledge.org/resource/Nyadzati_Q31419332'}, 'predicate': {'type': 'uri', 'value': 'http://www.w3.org/1999/02/22-rdf-syntax-ns#type'}, 'object': {'type': 'uri', 'value': 'http://yago-knowledge.org/resource/Hill'}}, {'subject': {'type': 'uri', 'value': 'http://yago-knowledge.org/resource/Nyadzati_Q31419332'}, 'predicate': {'type': 'uri', 'value': 'http://www.w3.org/2002/07/owl#sameAs'}, 'object': {'type': 'uri', 'value': 'http://www.wikidata.org/entity/Q31419332'}}, {'subject': {'type': 'uri', 'value': 'http://yago-knowledge.org/resource/Li_Qian_Q64514430'}, 'predicate': {'type': 'uri', 'value': 'http://schema.org/alumniOf'}, 'object': {'type': 'uri', 'value': 'http://yago-knowledge.org/resource/Nanjing_Medical_University'}}, {'subject': {'type': 'uri', 'value': 'http://yago-knowledge.org/resource/Li_Qian_Q64514430'}, 'predicate': {'type': 'uri', 'value': 'http://schema.org/worksFor'}, 'object': {'type': 'uri', 'value': 'http://yago-knowledge.org/resource/Nanjing_Medical_University'}}, {'subject': {'type': 'uri', 'value': 'http://yago-knowledge.org/resource/Li_Qian_Q64514430'}, 'predicate': {'type': 'uri', 'value': 'http://schema.org/worksFor'}, 'object': {'type': 'uri', 'value': 'http://yago-knowledge.org/resource/Zhangjiagang_First_People_U0027_S_Hospital_Q30260843'}}, {'subject': {'type': 'uri', 'value': 'http://yago-knowledge.org/resource/Li_Qian_Q64514430'}, 'predicate': {'type': 'uri', 'value': 'http://www.w3.org/1999/02/22-rdf-syntax-ns#type'}, 'object': {'type': 'uri', 'value': 'http://yago-knowledge.org/resource/Researcher'}}, {'subject': {'type': 'uri', 'value': 'http://yago-knowledge.org/resource/Li_Qian_Q64514430'}, 'predicate': {'type': 'uri', 'value': 'http://www.w3.org/2002/07/owl#sameAs'}, 'object': {'type': 'uri', 'value': 'http://www.wikidata.org/entity/Q64514430'}}, {'subject': {'type': 'uri', 'value': 'http://yago-knowledge.org/resource/Francis_Fenwick_Pearson_Q76229521'}, 'predicate': {'type': 'uri', 'value': 'http://schema.org/children'}, 'object': {'type': 'uri', 'value': 'http://yago-knowledge.org/resource/Frank_Pearson_Q76125523'}}, {'subject': {'type': 'uri', 'value': 'http://yago-knowledge.org/resource/Francis_Fenwick_Pearson_Q76229521'}, 'predicate': {'type': 'uri', 'value': 'http://schema.org/gender'}, 'object': {'type': 'uri', 'value': 'http://yago-knowledge.org/resource/Male_gender'}}, {'subject': {'type': 'uri', 'value': 'http://yago-knowledge.org/resource/Francis_Fenwick_Pearson_Q76229521'}, 'predicate': {'type': 'uri', 'value': 'http://schema.org/spouse'}, 'object': {'type': 'uri', 'value': 'http://yago-knowledge.org/resource/Louisa_Hutchinson_Q76125522'}}, {'subject': {'type': 'uri', 'value': 'http://yago-knowledge.org/resource/Francis_Fenwick_Pearson_Q76229521'}, 'predicate': {'type': 'uri', 'value': 'http://www.w3.org/1999/02/22-rdf-syntax-ns#type'}, 'object': {'type': 'uri', 'value': 'http://schema.org/Person'}}, {'subject': {'type': 'uri', 'value': 'http://yago-knowledge.org/resource/Francis_Fenwick_Pearson_Q76229521'}, 'predicate': {'type': 'uri', 'value': 'http://www.w3.org/2002/07/owl#sameAs'}, 'object': {'type': 'uri', 'value': 'http://www.wikidata.org/entity/Q76229521'}}, {'subject': {'type': 'uri', 'value': 'http://yago-knowledge.org/resource/Trolleybus_Transport_In_Opava_Q9361770'}, 'predicate': {'type': 'uri', 'value': 'http://schema.org/location'}, 'object': {'type': 'uri', 'value': 'http://yago-knowledge.org/resource/Czech_Republic'}}, {'subject': {'type': 'uri', 'value': 'http://yago-knowledge.org/resource/Trolleybus_Transport_In_Opava_Q9361770'}, 'predicate': {'type': 'uri', 'value': 'http://schema.org/location'}, 'object': {'type': 'uri', 'value': 'http://yago-knowledge.org/resource/Opava'}}, {'subject': {'type': 'uri', 'value': 'http://yago-knowledge.org/resource/Trolleybus_Transport_In_Opava_Q9361770'}, 'predicate': {'type': 'uri', 'value': 'http://www.w3.org/1999/02/22-rdf-syntax-ns#type'}, 'object': {'type': 'uri', 'value': 'http://yago-knowledge.org/resource/Trolleybus_System_Q18199879'}}, {'subject': {'type': 'uri', 'value': 'http://yago-knowledge.org/resource/Trolleybus_Transport_In_Opava_Q9361770'}, 'predicate': {'type': 'uri', 'value': 'http://www.w3.org/2002/07/owl#sameAs'}, 'object': {'type': 'uri', 'value': 'http://www.wikidata.org/entity/Q9361770'}}, {'subject': {'type': 'uri', 'value': 'http://yago-knowledge.org/resource/Scott_Brennan__u0028_rower_u0029_'}, 'predicate': {'type': 'uri', 'value': 'http://schema.org/alumniOf'}, 'object': {'type': 'uri', 'value': 'http://yago-knowledge.org/resource/St_Virgil_u0027_s_College'}}, {'subject': {'type': 'uri', 'value': 'http://yago-knowledge.org/resource/Scott_Brennan__u0028_rower_u0029_'}, 'predicate': {'type': 'uri', 'value': 'http://schema.org/award'}, 'object': {'type': 'uri', 'value': 'http://yago-knowledge.org/resource/Medal_Of_The_Order_Of_Australia_Q9682417_generic_instance'}}, {'subject': {'type': 'uri', 'value': 'http://yago-knowledge.org/resource/Scott_Brennan__u0028_rower_u0029_'}, 'predicate': {'type': 'uri', 'value': 'http://schema.org/birthPlace'}, 'object': {'type': 'uri', 'value': 'http://yago-knowledge.org/resource/Hobart'}}, {'subject': {'type': 'uri', 'value': 'http://yago-knowledge.org/resource/Scott_Brennan__u0028_rower_u0029_'}, 'predicate': {'type': 'uri', 'value': 'http://schema.org/gender'}, 'object': {'type': 'uri', 'value': 'http://yago-knowledge.org/resource/Male_gender'}}, {'subject': {'type': 'uri', 'value': 'http://yago-knowledge.org/resource/Scott_Brennan__u0028_rower_u0029_'}, 'predicate': {'type': 'uri', 'value': 'http://schema.org/spouse'}, 'object': {'type': 'uri', 'value': 'http://yago-knowledge.org/resource/Kim_Brennan'}}, {'subject': {'type': 'uri', 'value': 'http://yago-knowledge.org/resource/Scott_Brennan__u0028_rower_u0029_'}, 'predicate': {'type': 'uri', 'value': 'http://www.w3.org/1999/02/22-rdf-syntax-ns#type'}, 'object': {'type': 'uri', 'value': 'http://yago-knowledge.org/resource/Rower'}}, {'subject': {'type': 'uri', 'value': 'http://yago-knowledge.org/resource/Scott_Brennan__u0028_rower_u0029_'}, 'predicate': {'type': 'uri', 'value': 'http://www.w3.org/2002/07/owl#sameAs'}, 'object': {'type': 'uri', 'value': 'http://www.wikidata.org/entity/Q926208'}}, {'subject': {'type': 'uri', 'value': 'http://yago-knowledge.org/resource/John_Warr'}, 'predicate': {'type': 'uri', 'value': 'http://schema.org/alumniOf'}, 'object': {'type': 'uri', 'value': 'http://yago-knowledge.org/resource/Emmanuel_College_u002C__Cambridge'}}, {'subject': {'type': 'uri', 'value': 'http://yago-knowledge.org/resource/John_Warr'}, 'predicate': {'type': 'uri', 'value': 'http://schema.org/birthPlace'}, 'object': {'type': 'uri', 'value': 'http://yago-knowledge.org/resource/Ealing'}}, {'subject': {'type': 'uri', 'value': 'http://yago-knowledge.org/resource/John_Warr'}, 'predicate': {'type': 'uri', 'value': 'http://schema.org/gender'}, 'object': {'type': 'uri', 'value': 'http://yago-knowledge.org/resource/Male_gender'}}, {'subject': {'type': 'uri', 'value': 'http://yago-knowledge.org/resource/John_Warr'}, 'predicate': {'type': 'uri', 'value': 'http://schema.org/knowsLanguage'}, 'object': {'type': 'uri', 'value': 'http://yago-knowledge.org/resource/English_language_generic_instance'}}, {'subject': {'type': 'uri', 'value': 'http://yago-knowledge.org/resource/John_Warr'}, 'predicate': {'type': 'uri', 'value': 'http://schema.org/memberOf'}, 'object': {'type': 'uri', 'value': 'http://yago-knowledge.org/resource/England_cricket_team'}}, {'subject': {'type': 'uri', 'value': 'http://yago-knowledge.org/resource/John_Warr'}, 'predicate': {'type': 'uri', 'value': 'http://www.w3.org/1999/02/22-rdf-syntax-ns#type'}, 'object': {'type': 'uri', 'value': 'http://yago-knowledge.org/resource/Cricketer'}}, {'subject': {'type': 'uri', 'value': 'http://yago-knowledge.org/resource/John_Warr'}, 'predicate': {'type': 'uri', 'value': 'http://www.w3.org/2002/07/owl#sameAs'}, 'object': {'type': 'uri', 'value': 'http://www.wikidata.org/entity/Q16000003'}}]}}\n"
     ]
    }
   ],
   "source": [
    "response = query_kg(YAGO_ENDPOINT_URL, query2)\n",
    "print(response)"
   ]
  },
  {
   "cell_type": "code",
   "execution_count": 13,
   "metadata": {},
   "outputs": [],
   "source": [
    "triples = get_triples_from_response(response)"
   ]
  },
  {
   "cell_type": "code",
   "execution_count": 14,
   "metadata": {},
   "outputs": [
    {
     "data": {
      "text/html": [
       "<div>\n",
       "<style scoped>\n",
       "    .dataframe tbody tr th:only-of-type {\n",
       "        vertical-align: middle;\n",
       "    }\n",
       "\n",
       "    .dataframe tbody tr th {\n",
       "        vertical-align: top;\n",
       "    }\n",
       "\n",
       "    .dataframe thead th {\n",
       "        text-align: right;\n",
       "    }\n",
       "</style>\n",
       "<table border=\"1\" class=\"dataframe\">\n",
       "  <thead>\n",
       "    <tr style=\"text-align: right;\">\n",
       "      <th></th>\n",
       "      <th>subject</th>\n",
       "      <th>predicate</th>\n",
       "      <th>object</th>\n",
       "    </tr>\n",
       "  </thead>\n",
       "  <tbody>\n",
       "    <tr>\n",
       "      <th>0</th>\n",
       "      <td>http://yago-knowledge.org/resource/Vladimir_Pl...</td>\n",
       "      <td>http://schema.org/award</td>\n",
       "      <td>http://yago-knowledge.org/resource/Order_Of_Th...</td>\n",
       "    </tr>\n",
       "    <tr>\n",
       "      <th>1</th>\n",
       "      <td>http://yago-knowledge.org/resource/Vladimir_Pl...</td>\n",
       "      <td>http://schema.org/award</td>\n",
       "      <td>http://yago-knowledge.org/resource/Order_of_th...</td>\n",
       "    </tr>\n",
       "    <tr>\n",
       "      <th>2</th>\n",
       "      <td>http://yago-knowledge.org/resource/Vladimir_Pl...</td>\n",
       "      <td>http://schema.org/award</td>\n",
       "      <td>http://yago-knowledge.org/resource/Medal__u002...</td>\n",
       "    </tr>\n",
       "    <tr>\n",
       "      <th>3</th>\n",
       "      <td>http://yago-knowledge.org/resource/Vladimir_Pl...</td>\n",
       "      <td>http://schema.org/gender</td>\n",
       "      <td>http://yago-knowledge.org/resource/Male_gender</td>\n",
       "    </tr>\n",
       "    <tr>\n",
       "      <th>4</th>\n",
       "      <td>http://yago-knowledge.org/resource/Vladimir_Pl...</td>\n",
       "      <td>http://schema.org/knowsLanguage</td>\n",
       "      <td>http://yago-knowledge.org/resource/Russian_lan...</td>\n",
       "    </tr>\n",
       "  </tbody>\n",
       "</table>\n",
       "</div>"
      ],
      "text/plain": [
       "                                             subject  \\\n",
       "0  http://yago-knowledge.org/resource/Vladimir_Pl...   \n",
       "1  http://yago-knowledge.org/resource/Vladimir_Pl...   \n",
       "2  http://yago-knowledge.org/resource/Vladimir_Pl...   \n",
       "3  http://yago-knowledge.org/resource/Vladimir_Pl...   \n",
       "4  http://yago-knowledge.org/resource/Vladimir_Pl...   \n",
       "\n",
       "                         predicate  \\\n",
       "0          http://schema.org/award   \n",
       "1          http://schema.org/award   \n",
       "2          http://schema.org/award   \n",
       "3         http://schema.org/gender   \n",
       "4  http://schema.org/knowsLanguage   \n",
       "\n",
       "                                              object  \n",
       "0  http://yago-knowledge.org/resource/Order_Of_Th...  \n",
       "1  http://yago-knowledge.org/resource/Order_of_th...  \n",
       "2  http://yago-knowledge.org/resource/Medal__u002...  \n",
       "3     http://yago-knowledge.org/resource/Male_gender  \n",
       "4  http://yago-knowledge.org/resource/Russian_lan...  "
      ]
     },
     "execution_count": 14,
     "metadata": {},
     "output_type": "execute_result"
    }
   ],
   "source": [
    "triples.head()"
   ]
  },
  {
   "cell_type": "code",
   "execution_count": 15,
   "metadata": {},
   "outputs": [
    {
     "data": {
      "text/html": [
       "<div>\n",
       "<style scoped>\n",
       "    .dataframe tbody tr th:only-of-type {\n",
       "        vertical-align: middle;\n",
       "    }\n",
       "\n",
       "    .dataframe tbody tr th {\n",
       "        vertical-align: top;\n",
       "    }\n",
       "\n",
       "    .dataframe thead th {\n",
       "        text-align: right;\n",
       "    }\n",
       "</style>\n",
       "<table border=\"1\" class=\"dataframe\">\n",
       "  <thead>\n",
       "    <tr style=\"text-align: right;\">\n",
       "      <th></th>\n",
       "      <th>subject</th>\n",
       "      <th>predicate</th>\n",
       "      <th>object</th>\n",
       "    </tr>\n",
       "  </thead>\n",
       "  <tbody>\n",
       "    <tr>\n",
       "      <th>23</th>\n",
       "      <td>http://yago-knowledge.org/resource/Francis_Fen...</td>\n",
       "      <td>http://www.w3.org/1999/02/22-rdf-syntax-ns#type</td>\n",
       "      <td>http://schema.org/Person</td>\n",
       "    </tr>\n",
       "    <tr>\n",
       "      <th>36</th>\n",
       "      <td>http://yago-knowledge.org/resource/John_Warr</td>\n",
       "      <td>http://schema.org/alumniOf</td>\n",
       "      <td>http://yago-knowledge.org/resource/Emmanuel_Co...</td>\n",
       "    </tr>\n",
       "    <tr>\n",
       "      <th>17</th>\n",
       "      <td>http://yago-knowledge.org/resource/Li_Qian_Q64...</td>\n",
       "      <td>http://schema.org/worksFor</td>\n",
       "      <td>http://yago-knowledge.org/resource/Zhangjiagan...</td>\n",
       "    </tr>\n",
       "    <tr>\n",
       "      <th>10</th>\n",
       "      <td>http://yago-knowledge.org/resource/Lorenz_Banf...</td>\n",
       "      <td>http://www.w3.org/2002/07/owl#sameAs</td>\n",
       "      <td>http://www.wikidata.org/entity/Q13100915</td>\n",
       "    </tr>\n",
       "    <tr>\n",
       "      <th>12</th>\n",
       "      <td>http://yago-knowledge.org/resource/Nyadzati_Q3...</td>\n",
       "      <td>http://schema.org/location</td>\n",
       "      <td>http://yago-knowledge.org/resource/Mashonaland...</td>\n",
       "    </tr>\n",
       "    <tr>\n",
       "      <th>35</th>\n",
       "      <td>http://yago-knowledge.org/resource/Scott_Brenn...</td>\n",
       "      <td>http://www.w3.org/2002/07/owl#sameAs</td>\n",
       "      <td>http://www.wikidata.org/entity/Q926208</td>\n",
       "    </tr>\n",
       "    <tr>\n",
       "      <th>28</th>\n",
       "      <td>http://yago-knowledge.org/resource/Trolleybus_...</td>\n",
       "      <td>http://www.w3.org/2002/07/owl#sameAs</td>\n",
       "      <td>http://www.wikidata.org/entity/Q9361770</td>\n",
       "    </tr>\n",
       "    <tr>\n",
       "      <th>1</th>\n",
       "      <td>http://yago-knowledge.org/resource/Vladimir_Pl...</td>\n",
       "      <td>http://schema.org/award</td>\n",
       "      <td>http://yago-knowledge.org/resource/Order_of_th...</td>\n",
       "    </tr>\n",
       "  </tbody>\n",
       "</table>\n",
       "</div>"
      ],
      "text/plain": [
       "                                              subject  \\\n",
       "23  http://yago-knowledge.org/resource/Francis_Fen...   \n",
       "36       http://yago-knowledge.org/resource/John_Warr   \n",
       "17  http://yago-knowledge.org/resource/Li_Qian_Q64...   \n",
       "10  http://yago-knowledge.org/resource/Lorenz_Banf...   \n",
       "12  http://yago-knowledge.org/resource/Nyadzati_Q3...   \n",
       "35  http://yago-knowledge.org/resource/Scott_Brenn...   \n",
       "28  http://yago-knowledge.org/resource/Trolleybus_...   \n",
       "1   http://yago-knowledge.org/resource/Vladimir_Pl...   \n",
       "\n",
       "                                          predicate  \\\n",
       "23  http://www.w3.org/1999/02/22-rdf-syntax-ns#type   \n",
       "36                       http://schema.org/alumniOf   \n",
       "17                       http://schema.org/worksFor   \n",
       "10             http://www.w3.org/2002/07/owl#sameAs   \n",
       "12                       http://schema.org/location   \n",
       "35             http://www.w3.org/2002/07/owl#sameAs   \n",
       "28             http://www.w3.org/2002/07/owl#sameAs   \n",
       "1                           http://schema.org/award   \n",
       "\n",
       "                                               object  \n",
       "23                           http://schema.org/Person  \n",
       "36  http://yago-knowledge.org/resource/Emmanuel_Co...  \n",
       "17  http://yago-knowledge.org/resource/Zhangjiagan...  \n",
       "10           http://www.wikidata.org/entity/Q13100915  \n",
       "12  http://yago-knowledge.org/resource/Mashonaland...  \n",
       "35             http://www.wikidata.org/entity/Q926208  \n",
       "28            http://www.wikidata.org/entity/Q9361770  \n",
       "1   http://yago-knowledge.org/resource/Order_of_th...  "
      ]
     },
     "execution_count": 15,
     "metadata": {},
     "output_type": "execute_result"
    }
   ],
   "source": [
    "triples.groupby(SPARQL_COLUMNS_DICT[\"subject\"]).sample(1)"
   ]
  },
  {
   "cell_type": "code",
   "execution_count": 16,
   "metadata": {},
   "outputs": [
    {
     "data": {
      "text/html": [
       "<div>\n",
       "<style scoped>\n",
       "    .dataframe tbody tr th:only-of-type {\n",
       "        vertical-align: middle;\n",
       "    }\n",
       "\n",
       "    .dataframe tbody tr th {\n",
       "        vertical-align: top;\n",
       "    }\n",
       "\n",
       "    .dataframe thead th {\n",
       "        text-align: right;\n",
       "    }\n",
       "</style>\n",
       "<table border=\"1\" class=\"dataframe\">\n",
       "  <thead>\n",
       "    <tr style=\"text-align: right;\">\n",
       "      <th></th>\n",
       "      <th>subject</th>\n",
       "      <th>predicate</th>\n",
       "      <th>object</th>\n",
       "    </tr>\n",
       "  </thead>\n",
       "  <tbody>\n",
       "    <tr>\n",
       "      <th>8</th>\n",
       "      <td>http://yago-knowledge.org/resource/Lorenz_Banf...</td>\n",
       "      <td>http://schema.org/gender</td>\n",
       "      <td>http://yago-knowledge.org/resource/Male_gender</td>\n",
       "    </tr>\n",
       "    <tr>\n",
       "      <th>9</th>\n",
       "      <td>http://yago-knowledge.org/resource/Lorenz_Banf...</td>\n",
       "      <td>http://www.w3.org/1999/02/22-rdf-syntax-ns#type</td>\n",
       "      <td>http://yago-knowledge.org/resource/Politician</td>\n",
       "    </tr>\n",
       "    <tr>\n",
       "      <th>10</th>\n",
       "      <td>http://yago-knowledge.org/resource/Lorenz_Banf...</td>\n",
       "      <td>http://www.w3.org/2002/07/owl#sameAs</td>\n",
       "      <td>http://www.wikidata.org/entity/Q13100915</td>\n",
       "    </tr>\n",
       "  </tbody>\n",
       "</table>\n",
       "</div>"
      ],
      "text/plain": [
       "                                              subject  \\\n",
       "8   http://yago-knowledge.org/resource/Lorenz_Banf...   \n",
       "9   http://yago-knowledge.org/resource/Lorenz_Banf...   \n",
       "10  http://yago-knowledge.org/resource/Lorenz_Banf...   \n",
       "\n",
       "                                          predicate  \\\n",
       "8                          http://schema.org/gender   \n",
       "9   http://www.w3.org/1999/02/22-rdf-syntax-ns#type   \n",
       "10             http://www.w3.org/2002/07/owl#sameAs   \n",
       "\n",
       "                                            object  \n",
       "8   http://yago-knowledge.org/resource/Male_gender  \n",
       "9    http://yago-knowledge.org/resource/Politician  \n",
       "10        http://www.wikidata.org/entity/Q13100915  "
      ]
     },
     "execution_count": 16,
     "metadata": {},
     "output_type": "execute_result"
    }
   ],
   "source": [
    "triples[triples[SPARQL_COLUMNS_DICT[\"subject\"]] == entities_df.iloc[2][\"entity0\"]]"
   ]
  },
  {
   "cell_type": "code",
   "execution_count": 74,
   "metadata": {},
   "outputs": [],
   "source": [
    "entities_hop_1 = entities_df.apply(lambda row: sample_triple_for_entity_as_list(triples_df=triples, entity=row[\"entity0\"]), \n",
    "    axis=1, result_type=\"expand\").rename(columns={0: \"predicate1\", 1: \"entity1\"})"
   ]
  },
  {
   "cell_type": "code",
   "execution_count": 76,
   "metadata": {},
   "outputs": [],
   "source": [
    "entities_df[[\"predicate1\", \"entity1\"]] = entities_hop_1"
   ]
  },
  {
   "cell_type": "code",
   "execution_count": 77,
   "metadata": {},
   "outputs": [
    {
     "data": {
      "text/html": [
       "<div>\n",
       "<style scoped>\n",
       "    .dataframe tbody tr th:only-of-type {\n",
       "        vertical-align: middle;\n",
       "    }\n",
       "\n",
       "    .dataframe tbody tr th {\n",
       "        vertical-align: top;\n",
       "    }\n",
       "\n",
       "    .dataframe thead th {\n",
       "        text-align: right;\n",
       "    }\n",
       "</style>\n",
       "<table border=\"1\" class=\"dataframe\">\n",
       "  <thead>\n",
       "    <tr style=\"text-align: right;\">\n",
       "      <th></th>\n",
       "      <th>entity0</th>\n",
       "      <th>predicate1</th>\n",
       "      <th>entity1</th>\n",
       "    </tr>\n",
       "  </thead>\n",
       "  <tbody>\n",
       "    <tr>\n",
       "      <th>0</th>\n",
       "      <td>http://yago-knowledge.org/resource/Francis_Fen...</td>\n",
       "      <td>http://www.w3.org/2002/07/owl#sameAs</td>\n",
       "      <td>http://www.wikidata.org/entity/Q76229521</td>\n",
       "    </tr>\n",
       "    <tr>\n",
       "      <th>1</th>\n",
       "      <td>http://yago-knowledge.org/resource/Vladimir_Pl...</td>\n",
       "      <td>http://schema.org/award</td>\n",
       "      <td>http://yago-knowledge.org/resource/Medal__u002...</td>\n",
       "    </tr>\n",
       "    <tr>\n",
       "      <th>2</th>\n",
       "      <td>http://yago-knowledge.org/resource/Lorenz_Banf...</td>\n",
       "      <td>http://www.w3.org/2002/07/owl#sameAs</td>\n",
       "      <td>http://www.wikidata.org/entity/Q13100915</td>\n",
       "    </tr>\n",
       "    <tr>\n",
       "      <th>3</th>\n",
       "      <td>http://yago-knowledge.org/resource/John_Warr</td>\n",
       "      <td>http://schema.org/gender</td>\n",
       "      <td>http://yago-knowledge.org/resource/Male_gender</td>\n",
       "    </tr>\n",
       "    <tr>\n",
       "      <th>4</th>\n",
       "      <td>http://yago-knowledge.org/resource/Fakulta_Mec...</td>\n",
       "      <td>None</td>\n",
       "      <td>None</td>\n",
       "    </tr>\n",
       "    <tr>\n",
       "      <th>5</th>\n",
       "      <td>http://yago-knowledge.org/resource/Nyadzati_Q3...</td>\n",
       "      <td>http://www.w3.org/2002/07/owl#sameAs</td>\n",
       "      <td>http://www.wikidata.org/entity/Q31419332</td>\n",
       "    </tr>\n",
       "    <tr>\n",
       "      <th>6</th>\n",
       "      <td>http://yago-knowledge.org/resource/Scott_Brenn...</td>\n",
       "      <td>http://schema.org/birthPlace</td>\n",
       "      <td>http://yago-knowledge.org/resource/Hobart</td>\n",
       "    </tr>\n",
       "    <tr>\n",
       "      <th>7</th>\n",
       "      <td>http://yago-knowledge.org/resource/Li_Qian_Q64...</td>\n",
       "      <td>http://www.w3.org/2002/07/owl#sameAs</td>\n",
       "      <td>http://www.wikidata.org/entity/Q64514430</td>\n",
       "    </tr>\n",
       "    <tr>\n",
       "      <th>8</th>\n",
       "      <td>http://yago-knowledge.org/resource/Protestant_...</td>\n",
       "      <td>None</td>\n",
       "      <td>None</td>\n",
       "    </tr>\n",
       "    <tr>\n",
       "      <th>9</th>\n",
       "      <td>http://yago-knowledge.org/resource/Trolleybus_...</td>\n",
       "      <td>http://www.w3.org/1999/02/22-rdf-syntax-ns#type</td>\n",
       "      <td>http://yago-knowledge.org/resource/Trolleybus_...</td>\n",
       "    </tr>\n",
       "  </tbody>\n",
       "</table>\n",
       "</div>"
      ],
      "text/plain": [
       "                                             entity0  \\\n",
       "0  http://yago-knowledge.org/resource/Francis_Fen...   \n",
       "1  http://yago-knowledge.org/resource/Vladimir_Pl...   \n",
       "2  http://yago-knowledge.org/resource/Lorenz_Banf...   \n",
       "3       http://yago-knowledge.org/resource/John_Warr   \n",
       "4  http://yago-knowledge.org/resource/Fakulta_Mec...   \n",
       "5  http://yago-knowledge.org/resource/Nyadzati_Q3...   \n",
       "6  http://yago-knowledge.org/resource/Scott_Brenn...   \n",
       "7  http://yago-knowledge.org/resource/Li_Qian_Q64...   \n",
       "8  http://yago-knowledge.org/resource/Protestant_...   \n",
       "9  http://yago-knowledge.org/resource/Trolleybus_...   \n",
       "\n",
       "                                        predicate1  \\\n",
       "0             http://www.w3.org/2002/07/owl#sameAs   \n",
       "1                          http://schema.org/award   \n",
       "2             http://www.w3.org/2002/07/owl#sameAs   \n",
       "3                         http://schema.org/gender   \n",
       "4                                             None   \n",
       "5             http://www.w3.org/2002/07/owl#sameAs   \n",
       "6                     http://schema.org/birthPlace   \n",
       "7             http://www.w3.org/2002/07/owl#sameAs   \n",
       "8                                             None   \n",
       "9  http://www.w3.org/1999/02/22-rdf-syntax-ns#type   \n",
       "\n",
       "                                             entity1  \n",
       "0           http://www.wikidata.org/entity/Q76229521  \n",
       "1  http://yago-knowledge.org/resource/Medal__u002...  \n",
       "2           http://www.wikidata.org/entity/Q13100915  \n",
       "3     http://yago-knowledge.org/resource/Male_gender  \n",
       "4                                               None  \n",
       "5           http://www.wikidata.org/entity/Q31419332  \n",
       "6          http://yago-knowledge.org/resource/Hobart  \n",
       "7           http://www.wikidata.org/entity/Q64514430  \n",
       "8                                               None  \n",
       "9  http://yago-knowledge.org/resource/Trolleybus_...  "
      ]
     },
     "execution_count": 77,
     "metadata": {},
     "output_type": "execute_result"
    }
   ],
   "source": [
    "entities_df"
   ]
  },
  {
   "cell_type": "code",
   "execution_count": null,
   "metadata": {},
   "outputs": [],
   "source": []
  }
 ],
 "metadata": {
  "kernelspec": {
   "display_name": "claimbenchkg2",
   "language": "python",
   "name": "python3"
  },
  "language_info": {
   "codemirror_mode": {
    "name": "ipython",
    "version": 3
   },
   "file_extension": ".py",
   "mimetype": "text/x-python",
   "name": "python",
   "nbconvert_exporter": "python",
   "pygments_lexer": "ipython3",
   "version": "3.12.7"
  }
 },
 "nbformat": 4,
 "nbformat_minor": 2
}
