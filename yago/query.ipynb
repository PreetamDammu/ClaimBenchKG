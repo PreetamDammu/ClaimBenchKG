{
 "cells": [
  {
   "cell_type": "markdown",
   "metadata": {},
   "source": [
    "# Testing Queries\n",
    "\n",
    "Note: For now, we are lucky that the imports work, because we are using relative imports, and at one point, it will cause errors."
   ]
  },
  {
   "cell_type": "markdown",
   "metadata": {},
   "source": [
    "## IMPORTS"
   ]
  },
  {
   "cell_type": "code",
   "execution_count": 1,
   "metadata": {},
   "outputs": [],
   "source": [
    "import os\n",
    "import sys\n",
    "import random\n",
    "import requests\n",
    "import argparse\n",
    "from typing import List, Set\n",
    "\n",
    "import numpy as np\n",
    "import pandas as pd"
   ]
  },
  {
   "cell_type": "code",
   "execution_count": 2,
   "metadata": {},
   "outputs": [],
   "source": [
    "from db.yagodb import YagoDB\n",
    "from db.constants.main import YAGO_ALL_ENTITY_COUNT, YAGO_FACTS_ENTITY_COUNT\n",
    "from db.functions.entity import get_random_entities_query"
   ]
  },
  {
   "cell_type": "code",
   "execution_count": 3,
   "metadata": {},
   "outputs": [],
   "source": [
    "from kg.query import get_triples_multiple_subjects_query, get_description_multiple_entities_query, query_kg, get_triples_from_response"
   ]
  },
  {
   "cell_type": "code",
   "execution_count": 4,
   "metadata": {},
   "outputs": [],
   "source": [
    "from utils.constants import YAGO_ENTITY_STORE_DB_PATH, YAGO_PREFIXES_PATH, YAGO_ENDPOINT_URL\n",
    "from utils.prefix import get_prefixes, get_url_from_prefix_and_id\n",
    "from utils.random_walk2 import SPARQL_COLUMNS_DICT, RandomWalk2"
   ]
  },
  {
   "cell_type": "markdown",
   "metadata": {},
   "source": [
    "### CONSTANTS"
   ]
  },
  {
   "cell_type": "markdown",
   "metadata": {},
   "source": [
    "### FUNCTIONS"
   ]
  },
  {
   "cell_type": "markdown",
   "metadata": {},
   "source": [
    "### Experiment Single Walks"
   ]
  },
  {
   "cell_type": "code",
   "execution_count": 5,
   "metadata": {},
   "outputs": [
    {
     "data": {
      "text/plain": [
       "'/home/ubuntu/ClaimBenchKG/yago/yago_all.db'"
      ]
     },
     "execution_count": 5,
     "metadata": {},
     "output_type": "execute_result"
    }
   ],
   "source": [
    "YAGO_ENTITY_STORE_DB_PATH"
   ]
  },
  {
   "cell_type": "code",
   "execution_count": 6,
   "metadata": {},
   "outputs": [],
   "source": [
    "yago_db = YagoDB(YAGO_ENTITY_STORE_DB_PATH)"
   ]
  },
  {
   "cell_type": "code",
   "execution_count": 7,
   "metadata": {},
   "outputs": [],
   "source": [
    "random_walk_2 = RandomWalk2(yago_db)"
   ]
  },
  {
   "cell_type": "code",
   "execution_count": 8,
   "metadata": {},
   "outputs": [],
   "source": [
    "entities_df = random_walk_2.random_walk_description_batch(num_of_entities=100, depth=3)"
   ]
  },
  {
   "cell_type": "code",
   "execution_count": 9,
   "metadata": {},
   "outputs": [
    {
     "data": {
      "text/html": [
       "<div>\n",
       "<style scoped>\n",
       "    .dataframe tbody tr th:only-of-type {\n",
       "        vertical-align: middle;\n",
       "    }\n",
       "\n",
       "    .dataframe tbody tr th {\n",
       "        vertical-align: top;\n",
       "    }\n",
       "\n",
       "    .dataframe thead th {\n",
       "        text-align: right;\n",
       "    }\n",
       "</style>\n",
       "<table border=\"1\" class=\"dataframe\">\n",
       "  <thead>\n",
       "    <tr style=\"text-align: right;\">\n",
       "      <th></th>\n",
       "      <th>entity0</th>\n",
       "      <th>description0</th>\n",
       "      <th>predicate1</th>\n",
       "      <th>entity1</th>\n",
       "      <th>description1</th>\n",
       "      <th>predicate2</th>\n",
       "      <th>entity2</th>\n",
       "      <th>description2</th>\n",
       "    </tr>\n",
       "  </thead>\n",
       "  <tbody>\n",
       "    <tr>\n",
       "      <th>0</th>\n",
       "      <td>http://yago-knowledge.org/resource/Pricella_An...</td>\n",
       "      <td>NaN</td>\n",
       "      <td>http://schema.org/gender</td>\n",
       "      <td>http://yago-knowledge.org/resource/Female__u00...</td>\n",
       "      <td>to be used in 'sex or gender' (P21) to indicat...</td>\n",
       "      <td>http://schema.org/alternateName</td>\n",
       "      <td>নাৰী</td>\n",
       "      <td>NaN</td>\n",
       "    </tr>\n",
       "    <tr>\n",
       "      <th>1</th>\n",
       "      <td>http://yago-knowledge.org/resource/Q55336179</td>\n",
       "      <td>exhibition</td>\n",
       "      <td>http://www.w3.org/1999/02/22-rdf-syntax-ns#type</td>\n",
       "      <td>http://yago-knowledge.org/resource/Temporary_E...</td>\n",
       "      <td>organized presentation and display of a select...</td>\n",
       "      <td>http://www.w3.org/2000/01/rdf-schema#subClassOf</td>\n",
       "      <td>http://yago-knowledge.org/resource/Exhibition</td>\n",
       "      <td>organized presentation and display of a select...</td>\n",
       "    </tr>\n",
       "    <tr>\n",
       "      <th>2</th>\n",
       "      <td>http://yago-knowledge.org/resource/Portrait_Of...</td>\n",
       "      <td>painting by Robert M. Pratt</td>\n",
       "      <td>http://www.w3.org/1999/02/22-rdf-syntax-ns#type</td>\n",
       "      <td>http://yago-knowledge.org/resource/Painting__u...</td>\n",
       "      <td>visual artwork, surface artistically covered w...</td>\n",
       "      <td>http://www.w3.org/2000/01/rdf-schema#subClassOf</td>\n",
       "      <td>http://yago-knowledge.org/resource/Two-Dimensi...</td>\n",
       "      <td>most paintings, drawings, prints, etc.</td>\n",
       "    </tr>\n",
       "    <tr>\n",
       "      <th>3</th>\n",
       "      <td>http://yago-knowledge.org/resource/How_Does_Th...</td>\n",
       "      <td>scientific article published on 01 October 2018</td>\n",
       "      <td>http://www.w3.org/1999/02/22-rdf-syntax-ns#type</td>\n",
       "      <td>http://yago-knowledge.org/resource/Editorial</td>\n",
       "      <td>journalism genre</td>\n",
       "      <td>http://www.w3.org/2000/01/rdf-schema#subClassOf</td>\n",
       "      <td>http://yago-knowledge.org/resource/Column__u00...</td>\n",
       "      <td>recurring piece or article in a periodical</td>\n",
       "    </tr>\n",
       "    <tr>\n",
       "      <th>4</th>\n",
       "      <td>http://yago-knowledge.org/resource/Aloeides_Co...</td>\n",
       "      <td>NaN</td>\n",
       "      <td>http://www.w3.org/1999/02/22-rdf-syntax-ns#type</td>\n",
       "      <td>http://schema.org/Taxon</td>\n",
       "      <td>group of one or more organism(s), which a taxo...</td>\n",
       "      <td>http://www.w3.org/2002/07/owl#disjointWith</td>\n",
       "      <td>http://schema.org/CreativeWork</td>\n",
       "      <td>artistic creation</td>\n",
       "    </tr>\n",
       "    <tr>\n",
       "      <th>...</th>\n",
       "      <td>...</td>\n",
       "      <td>...</td>\n",
       "      <td>...</td>\n",
       "      <td>...</td>\n",
       "      <td>...</td>\n",
       "      <td>...</td>\n",
       "      <td>...</td>\n",
       "      <td>...</td>\n",
       "    </tr>\n",
       "    <tr>\n",
       "      <th>95</th>\n",
       "      <td>http://yago-knowledge.org/resource/Phl_2755_Q9...</td>\n",
       "      <td>blue object in the constellation Pisces</td>\n",
       "      <td>http://www.w3.org/1999/02/22-rdf-syntax-ns#type</td>\n",
       "      <td>http://yago-knowledge.org/resource/Blue_Object...</td>\n",
       "      <td>astronomical object</td>\n",
       "      <td>http://www.w3.org/2000/01/rdf-schema#subClassOf</td>\n",
       "      <td>http://yago-knowledge.org/resource/Astronomica...</td>\n",
       "      <td>physical body of astronomically-significant si...</td>\n",
       "    </tr>\n",
       "    <tr>\n",
       "      <th>96</th>\n",
       "      <td>http://yago-knowledge.org/resource/Enrico_del_...</td>\n",
       "      <td>Northern Mariana Islands footballer</td>\n",
       "      <td>http://schema.org/nationality</td>\n",
       "      <td>http://yago-knowledge.org/resource/United_States</td>\n",
       "      <td>country in North America</td>\n",
       "      <td>http://yago-knowledge.org/resource/neighbors</td>\n",
       "      <td>http://yago-knowledge.org/resource/Canada</td>\n",
       "      <td>country in North America</td>\n",
       "    </tr>\n",
       "    <tr>\n",
       "      <th>97</th>\n",
       "      <td>http://yago-knowledge.org/resource/Pangaltı_Mk...</td>\n",
       "      <td>NaN</td>\n",
       "      <td>None</td>\n",
       "      <td>None</td>\n",
       "      <td>NaN</td>\n",
       "      <td>None</td>\n",
       "      <td>None</td>\n",
       "      <td>NaN</td>\n",
       "    </tr>\n",
       "    <tr>\n",
       "      <th>98</th>\n",
       "      <td>http://yago-knowledge.org/resource/2Dfgrs_Tgn2...</td>\n",
       "      <td>galaxy</td>\n",
       "      <td>http://www.w3.org/1999/02/22-rdf-syntax-ns#type</td>\n",
       "      <td>http://yago-knowledge.org/resource/Galaxy</td>\n",
       "      <td>large gravitationally bound system of stars an...</td>\n",
       "      <td>http://www.w3.org/2000/01/rdf-schema#subClassOf</td>\n",
       "      <td>http://yago-knowledge.org/resource/Deep-sky_ob...</td>\n",
       "      <td>any astronomical object that is not an individ...</td>\n",
       "    </tr>\n",
       "    <tr>\n",
       "      <th>99</th>\n",
       "      <td>http://yago-knowledge.org/resource/Köbensaj_Q1...</td>\n",
       "      <td>NaN</td>\n",
       "      <td>None</td>\n",
       "      <td>None</td>\n",
       "      <td>NaN</td>\n",
       "      <td>None</td>\n",
       "      <td>None</td>\n",
       "      <td>NaN</td>\n",
       "    </tr>\n",
       "  </tbody>\n",
       "</table>\n",
       "<p>100 rows × 8 columns</p>\n",
       "</div>"
      ],
      "text/plain": [
       "                                              entity0  \\\n",
       "0   http://yago-knowledge.org/resource/Pricella_An...   \n",
       "1        http://yago-knowledge.org/resource/Q55336179   \n",
       "2   http://yago-knowledge.org/resource/Portrait_Of...   \n",
       "3   http://yago-knowledge.org/resource/How_Does_Th...   \n",
       "4   http://yago-knowledge.org/resource/Aloeides_Co...   \n",
       "..                                                ...   \n",
       "95  http://yago-knowledge.org/resource/Phl_2755_Q9...   \n",
       "96  http://yago-knowledge.org/resource/Enrico_del_...   \n",
       "97  http://yago-knowledge.org/resource/Pangaltı_Mk...   \n",
       "98  http://yago-knowledge.org/resource/2Dfgrs_Tgn2...   \n",
       "99  http://yago-knowledge.org/resource/Köbensaj_Q1...   \n",
       "\n",
       "                                       description0  \\\n",
       "0                                               NaN   \n",
       "1                                        exhibition   \n",
       "2                       painting by Robert M. Pratt   \n",
       "3   scientific article published on 01 October 2018   \n",
       "4                                               NaN   \n",
       "..                                              ...   \n",
       "95          blue object in the constellation Pisces   \n",
       "96              Northern Mariana Islands footballer   \n",
       "97                                              NaN   \n",
       "98                                           galaxy   \n",
       "99                                              NaN   \n",
       "\n",
       "                                         predicate1  \\\n",
       "0                          http://schema.org/gender   \n",
       "1   http://www.w3.org/1999/02/22-rdf-syntax-ns#type   \n",
       "2   http://www.w3.org/1999/02/22-rdf-syntax-ns#type   \n",
       "3   http://www.w3.org/1999/02/22-rdf-syntax-ns#type   \n",
       "4   http://www.w3.org/1999/02/22-rdf-syntax-ns#type   \n",
       "..                                              ...   \n",
       "95  http://www.w3.org/1999/02/22-rdf-syntax-ns#type   \n",
       "96                    http://schema.org/nationality   \n",
       "97                                             None   \n",
       "98  http://www.w3.org/1999/02/22-rdf-syntax-ns#type   \n",
       "99                                             None   \n",
       "\n",
       "                                              entity1  \\\n",
       "0   http://yago-knowledge.org/resource/Female__u00...   \n",
       "1   http://yago-knowledge.org/resource/Temporary_E...   \n",
       "2   http://yago-knowledge.org/resource/Painting__u...   \n",
       "3        http://yago-knowledge.org/resource/Editorial   \n",
       "4                             http://schema.org/Taxon   \n",
       "..                                                ...   \n",
       "95  http://yago-knowledge.org/resource/Blue_Object...   \n",
       "96   http://yago-knowledge.org/resource/United_States   \n",
       "97                                               None   \n",
       "98          http://yago-knowledge.org/resource/Galaxy   \n",
       "99                                               None   \n",
       "\n",
       "                                         description1  \\\n",
       "0   to be used in 'sex or gender' (P21) to indicat...   \n",
       "1   organized presentation and display of a select...   \n",
       "2   visual artwork, surface artistically covered w...   \n",
       "3                                    journalism genre   \n",
       "4   group of one or more organism(s), which a taxo...   \n",
       "..                                                ...   \n",
       "95                                astronomical object   \n",
       "96                           country in North America   \n",
       "97                                                NaN   \n",
       "98  large gravitationally bound system of stars an...   \n",
       "99                                                NaN   \n",
       "\n",
       "                                         predicate2  \\\n",
       "0                   http://schema.org/alternateName   \n",
       "1   http://www.w3.org/2000/01/rdf-schema#subClassOf   \n",
       "2   http://www.w3.org/2000/01/rdf-schema#subClassOf   \n",
       "3   http://www.w3.org/2000/01/rdf-schema#subClassOf   \n",
       "4        http://www.w3.org/2002/07/owl#disjointWith   \n",
       "..                                              ...   \n",
       "95  http://www.w3.org/2000/01/rdf-schema#subClassOf   \n",
       "96     http://yago-knowledge.org/resource/neighbors   \n",
       "97                                             None   \n",
       "98  http://www.w3.org/2000/01/rdf-schema#subClassOf   \n",
       "99                                             None   \n",
       "\n",
       "                                              entity2  \\\n",
       "0                                                নাৰী   \n",
       "1       http://yago-knowledge.org/resource/Exhibition   \n",
       "2   http://yago-knowledge.org/resource/Two-Dimensi...   \n",
       "3   http://yago-knowledge.org/resource/Column__u00...   \n",
       "4                      http://schema.org/CreativeWork   \n",
       "..                                                ...   \n",
       "95  http://yago-knowledge.org/resource/Astronomica...   \n",
       "96          http://yago-knowledge.org/resource/Canada   \n",
       "97                                               None   \n",
       "98  http://yago-knowledge.org/resource/Deep-sky_ob...   \n",
       "99                                               None   \n",
       "\n",
       "                                         description2  \n",
       "0                                                 NaN  \n",
       "1   organized presentation and display of a select...  \n",
       "2              most paintings, drawings, prints, etc.  \n",
       "3          recurring piece or article in a periodical  \n",
       "4                                   artistic creation  \n",
       "..                                                ...  \n",
       "95  physical body of astronomically-significant si...  \n",
       "96                           country in North America  \n",
       "97                                                NaN  \n",
       "98  any astronomical object that is not an individ...  \n",
       "99                                                NaN  \n",
       "\n",
       "[100 rows x 8 columns]"
      ]
     },
     "execution_count": 9,
     "metadata": {},
     "output_type": "execute_result"
    }
   ],
   "source": [
    "entities_df"
   ]
  },
  {
   "cell_type": "code",
   "execution_count": 10,
   "metadata": {},
   "outputs": [
    {
     "data": {
      "text/plain": [
       "12"
      ]
     },
     "execution_count": 10,
     "metadata": {},
     "output_type": "execute_result"
    }
   ],
   "source": [
    "entities_df[\"description1\"].isna().sum()"
   ]
  },
  {
   "cell_type": "code",
   "execution_count": 11,
   "metadata": {},
   "outputs": [
    {
     "data": {
      "text/plain": [
       "'http://yago-knowledge.org/resource/Claude_Nicolas_Q115413430'"
      ]
     },
     "execution_count": 11,
     "metadata": {},
     "output_type": "execute_result"
    }
   ],
   "source": [
    "entities_df.iloc[96][\"entity0\"]"
   ]
  },
  {
   "cell_type": "code",
   "execution_count": 10,
   "metadata": {},
   "outputs": [],
   "source": [
    "entities_df.head(10).to_csv(\"walks.csv\", index=False)"
   ]
  },
  {
   "cell_type": "code",
   "execution_count": 13,
   "metadata": {},
   "outputs": [],
   "source": [
    "entities_df.to_csv(\"walks_temp.csv\", index=False)"
   ]
  },
  {
   "cell_type": "code",
   "execution_count": null,
   "metadata": {},
   "outputs": [],
   "source": []
  }
 ],
 "metadata": {
  "kernelspec": {
   "display_name": "claimbenchkg2",
   "language": "python",
   "name": "python3"
  },
  "language_info": {
   "codemirror_mode": {
    "name": "ipython",
    "version": 3
   },
   "file_extension": ".py",
   "mimetype": "text/x-python",
   "name": "python",
   "nbconvert_exporter": "python",
   "pygments_lexer": "ipython3",
   "version": "3.12.7"
  }
 },
 "nbformat": 4,
 "nbformat_minor": 2
}
