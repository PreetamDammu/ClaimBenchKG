{
 "cells": [
  {
   "cell_type": "markdown",
   "metadata": {},
   "source": [
    "# Testing Queries\n",
    "\n",
    "Note: For now, we are lucky that the imports work, because we are using relative imports, and at one point, it will cause errors."
   ]
  },
  {
   "cell_type": "markdown",
   "metadata": {},
   "source": [
    "## IMPORTS"
   ]
  },
  {
   "cell_type": "code",
   "execution_count": 1,
   "metadata": {},
   "outputs": [],
   "source": [
    "import os\n",
    "import sys\n",
    "import random\n",
    "import requests\n",
    "import argparse\n",
    "from typing import List, Set\n",
    "\n",
    "import numpy as np\n",
    "import pandas as pd"
   ]
  },
  {
   "cell_type": "code",
   "execution_count": 2,
   "metadata": {},
   "outputs": [],
   "source": [
    "from db.yagodb import YagoDB\n",
    "from db.constants.main import YAGO_ALL_ENTITY_COUNT, YAGO_FACTS_ENTITY_COUNT\n",
    "from db.functions.entity import get_random_entities_query"
   ]
  },
  {
   "cell_type": "code",
   "execution_count": 3,
   "metadata": {},
   "outputs": [],
   "source": [
    "from kg.query import get_triples_multiple_subjects_query, get_description_multiple_entities_query, query_kg, get_triples_from_response"
   ]
  },
  {
   "cell_type": "code",
   "execution_count": 4,
   "metadata": {},
   "outputs": [],
   "source": [
    "from utils.constants import YAGO_ENTITY_STORE_DB_PATH, YAGO_PREFIXES_PATH, YAGO_ENDPOINT_URL\n",
    "from utils.prefix import get_prefixes, get_url_from_prefix_and_id\n",
    "from utils.random_walk2 import SPARQL_COLUMNS_DICT, RandomWalk2"
   ]
  },
  {
   "cell_type": "markdown",
   "metadata": {},
   "source": [
    "### CONSTANTS"
   ]
  },
  {
   "cell_type": "markdown",
   "metadata": {},
   "source": [
    "### FUNCTIONS"
   ]
  },
  {
   "cell_type": "markdown",
   "metadata": {},
   "source": [
    "### Experiment Single Walks"
   ]
  },
  {
   "cell_type": "code",
   "execution_count": 5,
   "metadata": {},
   "outputs": [
    {
     "data": {
      "text/plain": [
       "'/home/ubuntu/ClaimBenchKG/yago/yago_all.db'"
      ]
     },
     "execution_count": 5,
     "metadata": {},
     "output_type": "execute_result"
    }
   ],
   "source": [
    "YAGO_ENTITY_STORE_DB_PATH"
   ]
  },
  {
   "cell_type": "code",
   "execution_count": 6,
   "metadata": {},
   "outputs": [],
   "source": [
    "yago_db = YagoDB(YAGO_ENTITY_STORE_DB_PATH)"
   ]
  },
  {
   "cell_type": "code",
   "execution_count": 7,
   "metadata": {},
   "outputs": [],
   "source": [
    "random_walk_2 = RandomWalk2(yago_db)"
   ]
  },
  {
   "cell_type": "code",
   "execution_count": 8,
   "metadata": {},
   "outputs": [],
   "source": [
    "entities_df = random_walk_2.random_walk_description_batch(num_of_entities=100, depth=3)"
   ]
  },
  {
   "cell_type": "code",
   "execution_count": 9,
   "metadata": {},
   "outputs": [
    {
     "data": {
      "text/html": [
       "<div>\n",
       "<style scoped>\n",
       "    .dataframe tbody tr th:only-of-type {\n",
       "        vertical-align: middle;\n",
       "    }\n",
       "\n",
       "    .dataframe tbody tr th {\n",
       "        vertical-align: top;\n",
       "    }\n",
       "\n",
       "    .dataframe thead th {\n",
       "        text-align: right;\n",
       "    }\n",
       "</style>\n",
       "<table border=\"1\" class=\"dataframe\">\n",
       "  <thead>\n",
       "    <tr style=\"text-align: right;\">\n",
       "      <th></th>\n",
       "      <th>entity0</th>\n",
       "      <th>description0</th>\n",
       "      <th>predicate1</th>\n",
       "      <th>entity1</th>\n",
       "      <th>description1</th>\n",
       "      <th>predicate2</th>\n",
       "      <th>entity2</th>\n",
       "      <th>description2</th>\n",
       "    </tr>\n",
       "  </thead>\n",
       "  <tbody>\n",
       "    <tr>\n",
       "      <th>0</th>\n",
       "      <td>http://yago-knowledge.org/resource/_U005B_Cmw2...</td>\n",
       "      <td>galaxy</td>\n",
       "      <td>http://www.w3.org/1999/02/22-rdf-syntax-ns#type</td>\n",
       "      <td>http://yago-knowledge.org/resource/Galaxy</td>\n",
       "      <td>large gravitationally bound system of stars an...</td>\n",
       "      <td>http://www.w3.org/2000/01/rdf-schema#subClassOf</td>\n",
       "      <td>http://yago-knowledge.org/resource/Deep-sky_ob...</td>\n",
       "      <td>any astronomical object that is not an individ...</td>\n",
       "    </tr>\n",
       "    <tr>\n",
       "      <th>1</th>\n",
       "      <td>http://yago-knowledge.org/resource/Intraprosta...</td>\n",
       "      <td>scientific article published on October 2009</td>\n",
       "      <td>http://www.w3.org/1999/02/22-rdf-syntax-ns#type</td>\n",
       "      <td>http://yago-knowledge.org/resource/Review_article</td>\n",
       "      <td>article that summarizes the current state of u...</td>\n",
       "      <td>http://www.w3.org/2000/01/rdf-schema#subClassOf</td>\n",
       "      <td>http://yago-knowledge.org/resource/Secondary_s...</td>\n",
       "      <td>document that discusses information originally...</td>\n",
       "    </tr>\n",
       "    <tr>\n",
       "      <th>2</th>\n",
       "      <td>http://yago-knowledge.org/resource/2Dfgrs_Tgs5...</td>\n",
       "      <td>galaxy</td>\n",
       "      <td>http://www.w3.org/1999/02/22-rdf-syntax-ns#type</td>\n",
       "      <td>http://yago-knowledge.org/resource/Galaxy</td>\n",
       "      <td>large gravitationally bound system of stars an...</td>\n",
       "      <td>http://www.w3.org/2000/01/rdf-schema#subClassOf</td>\n",
       "      <td>http://yago-knowledge.org/resource/Deep-sky_ob...</td>\n",
       "      <td>any astronomical object that is not an individ...</td>\n",
       "    </tr>\n",
       "    <tr>\n",
       "      <th>3</th>\n",
       "      <td>http://yago-knowledge.org/resource/1920_Wimble...</td>\n",
       "      <td>1920 tennis event results</td>\n",
       "      <td>http://schema.org/location</td>\n",
       "      <td>http://yago-knowledge.org/resource/United_King...</td>\n",
       "      <td>historical sovereign state (1801–1922)</td>\n",
       "      <td>http://yago-knowledge.org/resource/capital</td>\n",
       "      <td>http://yago-knowledge.org/resource/London</td>\n",
       "      <td>capital and largest city of the United Kingdom</td>\n",
       "    </tr>\n",
       "    <tr>\n",
       "      <th>4</th>\n",
       "      <td>http://yago-knowledge.org/resource/The_Horns_P...</td>\n",
       "      <td>pub in Ashbourne, Derbyshire Dales, Derbyshire...</td>\n",
       "      <td>http://www.w3.org/1999/02/22-rdf-syntax-ns#type</td>\n",
       "      <td>http://yago-knowledge.org/resource/Pub</td>\n",
       "      <td>drinking establishment</td>\n",
       "      <td>http://www.w3.org/2000/01/rdf-schema#subClassOf</td>\n",
       "      <td>http://yago-knowledge.org/resource/Bar__u0028_...</td>\n",
       "      <td>establishment serving alcoholic beverages for ...</td>\n",
       "    </tr>\n",
       "    <tr>\n",
       "      <th>...</th>\n",
       "      <td>...</td>\n",
       "      <td>...</td>\n",
       "      <td>...</td>\n",
       "      <td>...</td>\n",
       "      <td>...</td>\n",
       "      <td>...</td>\n",
       "      <td>...</td>\n",
       "      <td>...</td>\n",
       "    </tr>\n",
       "    <tr>\n",
       "      <th>95</th>\n",
       "      <td>http://yago-knowledge.org/resource/Alexander_M...</td>\n",
       "      <td>Peerage person ID=579070</td>\n",
       "      <td>http://schema.org/gender</td>\n",
       "      <td>http://yago-knowledge.org/resource/Male_gender</td>\n",
       "      <td>to be used in 'sex or gender' (P21) to indicat...</td>\n",
       "      <td>http://www.w3.org/2000/01/rdf-schema#label</td>\n",
       "      <td>gwrywaidd</td>\n",
       "      <td>NaN</td>\n",
       "    </tr>\n",
       "    <tr>\n",
       "      <th>96</th>\n",
       "      <td>http://yago-knowledge.org/resource/Claude_Nico...</td>\n",
       "      <td>NaN</td>\n",
       "      <td>http://www.w3.org/1999/02/22-rdf-syntax-ns#type</td>\n",
       "      <td>http://schema.org/Person</td>\n",
       "      <td>being that has certain capacities or attribute...</td>\n",
       "      <td>http://www.w3.org/2002/07/owl#disjointWith</td>\n",
       "      <td>http://schema.org/Taxon</td>\n",
       "      <td>group of one or more organism(s), which a taxo...</td>\n",
       "    </tr>\n",
       "    <tr>\n",
       "      <th>97</th>\n",
       "      <td>http://yago-knowledge.org/resource/Dongshan_u0...</td>\n",
       "      <td>Rural township of Yilan County, Taiwan</td>\n",
       "      <td>http://schema.org/location</td>\n",
       "      <td>http://yago-knowledge.org/resource/Taiwan</td>\n",
       "      <td>country in East Asia</td>\n",
       "      <td>http://yago-knowledge.org/resource/neighbors</td>\n",
       "      <td>http://yago-knowledge.org/resource/Philippines</td>\n",
       "      <td>sovereign state in Southeast Asia</td>\n",
       "    </tr>\n",
       "    <tr>\n",
       "      <th>98</th>\n",
       "      <td>http://yago-knowledge.org/resource/Penares_Can...</td>\n",
       "      <td>species of sponge</td>\n",
       "      <td>http://www.w3.org/1999/02/22-rdf-syntax-ns#type</td>\n",
       "      <td>http://schema.org/Taxon</td>\n",
       "      <td>group of one or more organism(s), which a taxo...</td>\n",
       "      <td>http://www.w3.org/2002/07/owl#disjointWith</td>\n",
       "      <td>http://schema.org/Organization</td>\n",
       "      <td>legal entity which is different from a natural...</td>\n",
       "    </tr>\n",
       "    <tr>\n",
       "      <th>99</th>\n",
       "      <td>http://yago-knowledge.org/resource/Tāne</td>\n",
       "      <td>NaN</td>\n",
       "      <td>None</td>\n",
       "      <td>None</td>\n",
       "      <td>NaN</td>\n",
       "      <td>None</td>\n",
       "      <td>None</td>\n",
       "      <td>NaN</td>\n",
       "    </tr>\n",
       "  </tbody>\n",
       "</table>\n",
       "<p>100 rows × 8 columns</p>\n",
       "</div>"
      ],
      "text/plain": [
       "                                              entity0  \\\n",
       "0   http://yago-knowledge.org/resource/_U005B_Cmw2...   \n",
       "1   http://yago-knowledge.org/resource/Intraprosta...   \n",
       "2   http://yago-knowledge.org/resource/2Dfgrs_Tgs5...   \n",
       "3   http://yago-knowledge.org/resource/1920_Wimble...   \n",
       "4   http://yago-knowledge.org/resource/The_Horns_P...   \n",
       "..                                                ...   \n",
       "95  http://yago-knowledge.org/resource/Alexander_M...   \n",
       "96  http://yago-knowledge.org/resource/Claude_Nico...   \n",
       "97  http://yago-knowledge.org/resource/Dongshan_u0...   \n",
       "98  http://yago-knowledge.org/resource/Penares_Can...   \n",
       "99            http://yago-knowledge.org/resource/Tāne   \n",
       "\n",
       "                                         description0  \\\n",
       "0                                              galaxy   \n",
       "1        scientific article published on October 2009   \n",
       "2                                              galaxy   \n",
       "3                           1920 tennis event results   \n",
       "4   pub in Ashbourne, Derbyshire Dales, Derbyshire...   \n",
       "..                                                ...   \n",
       "95                           Peerage person ID=579070   \n",
       "96                                                NaN   \n",
       "97             Rural township of Yilan County, Taiwan   \n",
       "98                                  species of sponge   \n",
       "99                                                NaN   \n",
       "\n",
       "                                         predicate1  \\\n",
       "0   http://www.w3.org/1999/02/22-rdf-syntax-ns#type   \n",
       "1   http://www.w3.org/1999/02/22-rdf-syntax-ns#type   \n",
       "2   http://www.w3.org/1999/02/22-rdf-syntax-ns#type   \n",
       "3                        http://schema.org/location   \n",
       "4   http://www.w3.org/1999/02/22-rdf-syntax-ns#type   \n",
       "..                                              ...   \n",
       "95                         http://schema.org/gender   \n",
       "96  http://www.w3.org/1999/02/22-rdf-syntax-ns#type   \n",
       "97                       http://schema.org/location   \n",
       "98  http://www.w3.org/1999/02/22-rdf-syntax-ns#type   \n",
       "99                                             None   \n",
       "\n",
       "                                              entity1  \\\n",
       "0           http://yago-knowledge.org/resource/Galaxy   \n",
       "1   http://yago-knowledge.org/resource/Review_article   \n",
       "2           http://yago-knowledge.org/resource/Galaxy   \n",
       "3   http://yago-knowledge.org/resource/United_King...   \n",
       "4              http://yago-knowledge.org/resource/Pub   \n",
       "..                                                ...   \n",
       "95     http://yago-knowledge.org/resource/Male_gender   \n",
       "96                           http://schema.org/Person   \n",
       "97          http://yago-knowledge.org/resource/Taiwan   \n",
       "98                            http://schema.org/Taxon   \n",
       "99                                               None   \n",
       "\n",
       "                                         description1  \\\n",
       "0   large gravitationally bound system of stars an...   \n",
       "1   article that summarizes the current state of u...   \n",
       "2   large gravitationally bound system of stars an...   \n",
       "3              historical sovereign state (1801–1922)   \n",
       "4                              drinking establishment   \n",
       "..                                                ...   \n",
       "95  to be used in 'sex or gender' (P21) to indicat...   \n",
       "96  being that has certain capacities or attribute...   \n",
       "97                               country in East Asia   \n",
       "98  group of one or more organism(s), which a taxo...   \n",
       "99                                                NaN   \n",
       "\n",
       "                                         predicate2  \\\n",
       "0   http://www.w3.org/2000/01/rdf-schema#subClassOf   \n",
       "1   http://www.w3.org/2000/01/rdf-schema#subClassOf   \n",
       "2   http://www.w3.org/2000/01/rdf-schema#subClassOf   \n",
       "3        http://yago-knowledge.org/resource/capital   \n",
       "4   http://www.w3.org/2000/01/rdf-schema#subClassOf   \n",
       "..                                              ...   \n",
       "95       http://www.w3.org/2000/01/rdf-schema#label   \n",
       "96       http://www.w3.org/2002/07/owl#disjointWith   \n",
       "97     http://yago-knowledge.org/resource/neighbors   \n",
       "98       http://www.w3.org/2002/07/owl#disjointWith   \n",
       "99                                             None   \n",
       "\n",
       "                                              entity2  \\\n",
       "0   http://yago-knowledge.org/resource/Deep-sky_ob...   \n",
       "1   http://yago-knowledge.org/resource/Secondary_s...   \n",
       "2   http://yago-knowledge.org/resource/Deep-sky_ob...   \n",
       "3           http://yago-knowledge.org/resource/London   \n",
       "4   http://yago-knowledge.org/resource/Bar__u0028_...   \n",
       "..                                                ...   \n",
       "95                                          gwrywaidd   \n",
       "96                            http://schema.org/Taxon   \n",
       "97     http://yago-knowledge.org/resource/Philippines   \n",
       "98                     http://schema.org/Organization   \n",
       "99                                               None   \n",
       "\n",
       "                                         description2  \n",
       "0   any astronomical object that is not an individ...  \n",
       "1   document that discusses information originally...  \n",
       "2   any astronomical object that is not an individ...  \n",
       "3      capital and largest city of the United Kingdom  \n",
       "4   establishment serving alcoholic beverages for ...  \n",
       "..                                                ...  \n",
       "95                                                NaN  \n",
       "96  group of one or more organism(s), which a taxo...  \n",
       "97                  sovereign state in Southeast Asia  \n",
       "98  legal entity which is different from a natural...  \n",
       "99                                                NaN  \n",
       "\n",
       "[100 rows x 8 columns]"
      ]
     },
     "execution_count": 9,
     "metadata": {},
     "output_type": "execute_result"
    }
   ],
   "source": [
    "entities_df"
   ]
  },
  {
   "cell_type": "code",
   "execution_count": 10,
   "metadata": {},
   "outputs": [
    {
     "data": {
      "text/plain": [
       "12"
      ]
     },
     "execution_count": 10,
     "metadata": {},
     "output_type": "execute_result"
    }
   ],
   "source": [
    "entities_df[\"description1\"].isna().sum()"
   ]
  },
  {
   "cell_type": "code",
   "execution_count": 11,
   "metadata": {},
   "outputs": [
    {
     "data": {
      "text/plain": [
       "'http://yago-knowledge.org/resource/Claude_Nicolas_Q115413430'"
      ]
     },
     "execution_count": 11,
     "metadata": {},
     "output_type": "execute_result"
    }
   ],
   "source": [
    "entities_df.iloc[96][\"entity0\"]"
   ]
  },
  {
   "cell_type": "code",
   "execution_count": 10,
   "metadata": {},
   "outputs": [],
   "source": [
    "entities_df.head(10).to_csv(\"walks.csv\", index=False)"
   ]
  },
  {
   "cell_type": "code",
   "execution_count": 13,
   "metadata": {},
   "outputs": [],
   "source": [
    "entities_df.to_csv(\"walks_temp.csv\", index=False)"
   ]
  },
  {
   "cell_type": "code",
   "execution_count": null,
   "metadata": {},
   "outputs": [],
   "source": []
  }
 ],
 "metadata": {
  "kernelspec": {
   "display_name": "claimbenchkg2",
   "language": "python",
   "name": "python3"
  },
  "language_info": {
   "codemirror_mode": {
    "name": "ipython",
    "version": 3
   },
   "file_extension": ".py",
   "mimetype": "text/x-python",
   "name": "python",
   "nbconvert_exporter": "python",
   "pygments_lexer": "ipython3",
   "version": "3.12.7"
  }
 },
 "nbformat": 4,
 "nbformat_minor": 2
}
