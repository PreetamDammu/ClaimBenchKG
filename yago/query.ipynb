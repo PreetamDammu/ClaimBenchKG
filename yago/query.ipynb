{
 "cells": [
  {
   "cell_type": "markdown",
   "metadata": {},
   "source": [
    "# Testing Queries\n",
    "\n",
    "Note: For now, we are lucky that the imports work, because we are using relative imports, and at one point, it will cause errors."
   ]
  },
  {
   "cell_type": "markdown",
   "metadata": {},
   "source": [
    "## IMPORTS"
   ]
  },
  {
   "cell_type": "code",
   "execution_count": 1,
   "metadata": {},
   "outputs": [],
   "source": [
    "import os\n",
    "import sys\n",
    "import random\n",
    "import requests\n",
    "import argparse\n",
    "from typing import List, Set\n",
    "\n",
    "import numpy as np\n",
    "import pandas as pd"
   ]
  },
  {
   "cell_type": "code",
   "execution_count": 2,
   "metadata": {},
   "outputs": [],
   "source": [
    "from db.yagodb import YagoDB\n",
    "from db.constants.main import YAGO_ALL_ENTITY_COUNT, YAGO_FACTS_ENTITY_COUNT\n",
    "from db.functions.entity import get_random_entities_query"
   ]
  },
  {
   "cell_type": "code",
   "execution_count": 3,
   "metadata": {},
   "outputs": [],
   "source": [
    "from kg.query import get_triples_multiple_subjects_query, get_description_multiple_entities_query, query_kg, get_triples_from_response"
   ]
  },
  {
   "cell_type": "code",
   "execution_count": 4,
   "metadata": {},
   "outputs": [],
   "source": [
    "from utils.constants import YAGO_ENTITY_STORE_DB_PATH, YAGO_PREFIXES_PATH, YAGO_ENDPOINT_URL\n",
    "from utils.prefix import get_prefixes, get_url_from_prefix_and_id\n",
    "from utils.random_walk2 import SPARQL_COLUMNS_DICT, RandomWalk2"
   ]
  },
  {
   "cell_type": "markdown",
   "metadata": {},
   "source": [
    "### CONSTANTS"
   ]
  },
  {
   "cell_type": "markdown",
   "metadata": {},
   "source": [
    "### FUNCTIONS"
   ]
  },
  {
   "cell_type": "markdown",
   "metadata": {},
   "source": [
    "### Experiment Single Walks"
   ]
  },
  {
   "cell_type": "code",
   "execution_count": 5,
   "metadata": {},
   "outputs": [],
   "source": [
    "yago_db = YagoDB(YAGO_ENTITY_STORE_DB_PATH)"
   ]
  },
  {
   "cell_type": "code",
   "execution_count": 6,
   "metadata": {},
   "outputs": [],
   "source": [
    "random_walk_2 = RandomWalk2(yago_db)"
   ]
  },
  {
   "cell_type": "code",
   "execution_count": 7,
   "metadata": {},
   "outputs": [],
   "source": [
    "entities_df = random_walk_2.random_walk_description_batch(num_of_entities=1000, depth=3)"
   ]
  },
  {
   "cell_type": "code",
   "execution_count": 8,
   "metadata": {},
   "outputs": [
    {
     "data": {
      "text/html": [
       "<div>\n",
       "<style scoped>\n",
       "    .dataframe tbody tr th:only-of-type {\n",
       "        vertical-align: middle;\n",
       "    }\n",
       "\n",
       "    .dataframe tbody tr th {\n",
       "        vertical-align: top;\n",
       "    }\n",
       "\n",
       "    .dataframe thead th {\n",
       "        text-align: right;\n",
       "    }\n",
       "</style>\n",
       "<table border=\"1\" class=\"dataframe\">\n",
       "  <thead>\n",
       "    <tr style=\"text-align: right;\">\n",
       "      <th></th>\n",
       "      <th>entity0</th>\n",
       "      <th>description0</th>\n",
       "      <th>predicate1</th>\n",
       "      <th>entity1</th>\n",
       "      <th>description1</th>\n",
       "      <th>predicate2</th>\n",
       "      <th>entity2</th>\n",
       "      <th>description2</th>\n",
       "    </tr>\n",
       "  </thead>\n",
       "  <tbody>\n",
       "    <tr>\n",
       "      <th>0</th>\n",
       "      <td>http://yago-knowledge.org/resource/Alsophila_D...</td>\n",
       "      <td>species of fern in the class Equisetopsida</td>\n",
       "      <td>http://www.w3.org/1999/02/22-rdf-syntax-ns#type</td>\n",
       "      <td>http://schema.org/Taxon</td>\n",
       "      <td>group of one or more organism(s), which a taxo...</td>\n",
       "      <td>http://www.w3.org/2002/07/owl#disjointWith</td>\n",
       "      <td>http://schema.org/CreativeWork</td>\n",
       "      <td>artistic creation</td>\n",
       "    </tr>\n",
       "    <tr>\n",
       "      <th>1</th>\n",
       "      <td>http://yago-knowledge.org/resource/Hosztót</td>\n",
       "      <td>NaN</td>\n",
       "      <td>None</td>\n",
       "      <td>None</td>\n",
       "      <td>NaN</td>\n",
       "      <td>None</td>\n",
       "      <td>None</td>\n",
       "      <td>NaN</td>\n",
       "    </tr>\n",
       "    <tr>\n",
       "      <th>2</th>\n",
       "      <td>http://yago-knowledge.org/resource/Roodhaar_Q2...</td>\n",
       "      <td>NaN</td>\n",
       "      <td>http://yago-knowledge.org/resource/appearsIn</td>\n",
       "      <td>http://yago-knowledge.org/resource/Storm__u002...</td>\n",
       "      <td>comic book series</td>\n",
       "      <td>http://www.w3.org/1999/02/22-rdf-syntax-ns#type</td>\n",
       "      <td>http://yago-knowledge.org/resource/Comic_book_...</td>\n",
       "      <td>group of published comic stories typically sha...</td>\n",
       "    </tr>\n",
       "    <tr>\n",
       "      <th>3</th>\n",
       "      <td>http://yago-knowledge.org/resource/Cinemart_Q1...</td>\n",
       "      <td>NaN</td>\n",
       "      <td>http://schema.org/location</td>\n",
       "      <td>http://yago-knowledge.org/resource/Netherlands</td>\n",
       "      <td>country in Northwestern Europe with territorie...</td>\n",
       "      <td>http://schema.org/memberOf</td>\n",
       "      <td>http://yago-knowledge.org/resource/Internation...</td>\n",
       "      <td>Non-governmental sports organisation (founded ...</td>\n",
       "    </tr>\n",
       "    <tr>\n",
       "      <th>4</th>\n",
       "      <td>http://yago-knowledge.org/resource/Alavala_Bra...</td>\n",
       "      <td>NaN</td>\n",
       "      <td>http://schema.org/location</td>\n",
       "      <td>http://yago-knowledge.org/resource/India</td>\n",
       "      <td>country in South Asia</td>\n",
       "      <td>http://yago-knowledge.org/resource/replaces</td>\n",
       "      <td>http://yago-knowledge.org/resource/Nandgaon_State</td>\n",
       "      <td>Indian Princely State during the British Raj &amp;...</td>\n",
       "    </tr>\n",
       "    <tr>\n",
       "      <th>...</th>\n",
       "      <td>...</td>\n",
       "      <td>...</td>\n",
       "      <td>...</td>\n",
       "      <td>...</td>\n",
       "      <td>...</td>\n",
       "      <td>...</td>\n",
       "      <td>...</td>\n",
       "      <td>...</td>\n",
       "    </tr>\n",
       "    <tr>\n",
       "      <th>995</th>\n",
       "      <td>http://yago-knowledge.org/resource/Tyc_648-317...</td>\n",
       "      <td>high proper-motion star in the constellation C...</td>\n",
       "      <td>http://www.w3.org/1999/02/22-rdf-syntax-ns#type</td>\n",
       "      <td>http://yago-knowledge.org/resource/High_Proper...</td>\n",
       "      <td>total proper motion &gt;= 50 mas/yr</td>\n",
       "      <td>http://www.w3.org/2000/01/rdf-schema#subClassOf</td>\n",
       "      <td>http://yago-knowledge.org/resource/Star</td>\n",
       "      <td>astronomical object consisting of a luminous s...</td>\n",
       "    </tr>\n",
       "    <tr>\n",
       "      <th>996</th>\n",
       "      <td>http://yago-knowledge.org/resource/Q109001960</td>\n",
       "      <td>encyclopedia article published in Church Encyc...</td>\n",
       "      <td>http://www.w3.org/1999/02/22-rdf-syntax-ns#type</td>\n",
       "      <td>http://yago-knowledge.org/resource/Encyclopedi...</td>\n",
       "      <td>part of encyclopedia, sometimes considered as ...</td>\n",
       "      <td>http://www.w3.org/2000/01/rdf-schema#subClassOf</td>\n",
       "      <td>http://yago-knowledge.org/resource/Lemma_Q3055347</td>\n",
       "      <td>definition in a reference work (dictionary or ...</td>\n",
       "    </tr>\n",
       "    <tr>\n",
       "      <th>997</th>\n",
       "      <td>http://yago-knowledge.org/resource/Knapphenne_...</td>\n",
       "      <td>mountain in Italy</td>\n",
       "      <td>http://schema.org/location</td>\n",
       "      <td>http://yago-knowledge.org/resource/Italy</td>\n",
       "      <td>country in Southern Europe</td>\n",
       "      <td>http://yago-knowledge.org/resource/capital</td>\n",
       "      <td>http://yago-knowledge.org/resource/Rome</td>\n",
       "      <td>capital and largest city of Italy</td>\n",
       "    </tr>\n",
       "    <tr>\n",
       "      <th>998</th>\n",
       "      <td>http://yago-knowledge.org/resource/Sidomulyo_Q...</td>\n",
       "      <td>village in Silo District, Jember Regency, East...</td>\n",
       "      <td>http://schema.org/location</td>\n",
       "      <td>http://yago-knowledge.org/resource/Indonesia</td>\n",
       "      <td>country in Southeast Asia and Oceania</td>\n",
       "      <td>http://yago-knowledge.org/resource/capital</td>\n",
       "      <td>http://yago-knowledge.org/resource/Jakarta</td>\n",
       "      <td>capital city and smallest province of Indonesia</td>\n",
       "    </tr>\n",
       "    <tr>\n",
       "      <th>999</th>\n",
       "      <td>http://yago-knowledge.org/resource/3_St_Helen_...</td>\n",
       "      <td>building in York, North Yorkshire, UK</td>\n",
       "      <td>http://www.w3.org/1999/02/22-rdf-syntax-ns#type</td>\n",
       "      <td>http://yago-knowledge.org/resource/Building</td>\n",
       "      <td>structure, typically with a roof and walls, st...</td>\n",
       "      <td>http://www.w3.org/2000/01/rdf-schema#subClassOf</td>\n",
       "      <td>http://yago-knowledge.org/resource/HumanMadeGe...</td>\n",
       "      <td>alterations to land created by people</td>\n",
       "    </tr>\n",
       "  </tbody>\n",
       "</table>\n",
       "<p>1000 rows × 8 columns</p>\n",
       "</div>"
      ],
      "text/plain": [
       "                                               entity0  \\\n",
       "0    http://yago-knowledge.org/resource/Alsophila_D...   \n",
       "1           http://yago-knowledge.org/resource/Hosztót   \n",
       "2    http://yago-knowledge.org/resource/Roodhaar_Q2...   \n",
       "3    http://yago-knowledge.org/resource/Cinemart_Q1...   \n",
       "4    http://yago-knowledge.org/resource/Alavala_Bra...   \n",
       "..                                                 ...   \n",
       "995  http://yago-knowledge.org/resource/Tyc_648-317...   \n",
       "996      http://yago-knowledge.org/resource/Q109001960   \n",
       "997  http://yago-knowledge.org/resource/Knapphenne_...   \n",
       "998  http://yago-knowledge.org/resource/Sidomulyo_Q...   \n",
       "999  http://yago-knowledge.org/resource/3_St_Helen_...   \n",
       "\n",
       "                                          description0  \\\n",
       "0           species of fern in the class Equisetopsida   \n",
       "1                                                  NaN   \n",
       "2                                                  NaN   \n",
       "3                                                  NaN   \n",
       "4                                                  NaN   \n",
       "..                                                 ...   \n",
       "995  high proper-motion star in the constellation C...   \n",
       "996  encyclopedia article published in Church Encyc...   \n",
       "997                                  mountain in Italy   \n",
       "998  village in Silo District, Jember Regency, East...   \n",
       "999              building in York, North Yorkshire, UK   \n",
       "\n",
       "                                          predicate1  \\\n",
       "0    http://www.w3.org/1999/02/22-rdf-syntax-ns#type   \n",
       "1                                               None   \n",
       "2       http://yago-knowledge.org/resource/appearsIn   \n",
       "3                         http://schema.org/location   \n",
       "4                         http://schema.org/location   \n",
       "..                                               ...   \n",
       "995  http://www.w3.org/1999/02/22-rdf-syntax-ns#type   \n",
       "996  http://www.w3.org/1999/02/22-rdf-syntax-ns#type   \n",
       "997                       http://schema.org/location   \n",
       "998                       http://schema.org/location   \n",
       "999  http://www.w3.org/1999/02/22-rdf-syntax-ns#type   \n",
       "\n",
       "                                               entity1  \\\n",
       "0                              http://schema.org/Taxon   \n",
       "1                                                 None   \n",
       "2    http://yago-knowledge.org/resource/Storm__u002...   \n",
       "3       http://yago-knowledge.org/resource/Netherlands   \n",
       "4             http://yago-knowledge.org/resource/India   \n",
       "..                                                 ...   \n",
       "995  http://yago-knowledge.org/resource/High_Proper...   \n",
       "996  http://yago-knowledge.org/resource/Encyclopedi...   \n",
       "997           http://yago-knowledge.org/resource/Italy   \n",
       "998       http://yago-knowledge.org/resource/Indonesia   \n",
       "999        http://yago-knowledge.org/resource/Building   \n",
       "\n",
       "                                          description1  \\\n",
       "0    group of one or more organism(s), which a taxo...   \n",
       "1                                                  NaN   \n",
       "2                                    comic book series   \n",
       "3    country in Northwestern Europe with territorie...   \n",
       "4                                country in South Asia   \n",
       "..                                                 ...   \n",
       "995                   total proper motion >= 50 mas/yr   \n",
       "996  part of encyclopedia, sometimes considered as ...   \n",
       "997                         country in Southern Europe   \n",
       "998              country in Southeast Asia and Oceania   \n",
       "999  structure, typically with a roof and walls, st...   \n",
       "\n",
       "                                          predicate2  \\\n",
       "0         http://www.w3.org/2002/07/owl#disjointWith   \n",
       "1                                               None   \n",
       "2    http://www.w3.org/1999/02/22-rdf-syntax-ns#type   \n",
       "3                         http://schema.org/memberOf   \n",
       "4        http://yago-knowledge.org/resource/replaces   \n",
       "..                                               ...   \n",
       "995  http://www.w3.org/2000/01/rdf-schema#subClassOf   \n",
       "996  http://www.w3.org/2000/01/rdf-schema#subClassOf   \n",
       "997       http://yago-knowledge.org/resource/capital   \n",
       "998       http://yago-knowledge.org/resource/capital   \n",
       "999  http://www.w3.org/2000/01/rdf-schema#subClassOf   \n",
       "\n",
       "                                               entity2  \\\n",
       "0                       http://schema.org/CreativeWork   \n",
       "1                                                 None   \n",
       "2    http://yago-knowledge.org/resource/Comic_book_...   \n",
       "3    http://yago-knowledge.org/resource/Internation...   \n",
       "4    http://yago-knowledge.org/resource/Nandgaon_State   \n",
       "..                                                 ...   \n",
       "995            http://yago-knowledge.org/resource/Star   \n",
       "996  http://yago-knowledge.org/resource/Lemma_Q3055347   \n",
       "997            http://yago-knowledge.org/resource/Rome   \n",
       "998         http://yago-knowledge.org/resource/Jakarta   \n",
       "999  http://yago-knowledge.org/resource/HumanMadeGe...   \n",
       "\n",
       "                                          description2  \n",
       "0                                    artistic creation  \n",
       "1                                                  NaN  \n",
       "2    group of published comic stories typically sha...  \n",
       "3    Non-governmental sports organisation (founded ...  \n",
       "4    Indian Princely State during the British Raj &...  \n",
       "..                                                 ...  \n",
       "995  astronomical object consisting of a luminous s...  \n",
       "996  definition in a reference work (dictionary or ...  \n",
       "997                  capital and largest city of Italy  \n",
       "998    capital city and smallest province of Indonesia  \n",
       "999              alterations to land created by people  \n",
       "\n",
       "[1000 rows x 8 columns]"
      ]
     },
     "execution_count": 8,
     "metadata": {},
     "output_type": "execute_result"
    }
   ],
   "source": [
    "entities_df"
   ]
  },
  {
   "cell_type": "code",
   "execution_count": 13,
   "metadata": {},
   "outputs": [
    {
     "data": {
      "text/plain": [
       "265"
      ]
     },
     "execution_count": 13,
     "metadata": {},
     "output_type": "execute_result"
    }
   ],
   "source": [
    "entities_df[\"description0\"].isna().sum()"
   ]
  },
  {
   "cell_type": "code",
   "execution_count": 14,
   "metadata": {},
   "outputs": [],
   "source": [
    "entities_df[\"entity1\"].to_csv(\"entity1.csv\", index=False)"
   ]
  },
  {
   "cell_type": "code",
   "execution_count": null,
   "metadata": {},
   "outputs": [],
   "source": []
  }
 ],
 "metadata": {
  "kernelspec": {
   "display_name": "claimbenchkg2",
   "language": "python",
   "name": "python3"
  },
  "language_info": {
   "codemirror_mode": {
    "name": "ipython",
    "version": 3
   },
   "file_extension": ".py",
   "mimetype": "text/x-python",
   "name": "python",
   "nbconvert_exporter": "python",
   "pygments_lexer": "ipython3",
   "version": "3.12.7"
  }
 },
 "nbformat": 4,
 "nbformat_minor": 2
}
