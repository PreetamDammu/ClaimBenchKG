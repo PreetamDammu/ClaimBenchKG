{
 "cells": [
  {
   "cell_type": "code",
   "execution_count": 1,
   "id": "33448b5f-f911-403e-a1b7-72696e1fa467",
   "metadata": {},
   "outputs": [],
   "source": [
    "from wikidata5m.utils import WikidataDB"
   ]
  },
  {
   "cell_type": "code",
   "execution_count": 2,
   "id": "43843a64-b2a3-4846-86c6-cc4970ab913d",
   "metadata": {},
   "outputs": [],
   "source": [
    "db = WikidataDB('db/knowledge_graph.db')"
   ]
  },
  {
   "cell_type": "code",
   "execution_count": 18,
   "id": "1cbedd34-a803-4265-b573-a3455756b297",
   "metadata": {
    "scrolled": true
   },
   "outputs": [
    {
     "name": "stdout",
     "output_type": "stream",
     "text": [
      "4333.632799863815\n"
     ]
    }
   ],
   "source": [
    "import time\n",
    "n_out = []\n",
    "\n",
    "\n",
    "t = time.time()\n",
    "for _ in range(1000):\n",
    "    item = db.random_item()\n",
    "    l = len(db.claims_from_target(item.id))\n",
    "    n_out.append(l)\n",
    "print(time.time() - t)"
   ]
  },
  {
   "cell_type": "code",
   "execution_count": 19,
   "id": "78a87197-3ac8-4744-aae1-b0378049673b",
   "metadata": {},
   "outputs": [
    {
     "data": {
      "text/plain": [
       "249"
      ]
     },
     "execution_count": 19,
     "metadata": {},
     "output_type": "execute_result"
    }
   ],
   "source": [
    "sum([n > 0 for n in n_out])"
   ]
  }
 ],
 "metadata": {
  "kernelspec": {
   "display_name": "personal-claimbench",
   "language": "python",
   "name": "personal-claimbench"
  },
  "language_info": {
   "codemirror_mode": {
    "name": "ipython",
    "version": 3
   },
   "file_extension": ".py",
   "mimetype": "text/x-python",
   "name": "python",
   "nbconvert_exporter": "python",
   "pygments_lexer": "ipython3",
   "version": "3.11.1"
  }
 },
 "nbformat": 4,
 "nbformat_minor": 5
}
