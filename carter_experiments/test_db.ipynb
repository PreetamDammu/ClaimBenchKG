{
 "cells": [
  {
   "cell_type": "code",
   "execution_count": 1,
   "id": "a13f20b6-8ed3-43e6-995c-8c100fac20c6",
   "metadata": {},
   "outputs": [],
   "source": [
    "from wikidata5m import utils"
   ]
  },
  {
   "cell_type": "code",
   "execution_count": 2,
   "id": "7ef2f29d-2f1f-4c66-a417-89cec04c576f",
   "metadata": {},
   "outputs": [],
   "source": [
    "db = utils.WikidataDB('db/knowledge_graph.db')"
   ]
  },
  {
   "cell_type": "code",
   "execution_count": 3,
   "id": "166cf011-791b-446d-874c-51ab4f645663",
   "metadata": {},
   "outputs": [],
   "source": [
    "doug = db.get_item('fdsafds')"
   ]
  },
  {
   "cell_type": "code",
   "execution_count": 4,
   "id": "5fd88e19-1b21-4d26-80e6-9af98a6334e8",
   "metadata": {},
   "outputs": [
    {
     "name": "stdout",
     "output_type": "stream",
     "text": [
      "None\n"
     ]
    }
   ],
   "source": [
    "print(doug)"
   ]
  },
  {
   "cell_type": "code",
   "execution_count": 5,
   "id": "0812e8d5-329e-4bd9-a16a-435a1f843908",
   "metadata": {},
   "outputs": [],
   "source": [
    "prop = db.get_property('P31')"
   ]
  },
  {
   "cell_type": "code",
   "execution_count": 6,
   "id": "c0a95894-c592-42b7-951f-7d2713e6f3ea",
   "metadata": {},
   "outputs": [
    {
     "name": "stdout",
     "output_type": "stream",
     "text": [
      "Propery: P31. instance of, is a, is an, has ...\n"
     ]
    }
   ],
   "source": [
    "print(prop)"
   ]
  },
  {
   "cell_type": "code",
   "execution_count": 7,
   "id": "6468d480-a31d-42cc-93dc-595bac28b8da",
   "metadata": {},
   "outputs": [
    {
     "name": "stdout",
     "output_type": "stream",
     "text": [
      "subject: Q875382, Property: P50, Target: Q42\n",
      "subject: Q16401, Property: P161, Target: Q42\n",
      "subject: Q613901, Property: P170, Target: Q42\n",
      "subject: Q847094, Property: P1877, Target: Q42\n",
      "subject: Q7739855, Property: P371, Target: Q42\n",
      "subject: Q1198969, Property: P50, Target: Q42\n",
      "subject: Q5123647, Property: P58, Target: Q42\n",
      "subject: Q1199348, Property: P50, Target: Q42\n",
      "subject: Q3520623, Property: P112, Target: Q42\n",
      "subject: Q721, Property: P50, Target: Q42\n",
      "subject: Q3029691, Property: P170, Target: Q42\n",
      "subject: Q1768713, Property: P58, Target: Q42\n",
      "subject: Q3107329, Property: P50, Target: Q42\n",
      "subject: Q468135, Property: P50, Target: Q42\n",
      "subject: Q902712, Property: P50, Target: Q42\n",
      "subject: Q7771858, Property: P50, Target: Q42\n",
      "subject: Q959519, Property: P170, Target: Q42\n",
      "subject: Q12858529, Property: P58, Target: Q42\n",
      "subject: Q513589, Property: P58, Target: Q42\n",
      "subject: Q5301193, Property: P371, Target: Q42\n",
      "subject: Q7758404, Property: P50, Target: Q42\n",
      "subject: Q264685, Property: P170, Target: Q42\n",
      "subject: Q779920, Property: P170, Target: Q42\n",
      "subject: Q2754997, Property: P170, Target: Q42\n",
      "subject: Q2924230, Property: P161, Target: Q42\n",
      "subject: Q578895, Property: P50, Target: Q42\n",
      "subject: Q5301192, Property: P50, Target: Q42\n",
      "subject: Q836821, Property: P1877, Target: Q42\n",
      "subject: Q7739857, Property: P50, Target: Q42\n",
      "subject: Q3470527, Property: P58, Target: Q42\n",
      "subject: Q304643, Property: P287, Target: Q42\n",
      "subject: Q17110831, Property: P50, Target: Q42\n",
      "subject: Q756513, Property: P287, Target: Q42\n",
      "subject: Q2073118, Property: P170, Target: Q42\n",
      "subject: Q187655, Property: P50, Target: Q42\n",
      "subject: Q1042294, Property: P50, Target: Q42\n",
      "subject: Q285194, Property: P112, Target: Q42\n",
      "subject: Q3521267, Property: P170, Target: Q42\n",
      "subject: Q25169, Property: P50, Target: Q42\n",
      "subject: Q1068999, Property: P50, Target: Q42\n",
      "subject: Q1065955, Property: P287, Target: Q42\n",
      "subject: Q928321, Property: P170, Target: Q42\n",
      "subject: Q637202, Property: P170, Target: Q42\n",
      "subject: Q351926, Property: P287, Target: Q42\n"
     ]
    }
   ],
   "source": [
    "for c in db.claims_from_target('Q42'):\n",
    "    print(c)"
   ]
  },
  {
   "cell_type": "code",
   "execution_count": 14,
   "id": "698c18be-16a5-4e60-8466-65c7d4ffe1ba",
   "metadata": {},
   "outputs": [
    {
     "name": "stdout",
     "output_type": "stream",
     "text": [
      "subject: Q29387131, Property: P31, Target: Q5\n"
     ]
    }
   ],
   "source": [
    "print(db.get_claim(1))"
   ]
  },
  {
   "cell_type": "code",
   "execution_count": null,
   "id": "e7c0afa4-c8d9-4616-95fb-62039b5e033a",
   "metadata": {},
   "outputs": [],
   "source": []
  }
 ],
 "metadata": {
  "kernelspec": {
   "display_name": "Python 3 (ipykernel)",
   "language": "python",
   "name": "python3"
  },
  "language_info": {
   "codemirror_mode": {
    "name": "ipython",
    "version": 3
   },
   "file_extension": ".py",
   "mimetype": "text/x-python",
   "name": "python",
   "nbconvert_exporter": "python",
   "pygments_lexer": "ipython3",
   "version": "3.11.1"
  }
 },
 "nbformat": 4,
 "nbformat_minor": 5
}
