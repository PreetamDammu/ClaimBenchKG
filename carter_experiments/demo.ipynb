{
 "cells": [
  {
   "cell_type": "code",
   "execution_count": 10,
   "id": "c3333ca8-e5ea-45d1-b03a-3de6ba6c74b4",
   "metadata": {},
   "outputs": [],
   "source": [
    "# imports\n",
    "import sqlite3\n",
    "from pprint import pprint as print\n",
    "\n",
    "from sample import sample, generate"
   ]
  },
  {
   "cell_type": "code",
   "execution_count": 11,
   "id": "be38c811-a00e-4cbe-ae6b-5946bbedd66c",
   "metadata": {},
   "outputs": [],
   "source": [
    "# connect to db\n",
    "db = sqlite3.connect('knowledge_graph.db')\n",
    "cursor = db.cursor()"
   ]
  },
  {
   "cell_type": "code",
   "execution_count": 12,
   "id": "b2e84fb7-2731-4092-b214-a0abedf8cda5",
   "metadata": {},
   "outputs": [
    {
     "name": "stdout",
     "output_type": "stream",
     "text": [
      "'no possible hops: retrying'\n",
      "'log:'\n",
      "['removed 0 claims via duplicates',\n",
      " 'removed 11 claims via duplicates',\n",
      " 'removed 0 claims via duplicates']\n",
      "('**Item 1:** Q88557, helene a. von damm, helene von damm, Helene Von Damm, '\n",
      " 'Helene von Damm, Helene A.')\n",
      "('**Prop:** P735, given name, forename, first name, personal name, middle '\n",
      " 'name, Christian name')\n",
      "('**Item 2:** Q971710, Helene (given name), helene (first name), Helene '\n",
      " '(name), helene (given name), he')\n",
      "'**Prop:** P1750, name day'\n",
      "('**Item 3:** Q2580, 21 May, 21st May, 21st may, 21st of may, may 21, 21st of '\n",
      " 'May, May 21st, May 21, ')\n",
      "('**Prop:** P361, part of, meronym of, section of, system of, subsystem of, '\n",
      " 'subassembly of, merged')\n",
      "('**Item 5:** Q119, May sickness, ㋄, may sickness, Month May, may (month), 5. '\n",
      " 'month, May (month), mo')\n"
     ]
    },
    {
     "ename": "OpenAIError",
     "evalue": "The api_key client option must be set either by passing api_key to the client or by setting the OPENAI_API_KEY environment variable",
     "output_type": "error",
     "traceback": [
      "\u001b[0;31m---------------------------------------------------------------------------\u001b[0m",
      "\u001b[0;31mOpenAIError\u001b[0m                               Traceback (most recent call last)",
      "Cell \u001b[0;32mIn[12], line 34\u001b[0m\n\u001b[1;32m     31\u001b[0m     \u001b[38;5;28mprint\u001b[39m(\u001b[38;5;124mf\u001b[39m\u001b[38;5;124m'\u001b[39m\u001b[38;5;124m**Prop:** \u001b[39m\u001b[38;5;132;01m{\u001b[39;00mprop[\u001b[38;5;241m0\u001b[39m]\u001b[38;5;132;01m}\u001b[39;00m\u001b[38;5;124m, \u001b[39m\u001b[38;5;132;01m{\u001b[39;00mprop[\u001b[38;5;241m1\u001b[39m][:\u001b[38;5;241m80\u001b[39m]\u001b[38;5;132;01m}\u001b[39;00m\u001b[38;5;124m'\u001b[39m)\n\u001b[1;32m     32\u001b[0m \u001b[38;5;28mprint\u001b[39m(\u001b[38;5;124mf\u001b[39m\u001b[38;5;124m'\u001b[39m\u001b[38;5;124m**Item \u001b[39m\u001b[38;5;132;01m{\u001b[39;00m\u001b[38;5;28mlen\u001b[39m(path)\u001b[38;5;241m+\u001b[39m\u001b[38;5;241m1\u001b[39m\u001b[38;5;132;01m}\u001b[39;00m\u001b[38;5;124m:** \u001b[39m\u001b[38;5;132;01m{\u001b[39;00mpath[\u001b[38;5;241m-\u001b[39m\u001b[38;5;241m1\u001b[39m][\u001b[38;5;241m0\u001b[39m]\u001b[38;5;132;01m}\u001b[39;00m\u001b[38;5;124m, \u001b[39m\u001b[38;5;132;01m{\u001b[39;00mpath[\u001b[38;5;241m-\u001b[39m\u001b[38;5;241m1\u001b[39m][\u001b[38;5;241m1\u001b[39m][:\u001b[38;5;241m80\u001b[39m]\u001b[38;5;132;01m}\u001b[39;00m\u001b[38;5;124m'\u001b[39m)\n\u001b[0;32m---> 34\u001b[0m \u001b[38;5;28mprint\u001b[39m(\u001b[38;5;124mf\u001b[39m\u001b[38;5;124m'\u001b[39m\u001b[38;5;124m**Generated Question:** *\u001b[39m\u001b[38;5;132;01m{\u001b[39;00m\u001b[43mgenerate\u001b[49m\u001b[43m(\u001b[49m\u001b[43mpath\u001b[49m\u001b[43m,\u001b[49m\u001b[38;5;250;43m \u001b[39;49m\u001b[43mprops\u001b[49m\u001b[43m)\u001b[49m\u001b[38;5;132;01m}\u001b[39;00m\u001b[38;5;124m*\u001b[39m\u001b[38;5;124m'\u001b[39m)\n\u001b[1;32m     35\u001b[0m n_generated \u001b[38;5;241m+\u001b[39m\u001b[38;5;241m=\u001b[39m \u001b[38;5;241m1\u001b[39m\n\u001b[1;32m     36\u001b[0m \u001b[38;5;28mprint\u001b[39m(\u001b[38;5;124m'\u001b[39m\u001b[38;5;124m-\u001b[39m\u001b[38;5;124m'\u001b[39m \u001b[38;5;241m*\u001b[39m \u001b[38;5;241m80\u001b[39m)\n",
      "File \u001b[0;32m~/kg/ClaimBenchKG/carter_experiments/sample.py:131\u001b[0m, in \u001b[0;36mgenerate\u001b[0;34m(path, properties)\u001b[0m\n\u001b[1;32m    117\u001b[0m     sample \u001b[38;5;241m=\u001b[39m \u001b[38;5;124m'\u001b[39m\u001b[38;5;130;01m\\n\u001b[39;00m\u001b[38;5;124m'\u001b[39m\u001b[38;5;241m.\u001b[39mjoin(example)\n\u001b[1;32m    118\u001b[0m     prompt \u001b[38;5;241m=\u001b[39m \u001b[38;5;124m\"\"\"\u001b[39m\n\u001b[1;32m    119\u001b[0m \u001b[38;5;124mYou will be given a starting item and a sequence of relationships, as hops, leading to an answer. You need to convert this information into a question, asking what the final item would be after all of the hops. Only respond with the question, nothing else.\u001b[39m\n\u001b[1;32m    120\u001b[0m \n\u001b[0;32m   (...)\u001b[0m\n\u001b[1;32m    129\u001b[0m \u001b[38;5;124mSample:\u001b[39m\n\u001b[1;32m    130\u001b[0m \u001b[38;5;124m\"\"\"\u001b[39m \u001b[38;5;241m+\u001b[39m sample\n\u001b[0;32m--> 131\u001b[0m     client \u001b[38;5;241m=\u001b[39m \u001b[43mOpenAI\u001b[49m\u001b[43m(\u001b[49m\u001b[43m)\u001b[49m\n\u001b[1;32m    132\u001b[0m     chat_completion \u001b[38;5;241m=\u001b[39m client\u001b[38;5;241m.\u001b[39mchat\u001b[38;5;241m.\u001b[39mcompletions\u001b[38;5;241m.\u001b[39mcreate(\n\u001b[1;32m    133\u001b[0m         messages\u001b[38;5;241m=\u001b[39m[\n\u001b[1;32m    134\u001b[0m             {\n\u001b[0;32m   (...)\u001b[0m\n\u001b[1;32m    139\u001b[0m         model\u001b[38;5;241m=\u001b[39m\u001b[38;5;124m\"\u001b[39m\u001b[38;5;124mgpt-4-turbo\u001b[39m\u001b[38;5;124m\"\u001b[39m,\n\u001b[1;32m    140\u001b[0m     )\n\u001b[1;32m    141\u001b[0m     response \u001b[38;5;241m=\u001b[39m chat_completion\u001b[38;5;241m.\u001b[39mchoices[\u001b[38;5;241m0\u001b[39m]\u001b[38;5;241m.\u001b[39mmessage\u001b[38;5;241m.\u001b[39mcontent\n",
      "File \u001b[0;32m~/kg/ClaimBenchKG/carter_experiments/.venv/lib/python3.11/site-packages/openai/_client.py:104\u001b[0m, in \u001b[0;36mOpenAI.__init__\u001b[0;34m(self, api_key, organization, project, base_url, timeout, max_retries, default_headers, default_query, http_client, _strict_response_validation)\u001b[0m\n\u001b[1;32m    102\u001b[0m     api_key \u001b[38;5;241m=\u001b[39m os\u001b[38;5;241m.\u001b[39menviron\u001b[38;5;241m.\u001b[39mget(\u001b[38;5;124m\"\u001b[39m\u001b[38;5;124mOPENAI_API_KEY\u001b[39m\u001b[38;5;124m\"\u001b[39m)\n\u001b[1;32m    103\u001b[0m \u001b[38;5;28;01mif\u001b[39;00m api_key \u001b[38;5;129;01mis\u001b[39;00m \u001b[38;5;28;01mNone\u001b[39;00m:\n\u001b[0;32m--> 104\u001b[0m     \u001b[38;5;28;01mraise\u001b[39;00m OpenAIError(\n\u001b[1;32m    105\u001b[0m         \u001b[38;5;124m\"\u001b[39m\u001b[38;5;124mThe api_key client option must be set either by passing api_key to the client or by setting the OPENAI_API_KEY environment variable\u001b[39m\u001b[38;5;124m\"\u001b[39m\n\u001b[1;32m    106\u001b[0m     )\n\u001b[1;32m    107\u001b[0m \u001b[38;5;28mself\u001b[39m\u001b[38;5;241m.\u001b[39mapi_key \u001b[38;5;241m=\u001b[39m api_key\n\u001b[1;32m    109\u001b[0m \u001b[38;5;28;01mif\u001b[39;00m organization \u001b[38;5;129;01mis\u001b[39;00m \u001b[38;5;28;01mNone\u001b[39;00m:\n",
      "\u001b[0;31mOpenAIError\u001b[0m: The api_key client option must be set either by passing api_key to the client or by setting the OPENAI_API_KEY environment variable"
     ]
    }
   ],
   "source": [
    "# sample\n",
    "# MAKE SURE TO SET 'OPENAI_API_KEY' in your env!\n",
    "\n",
    "# params ---------------------------------------------------------------\n",
    "n_hops = 3 # number of hops for each sample\n",
    "c = 0.3 # hyperparam for \n",
    "bad_props = 'P31 P1343 P279' # properties to avoid, space-separated\n",
    "bad_items = '' # items to avoid, space-separated\n",
    "n_samples = 3 # number of samples to generate\n",
    "# params ---------------------------------------------------------------\n",
    "\n",
    "n_generated = 0\n",
    "while n_generated < int(n_samples):\n",
    "    log = []\n",
    "    path, props = sample(\n",
    "        cursor,\n",
    "        int(n_hops),\n",
    "        c,\n",
    "        bad_prop_ids=set(bad_props.split(' ')),\n",
    "        bad_item_ids=set(bad_items.split(' ')),\n",
    "        log=log,\n",
    "    )\n",
    "    if 'no possible' in log[-1]:\n",
    "        print('no possible hops: retrying')\n",
    "        continue\n",
    "\n",
    "    print('log:')\n",
    "    print(log)\n",
    "\n",
    "    for i, (item, prop) in enumerate(zip(path[:-1], props)):\n",
    "        print(f'**Item {i+1}:** {item[0]}, {item[1][:80]}')\n",
    "        print(f'**Prop:** {prop[0]}, {prop[1][:80]}')\n",
    "    print(f'**Item {len(path)+1}:** {path[-1][0]}, {path[-1][1][:80]}')\n",
    "    \n",
    "    print(f'**Generated Question:** *{generate(path, props)}*')\n",
    "    n_generated += 1\n",
    "    print('-' * 80)"
   ]
  }
 ],
 "metadata": {
  "kernelspec": {
   "display_name": "kg-carter",
   "language": "python",
   "name": "kg-carter"
  },
  "language_info": {
   "codemirror_mode": {
    "name": "ipython",
    "version": 3
   },
   "file_extension": ".py",
   "mimetype": "text/x-python",
   "name": "python",
   "nbconvert_exporter": "python",
   "pygments_lexer": "ipython3",
   "version": "3.11.1"
  }
 },
 "nbformat": 4,
 "nbformat_minor": 5
}
