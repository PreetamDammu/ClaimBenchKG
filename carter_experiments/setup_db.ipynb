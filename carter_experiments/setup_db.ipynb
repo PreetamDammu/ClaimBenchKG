{
 "cells": [
  {
   "cell_type": "code",
   "execution_count": 7,
   "id": "f352a426-5a27-42a7-afd5-bebc98c29c66",
   "metadata": {},
   "outputs": [],
   "source": [
    "import sqlite3"
   ]
  },
  {
   "cell_type": "code",
   "execution_count": 8,
   "id": "829012c1-f07f-45ee-b3b6-5ac6ec3f221c",
   "metadata": {},
   "outputs": [],
   "source": [
    "conn = sqlite3.connect('db/knowledge_graph.db')"
   ]
  },
  {
   "cell_type": "code",
   "execution_count": 9,
   "id": "9c7d3394-5845-4806-95d3-0e3de8208a72",
   "metadata": {},
   "outputs": [],
   "source": [
    "cursor = conn.cursor()"
   ]
  },
  {
   "cell_type": "code",
   "execution_count": 11,
   "id": "3c20914e-b78f-49df-9c81-7cef7f7a31c6",
   "metadata": {},
   "outputs": [
    {
     "data": {
      "text/plain": [
       "(0,)"
      ]
     },
     "execution_count": 11,
     "metadata": {},
     "output_type": "execute_result"
    }
   ],
   "source": [
    "cursor.execute('SELECT COUNT(*) FROM claims')\n",
    "cursor.fetchone()"
   ]
  },
  {
   "cell_type": "markdown",
   "id": "240ec5f5-1e2c-492a-ac13-27cfc815f397",
   "metadata": {},
   "source": [
    "---"
   ]
  },
  {
   "cell_type": "code",
   "execution_count": 4,
   "id": "b696aa83-0e5d-4f3c-9cde-afb25d10b1ab",
   "metadata": {},
   "outputs": [
    {
     "ename": "OperationalError",
     "evalue": "no such column: \"property_description\"",
     "output_type": "error",
     "traceback": [
      "\u001b[0;31m---------------------------------------------------------------------------\u001b[0m",
      "\u001b[0;31mOperationalError\u001b[0m                          Traceback (most recent call last)",
      "Cell \u001b[0;32mIn[4], line 1\u001b[0m\n\u001b[0;32m----> 1\u001b[0m \u001b[43mcursor\u001b[49m\u001b[38;5;241;43m.\u001b[39;49m\u001b[43mexecute\u001b[49m\u001b[43m(\u001b[49m\u001b[38;5;124;43m'\u001b[39;49m\u001b[38;5;124;43mALTER TABLE properties DROP COLUMN property_description\u001b[39;49m\u001b[38;5;124;43m'\u001b[39;49m\u001b[43m)\u001b[49m\n",
      "\u001b[0;31mOperationalError\u001b[0m: no such column: \"property_description\""
     ]
    }
   ],
   "source": [
    "cursor.execute('ALTER TABLE properties DROP COLUMN property_description')"
   ]
  },
  {
   "cell_type": "code",
   "execution_count": null,
   "id": "73a968d8-c3b1-4f68-a363-3b7d1d2ae8eb",
   "metadata": {},
   "outputs": [],
   "source": [
    "conn.commit()"
   ]
  },
  {
   "cell_type": "code",
   "execution_count": null,
   "id": "6e3d3e62-6d31-48a3-95fd-58c1d206cc37",
   "metadata": {},
   "outputs": [],
   "source": [
    "cursor.execute('''\n",
    "CREATE TABLE items (\n",
    "    item_id TEXT PRIMARY KEY,\n",
    "    item_alias TEXT NOT NULL,\n",
    "    item_description TEXT\n",
    ")\n",
    "''')"
   ]
  },
  {
   "cell_type": "code",
   "execution_count": null,
   "id": "8d8046b1-1a17-40db-b319-04cae6386335",
   "metadata": {},
   "outputs": [],
   "source": [
    "cursor.execute('''\n",
    "CREATE TABLE properties (\n",
    "    property_id TEXT PRIMARY KEY,\n",
    "    property_alias TEXT NOT NULL,\n",
    "    property_description TEXT\n",
    ")\n",
    "''')"
   ]
  },
  {
   "cell_type": "code",
   "execution_count": 5,
   "id": "06f3cb60-32ee-445c-a5ab-c8583cd3d822",
   "metadata": {},
   "outputs": [
    {
     "ename": "OperationalError",
     "evalue": "table claims already exists",
     "output_type": "error",
     "traceback": [
      "\u001b[0;31m---------------------------------------------------------------------------\u001b[0m",
      "\u001b[0;31mOperationalError\u001b[0m                          Traceback (most recent call last)",
      "Cell \u001b[0;32mIn[5], line 1\u001b[0m\n\u001b[0;32m----> 1\u001b[0m \u001b[43mcursor\u001b[49m\u001b[38;5;241;43m.\u001b[39;49m\u001b[43mexecute\u001b[49m\u001b[43m(\u001b[49m\u001b[38;5;124;43m'''\u001b[39;49m\n\u001b[1;32m      2\u001b[0m \u001b[38;5;124;43mCREATE TABLE claims (\u001b[39;49m\n\u001b[1;32m      3\u001b[0m \u001b[38;5;124;43m    claim_id INTEGER PRIMARY KEY,\u001b[39;49m\n\u001b[1;32m      4\u001b[0m \u001b[38;5;124;43m    subject_id TEXT,\u001b[39;49m\n\u001b[1;32m      5\u001b[0m \u001b[38;5;124;43m    property_id TEXT,\u001b[39;49m\n\u001b[1;32m      6\u001b[0m \u001b[38;5;124;43m    target_id TEXT,\u001b[39;49m\n\u001b[1;32m      7\u001b[0m \u001b[38;5;124;43m    FOREIGN KEY (subject_id) REFERENCES items (item_id),\u001b[39;49m\n\u001b[1;32m      8\u001b[0m \u001b[38;5;124;43m    FOREIGN KEY (property_id) REFERENCES properties (property_id),\u001b[39;49m\n\u001b[1;32m      9\u001b[0m \u001b[38;5;124;43m    FOREIGN KEY (target_id) REFERENCES items (item_id)\u001b[39;49m\n\u001b[1;32m     10\u001b[0m \u001b[38;5;124;43m)\u001b[39;49m\n\u001b[1;32m     11\u001b[0m \u001b[38;5;124;43m'''\u001b[39;49m\u001b[43m)\u001b[49m\n",
      "\u001b[0;31mOperationalError\u001b[0m: table claims already exists"
     ]
    }
   ],
   "source": [
    "cursor.execute('''\n",
    "CREATE TABLE claims (\n",
    "    claim_id INTEGER PRIMARY KEY,\n",
    "    subject_id TEXT,\n",
    "    property_id TEXT,\n",
    "    target_id TEXT,\n",
    "    FOREIGN KEY (subject_id) REFERENCES items (item_id),\n",
    "    FOREIGN KEY (property_id) REFERENCES properties (property_id),\n",
    "    FOREIGN KEY (target_id) REFERENCES items (item_id)\n",
    ")\n",
    "''')"
   ]
  },
  {
   "cell_type": "code",
   "execution_count": 6,
   "id": "cff46959-8967-467f-baf1-feefad6ed2d8",
   "metadata": {},
   "outputs": [
    {
     "name": "stdout",
     "output_type": "stream",
     "text": [
      "[]\n"
     ]
    }
   ],
   "source": [
    "cursor.execute('SELECT * FROM claims')\n",
    "all_claims = cursor.fetchall()\n",
    "print(all_claims)"
   ]
  },
  {
   "cell_type": "code",
   "execution_count": 5,
   "id": "c90ac3c9-d3c3-4201-8f14-fa2953b879b2",
   "metadata": {},
   "outputs": [],
   "source": [
    "cursor.execute('''\n",
    "    INSERT INTO claims (subject_id, property_id, target_id)\n",
    "    VALUES (?, ?, ?)\n",
    "''', ('Q42', 'P1', 'Q2'))\n",
    "conn.commit()"
   ]
  },
  {
   "cell_type": "code",
   "execution_count": 6,
   "id": "6eeaa10c-b170-45eb-b000-058a0317a5d6",
   "metadata": {},
   "outputs": [],
   "source": [
    "cursor.execute('''\n",
    "    DELETE FROM claims\n",
    "    WHERE claim_id = ?\n",
    "''', (1,))\n",
    "\n",
    "conn.commit()"
   ]
  },
  {
   "cell_type": "code",
   "execution_count": 7,
   "id": "7732d631-e981-4062-bab3-82e1eaa7eae0",
   "metadata": {},
   "outputs": [],
   "source": [
    "item_alias = {}\n",
    "with open('alias/wikidata5m_entity.txt', 'r') as f:\n",
    "    for item in f:\n",
    "        data = item[:-1].split('\\t')\n",
    "        item_alias[data[0]] = ', '.join(data[1:])"
   ]
  },
  {
   "cell_type": "code",
   "execution_count": 8,
   "id": "08cb3399-e775-4344-ae68-13a2b479941e",
   "metadata": {},
   "outputs": [],
   "source": [
    "prop_alias = {}\n",
    "with open('alias/wikidata5m_relation.txt', 'r') as f:\n",
    "    for item in f:\n",
    "        data = item[:-1].split('\\t')\n",
    "        prop_alias[data[0]] = ', '.join(data[1:])"
   ]
  },
  {
   "cell_type": "code",
   "execution_count": 9,
   "id": "cb003b58-479c-43dd-a7a0-6106a23dade8",
   "metadata": {},
   "outputs": [],
   "source": [
    "text_desc = {}\n",
    "with open('wikidata5m_text.txt', 'r') as f:\n",
    "    for item in f:\n",
    "        data = item[:-1].split('\\t')\n",
    "        text_desc[data[0]] = '\\t'.join(data[1:])"
   ]
  },
  {
   "cell_type": "code",
   "execution_count": 26,
   "id": "2bfa798f-7da1-467a-9632-5c4e26431cb8",
   "metadata": {},
   "outputs": [],
   "source": [
    "for id, alias in item_alias.items():\n",
    "    try:\n",
    "        if id in text_desc:\n",
    "            desc = text_desc[id]\n",
    "        else:\n",
    "            desc = ''\n",
    "        cursor.execute('''\n",
    "            INSERT INTO items (item_id, item_alias, item_description)\n",
    "            VALUES (?, ?, ?)\n",
    "        ''', (id, alias, desc))\n",
    "    except Exception as e:\n",
    "        print(id, alias, desc)\n",
    "        raise e\n",
    "\n",
    "conn.commit()"
   ]
  },
  {
   "cell_type": "code",
   "execution_count": 23,
   "id": "885db965-8267-4b4c-a322-ff6d47382104",
   "metadata": {},
   "outputs": [],
   "source": [
    "cursor.execute('DELETE FROM items')\n",
    "conn.commit()"
   ]
  },
  {
   "cell_type": "code",
   "execution_count": 29,
   "id": "feb4e0bc-1b54-4cad-b83f-eb67d1e081a0",
   "metadata": {},
   "outputs": [
    {
     "data": {
      "text/plain": [
       "825"
      ]
     },
     "execution_count": 29,
     "metadata": {},
     "output_type": "execute_result"
    }
   ],
   "source": [
    "cursor.execute('SELECT COUNT(*) FROM properties')\n",
    "cursor.fetchone()[0]"
   ]
  },
  {
   "cell_type": "code",
   "execution_count": 28,
   "id": "e8329455-182c-451e-9bd4-6d72cec7647c",
   "metadata": {},
   "outputs": [],
   "source": [
    "for id, alias in prop_alias.items():\n",
    "    try:\n",
    "        if id in text_desc:\n",
    "            desc = text_desc[id]\n",
    "        else:\n",
    "            desc = ''\n",
    "        cursor.execute('''\n",
    "            INSERT INTO properties (property_id, property_alias, property_description)\n",
    "            VALUES (?, ?, ?)\n",
    "        ''', (id, alias, desc))\n",
    "    except Exception as e:\n",
    "        print(id, alias, desc)\n",
    "        raise e\n",
    "\n",
    "conn.commit()"
   ]
  },
  {
   "cell_type": "code",
   "execution_count": 13,
   "id": "d608b4f2-611e-4a08-8bf4-677df6c7e4b9",
   "metadata": {},
   "outputs": [],
   "source": [
    "with open('data/wikidata5m_transductive_train.txt', 'r') as f:\n",
    "    for i, claim in enumerate(f):\n",
    "        subject_id, property_id, target_id = claim[:-1].split('\\t')\n",
    "        cursor.execute('''\n",
    "            INSERT INTO claims (subject_id, property_id, target_id)\n",
    "            VALUES (?, ?, ?)\n",
    "        ''', (subject_id, property_id, target_id))"
   ]
  },
  {
   "cell_type": "code",
   "execution_count": 15,
   "id": "a53376bc-6ded-4c46-9b81-6f0ccc3e86ca",
   "metadata": {},
   "outputs": [
    {
     "data": {
      "text/plain": [
       "20614279"
      ]
     },
     "execution_count": 15,
     "metadata": {},
     "output_type": "execute_result"
    }
   ],
   "source": [
    "cursor.execute('SELECT COUNT(*) FROM claims')\n",
    "cursor.fetchone()[0]"
   ]
  },
  {
   "cell_type": "code",
   "execution_count": 16,
   "id": "443a5c85-8afb-4ac7-ba59-bb1dd5a43a55",
   "metadata": {},
   "outputs": [],
   "source": [
    "conn.commit()"
   ]
  },
  {
   "cell_type": "code",
   "execution_count": 35,
   "id": "5f22d8bd-8916-47e8-8a7e-36f82ab53724",
   "metadata": {},
   "outputs": [],
   "source": [
    "conn.close()"
   ]
  },
  {
   "cell_type": "code",
   "execution_count": 14,
   "id": "3d6ce571-f981-43d5-8fee-f24db055004f",
   "metadata": {},
   "outputs": [
    {
     "name": "stdout",
     "output_type": "stream",
     "text": [
      "Number of properties pointing to item Q6992836: 0\n"
     ]
    }
   ],
   "source": [
    "target_item_id = 'Q6992836'  # Make sure this item_id exists in your 'items' table\n",
    "\n",
    "cursor.execute('''\n",
    "SELECT COUNT(*) FROM claims\n",
    "WHERE target_id = ?\n",
    "''', (target_item_id,))\n",
    "count_result = cursor.fetchone()[0]\n",
    "print(f\"Number of properties pointing to item {target_item_id}: {count_result}\")\n"
   ]
  }
 ],
 "metadata": {
  "kernelspec": {
   "display_name": "cse455",
   "language": "python",
   "name": "cse455"
  },
  "language_info": {
   "codemirror_mode": {
    "name": "ipython",
    "version": 3
   },
   "file_extension": ".py",
   "mimetype": "text/x-python",
   "name": "python",
   "nbconvert_exporter": "python",
   "pygments_lexer": "ipython3",
   "version": "3.11.1"
  }
 },
 "nbformat": 4,
 "nbformat_minor": 5
}
