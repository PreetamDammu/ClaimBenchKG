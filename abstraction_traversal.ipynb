{
 "cells": [
  {
   "cell_type": "code",
   "execution_count": 22,
   "metadata": {},
   "outputs": [],
   "source": [
    "from utils.openai_helpers import query_openai_model, query_openai_model_batch\n",
    "from utils.preprocess_functions import get_labels_and_descriptions_for_triplets, format_triplets_text"
   ]
  },
  {
   "cell_type": "code",
   "execution_count": 4,
   "metadata": {},
   "outputs": [],
   "source": [
    "from wikidata.client import Client"
   ]
  },
  {
   "cell_type": "code",
   "execution_count": 2,
   "metadata": {},
   "outputs": [],
   "source": [
    "wikidata_properties = {\n",
    "    \"Geospatial Information\": {\n",
    "        \"Moving Up the Hierarchy\": {\n",
    "            \"Located in the administrative territorial entity\": \"P131\",\n",
    "            \"Part of\": \"P361\",\n",
    "            \"Located on terrain feature\": \"P706\"\n",
    "        },\n",
    "        \"Moving Down the Hierarchy\": {\n",
    "            \"Contains administrative territorial entity\": \"P150\",\n",
    "            \"Location\": \"P276\",\n",
    "            \"Located on street\": \"P669\"\n",
    "        },\n",
    "        \"Lateral Connections\": {\n",
    "            \"Location\": \"P276\",\n",
    "            \"Located on terrain feature\": \"P706\"\n",
    "        },\n",
    "        \"General Context\": {\n",
    "            \"Country\": \"P17\",\n",
    "            \"Instance of\": \"P31\"\n",
    "        }\n",
    "    },\n",
    "    \"Occupation and Professional Information\": {\n",
    "        \"Moving Up the Hierarchy\": {\n",
    "            \"Field of work\": \"P101\",\n",
    "            \"Part of\": \"P361\",\n",
    "            \"Academic discipline\": \"P136\"\n",
    "        },\n",
    "        \"Moving Down the Hierarchy\": {\n",
    "            \"Has part\": \"P527\",\n",
    "            \"Subclass of\": \"P279\"\n",
    "        },\n",
    "        \"Lateral Connections\": {\n",
    "            \"Employer\": \"P108\",\n",
    "            \"Member of\": \"P463\",\n",
    "            \"Affiliation\": \"P1416\"\n",
    "        },\n",
    "        \"General Context\": {\n",
    "            \"Occupation\": \"P106\",\n",
    "            \"Position held\": \"P39\"\n",
    "        }\n",
    "    },\n",
    "    \"Temporal Information\": {\n",
    "        \"Moving Up the Hierarchy\": {\n",
    "            \"Follows\": \"P155\",\n",
    "            \"Part of\": \"P361\"\n",
    "        },\n",
    "        \"Moving Down the Hierarchy\": {\n",
    "            \"Has part\": \"P527\",\n",
    "            \"Subclass of\": \"P279\"\n",
    "        },\n",
    "        \"Lateral Connections\": {\n",
    "            \"Concurrent with\": \"P1072\",\n",
    "            \"Followed by\": \"P156\"\n",
    "        },\n",
    "        \"General Context\": {\n",
    "            \"Point in time\": \"P585\",\n",
    "            \"Duration\": \"P2047\"\n",
    "        }\n",
    "    },\n",
    "    \"Biological and Taxonomic Information\": {\n",
    "        \"Moving Up the Hierarchy\": {\n",
    "            \"Parent taxon\": \"P171\",\n",
    "            \"Part of\": \"P361\"\n",
    "        },\n",
    "        \"Moving Down the Hierarchy\": {\n",
    "            \"Taxon rank\": \"P105\",\n",
    "            \"Has part\": \"P527\"\n",
    "        },\n",
    "        \"Lateral Connections\": {\n",
    "            \"Related to\": \"P2789\",\n",
    "            \"Similar to\": \"P1889\"\n",
    "        },\n",
    "        \"General Context\": {\n",
    "            \"Instance of\": \"P31\",\n",
    "            \"Species\": \"P105\"\n",
    "        }\n",
    "    },\n",
    "    \"Cultural and Creative Work\": {\n",
    "        \"Moving Up the Hierarchy\": {\n",
    "            \"Part of the series\": \"P179\",\n",
    "            \"Genre\": \"P136\"\n",
    "        },\n",
    "        \"Moving Down the Hierarchy\": {\n",
    "            \"Has part\": \"P527\",\n",
    "            \"Subgenre\": \"P741\"\n",
    "        },\n",
    "        \"Lateral Connections\": {\n",
    "            \"Inspired by\": \"P941\",\n",
    "            \"Derivative work\": \"P4969\"\n",
    "        },\n",
    "        \"General Context\": {\n",
    "            \"Instance of\": \"P31\",\n",
    "            \"Creative work type\": \"P1448\"\n",
    "        }\n",
    "    },\n",
    "    \"Historical and Event Information\": {\n",
    "        \"Moving Up the Hierarchy\": {\n",
    "            \"Part of\": \"P361\",\n",
    "            \"Significant event\": \"P793\"\n",
    "        },\n",
    "        \"Moving Down the Hierarchy\": {\n",
    "            \"Has part\": \"P527\",\n",
    "            \"Instance of\": \"P31\"\n",
    "        },\n",
    "        \"Lateral Connections\": {\n",
    "            \"Followed by\": \"P156\",\n",
    "            \"Follows\": \"P155\"\n",
    "        },\n",
    "        \"General Context\": {\n",
    "            \"Point in time\": \"P585\",\n",
    "            \"Location\": \"P276\"\n",
    "        }\n",
    "    },\n",
    "    \"Organizational Information\": {\n",
    "        \"Moving Up the Hierarchy\": {\n",
    "            \"Parent organization\": \"P749\",\n",
    "            \"Part of\": \"P361\"\n",
    "        },\n",
    "        \"Moving Down the Hierarchy\": {\n",
    "            \"Subsidiary\": \"P355\",\n",
    "            \"Branch\": \"P1833\"\n",
    "        },\n",
    "        \"Lateral Connections\": {\n",
    "            \"Affiliate\": \"P1416\",\n",
    "            \"Member of\": \"P463\"\n",
    "        },\n",
    "        \"General Context\": {\n",
    "            \"Industry\": \"P452\",\n",
    "            \"Instance of\": \"P31\"\n",
    "        }\n",
    "    },\n",
    "    \"Literary and Bibliographic Information\": {\n",
    "        \"Moving Up the Hierarchy\": {\n",
    "            \"Part of the series\": \"P179\",\n",
    "            \"Genre\": \"P136\"\n",
    "        },\n",
    "        \"Moving Down the Hierarchy\": {\n",
    "            \"Has part\": \"P527\",\n",
    "            \"Subgenre\": \"P741\"\n",
    "        },\n",
    "        \"Lateral Connections\": {\n",
    "            \"Inspired by\": \"P941\",\n",
    "            \"Derivative work\": \"P4969\"\n",
    "        },\n",
    "        \"General Context\": {\n",
    "            \"Instance of\": \"P31\",\n",
    "            \"Author\": \"P50\"\n",
    "        }\n",
    "    },\n",
    "    \"Scientific and Technical Information\": {\n",
    "        \"Moving Up the Hierarchy\": {\n",
    "            \"Field of work\": \"P101\",\n",
    "            \"Part of\": \"P361\"\n",
    "        },\n",
    "        \"Moving Down the Hierarchy\": {\n",
    "            \"Has part\": \"P527\",\n",
    "            \"Subclass of\": \"P279\"\n",
    "        },\n",
    "        \"Lateral Connections\": {\n",
    "            \"Related to\": \"P2789\",\n",
    "            \"Similar to\": \"P1889\"\n",
    "        },\n",
    "        \"General Context\": {\n",
    "            \"Instance of\": \"P31\",\n",
    "            \"Research topic\": \"P2579\"\n",
    "        }\n",
    "    },\n",
    "    \"Social and Demographic Information\": {\n",
    "        \"Moving Up the Hierarchy\": {\n",
    "            \"Part of\": \"P361\",\n",
    "            \"Member of\": \"P463\"\n",
    "        },\n",
    "        \"Moving Down the Hierarchy\": {\n",
    "            \"Subclass of\": \"P279\",\n",
    "            \"Has part\": \"P527\"\n",
    "        },\n",
    "        \"Lateral Connections\": {\n",
    "            \"Related to\": \"P2789\",\n",
    "            \"Similar to\": \"P1889\"\n",
    "        },\n",
    "        \"General Context\": {\n",
    "            \"Instance of\": \"P31\",\n",
    "            \"Demographic group\": \"P1448\"\n",
    "        }\n",
    "    }\n",
    "}\n",
    "\n"
   ]
  },
  {
   "cell_type": "code",
   "execution_count": 5,
   "metadata": {},
   "outputs": [],
   "source": [
    "def get_abstraction_nodes(qid, property_dict):\n",
    "    client = Client()\n",
    "    entity = client.get(qid, load=True)\n",
    "    abstraction_nodes = {}\n",
    "\n",
    "    def fetch_related_nodes(entity, properties):\n",
    "        related_nodes = []\n",
    "        for pid in properties.values():\n",
    "            if pid in entity.data['claims']:\n",
    "                related_entities = entity.data['claims'][pid]\n",
    "                related_nodes.extend(\n",
    "                    related_entity['mainsnak']['datavalue']['value']['id']\n",
    "                    for related_entity in related_entities\n",
    "                )\n",
    "        return related_nodes\n",
    "\n",
    "    for category, relations in property_dict.items():\n",
    "        abstraction_nodes[category] = {}\n",
    "        for relation_type, properties in relations.items():\n",
    "            abstraction_nodes[category][relation_type] = fetch_related_nodes(entity, properties)\n",
    "\n",
    "    return abstraction_nodes"
   ]
  },
  {
   "cell_type": "code",
   "execution_count": 7,
   "metadata": {},
   "outputs": [
    {
     "data": {
      "text/plain": [
       "{'Geospatial Information': {'Moving Up the Hierarchy': ['Q18094', 'Q5684342'],\n",
       "  'Moving Down the Hierarchy': ['Q6739512'],\n",
       "  'Lateral Connections': ['Q6739512'],\n",
       "  'General Context': ['Q30', 'Q16917']},\n",
       " 'Occupation and Professional Information': {'Moving Up the Hierarchy': ['Q5684342'],\n",
       "  'Moving Down the Hierarchy': [],\n",
       "  'Lateral Connections': [],\n",
       "  'General Context': []},\n",
       " 'Temporal Information': {'Moving Up the Hierarchy': ['Q5684342'],\n",
       "  'Moving Down the Hierarchy': [],\n",
       "  'Lateral Connections': [],\n",
       "  'General Context': []},\n",
       " 'Biological and Taxonomic Information': {'Moving Up the Hierarchy': ['Q5684342'],\n",
       "  'Moving Down the Hierarchy': [],\n",
       "  'Lateral Connections': [],\n",
       "  'General Context': ['Q16917']},\n",
       " 'Cultural and Creative Work': {'Moving Up the Hierarchy': [],\n",
       "  'Moving Down the Hierarchy': [],\n",
       "  'Lateral Connections': [],\n",
       "  'General Context': ['Q16917']},\n",
       " 'Historical and Event Information': {'Moving Up the Hierarchy': ['Q5684342'],\n",
       "  'Moving Down the Hierarchy': ['Q16917'],\n",
       "  'Lateral Connections': [],\n",
       "  'General Context': ['Q6739512']},\n",
       " 'Organizational Information': {'Moving Up the Hierarchy': ['Q5684342',\n",
       "   'Q5684342'],\n",
       "  'Moving Down the Hierarchy': [],\n",
       "  'Lateral Connections': [],\n",
       "  'General Context': ['Q16917']},\n",
       " 'Literary and Bibliographic Information': {'Moving Up the Hierarchy': [],\n",
       "  'Moving Down the Hierarchy': [],\n",
       "  'Lateral Connections': [],\n",
       "  'General Context': ['Q16917']},\n",
       " 'Scientific and Technical Information': {'Moving Up the Hierarchy': ['Q5684342'],\n",
       "  'Moving Down the Hierarchy': [],\n",
       "  'Lateral Connections': [],\n",
       "  'General Context': ['Q16917']},\n",
       " 'Social and Demographic Information': {'Moving Up the Hierarchy': ['Q5684342'],\n",
       "  'Moving Down the Hierarchy': [],\n",
       "  'Lateral Connections': [],\n",
       "  'General Context': ['Q16917']}}"
      ]
     },
     "execution_count": 7,
     "metadata": {},
     "output_type": "execute_result"
    }
   ],
   "source": [
    "qid = 'Q6366688' #'Q76' \n",
    "abstraction_nodes = get_abstraction_nodes(qid, wikidata_properties)\n",
    "abstraction_nodes"
   ]
  },
  {
   "cell_type": "code",
   "execution_count": 8,
   "metadata": {},
   "outputs": [],
   "source": [
    "client = Client()\n",
    "\n",
    "def get_label(qid, language='en'):\n",
    "    entity = client.get(qid, load=True)\n",
    "    if entity.label:\n",
    "        if language in entity.label:\n",
    "            return entity.label[language]\n",
    "        else:\n",
    "\n",
    "            return next(iter(entity.label.values()))\n",
    "    return qid\n",
    "\n",
    "\n",
    "def convert_qids_to_labels(abstraction_nodes, language='en'):\n",
    "    abstraction_nodes_names = {}\n",
    "    for category, relations in abstraction_nodes.items():\n",
    "        abstraction_nodes_names[category] = {}\n",
    "        for relation_type, qids in relations.items():\n",
    "            labels = [get_label(qid, language) for qid in qids]\n",
    "            abstraction_nodes_names[category][relation_type] = labels\n",
    "    return abstraction_nodes_names"
   ]
  },
  {
   "cell_type": "code",
   "execution_count": 9,
   "metadata": {},
   "outputs": [],
   "source": [
    "abstraction_nodes_names = convert_qids_to_labels(abstraction_nodes)"
   ]
  },
  {
   "cell_type": "code",
   "execution_count": 10,
   "metadata": {},
   "outputs": [
    {
     "data": {
      "text/plain": [
       "{'Geospatial Information': {'Moving Up the Hierarchy': ['Honolulu',\n",
       "   'Hawaii Pacific Health'],\n",
       "  'Moving Down the Hierarchy': ['Makiki'],\n",
       "  'Lateral Connections': ['Makiki'],\n",
       "  'General Context': ['United States of America', 'hospital']},\n",
       " 'Occupation and Professional Information': {'Moving Up the Hierarchy': ['Hawaii Pacific Health'],\n",
       "  'Moving Down the Hierarchy': [],\n",
       "  'Lateral Connections': [],\n",
       "  'General Context': []},\n",
       " 'Temporal Information': {'Moving Up the Hierarchy': ['Hawaii Pacific Health'],\n",
       "  'Moving Down the Hierarchy': [],\n",
       "  'Lateral Connections': [],\n",
       "  'General Context': []},\n",
       " 'Biological and Taxonomic Information': {'Moving Up the Hierarchy': ['Hawaii Pacific Health'],\n",
       "  'Moving Down the Hierarchy': [],\n",
       "  'Lateral Connections': [],\n",
       "  'General Context': ['hospital']},\n",
       " 'Cultural and Creative Work': {'Moving Up the Hierarchy': [],\n",
       "  'Moving Down the Hierarchy': [],\n",
       "  'Lateral Connections': [],\n",
       "  'General Context': ['hospital']},\n",
       " 'Historical and Event Information': {'Moving Up the Hierarchy': ['Hawaii Pacific Health'],\n",
       "  'Moving Down the Hierarchy': ['hospital'],\n",
       "  'Lateral Connections': [],\n",
       "  'General Context': ['Makiki']},\n",
       " 'Organizational Information': {'Moving Up the Hierarchy': ['Hawaii Pacific Health',\n",
       "   'Hawaii Pacific Health'],\n",
       "  'Moving Down the Hierarchy': [],\n",
       "  'Lateral Connections': [],\n",
       "  'General Context': ['hospital']},\n",
       " 'Literary and Bibliographic Information': {'Moving Up the Hierarchy': [],\n",
       "  'Moving Down the Hierarchy': [],\n",
       "  'Lateral Connections': [],\n",
       "  'General Context': ['hospital']},\n",
       " 'Scientific and Technical Information': {'Moving Up the Hierarchy': ['Hawaii Pacific Health'],\n",
       "  'Moving Down the Hierarchy': [],\n",
       "  'Lateral Connections': [],\n",
       "  'General Context': ['hospital']},\n",
       " 'Social and Demographic Information': {'Moving Up the Hierarchy': ['Hawaii Pacific Health'],\n",
       "  'Moving Down the Hierarchy': [],\n",
       "  'Lateral Connections': [],\n",
       "  'General Context': ['hospital']}}"
      ]
     },
     "execution_count": 10,
     "metadata": {},
     "output_type": "execute_result"
    }
   ],
   "source": [
    "abstraction_nodes_names"
   ]
  },
  {
   "cell_type": "code",
   "execution_count": 11,
   "metadata": {},
   "outputs": [],
   "source": [
    "combined_abstraction_list = []\n",
    "for key, sub_dict in abstraction_nodes_names.items():\n",
    "    for sub_key, value in sub_dict.items():\n",
    "        combined_abstraction_list.extend(value)"
   ]
  },
  {
   "cell_type": "code",
   "execution_count": 13,
   "metadata": {},
   "outputs": [],
   "source": [
    "combined_abstraction_list = list(set(combined_abstraction_list))"
   ]
  },
  {
   "cell_type": "code",
   "execution_count": 14,
   "metadata": {},
   "outputs": [
    {
     "data": {
      "text/plain": [
       "['Hawaii Pacific Health',\n",
       " 'hospital',\n",
       " 'Makiki',\n",
       " 'Honolulu',\n",
       " 'United States of America']"
      ]
     },
     "execution_count": 14,
     "metadata": {},
     "output_type": "execute_result"
    }
   ],
   "source": [
    "combined_abstraction_list"
   ]
  },
  {
   "cell_type": "code",
   "execution_count": 19,
   "metadata": {},
   "outputs": [],
   "source": [
    "def get_abstraction_mcq_prompt(question, options):\n",
    "    prompt = f'''\n",
    "    For the following question, choose all suitable candidates from the provided options that can reasonably asnwer the question:\n",
    "    \n",
    "    Question: \n",
    "    {question}\n",
    "\n",
    "    Options:\n",
    "    {options}\n",
    "    \n",
    "    Respond with a JSON object with 'answer' key containing a list of the selected options, or an empty list if no suitable options are present.\n",
    "    '''\n",
    "    return prompt.replace('    ', '')"
   ]
  },
  {
   "cell_type": "code",
   "execution_count": 20,
   "metadata": {},
   "outputs": [],
   "source": [
    "q = 'Where was the 44th president of the United States born?'\n",
    "prompt = get_abstraction_mcq_prompt(q, combined_abstraction_list)"
   ]
  },
  {
   "cell_type": "code",
   "execution_count": 21,
   "metadata": {},
   "outputs": [
    {
     "name": "stdout",
     "output_type": "stream",
     "text": [
      "\n",
      "For the following question, choose all suitable candidates from the provided options that can reasonably asnwer the question:\n",
      "\n",
      "Question: \n",
      "Where was the 44th president of the United States born?\n",
      "\n",
      "Options:\n",
      "['Hawaii Pacific Health', 'hospital', 'Makiki', 'Honolulu', 'United States of America']\n",
      "\n",
      "Respond with a JSON object with 'answer' key containing a list of the selected options, or an empty list if no suitable options are present.\n",
      "\n"
     ]
    }
   ],
   "source": [
    "print(prompt)"
   ]
  },
  {
   "cell_type": "code",
   "execution_count": 24,
   "metadata": {},
   "outputs": [],
   "source": [
    "response = query_openai_model(prompt)"
   ]
  },
  {
   "cell_type": "code",
   "execution_count": 26,
   "metadata": {},
   "outputs": [],
   "source": [
    "import json"
   ]
  },
  {
   "cell_type": "code",
   "execution_count": 27,
   "metadata": {},
   "outputs": [
    {
     "data": {
      "text/plain": [
       "{'answer': ['Honolulu', 'United States of America']}"
      ]
     },
     "execution_count": 27,
     "metadata": {},
     "output_type": "execute_result"
    }
   ],
   "source": [
    "json.loads(response[0])"
   ]
  },
  {
   "cell_type": "code",
   "execution_count": null,
   "metadata": {},
   "outputs": [],
   "source": []
  }
 ],
 "metadata": {
  "kernelspec": {
   "display_name": "azureml_py38_PT_TF",
   "language": "python",
   "name": "python3"
  },
  "language_info": {
   "codemirror_mode": {
    "name": "ipython",
    "version": 3
   },
   "file_extension": ".py",
   "mimetype": "text/x-python",
   "name": "python",
   "nbconvert_exporter": "python",
   "pygments_lexer": "ipython3",
   "version": "3.9.19"
  }
 },
 "nbformat": 4,
 "nbformat_minor": 2
}
