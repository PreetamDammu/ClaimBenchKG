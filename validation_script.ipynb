{
 "cells": [
  {
   "cell_type": "code",
   "execution_count": 1,
   "metadata": {},
   "outputs": [],
   "source": [
    "from utils.openai_helpers import query_openai_model, query_openai_model_batch\n",
    "from utils.prompt_functions import generate_verification_prompt\n",
    "from utils.preprocess_functions import get_labels_and_descriptions_for_triplets\n",
    "from utils.wiki_helpers import get_info_for_qid\n",
    "import numpy as np\n",
    "import pandas as pd\n",
    "import json\n",
    "import concurrent.futures\n",
    "from tqdm import tqdm\n",
    "import time\n",
    "\n"
   ]
  },
  {
   "cell_type": "code",
   "execution_count": 2,
   "metadata": {},
   "outputs": [],
   "source": [
    "from utils.openai_helpers import query_openai_model, query_openai_model_batch"
   ]
  },
  {
   "cell_type": "code",
   "execution_count": 3,
   "metadata": {},
   "outputs": [],
   "source": [
    "df = pd.read_csv('inputs/KG_Benchmark_may28_results - results.csv')"
   ]
  },
  {
   "cell_type": "code",
   "execution_count": 4,
   "metadata": {},
   "outputs": [
    {
     "data": {
      "text/html": [
       "<div>\n",
       "<style scoped>\n",
       "    .dataframe tbody tr th:only-of-type {\n",
       "        vertical-align: middle;\n",
       "    }\n",
       "\n",
       "    .dataframe tbody tr th {\n",
       "        vertical-align: top;\n",
       "    }\n",
       "\n",
       "    .dataframe thead th {\n",
       "        text-align: right;\n",
       "    }\n",
       "</style>\n",
       "<table border=\"1\" class=\"dataframe\">\n",
       "  <thead>\n",
       "    <tr style=\"text-align: right;\">\n",
       "      <th></th>\n",
       "      <th>QUESTION</th>\n",
       "      <th>ITEM_1</th>\n",
       "      <th>ITEM_2</th>\n",
       "      <th>ITEM_3</th>\n",
       "      <th>ITEM_4</th>\n",
       "      <th>PROP_1</th>\n",
       "      <th>PROP_2</th>\n",
       "      <th>PROP_3</th>\n",
       "      <th>ITEM_1_ALIAS</th>\n",
       "      <th>ITEM_2_ALIAS</th>\n",
       "      <th>ITEM_3_ALIAS</th>\n",
       "      <th>ITEM_4_ALIAS</th>\n",
       "      <th>PROP_1_ALIAS</th>\n",
       "      <th>PROP_2_ALIAS</th>\n",
       "      <th>PROP_3_ALIAS</th>\n",
       "    </tr>\n",
       "  </thead>\n",
       "  <tbody>\n",
       "    <tr>\n",
       "      <th>0</th>\n",
       "      <td>What is the profession of the coach of the tea...</td>\n",
       "      <td>Q2723827</td>\n",
       "      <td>Q185173</td>\n",
       "      <td>Q734768</td>\n",
       "      <td>Q5137571</td>\n",
       "      <td>P54</td>\n",
       "      <td>P286</td>\n",
       "      <td>P106</td>\n",
       "      <td>Lukša Andrić, lukša andrić, Luksa Andric, luks...</td>\n",
       "      <td>cedevita zagreb, kk cedevita zagreb, Cedevita ...</td>\n",
       "      <td>jasmin repesa, Jasmin Repesa, Repesa, Repeša, ...</td>\n",
       "      <td>Head basketball coach, coach (basketball), bas...</td>\n",
       "      <td>member of sports team, member of team, team, t...</td>\n",
       "      <td>head coach, manager, club manager, senior coac...</td>\n",
       "      <td>occupation, profession, job, work, career, emp...</td>\n",
       "    </tr>\n",
       "    <tr>\n",
       "      <th>1</th>\n",
       "      <td>What are the elements that the field of profes...</td>\n",
       "      <td>Q3090093</td>\n",
       "      <td>Q82955</td>\n",
       "      <td>Q7163</td>\n",
       "      <td>Q1711347</td>\n",
       "      <td>P106</td>\n",
       "      <td>P425</td>\n",
       "      <td>P527</td>\n",
       "      <td>frédéric ngenzebuhoro, frederic ngenzebuhoro, ...</td>\n",
       "      <td>Politician, political figure, career politics,...</td>\n",
       "      <td>political jargon, Political action movement, p...</td>\n",
       "      <td>cultural policies as catalysts of creativity, ...</td>\n",
       "      <td>occupation, profession, job, work, career, emp...</td>\n",
       "      <td>field of this occupation, profession's field, ...</td>\n",
       "      <td>has part, formed from, formed out of, assemble...</td>\n",
       "    </tr>\n",
       "    <tr>\n",
       "      <th>2</th>\n",
       "      <td>What is the history of the alphabet associated...</td>\n",
       "      <td>Q5046202</td>\n",
       "      <td>Q16275174</td>\n",
       "      <td>Q8229</td>\n",
       "      <td>Q3772237</td>\n",
       "      <td>P735</td>\n",
       "      <td>P282</td>\n",
       "      <td>P2184</td>\n",
       "      <td>Carrie Austin, carrie austin</td>\n",
       "      <td>Carrie (given name), carrie (given name), carr...</td>\n",
       "      <td>Latin alphabet letters, latin alphabet/sandbox...</td>\n",
       "      <td>History of the latin alphabet, history of the ...</td>\n",
       "      <td>given name, forename, first name, personal nam...</td>\n",
       "      <td>writing system, alphabet, script</td>\n",
       "      <td>history of topic, history, timeline of topic, ...</td>\n",
       "    </tr>\n",
       "    <tr>\n",
       "      <th>3</th>\n",
       "      <td>What is the administrative territorial entity ...</td>\n",
       "      <td>Q16018708</td>\n",
       "      <td>Q3044572</td>\n",
       "      <td>Q4979549</td>\n",
       "      <td>Q36687</td>\n",
       "      <td>P54</td>\n",
       "      <td>P115</td>\n",
       "      <td>P131</td>\n",
       "      <td>jeff clifton, Jeff Clifton</td>\n",
       "      <td>fitzroy fc, fitzroy f.c., Fitzroy Football Clu...</td>\n",
       "      <td>brunswick st oval, Brunswick Street Oval, brun...</td>\n",
       "      <td>VIC, Victoria Australia, vic (australia), AU-V...</td>\n",
       "      <td>member of sports team, member of team, team, t...</td>\n",
       "      <td>home venue, ground, home field, arena, home gr...</td>\n",
       "      <td>located in the administrative territorial enti...</td>\n",
       "    </tr>\n",
       "    <tr>\n",
       "      <th>4</th>\n",
       "      <td>What is the administrative territorial entity ...</td>\n",
       "      <td>Q1352535</td>\n",
       "      <td>Q680449</td>\n",
       "      <td>Q28009454</td>\n",
       "      <td>Q700427</td>\n",
       "      <td>P47</td>\n",
       "      <td>P1366</td>\n",
       "      <td>P131</td>\n",
       "      <td>Bessac, bessac</td>\n",
       "      <td>Blanzac-Porcheresse, blanzac-porcheresse</td>\n",
       "      <td>Coteaux du Blanzacais, coteaux du blanzacais</td>\n",
       "      <td>Arrondissement of Angoulême, arrondissement of...</td>\n",
       "      <td>shares border with, borders, bordered by, adja...</td>\n",
       "      <td>replaced by, heir, next job holder, successor,...</td>\n",
       "      <td>located in the administrative territorial enti...</td>\n",
       "    </tr>\n",
       "  </tbody>\n",
       "</table>\n",
       "</div>"
      ],
      "text/plain": [
       "                                            QUESTION     ITEM_1     ITEM_2  \\\n",
       "0  What is the profession of the coach of the tea...   Q2723827    Q185173   \n",
       "1  What are the elements that the field of profes...   Q3090093     Q82955   \n",
       "2  What is the history of the alphabet associated...   Q5046202  Q16275174   \n",
       "3  What is the administrative territorial entity ...  Q16018708   Q3044572   \n",
       "4  What is the administrative territorial entity ...   Q1352535    Q680449   \n",
       "\n",
       "      ITEM_3    ITEM_4 PROP_1 PROP_2 PROP_3  \\\n",
       "0    Q734768  Q5137571    P54   P286   P106   \n",
       "1      Q7163  Q1711347   P106   P425   P527   \n",
       "2      Q8229  Q3772237   P735   P282  P2184   \n",
       "3   Q4979549    Q36687    P54   P115   P131   \n",
       "4  Q28009454   Q700427    P47  P1366   P131   \n",
       "\n",
       "                                        ITEM_1_ALIAS  \\\n",
       "0  Lukša Andrić, lukša andrić, Luksa Andric, luks...   \n",
       "1  frédéric ngenzebuhoro, frederic ngenzebuhoro, ...   \n",
       "2                       Carrie Austin, carrie austin   \n",
       "3                         jeff clifton, Jeff Clifton   \n",
       "4                                     Bessac, bessac   \n",
       "\n",
       "                                        ITEM_2_ALIAS  \\\n",
       "0  cedevita zagreb, kk cedevita zagreb, Cedevita ...   \n",
       "1  Politician, political figure, career politics,...   \n",
       "2  Carrie (given name), carrie (given name), carr...   \n",
       "3  fitzroy fc, fitzroy f.c., Fitzroy Football Clu...   \n",
       "4           Blanzac-Porcheresse, blanzac-porcheresse   \n",
       "\n",
       "                                        ITEM_3_ALIAS  \\\n",
       "0  jasmin repesa, Jasmin Repesa, Repesa, Repeša, ...   \n",
       "1  political jargon, Political action movement, p...   \n",
       "2  Latin alphabet letters, latin alphabet/sandbox...   \n",
       "3  brunswick st oval, Brunswick Street Oval, brun...   \n",
       "4       Coteaux du Blanzacais, coteaux du blanzacais   \n",
       "\n",
       "                                        ITEM_4_ALIAS  \\\n",
       "0  Head basketball coach, coach (basketball), bas...   \n",
       "1  cultural policies as catalysts of creativity, ...   \n",
       "2  History of the latin alphabet, history of the ...   \n",
       "3  VIC, Victoria Australia, vic (australia), AU-V...   \n",
       "4  Arrondissement of Angoulême, arrondissement of...   \n",
       "\n",
       "                                        PROP_1_ALIAS  \\\n",
       "0  member of sports team, member of team, team, t...   \n",
       "1  occupation, profession, job, work, career, emp...   \n",
       "2  given name, forename, first name, personal nam...   \n",
       "3  member of sports team, member of team, team, t...   \n",
       "4  shares border with, borders, bordered by, adja...   \n",
       "\n",
       "                                        PROP_2_ALIAS  \\\n",
       "0  head coach, manager, club manager, senior coac...   \n",
       "1  field of this occupation, profession's field, ...   \n",
       "2                   writing system, alphabet, script   \n",
       "3  home venue, ground, home field, arena, home gr...   \n",
       "4  replaced by, heir, next job holder, successor,...   \n",
       "\n",
       "                                        PROP_3_ALIAS  \n",
       "0  occupation, profession, job, work, career, emp...  \n",
       "1  has part, formed from, formed out of, assemble...  \n",
       "2  history of topic, history, timeline of topic, ...  \n",
       "3  located in the administrative territorial enti...  \n",
       "4  located in the administrative territorial enti...  "
      ]
     },
     "execution_count": 4,
     "metadata": {},
     "output_type": "execute_result"
    }
   ],
   "source": [
    "df.head()"
   ]
  },
  {
   "cell_type": "code",
   "execution_count": 5,
   "metadata": {},
   "outputs": [
    {
     "data": {
      "text/plain": [
       "(9383, 15)"
      ]
     },
     "execution_count": 5,
     "metadata": {},
     "output_type": "execute_result"
    }
   ],
   "source": [
    "df.shape"
   ]
  },
  {
   "cell_type": "code",
   "execution_count": 6,
   "metadata": {},
   "outputs": [
    {
     "data": {
      "text/plain": [
       "\"VIC, Victoria Australia, vic (australia), AU-VIC, victoria australia, victoria state, australia victoria, victoria (australia), vic, melbourne public libraries, victoria (australian state), Victoria, Australia, Victoria aus, victoria, australia, visit victoria, state of victoria, vic.au, Australia's state of Victoria, VIC (Australia), victoria (state), australia's state of victoria, au-vic, .vic.au, State of Victoria, Victoria (State), Vic.au, Victoria State, Visit Victoria, Victoria (Australian state), victoria aus, Australia Victoria, Victoria (Australia), Victoria (state), Melbourne Public Libraries\""
      ]
     },
     "execution_count": 6,
     "metadata": {},
     "output_type": "execute_result"
    }
   ],
   "source": [
    "df.iloc[3]['ITEM_4_ALIAS']"
   ]
  },
  {
   "cell_type": "code",
   "execution_count": 7,
   "metadata": {},
   "outputs": [],
   "source": [
    "def get_entries(df, idx):\n",
    "    question = df.iloc[idx]['QUESTION']\n",
    "    answer = df.iloc[idx]['ITEM_4']\n",
    "    triplets = [\n",
    "        (df.iloc[idx]['ITEM_1'], df.iloc[idx]['PROP_1'], df.iloc[idx]['ITEM_2']),\n",
    "        (df.iloc[idx]['ITEM_2'], df.iloc[idx]['PROP_2'], df.iloc[idx]['ITEM_3']),\n",
    "        (df.iloc[idx]['ITEM_3'], df.iloc[idx]['PROP_3'], df.iloc[idx]['ITEM_4'])\n",
    "    ]\n",
    "    return question, answer, triplets"
   ]
  },
  {
   "cell_type": "code",
   "execution_count": 8,
   "metadata": {},
   "outputs": [
    {
     "name": "stderr",
     "output_type": "stream",
     "text": [
      "  0%|                                                                                                                                                                                                                                                                                                                                                                                                                                                                                                                                                                                                                                                                                                                                                                                                                                                                                                                                                                                                          | 0/500 [00:00<?, ?it/s]"
     ]
    },
    {
     "name": "stderr",
     "output_type": "stream",
     "text": [
      " 39%|██████████████████████████████████████████████████████████████████████████████████████████████████████████████████████████████████████████████████████████████████████████████████████████████████████████████████████████████████████████████████████████████████████████████████████████████████████████████████████████████████████████████████████████████████████████████████████████▏                                                                                                                                                                                                                                                                                                                                                                                                                                                                                                                                                                                                     | 197/500 [01:29<02:30,  2.01it/s]"
     ]
    },
    {
     "name": "stdout",
     "output_type": "stream",
     "text": [
      "Error: HTTP Error 404: Not Found\n",
      "Error: cannot unpack non-iterable NoneType object\n",
      "Failed to get labels and descriptions for triplet: ('Q16729691', 'P69', 'Q49116')\n"
     ]
    },
    {
     "name": "stderr",
     "output_type": "stream",
     "text": [
      " 41%|█████████████████████████████████████████████████████████████████████████████████████████████████████████████████████████████████████████████████████████████████████████████████████████████████████████████████████████████████████████████████████████████████████████████████████████████████████████████████████████████████████████████████████████████████████████████████████████████████████▊                                                                                                                                                                                                                                                                                                                                                                                                                                                                                                                                                                                          | 203/500 [01:32<02:39,  1.86it/s]"
     ]
    },
    {
     "name": "stdout",
     "output_type": "stream",
     "text": [
      "Error: HTTP Error 404: Not Found\n",
      "Error: cannot unpack non-iterable NoneType object\n",
      "Failed to get labels and descriptions for triplet: ('Q2504463', 'P17', 'Q30')\n"
     ]
    },
    {
     "name": "stderr",
     "output_type": "stream",
     "text": [
      " 46%|█████████████████████████████████████████████████████████████████████████████████████████████████████████████████████████████████████████████████████████████████████████████████████████████████████████████████████████████████████████████████████████████████████████████████████████████████████████████████████████████████████████████████████████████████████████████████████████████████████████████████████████████████████████████████████████▌                                                                                                                                                                                                                                                                                                                                                                                                                                                                                                                                      | 230/500 [01:43<02:01,  2.23it/s]"
     ]
    },
    {
     "name": "stdout",
     "output_type": "stream",
     "text": [
      "Error: HTTP Error 404: Not Found\n",
      "Error: cannot unpack non-iterable NoneType object\n",
      "Failed to get labels and descriptions for triplet: ('Q5287', 'P134', 'Q3547069')\n"
     ]
    },
    {
     "name": "stderr",
     "output_type": "stream",
     "text": [
      " 62%|███████████████████████████████████████████████████████████████████████████████████████████████████████████████████████████████████████████████████████████████████████████████████████████████████████████████████████████████████████████████████████████████████████████████████████████████████████████████████████████████████████████████████████████████████████████████████████████████████████████████████████████████████████████████████████████████████████████████████████████████████████████████████████████████████████████████████████████████████████████████████████████████████████████████▎                                                                                                                                                                                                                                                                                                                                                                                | 308/500 [02:17<01:11,  2.70it/s]"
     ]
    },
    {
     "name": "stdout",
     "output_type": "stream",
     "text": [
      "Error: HTTP Error 404: Not Found\n",
      "Error: cannot unpack non-iterable NoneType object\n",
      "Failed to get labels and descriptions for triplet: ('Q14624392', 'P1441', 'Q7115636')\n"
     ]
    },
    {
     "name": "stderr",
     "output_type": "stream",
     "text": [
      " 69%|██████████████████████████████████████████████████████████████████████████████████████████████████████████████████████████████████████████████████████████████████████████████████████████████████████████████████████████████████████████████████████████████████████████████████████████████████████████████████████████████████████████████████████████████████████████████████████████████████████████████████████████████████████████████████████████████████████████████████████████████████████████████████████████████████████████████████████████████████████████████████████████████████████████████████████████████████████████████████████████████████████████████████████▍                                                                                                                                                                                                                                                                                                         | 345/500 [02:34<01:04,  2.40it/s]"
     ]
    },
    {
     "name": "stdout",
     "output_type": "stream",
     "text": [
      "Error: HTTP Error 404: Not Found\n",
      "Error: cannot unpack non-iterable NoneType object\n",
      "Failed to get labels and descriptions for triplet: ('Q9176', 'P134', 'Q625800')\n"
     ]
    },
    {
     "name": "stderr",
     "output_type": "stream",
     "text": [
      "100%|████████████████████████████████████████████████████████████████████████████████████████████████████████████████████████████████████████████████████████████████████████████████████████████████████████████████████████████████████████████████████████████████████████████████████████████████████████████████████████████████████████████████████████████████████████████████████████████████████████████████████████████████████████████████████████████████████████████████████████████████████████████████████████████████████████████████████████████████████████████████████████████████████████████████████████████████████████████████████████████████████████████████████████████████████████████████████████████████████████████████████████████████████████████████████████████████████████████████████████████████████████████████████████████████████████████████████████████████████████████████████████████████████████████████████████████████████████████████████████████████| 500/500 [03:41<00:00,  2.26it/s]\n"
     ]
    }
   ],
   "source": [
    "\n",
    "prompts_dict = {}\n",
    "\n",
    "def process_index(i, df, retries = 0, max_retries = 5):\n",
    "    \n",
    "    while retries < max_retries:\n",
    "        try:\n",
    "            req = get_entries(df, i)\n",
    "            triplet_list, desc_list = get_labels_and_descriptions_for_triplets(req[2])\n",
    "            label, desc, aliases = get_info_for_qid(req[1])\n",
    "            \n",
    "            question = req[0]\n",
    "            path = ' -> '.join(map(str, triplet_list))\n",
    "            ans = label\n",
    "            \n",
    "            prompt = generate_verification_prompt(question, ans)\n",
    "            prompts_dict[i] = prompt\n",
    "            return\n",
    "        except Exception as e:\n",
    "            retries += 1\n",
    "            time.sleep(2 ** retries)  # Exponential backoff\n",
    "            if retries == max_retries:\n",
    "                prompts_dict[i] = \"Failed\"\n",
    "\n",
    "# Using ThreadPoolExecutor for multi-threading\n",
    "with concurrent.futures.ThreadPoolExecutor(max_workers=10) as executor:\n",
    "    # Creating a list of futures\n",
    "    futures = [executor.submit(process_index, i, df) for i in range(500)]\n",
    "\n",
    "    # Using tqdm to track progress\n",
    "    for future in tqdm(concurrent.futures.as_completed(futures), total=len(futures)):\n",
    "        pass\n"
   ]
  },
  {
   "cell_type": "code",
   "execution_count": 12,
   "metadata": {},
   "outputs": [
    {
     "name": "stdout",
     "output_type": "stream",
     "text": [
      "Failed keys: []\n"
     ]
    }
   ],
   "source": [
    "# Collecting the keys of all failed attempts\n",
    "failed_keys = [key for key, value in prompts_dict.items() if value == \"Failed\"]\n",
    "\n",
    "# Output the keys of all failed attempts\n",
    "print(\"Failed keys:\", failed_keys)"
   ]
  },
  {
   "cell_type": "code",
   "execution_count": 13,
   "metadata": {},
   "outputs": [
    {
     "data": {
      "text/plain": [
       "500"
      ]
     },
     "execution_count": 13,
     "metadata": {},
     "output_type": "execute_result"
    }
   ],
   "source": [
    "len(prompts_dict)"
   ]
  },
  {
   "cell_type": "code",
   "execution_count": 14,
   "metadata": {},
   "outputs": [],
   "source": [
    "np.save('outputs/prompts_dict500.npy', prompts_dict)"
   ]
  },
  {
   "cell_type": "code",
   "execution_count": null,
   "metadata": {},
   "outputs": [],
   "source": []
  },
  {
   "cell_type": "code",
   "execution_count": 8,
   "metadata": {},
   "outputs": [
    {
     "name": "stderr",
     "output_type": "stream",
     "text": [
      "100%|████████████████████████████████████████████████████████████████████████████████████████████████████████████████████████████████████████████████████████████████████████████████████████████████████████████████████████████████████████████████████████████████████████████████████████████████████████████████████████████████████████████████████████████████████████████████████████████████████████████████████████████████████████████████████████████████████████████████████████████████████████████████████████████████████████████████████████████████████████████████████████████████████████████████████████████████████████████████████████████████████████████████████████████████████████████████████████████████████████████████████████████████████████████████████████████████████████████████████████████████████████████████████████████████████████████████████████████████████████████████████████████████████████████████████████████████████████████████████████████████████| 3/3 [00:02<00:00,  1.28it/s]\n",
      "100%|████████████████████████████████████████████████████████████████████████████████████████████████████████████████████████████████████████████████████████████████████████████████████████████████████████████████████████████████████████████████████████████████████████████████████████████████████████████████████████████████████████████████████████████████████████████████████████████████████████████████████████████████████████████████████████████████████████████████████████████████████████████████████████████████████████████████████████████████████████████████████████████████████████████████████████████████████████████████████████████████████████████████████████████████████████████████████████████████████████████████████████████████████████████████████████████████████████████████████████████████████████████████████████████████████████████████████████████████████████████████████████████████████████████████████████████████████████████████████████████████████| 3/3 [00:02<00:00,  1.22it/s]\n"
     ]
    },
    {
     "ename": "KeyboardInterrupt",
     "evalue": "",
     "output_type": "error",
     "traceback": [
      "\u001b[0;31m---------------------------------------------------------------------------\u001b[0m",
      "\u001b[0;31mKeyboardInterrupt\u001b[0m                         Traceback (most recent call last)",
      "Cell \u001b[0;32mIn[8], line 4\u001b[0m\n\u001b[1;32m      2\u001b[0m req \u001b[38;5;241m=\u001b[39m get_entries(df, i)\n\u001b[1;32m      3\u001b[0m triplet_list, desc_list \u001b[38;5;241m=\u001b[39m get_labels_and_descriptions_for_triplets(req[\u001b[38;5;241m2\u001b[39m])\n\u001b[0;32m----> 4\u001b[0m label, desc, aliases \u001b[38;5;241m=\u001b[39m \u001b[43mget_info_for_qid\u001b[49m\u001b[43m(\u001b[49m\u001b[43mreq\u001b[49m\u001b[43m[\u001b[49m\u001b[38;5;241;43m1\u001b[39;49m\u001b[43m]\u001b[49m\u001b[43m)\u001b[49m\n\u001b[1;32m      6\u001b[0m question \u001b[38;5;241m=\u001b[39m req[\u001b[38;5;241m0\u001b[39m]\n\u001b[1;32m      7\u001b[0m path \u001b[38;5;241m=\u001b[39m \u001b[38;5;124m'\u001b[39m\u001b[38;5;124m -> \u001b[39m\u001b[38;5;124m'\u001b[39m\u001b[38;5;241m.\u001b[39mjoin(\u001b[38;5;28mmap\u001b[39m(\u001b[38;5;28mstr\u001b[39m, triplet_list))\n",
      "File \u001b[0;32m/mnt/batch/tasks/shared/LS_root/mounts/clusters/cpu-small-shared/code/Users/preetams/ClaimBenchKG/utils/wiki_helpers.py:25\u001b[0m, in \u001b[0;36mget_info_for_qid\u001b[0;34m(qid)\u001b[0m\n\u001b[1;32m     23\u001b[0m \u001b[38;5;28;01mdef\u001b[39;00m \u001b[38;5;21mget_info_for_qid\u001b[39m(qid):\n\u001b[1;32m     24\u001b[0m     \u001b[38;5;28;01mtry\u001b[39;00m:\n\u001b[0;32m---> 25\u001b[0m         entity \u001b[38;5;241m=\u001b[39m \u001b[43mclient\u001b[49m\u001b[38;5;241;43m.\u001b[39;49m\u001b[43mget\u001b[49m\u001b[43m(\u001b[49m\u001b[43mqid\u001b[49m\u001b[43m,\u001b[49m\u001b[43m \u001b[49m\u001b[43mload\u001b[49m\u001b[38;5;241;43m=\u001b[39;49m\u001b[38;5;28;43;01mTrue\u001b[39;49;00m\u001b[43m)\u001b[49m\n\u001b[1;32m     26\u001b[0m         label \u001b[38;5;241m=\u001b[39m \u001b[38;5;28mstr\u001b[39m(entity\u001b[38;5;241m.\u001b[39mlabel)\n\u001b[1;32m     27\u001b[0m         desc \u001b[38;5;241m=\u001b[39m \u001b[38;5;28mstr\u001b[39m(entity\u001b[38;5;241m.\u001b[39mdescription)\n",
      "File \u001b[0;32m/anaconda/envs/kg/lib/python3.11/site-packages/wikidata/client.py:140\u001b[0m, in \u001b[0;36mClient.get\u001b[0;34m(self, entity_id, load)\u001b[0m\n\u001b[1;32m    138\u001b[0m     \u001b[38;5;28mself\u001b[39m\u001b[38;5;241m.\u001b[39midentity_map[entity_id] \u001b[38;5;241m=\u001b[39m entity\n\u001b[1;32m    139\u001b[0m \u001b[38;5;28;01mif\u001b[39;00m load:\n\u001b[0;32m--> 140\u001b[0m     \u001b[43mentity\u001b[49m\u001b[38;5;241;43m.\u001b[39;49m\u001b[43mload\u001b[49m\u001b[43m(\u001b[49m\u001b[43m)\u001b[49m\n\u001b[1;32m    141\u001b[0m \u001b[38;5;28;01mreturn\u001b[39;00m entity\n",
      "File \u001b[0;32m/anaconda/envs/kg/lib/python3.11/site-packages/wikidata/entity.py:261\u001b[0m, in \u001b[0;36mEntity.load\u001b[0;34m(self)\u001b[0m\n\u001b[1;32m    258\u001b[0m     \u001b[38;5;28;01mreturn\u001b[39;00m\n\u001b[1;32m    260\u001b[0m url \u001b[38;5;241m=\u001b[39m \u001b[38;5;124m'\u001b[39m\u001b[38;5;124m./wiki/Special:EntityData/\u001b[39m\u001b[38;5;132;01m{}\u001b[39;00m\u001b[38;5;124m.json\u001b[39m\u001b[38;5;124m'\u001b[39m\u001b[38;5;241m.\u001b[39mformat(\u001b[38;5;28mself\u001b[39m\u001b[38;5;241m.\u001b[39mid)\n\u001b[0;32m--> 261\u001b[0m result \u001b[38;5;241m=\u001b[39m \u001b[38;5;28;43mself\u001b[39;49m\u001b[38;5;241;43m.\u001b[39;49m\u001b[43mclient\u001b[49m\u001b[38;5;241;43m.\u001b[39;49m\u001b[43mrequest\u001b[49m\u001b[43m(\u001b[49m\u001b[43murl\u001b[49m\u001b[43m)\u001b[49m\n\u001b[1;32m    262\u001b[0m \u001b[38;5;28;01mif\u001b[39;00m result \u001b[38;5;129;01mis\u001b[39;00m \u001b[38;5;28;01mNone\u001b[39;00m:\n\u001b[1;32m    263\u001b[0m     \u001b[38;5;28mself\u001b[39m\u001b[38;5;241m.\u001b[39mstate \u001b[38;5;241m=\u001b[39m EntityState\u001b[38;5;241m.\u001b[39mnon_existent\n",
      "File \u001b[0;32m/anaconda/envs/kg/lib/python3.11/site-packages/wikidata/client.py:194\u001b[0m, in \u001b[0;36mClient.request\u001b[0;34m(self, path)\u001b[0m\n\u001b[1;32m    192\u001b[0m logger\u001b[38;5;241m.\u001b[39mdebug(\u001b[38;5;124m'\u001b[39m\u001b[38;5;132;01m%r\u001b[39;00m\u001b[38;5;124m: no cache; make a request...\u001b[39m\u001b[38;5;124m'\u001b[39m, url)\n\u001b[1;32m    193\u001b[0m \u001b[38;5;28;01mtry\u001b[39;00m:\n\u001b[0;32m--> 194\u001b[0m     response \u001b[38;5;241m=\u001b[39m \u001b[38;5;28;43mself\u001b[39;49m\u001b[38;5;241;43m.\u001b[39;49m\u001b[43mopener\u001b[49m\u001b[38;5;241;43m.\u001b[39;49m\u001b[43mopen\u001b[49m\u001b[43m(\u001b[49m\u001b[43murl\u001b[49m\u001b[43m)\u001b[49m\n\u001b[1;32m    195\u001b[0m \u001b[38;5;28;01mexcept\u001b[39;00m urllib\u001b[38;5;241m.\u001b[39merror\u001b[38;5;241m.\u001b[39mHTTPError \u001b[38;5;28;01mas\u001b[39;00m e:\n\u001b[1;32m    196\u001b[0m     logger\u001b[38;5;241m.\u001b[39mdebug(\u001b[38;5;124m'\u001b[39m\u001b[38;5;124mHTTP error code: \u001b[39m\u001b[38;5;132;01m%s\u001b[39;00m\u001b[38;5;124m'\u001b[39m, e\u001b[38;5;241m.\u001b[39mcode, exc_info\u001b[38;5;241m=\u001b[39m\u001b[38;5;28;01mTrue\u001b[39;00m)\n",
      "File \u001b[0;32m/anaconda/envs/kg/lib/python3.11/urllib/request.py:519\u001b[0m, in \u001b[0;36mOpenerDirector.open\u001b[0;34m(self, fullurl, data, timeout)\u001b[0m\n\u001b[1;32m    516\u001b[0m     req \u001b[38;5;241m=\u001b[39m meth(req)\n\u001b[1;32m    518\u001b[0m sys\u001b[38;5;241m.\u001b[39maudit(\u001b[38;5;124m'\u001b[39m\u001b[38;5;124murllib.Request\u001b[39m\u001b[38;5;124m'\u001b[39m, req\u001b[38;5;241m.\u001b[39mfull_url, req\u001b[38;5;241m.\u001b[39mdata, req\u001b[38;5;241m.\u001b[39mheaders, req\u001b[38;5;241m.\u001b[39mget_method())\n\u001b[0;32m--> 519\u001b[0m response \u001b[38;5;241m=\u001b[39m \u001b[38;5;28;43mself\u001b[39;49m\u001b[38;5;241;43m.\u001b[39;49m\u001b[43m_open\u001b[49m\u001b[43m(\u001b[49m\u001b[43mreq\u001b[49m\u001b[43m,\u001b[49m\u001b[43m \u001b[49m\u001b[43mdata\u001b[49m\u001b[43m)\u001b[49m\n\u001b[1;32m    521\u001b[0m \u001b[38;5;66;03m# post-process response\u001b[39;00m\n\u001b[1;32m    522\u001b[0m meth_name \u001b[38;5;241m=\u001b[39m protocol\u001b[38;5;241m+\u001b[39m\u001b[38;5;124m\"\u001b[39m\u001b[38;5;124m_response\u001b[39m\u001b[38;5;124m\"\u001b[39m\n",
      "File \u001b[0;32m/anaconda/envs/kg/lib/python3.11/urllib/request.py:536\u001b[0m, in \u001b[0;36mOpenerDirector._open\u001b[0;34m(self, req, data)\u001b[0m\n\u001b[1;32m    533\u001b[0m     \u001b[38;5;28;01mreturn\u001b[39;00m result\n\u001b[1;32m    535\u001b[0m protocol \u001b[38;5;241m=\u001b[39m req\u001b[38;5;241m.\u001b[39mtype\n\u001b[0;32m--> 536\u001b[0m result \u001b[38;5;241m=\u001b[39m \u001b[38;5;28;43mself\u001b[39;49m\u001b[38;5;241;43m.\u001b[39;49m\u001b[43m_call_chain\u001b[49m\u001b[43m(\u001b[49m\u001b[38;5;28;43mself\u001b[39;49m\u001b[38;5;241;43m.\u001b[39;49m\u001b[43mhandle_open\u001b[49m\u001b[43m,\u001b[49m\u001b[43m \u001b[49m\u001b[43mprotocol\u001b[49m\u001b[43m,\u001b[49m\u001b[43m \u001b[49m\u001b[43mprotocol\u001b[49m\u001b[43m \u001b[49m\u001b[38;5;241;43m+\u001b[39;49m\n\u001b[1;32m    537\u001b[0m \u001b[43m                          \u001b[49m\u001b[38;5;124;43m'\u001b[39;49m\u001b[38;5;124;43m_open\u001b[39;49m\u001b[38;5;124;43m'\u001b[39;49m\u001b[43m,\u001b[49m\u001b[43m \u001b[49m\u001b[43mreq\u001b[49m\u001b[43m)\u001b[49m\n\u001b[1;32m    538\u001b[0m \u001b[38;5;28;01mif\u001b[39;00m result:\n\u001b[1;32m    539\u001b[0m     \u001b[38;5;28;01mreturn\u001b[39;00m result\n",
      "File \u001b[0;32m/anaconda/envs/kg/lib/python3.11/urllib/request.py:496\u001b[0m, in \u001b[0;36mOpenerDirector._call_chain\u001b[0;34m(self, chain, kind, meth_name, *args)\u001b[0m\n\u001b[1;32m    494\u001b[0m \u001b[38;5;28;01mfor\u001b[39;00m handler \u001b[38;5;129;01min\u001b[39;00m handlers:\n\u001b[1;32m    495\u001b[0m     func \u001b[38;5;241m=\u001b[39m \u001b[38;5;28mgetattr\u001b[39m(handler, meth_name)\n\u001b[0;32m--> 496\u001b[0m     result \u001b[38;5;241m=\u001b[39m \u001b[43mfunc\u001b[49m\u001b[43m(\u001b[49m\u001b[38;5;241;43m*\u001b[39;49m\u001b[43margs\u001b[49m\u001b[43m)\u001b[49m\n\u001b[1;32m    497\u001b[0m     \u001b[38;5;28;01mif\u001b[39;00m result \u001b[38;5;129;01mis\u001b[39;00m \u001b[38;5;129;01mnot\u001b[39;00m \u001b[38;5;28;01mNone\u001b[39;00m:\n\u001b[1;32m    498\u001b[0m         \u001b[38;5;28;01mreturn\u001b[39;00m result\n",
      "File \u001b[0;32m/anaconda/envs/kg/lib/python3.11/urllib/request.py:1391\u001b[0m, in \u001b[0;36mHTTPSHandler.https_open\u001b[0;34m(self, req)\u001b[0m\n\u001b[1;32m   1390\u001b[0m \u001b[38;5;28;01mdef\u001b[39;00m \u001b[38;5;21mhttps_open\u001b[39m(\u001b[38;5;28mself\u001b[39m, req):\n\u001b[0;32m-> 1391\u001b[0m     \u001b[38;5;28;01mreturn\u001b[39;00m \u001b[38;5;28;43mself\u001b[39;49m\u001b[38;5;241;43m.\u001b[39;49m\u001b[43mdo_open\u001b[49m\u001b[43m(\u001b[49m\u001b[43mhttp\u001b[49m\u001b[38;5;241;43m.\u001b[39;49m\u001b[43mclient\u001b[49m\u001b[38;5;241;43m.\u001b[39;49m\u001b[43mHTTPSConnection\u001b[49m\u001b[43m,\u001b[49m\u001b[43m \u001b[49m\u001b[43mreq\u001b[49m\u001b[43m,\u001b[49m\n\u001b[1;32m   1392\u001b[0m \u001b[43m        \u001b[49m\u001b[43mcontext\u001b[49m\u001b[38;5;241;43m=\u001b[39;49m\u001b[38;5;28;43mself\u001b[39;49m\u001b[38;5;241;43m.\u001b[39;49m\u001b[43m_context\u001b[49m\u001b[43m,\u001b[49m\u001b[43m \u001b[49m\u001b[43mcheck_hostname\u001b[49m\u001b[38;5;241;43m=\u001b[39;49m\u001b[38;5;28;43mself\u001b[39;49m\u001b[38;5;241;43m.\u001b[39;49m\u001b[43m_check_hostname\u001b[49m\u001b[43m)\u001b[49m\n",
      "File \u001b[0;32m/anaconda/envs/kg/lib/python3.11/urllib/request.py:1352\u001b[0m, in \u001b[0;36mAbstractHTTPHandler.do_open\u001b[0;34m(self, http_class, req, **http_conn_args)\u001b[0m\n\u001b[1;32m   1350\u001b[0m     \u001b[38;5;28;01mexcept\u001b[39;00m \u001b[38;5;167;01mOSError\u001b[39;00m \u001b[38;5;28;01mas\u001b[39;00m err: \u001b[38;5;66;03m# timeout error\u001b[39;00m\n\u001b[1;32m   1351\u001b[0m         \u001b[38;5;28;01mraise\u001b[39;00m URLError(err)\n\u001b[0;32m-> 1352\u001b[0m     r \u001b[38;5;241m=\u001b[39m \u001b[43mh\u001b[49m\u001b[38;5;241;43m.\u001b[39;49m\u001b[43mgetresponse\u001b[49m\u001b[43m(\u001b[49m\u001b[43m)\u001b[49m\n\u001b[1;32m   1353\u001b[0m \u001b[38;5;28;01mexcept\u001b[39;00m:\n\u001b[1;32m   1354\u001b[0m     h\u001b[38;5;241m.\u001b[39mclose()\n",
      "File \u001b[0;32m/anaconda/envs/kg/lib/python3.11/http/client.py:1395\u001b[0m, in \u001b[0;36mHTTPConnection.getresponse\u001b[0;34m(self)\u001b[0m\n\u001b[1;32m   1393\u001b[0m \u001b[38;5;28;01mtry\u001b[39;00m:\n\u001b[1;32m   1394\u001b[0m     \u001b[38;5;28;01mtry\u001b[39;00m:\n\u001b[0;32m-> 1395\u001b[0m         \u001b[43mresponse\u001b[49m\u001b[38;5;241;43m.\u001b[39;49m\u001b[43mbegin\u001b[49m\u001b[43m(\u001b[49m\u001b[43m)\u001b[49m\n\u001b[1;32m   1396\u001b[0m     \u001b[38;5;28;01mexcept\u001b[39;00m \u001b[38;5;167;01mConnectionError\u001b[39;00m:\n\u001b[1;32m   1397\u001b[0m         \u001b[38;5;28mself\u001b[39m\u001b[38;5;241m.\u001b[39mclose()\n",
      "File \u001b[0;32m/anaconda/envs/kg/lib/python3.11/http/client.py:325\u001b[0m, in \u001b[0;36mHTTPResponse.begin\u001b[0;34m(self)\u001b[0m\n\u001b[1;32m    323\u001b[0m \u001b[38;5;66;03m# read until we get a non-100 response\u001b[39;00m\n\u001b[1;32m    324\u001b[0m \u001b[38;5;28;01mwhile\u001b[39;00m \u001b[38;5;28;01mTrue\u001b[39;00m:\n\u001b[0;32m--> 325\u001b[0m     version, status, reason \u001b[38;5;241m=\u001b[39m \u001b[38;5;28;43mself\u001b[39;49m\u001b[38;5;241;43m.\u001b[39;49m\u001b[43m_read_status\u001b[49m\u001b[43m(\u001b[49m\u001b[43m)\u001b[49m\n\u001b[1;32m    326\u001b[0m     \u001b[38;5;28;01mif\u001b[39;00m status \u001b[38;5;241m!=\u001b[39m CONTINUE:\n\u001b[1;32m    327\u001b[0m         \u001b[38;5;28;01mbreak\u001b[39;00m\n",
      "File \u001b[0;32m/anaconda/envs/kg/lib/python3.11/http/client.py:286\u001b[0m, in \u001b[0;36mHTTPResponse._read_status\u001b[0;34m(self)\u001b[0m\n\u001b[1;32m    285\u001b[0m \u001b[38;5;28;01mdef\u001b[39;00m \u001b[38;5;21m_read_status\u001b[39m(\u001b[38;5;28mself\u001b[39m):\n\u001b[0;32m--> 286\u001b[0m     line \u001b[38;5;241m=\u001b[39m \u001b[38;5;28mstr\u001b[39m(\u001b[38;5;28mself\u001b[39m\u001b[38;5;241m.\u001b[39mfp\u001b[38;5;241m.\u001b[39mreadline(_MAXLINE \u001b[38;5;241m+\u001b[39m \u001b[38;5;241m1\u001b[39m), \u001b[38;5;124m\"\u001b[39m\u001b[38;5;124miso-8859-1\u001b[39m\u001b[38;5;124m\"\u001b[39m)\n\u001b[1;32m    287\u001b[0m     \u001b[38;5;28;01mif\u001b[39;00m \u001b[38;5;28mlen\u001b[39m(line) \u001b[38;5;241m>\u001b[39m _MAXLINE:\n\u001b[1;32m    288\u001b[0m         \u001b[38;5;28;01mraise\u001b[39;00m LineTooLong(\u001b[38;5;124m\"\u001b[39m\u001b[38;5;124mstatus line\u001b[39m\u001b[38;5;124m\"\u001b[39m)\n",
      "File \u001b[0;32m/anaconda/envs/kg/lib/python3.11/socket.py:706\u001b[0m, in \u001b[0;36mSocketIO.readinto\u001b[0;34m(self, b)\u001b[0m\n\u001b[1;32m    704\u001b[0m \u001b[38;5;28;01mwhile\u001b[39;00m \u001b[38;5;28;01mTrue\u001b[39;00m:\n\u001b[1;32m    705\u001b[0m     \u001b[38;5;28;01mtry\u001b[39;00m:\n\u001b[0;32m--> 706\u001b[0m         \u001b[38;5;28;01mreturn\u001b[39;00m \u001b[38;5;28;43mself\u001b[39;49m\u001b[38;5;241;43m.\u001b[39;49m\u001b[43m_sock\u001b[49m\u001b[38;5;241;43m.\u001b[39;49m\u001b[43mrecv_into\u001b[49m\u001b[43m(\u001b[49m\u001b[43mb\u001b[49m\u001b[43m)\u001b[49m\n\u001b[1;32m    707\u001b[0m     \u001b[38;5;28;01mexcept\u001b[39;00m timeout:\n\u001b[1;32m    708\u001b[0m         \u001b[38;5;28mself\u001b[39m\u001b[38;5;241m.\u001b[39m_timeout_occurred \u001b[38;5;241m=\u001b[39m \u001b[38;5;28;01mTrue\u001b[39;00m\n",
      "File \u001b[0;32m/anaconda/envs/kg/lib/python3.11/ssl.py:1314\u001b[0m, in \u001b[0;36mSSLSocket.recv_into\u001b[0;34m(self, buffer, nbytes, flags)\u001b[0m\n\u001b[1;32m   1310\u001b[0m     \u001b[38;5;28;01mif\u001b[39;00m flags \u001b[38;5;241m!=\u001b[39m \u001b[38;5;241m0\u001b[39m:\n\u001b[1;32m   1311\u001b[0m         \u001b[38;5;28;01mraise\u001b[39;00m \u001b[38;5;167;01mValueError\u001b[39;00m(\n\u001b[1;32m   1312\u001b[0m           \u001b[38;5;124m\"\u001b[39m\u001b[38;5;124mnon-zero flags not allowed in calls to recv_into() on \u001b[39m\u001b[38;5;132;01m%s\u001b[39;00m\u001b[38;5;124m\"\u001b[39m \u001b[38;5;241m%\u001b[39m\n\u001b[1;32m   1313\u001b[0m           \u001b[38;5;28mself\u001b[39m\u001b[38;5;241m.\u001b[39m\u001b[38;5;18m__class__\u001b[39m)\n\u001b[0;32m-> 1314\u001b[0m     \u001b[38;5;28;01mreturn\u001b[39;00m \u001b[38;5;28;43mself\u001b[39;49m\u001b[38;5;241;43m.\u001b[39;49m\u001b[43mread\u001b[49m\u001b[43m(\u001b[49m\u001b[43mnbytes\u001b[49m\u001b[43m,\u001b[49m\u001b[43m \u001b[49m\u001b[43mbuffer\u001b[49m\u001b[43m)\u001b[49m\n\u001b[1;32m   1315\u001b[0m \u001b[38;5;28;01melse\u001b[39;00m:\n\u001b[1;32m   1316\u001b[0m     \u001b[38;5;28;01mreturn\u001b[39;00m \u001b[38;5;28msuper\u001b[39m()\u001b[38;5;241m.\u001b[39mrecv_into(buffer, nbytes, flags)\n",
      "File \u001b[0;32m/anaconda/envs/kg/lib/python3.11/ssl.py:1166\u001b[0m, in \u001b[0;36mSSLSocket.read\u001b[0;34m(self, len, buffer)\u001b[0m\n\u001b[1;32m   1164\u001b[0m \u001b[38;5;28;01mtry\u001b[39;00m:\n\u001b[1;32m   1165\u001b[0m     \u001b[38;5;28;01mif\u001b[39;00m buffer \u001b[38;5;129;01mis\u001b[39;00m \u001b[38;5;129;01mnot\u001b[39;00m \u001b[38;5;28;01mNone\u001b[39;00m:\n\u001b[0;32m-> 1166\u001b[0m         \u001b[38;5;28;01mreturn\u001b[39;00m \u001b[38;5;28;43mself\u001b[39;49m\u001b[38;5;241;43m.\u001b[39;49m\u001b[43m_sslobj\u001b[49m\u001b[38;5;241;43m.\u001b[39;49m\u001b[43mread\u001b[49m\u001b[43m(\u001b[49m\u001b[38;5;28;43mlen\u001b[39;49m\u001b[43m,\u001b[49m\u001b[43m \u001b[49m\u001b[43mbuffer\u001b[49m\u001b[43m)\u001b[49m\n\u001b[1;32m   1167\u001b[0m     \u001b[38;5;28;01melse\u001b[39;00m:\n\u001b[1;32m   1168\u001b[0m         \u001b[38;5;28;01mreturn\u001b[39;00m \u001b[38;5;28mself\u001b[39m\u001b[38;5;241m.\u001b[39m_sslobj\u001b[38;5;241m.\u001b[39mread(\u001b[38;5;28mlen\u001b[39m)\n",
      "\u001b[0;31mKeyboardInterrupt\u001b[0m: "
     ]
    }
   ],
   "source": [
    "prompts_dict = {}\n",
    "for i in range(500):\n",
    "    req = get_entries(df, i)\n",
    "    triplet_list, desc_list = get_labels_and_descriptions_for_triplets(req[2])\n",
    "    label, desc, aliases = get_info_for_qid(req[1])\n",
    "    \n",
    "    question = req[0]\n",
    "    path = ' -> '.join(map(str, triplet_list))\n",
    "    ans = label\n",
    "    \n",
    "    prompt = generate_verification_prompt(question, ans)\n",
    "    prompts_dict[i] = prompt\n",
    "\n"
   ]
  },
  {
   "cell_type": "code",
   "execution_count": null,
   "metadata": {},
   "outputs": [],
   "source": [
    "# req = get_entries(df, 3)\n",
    "# triplet_list, desc_list = get_labels_and_descriptions_for_triplets(req[2])\n",
    "# label, desc, aliases = get_info_for_qid(req[1])\n",
    "\n",
    "# question = req[0]\n",
    "# path = ' -> '.join(map(str, triplet_list))\n",
    "# ans = label\n",
    "\n",
    "# # Example usage\n",
    "# question = \"What is the administrative territorial entity where the home venue of the sports team that Jeff Clifton was a member of is located?\"\n",
    "# answer = \"Melbourne\"\n",
    "# prompt = generate_verification_prompt(question, answer)\n",
    "# print(prompt)\n",
    "# res = query_openai_model(prompt)"
   ]
  },
  {
   "cell_type": "code",
   "execution_count": null,
   "metadata": {},
   "outputs": [],
   "source": []
  },
  {
   "cell_type": "code",
   "execution_count": null,
   "metadata": {},
   "outputs": [],
   "source": []
  },
  {
   "cell_type": "code",
   "execution_count": null,
   "metadata": {},
   "outputs": [],
   "source": []
  },
  {
   "cell_type": "code",
   "execution_count": null,
   "metadata": {},
   "outputs": [],
   "source": []
  },
  {
   "cell_type": "code",
   "execution_count": null,
   "metadata": {},
   "outputs": [],
   "source": []
  },
  {
   "cell_type": "code",
   "execution_count": 8,
   "metadata": {},
   "outputs": [],
   "source": [
    "req = get_entries(df, 3)"
   ]
  },
  {
   "cell_type": "code",
   "execution_count": 9,
   "metadata": {},
   "outputs": [],
   "source": [
    "# req = get_entries(df, 772)"
   ]
  },
  {
   "cell_type": "code",
   "execution_count": 11,
   "metadata": {},
   "outputs": [
    {
     "name": "stderr",
     "output_type": "stream",
     "text": [
      "100%|████████████████████████████████████████████████████████████████████████████████████████████████████████████████████████████████████████████████████████████████████████████████████████████████████████████████████████████████████████████████████████████████████████████████████████████████████████████████████████████████████████████████████████████████████████████████████████████████████████████████████████████████████████████████████████████████████████████████████████████████████████████████████████████████████████████████████████████████████████████████████████████████████████████████████████████████████████████████████████████████████████████████████████████████████████████████████████████████████████████████████████████████████████████████████████████████████████████████████████████████████████████████████████████████████████████████████████████████████████████████████████████████████████████████████████████████████████████████████████████████████| 3/3 [00:02<00:00,  1.40it/s]\n"
     ]
    }
   ],
   "source": [
    "triplet_list, desc_list = get_labels_and_descriptions_for_triplets(req[2])"
   ]
  },
  {
   "cell_type": "code",
   "execution_count": 12,
   "metadata": {},
   "outputs": [
    {
     "data": {
      "text/plain": [
       "[('Jeff Clifton', 'member of sports team', 'Fitzroy Football Club'),\n",
       " ('Fitzroy Football Club', 'home venue', 'Brunswick Street Oval'),\n",
       " ('Brunswick Street Oval',\n",
       "  'located in the administrative territorial entity',\n",
       "  'Victoria')]"
      ]
     },
     "execution_count": 12,
     "metadata": {},
     "output_type": "execute_result"
    }
   ],
   "source": [
    "triplet_list"
   ]
  },
  {
   "cell_type": "code",
   "execution_count": 13,
   "metadata": {},
   "outputs": [
    {
     "data": {
      "text/plain": [
       "('What is the administrative territorial entity where the home venue of the sports team that Jeff Clifton was a member of is located?',\n",
       " 'Q36687')"
      ]
     },
     "execution_count": 13,
     "metadata": {},
     "output_type": "execute_result"
    }
   ],
   "source": [
    "req[0], req[1]"
   ]
  },
  {
   "cell_type": "code",
   "execution_count": 14,
   "metadata": {},
   "outputs": [],
   "source": [
    "label, desc, aliases = get_info_for_qid(req[1])"
   ]
  },
  {
   "cell_type": "code",
   "execution_count": 15,
   "metadata": {},
   "outputs": [
    {
     "data": {
      "text/plain": [
       "('Victoria',\n",
       " 'state of Australia',\n",
       " ['VIC',\n",
       "  'Victoria, Australia',\n",
       "  'State of Victoria',\n",
       "  'State of VIC',\n",
       "  'Vic.',\n",
       "  'AU-VIC'])"
      ]
     },
     "execution_count": 15,
     "metadata": {},
     "output_type": "execute_result"
    }
   ],
   "source": [
    "label, desc, aliases"
   ]
  },
  {
   "cell_type": "code",
   "execution_count": 16,
   "metadata": {},
   "outputs": [],
   "source": [
    "question = req[0]\n",
    "path = ' -> '.join(map(str, triplet_list))\n",
    "ans = label"
   ]
  },
  {
   "cell_type": "code",
   "execution_count": 17,
   "metadata": {},
   "outputs": [],
   "source": [
    "# def generate_verification_prompt(question, answer):\n",
    "#     prompt = f\"\"\"\n",
    "# **Prompt Adequacy Verification Test**\n",
    "\n",
    "# **Objective:** Ensure the question is coherent, and the provided answer is a suitable and relevant response that addresses the informational needs of the question.\n",
    "\n",
    "# **Instructions:**\n",
    "\n",
    "# 1. **Read the Question:**\n",
    "#    - Does the question make logical sense?\n",
    "#    - Is the question clear and unambiguous?\n",
    "\n",
    "# 2. **Read the Answer:**\n",
    "#    - Does the answer directly address the question?\n",
    "\n",
    "# 3. **Evaluate the Question and Answer Pair:**\n",
    "#    - Does the answer fulfill the informational needs implied by the question?\n",
    "#    - Is the answer free from irrelevant information?\n",
    "#    - Does the answer provide a complete response to the question?\n",
    "\n",
    "# **Example:**\n",
    "\n",
    "# **Question:** What is the capital of the administrative territorial entity that Kul Mishan is a part of?\n",
    "\n",
    "# **Expected Answer Characteristics:**\n",
    "#    - The answer should be the name of a capital city.\n",
    "#    - It should correctly correspond to the administrative territorial entity that Kul Mishan is a part of.\n",
    "\n",
    "# **Sample Answer Evaluations:**\n",
    "#    - **\"Ardal.\"** – Suitable, addresses the question, provides relevant information.\n",
    "#    - **\"Tehran.\"** – Suitable if Tehran is indeed the capital of the entity that Kul Mishan is a part of.\n",
    "#    - **\"Iran.\"** – Unsuitable, does not specify the capital.\n",
    "#    - **\"Kul Mishan is in Ardal.\"** – Suitable, but less direct.\n",
    "\n",
    "# **Verification Checklist:**\n",
    "\n",
    "# - [ ] The question is logical and clear.\n",
    "# - [ ] The answer directly addresses the question.\n",
    "\n",
    "# **Question:** {question}\n",
    "\n",
    "# **Answer:** {answer}\n",
    "\n",
    "# **Response Format:**\n",
    "# Please provide your evaluation in the following JSON format:\n",
    "# - \"question_valid\": true/false,\n",
    "# - \"answer_relevance\": true/false,\n",
    "# - \"comments\": \"Your comments here\"\n",
    "# \"\"\"\n",
    "#     return prompt\n",
    "\n",
    "\n"
   ]
  },
  {
   "cell_type": "code",
   "execution_count": 18,
   "metadata": {},
   "outputs": [],
   "source": [
    "# Example usage\n",
    "question = \"What is the administrative territorial entity where the home venue of the sports team that Jeff Clifton was a member of is located?\"\n",
    "answer = \"Melbourne\"\n",
    "prompt = generate_verification_prompt(question, answer)"
   ]
  },
  {
   "cell_type": "code",
   "execution_count": 19,
   "metadata": {},
   "outputs": [
    {
     "name": "stdout",
     "output_type": "stream",
     "text": [
      "\n",
      "**Prompt Adequacy Verification Test**\n",
      "\n",
      "**Objective:** Verify that the question is clear and the answer appropriately addresses it.\n",
      "\n",
      "**Instructions:**\n",
      "\n",
      "1. **Evaluate the Question:**\n",
      "   - Is the question clear and logical?\n",
      "   - Is it unambiguous?\n",
      "\n",
      "2. **Evaluate the Answer:**\n",
      "   - Does it directly address the question?\n",
      "   - Is it free from irrelevant information?\n",
      "   - Does it provide a complete response?\n",
      "\n",
      "**Example for Understanding:**\n",
      "\n",
      "**Example Question:** What is the capital of the administrative territorial entity that Kul Mishan is a part of?\n",
      "\n",
      "**Expected Answer Characteristics:**\n",
      "   - The answer should be the name of a capital city.\n",
      "   - It should correctly correspond to the administrative territorial entity that Kul Mishan is a part of.\n",
      "\n",
      "**Sample Answer Evaluations:**\n",
      "   - **\"Ardal.\"** - Suitable, addresses the question, provides relevant information.\n",
      "   - **\"Tehran.\"** - Suitable if Tehran is indeed the capital of the entity that Kul Mishan is a part of.\n",
      "   - **\"Iran.\"** - Unsuitable, does not specify the capital.\n",
      "   - **\"Kul Mishan is in Ardal.\"** - Suitable, but less direct.\n",
      "\n",
      "**Verification Checklist:**\n",
      "- [ ] The question is logical and clear.\n",
      "- [ ] The answer directly addresses the question.\n",
      "\n",
      "**Question and Answer to Evaluate:**\n",
      "\n",
      "**Question:** What is the administrative territorial entity where the home venue of the sports team that Jeff Clifton was a member of is located?\n",
      "\n",
      "**Answer:** Melbourne\n",
      "\n",
      "**Response Format:**\n",
      "Please provide your evaluation in the following JSON format:\n",
      "- \"question_valid\": true/false\n",
      "- \"answer_relevance\": true/false\n",
      "- \"comments\": \"Your comments here\"\n",
      "\n"
     ]
    }
   ],
   "source": [
    "print(prompt)"
   ]
  },
  {
   "cell_type": "code",
   "execution_count": 20,
   "metadata": {},
   "outputs": [],
   "source": [
    "res = query_openai_model(prompt)"
   ]
  },
  {
   "cell_type": "code",
   "execution_count": 21,
   "metadata": {},
   "outputs": [
    {
     "data": {
      "text/plain": [
       "('{\\n  \"question_valid\": true,\\n  \"answer_relevance\": true,\\n  \"comments\": \"The question is clear and logical, asking for the administrative territorial entity associated with the home venue of a sports team that an individual, Jeff Clifton, was a member of. The answer \\'Melbourne\\' directly addresses this question by naming the location that corresponds to the administrative territorial entity of the sports team\\'s home venue. However, without specific knowledge of Jeff Clifton and the sports team he was a member of, it\\'s difficult to independently verify the accuracy of \\'Melbourne\\' as the correct answer, but it is assumed to be correct for this evaluation. The answer is relevant and free from unnecessary information, providing a direct response to the question asked.\"\\n}',\n",
       " CompletionUsage(completion_tokens=153, prompt_tokens=373, total_tokens=526))"
      ]
     },
     "execution_count": 21,
     "metadata": {},
     "output_type": "execute_result"
    }
   ],
   "source": [
    "res"
   ]
  },
  {
   "cell_type": "code",
   "execution_count": null,
   "metadata": {},
   "outputs": [],
   "source": []
  }
 ],
 "metadata": {
  "kernelspec": {
   "display_name": "kg",
   "language": "python",
   "name": "python3"
  },
  "language_info": {
   "codemirror_mode": {
    "name": "ipython",
    "version": 3
   },
   "file_extension": ".py",
   "mimetype": "text/x-python",
   "name": "python",
   "nbconvert_exporter": "python",
   "pygments_lexer": "ipython3",
   "version": "3.11.9"
  }
 },
 "nbformat": 4,
 "nbformat_minor": 2
}
