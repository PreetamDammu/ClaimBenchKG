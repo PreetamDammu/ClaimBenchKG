{
 "cells": [
  {
   "cell_type": "code",
   "execution_count": 1,
   "metadata": {},
   "outputs": [],
   "source": [
    "from utils.openai_helpers import query_openai_model, query_openai_model_batch\n",
    "from utils.preprocess_functions import convert_to_triplets\n",
    "from utils.preprocess_functions import get_labels_and_descriptions_for_triplets, format_triplets_text\n",
    "from utils.prompt_functions import get_prompt_HIT_test\n",
    "# from utils.plotting_helpers import plot_count_distribution\n",
    "import json"
   ]
  },
  {
   "cell_type": "code",
   "execution_count": 2,
   "metadata": {},
   "outputs": [],
   "source": [
    "import networkx as nx\n",
    "# import cugraph as cnx\n",
    "import matplotlib.pyplot as plt\n",
    "import numpy as np\n",
    "import pandas as pd\n",
    "import json"
   ]
  },
  {
   "cell_type": "code",
   "execution_count": 5,
   "metadata": {},
   "outputs": [
    {
     "data": {
      "text/plain": [
       "('{\\n  \"response\": \"Hello! How can I assist you today?\"\\n}',\n",
       " CompletionUsage(completion_tokens=16, prompt_tokens=26, total_tokens=42))"
      ]
     },
     "execution_count": 5,
     "metadata": {},
     "output_type": "execute_result"
    }
   ],
   "source": [
    "import utils.openai_helpers as hlp\n",
    "hlp.query_openai_model('hey gpt4!, respond using JSON format')"
   ]
  },
  {
   "cell_type": "code",
   "execution_count": 3,
   "metadata": {},
   "outputs": [],
   "source": [
    "with open('inputs/wikidata5m/wikidata5m_transductive_valid.txt', 'r') as file:\n",
    "    wiki_valid = file.readlines()\n",
    "# with open('inputs/wikidata5m/wikidata5m_transductive_train.txt', 'r') as file:\n",
    "#     wiki_train = file.readlines()"
   ]
  },
  {
   "cell_type": "code",
   "execution_count": 4,
   "metadata": {},
   "outputs": [],
   "source": [
    "\n",
    "\n",
    "def convert_string_to_json(string_like_json):\n",
    "    # Removing the extra quotes at the beginning and the end\n",
    "    clean_string = string_like_json.strip(\"'\")\n",
    "    \n",
    "    # Loading the string into a JSON object\n",
    "    json_object = json.loads(clean_string)\n",
    "    \n",
    "    return json_object"
   ]
  },
  {
   "cell_type": "code",
   "execution_count": 5,
   "metadata": {},
   "outputs": [],
   "source": [
    "list_of_triplets = convert_to_triplets(wiki_valid)"
   ]
  },
  {
   "cell_type": "code",
   "execution_count": 6,
   "metadata": {},
   "outputs": [],
   "source": [
    "req_list = list_of_triplets[:105]"
   ]
  },
  {
   "cell_type": "code",
   "execution_count": 7,
   "metadata": {},
   "outputs": [
    {
     "name": "stderr",
     "output_type": "stream",
     "text": [
      "  0%|          | 0/105 [00:00<?, ?it/s]"
     ]
    },
    {
     "name": "stderr",
     "output_type": "stream",
     "text": [
      " 42%|████▏     | 44/105 [00:39<00:35,  1.72it/s]"
     ]
    },
    {
     "name": "stdout",
     "output_type": "stream",
     "text": [
      "Error: HTTP Error 404: Not Found\n",
      "Error: cannot unpack non-iterable NoneType object\n",
      "Failed to get labels and descriptions for triplet: ('Q6666651', 'P17', 'Q28')\n"
     ]
    },
    {
     "name": "stderr",
     "output_type": "stream",
     "text": [
      "100%|██████████| 105/105 [01:30<00:00,  1.16it/s]\n"
     ]
    }
   ],
   "source": [
    "triplet_list, desc_list = get_labels_and_descriptions_for_triplets(req_list)"
   ]
  },
  {
   "cell_type": "code",
   "execution_count": 8,
   "metadata": {},
   "outputs": [
    {
     "name": "stdout",
     "output_type": "stream",
     "text": [
      "(Run for Cover (1955 film by Nicholas Ray), country of origin, United States of America (country primarily located in North America))\n"
     ]
    }
   ],
   "source": [
    "triplet_text = format_triplets_text([triplet_list[0]], [desc_list[0]])\n",
    "print(triplet_text)"
   ]
  },
  {
   "cell_type": "code",
   "execution_count": 16,
   "metadata": {},
   "outputs": [
    {
     "data": {
      "text/plain": [
       "'(Run for Cover (1955 film by Nicholas Ray), country of origin, United States of America (country primarily located in North America))'"
      ]
     },
     "execution_count": 16,
     "metadata": {},
     "output_type": "execute_result"
    }
   ],
   "source": [
    "triplet_text"
   ]
  },
  {
   "cell_type": "code",
   "execution_count": 17,
   "metadata": {},
   "outputs": [
    {
     "name": "stdout",
     "output_type": "stream",
     "text": [
      "\n",
      "Triplet format: (subject, relation, object)\n",
      "Use the given triplet and correspoding description provided below to generate two questions:\n",
      "Q1) Whose answer is the object node of the triplet.\n",
      "Q2) Whose answer is not the object node of the triplet, considering the triplet as a fact.\n",
      "\n",
      "Return the two questions, their labels, along with the rationale for each generated question.\n",
      "Valid labels are: \"Supported\" and \"Refuted\".\n",
      "\n",
      "Structure your response as a JSON object with the following keys:\n",
      "- \"Q1\": Question whose answer is the object node of the triplet.\n",
      "- \"Rationale_Q1\": Rationale for Q1.\n",
      "- \"Label_Q1\": Label for Q1.\n",
      "- \"Q2\": Question whose answer is NOT the object node of the triplet.\n",
      "- \"Rationale_Q2\": Rationale for Q2.\n",
      "- \"Label_Q2\": Label for Q2.\n",
      "\n",
      "\n",
      "The triplets and corresponding descriptions provided in brackets are as follows:\n",
      "(Run for Cover (1955 film by Nicholas Ray), country of origin, United States of America (country primarily located in North America))\n",
      "\n"
     ]
    }
   ],
   "source": [
    "prompt = get_prompt_HIT_test(triplet_text)\n",
    "print(prompt)"
   ]
  },
  {
   "cell_type": "code",
   "execution_count": 18,
   "metadata": {},
   "outputs": [],
   "source": [
    "generated_text, usage = query_openai_model(prompt)"
   ]
  },
  {
   "cell_type": "code",
   "execution_count": 19,
   "metadata": {},
   "outputs": [
    {
     "data": {
      "text/plain": [
       "{'Q1': 'What is the country of origin for the 1955 film Run for Cover directed by Nicholas Ray?',\n",
       " 'Rationale_Q1': \"The question directly asks for the country of origin of the specific film mentioned in the triplet, which is 'United States of America'. The object node of the triplet is the answer to this question, making it directly supported by the given fact.\",\n",
       " 'Label_Q1': 'Supported',\n",
       " 'Q2': 'Was Run for Cover, a 1955 film by Nicholas Ray, primarily produced in Europe?',\n",
       " 'Rationale_Q2': \"The fact provided in the triplet states that 'Run for Cover (1955 film by Nicholas Ray)' has its country of origin as 'United States of America', which is primarily located in North America, not Europe. This question implies an answer that contradicts the object node of the triplet, making it refuted by the given fact.\",\n",
       " 'Label_Q2': 'Refuted'}"
      ]
     },
     "execution_count": 19,
     "metadata": {},
     "output_type": "execute_result"
    }
   ],
   "source": [
    "convert_string_to_json(generated_text)"
   ]
  },
  {
   "cell_type": "code",
   "execution_count": 9,
   "metadata": {},
   "outputs": [
    {
     "name": "stdout",
     "output_type": "stream",
     "text": [
      "Error in triplet:  ('Error', 'Error', 'Error')\n"
     ]
    }
   ],
   "source": [
    "generated_responses = {}\n",
    "prompts = []\n",
    "triplets = []\n",
    "descs = []\n",
    "\n",
    "for i in range(len(triplet_list)):\n",
    "    if \"Error\" in triplet_list[i]:\n",
    "        print(\"Error in triplet: \", triplet_list[i])\n",
    "        continue\n",
    "    triplet_text = format_triplets_text([triplet_list[i]], [desc_list[i]])\n",
    "    prompt = get_prompt_HIT_test(triplet_text)\n",
    "    prompts.append(prompt)\n",
    "    \n",
    "    triplets.append(triplet_list[i])\n",
    "    descs.append(desc_list[i])\n",
    "    # generated_text, usage = query_openai_model(prompt)\n",
    "    # generated_responses[i] = convert_string_to_json(generated_text)"
   ]
  },
  {
   "cell_type": "code",
   "execution_count": 10,
   "metadata": {},
   "outputs": [
    {
     "data": {
      "text/plain": [
       "104"
      ]
     },
     "execution_count": 10,
     "metadata": {},
     "output_type": "execute_result"
    }
   ],
   "source": [
    "len(descs)"
   ]
  },
  {
   "cell_type": "code",
   "execution_count": 11,
   "metadata": {},
   "outputs": [],
   "source": [
    "np.save('outputs/test_prompts_generation.npy', prompts)"
   ]
  },
  {
   "cell_type": "code",
   "execution_count": 12,
   "metadata": {},
   "outputs": [],
   "source": [
    "prompts = np.load('outputs/test_prompts_generation.npy', allow_pickle=True)"
   ]
  },
  {
   "cell_type": "code",
   "execution_count": 13,
   "metadata": {},
   "outputs": [],
   "source": [
    "req_prompts = prompts[:100]\n",
    "req_triplets = triplets[:100]\n",
    "req_descs = descs[:100]"
   ]
  },
  {
   "cell_type": "code",
   "execution_count": 11,
   "metadata": {},
   "outputs": [
    {
     "name": "stdout",
     "output_type": "stream",
     "text": [
      "\n",
      "Triplet format: (subject, relation, object)\n",
      "Use the given triplet and correspoding description provided below to generate two questions:\n",
      "Q1) Whose answer is the object node of the triplet.\n",
      "Q2) Whose answer is not the object node of the triplet, considering the triplet as a fact.\n",
      "\n",
      "Return the two questions, their labels, along with the rationale for each generated question.\n",
      "Valid labels are: \"Supported\" and \"Refuted\".\n",
      "\n",
      "Structure your response as a JSON object with the following keys:\n",
      "- \"Q1\": Question whose answer is the object node of the triplet.\n",
      "- \"Rationale_Q1\": Rationale for Q1.\n",
      "- \"Label_Q1\": Label for Q1.\n",
      "- \"Q2\": Question whose answer is NOT the object node of the triplet.\n",
      "- \"Rationale_Q2\": Rationale for Q2.\n",
      "- \"Label_Q2\": Label for Q2.\n",
      "\n",
      "\n",
      "The triplets and corresponding descriptions provided in brackets are as follows:\n",
      "(Run for Cover (1955 film by Nicholas Ray), country of origin, United States of America (country primarily located in North America))\n",
      "\n"
     ]
    }
   ],
   "source": [
    "print(req_prompts[0])"
   ]
  },
  {
   "cell_type": "code",
   "execution_count": 14,
   "metadata": {},
   "outputs": [
    {
     "name": "stderr",
     "output_type": "stream",
     "text": [
      "Processing prompts: 100%|██████████| 100/100 [05:52<00:00,  3.52s/it]\n"
     ]
    }
   ],
   "source": [
    "results_generated = query_openai_model_batch(req_prompts, max_workers=10)\n",
    "np.save('outputs/generated_responses_dict.npy', results_generated)"
   ]
  },
  {
   "cell_type": "code",
   "execution_count": 15,
   "metadata": {},
   "outputs": [],
   "source": [
    "json_list = []\n",
    "for i in range(len(results_generated)):\n",
    "    json_list.append(convert_string_to_json(results_generated[i][0]))"
   ]
  },
  {
   "cell_type": "code",
   "execution_count": 16,
   "metadata": {},
   "outputs": [],
   "source": [
    "# create dataframe from the generated responses\n",
    "df = pd.DataFrame.from_records(json_list)"
   ]
  },
  {
   "cell_type": "code",
   "execution_count": 17,
   "metadata": {},
   "outputs": [
    {
     "data": {
      "text/html": [
       "<div>\n",
       "<style scoped>\n",
       "    .dataframe tbody tr th:only-of-type {\n",
       "        vertical-align: middle;\n",
       "    }\n",
       "\n",
       "    .dataframe tbody tr th {\n",
       "        vertical-align: top;\n",
       "    }\n",
       "\n",
       "    .dataframe thead th {\n",
       "        text-align: right;\n",
       "    }\n",
       "</style>\n",
       "<table border=\"1\" class=\"dataframe\">\n",
       "  <thead>\n",
       "    <tr style=\"text-align: right;\">\n",
       "      <th></th>\n",
       "      <th>Q1</th>\n",
       "      <th>Rationale_Q1</th>\n",
       "      <th>Label_Q1</th>\n",
       "      <th>Q2</th>\n",
       "      <th>Rationale_Q2</th>\n",
       "      <th>Label_Q2</th>\n",
       "    </tr>\n",
       "  </thead>\n",
       "  <tbody>\n",
       "    <tr>\n",
       "      <th>0</th>\n",
       "      <td>What is the country of origin for the 1955 fil...</td>\n",
       "      <td>This question directly asks for the country of...</td>\n",
       "      <td>Supported</td>\n",
       "      <td>Is 'Run for Cover', a 1955 film by Nicholas Ra...</td>\n",
       "      <td>This question is crafted to seek an answer tha...</td>\n",
       "      <td>Refuted</td>\n",
       "    </tr>\n",
       "    <tr>\n",
       "      <th>1</th>\n",
       "      <td>What language did James P. Coleman, a Mississi...</td>\n",
       "      <td>The question directly asks for the language sp...</td>\n",
       "      <td>Supported</td>\n",
       "      <td>Did James P. Coleman, the Mississippi politici...</td>\n",
       "      <td>This question implies a scenario where James P...</td>\n",
       "      <td>Refuted</td>\n",
       "    </tr>\n",
       "    <tr>\n",
       "      <th>2</th>\n",
       "      <td>What position did John Joseph O'Connor hold?</td>\n",
       "      <td>This question directly asks for the 'object no...</td>\n",
       "      <td>Supported</td>\n",
       "      <td>What was John Joseph O'Connor's role in the mi...</td>\n",
       "      <td>The second question seeks information that is ...</td>\n",
       "      <td>Refuted</td>\n",
       "    </tr>\n",
       "    <tr>\n",
       "      <th>3</th>\n",
       "      <td>What is the taxon rank of Lithops aucampiae?</td>\n",
       "      <td>This question directly asks for the taxon rank...</td>\n",
       "      <td>Supported</td>\n",
       "      <td>Is Lithops aucampiae a genus?</td>\n",
       "      <td>The question challenges the fact provided by t...</td>\n",
       "      <td>Refuted</td>\n",
       "    </tr>\n",
       "    <tr>\n",
       "      <th>4</th>\n",
       "      <td>What is the parent taxon of the genus Euhalidaya?</td>\n",
       "      <td>This question directly asks for the parent tax...</td>\n",
       "      <td>Supported</td>\n",
       "      <td>Which genus of insects is a member of the trib...</td>\n",
       "      <td>This question inverts the relationship, asking...</td>\n",
       "      <td>Refuted</td>\n",
       "    </tr>\n",
       "    <tr>\n",
       "      <th>...</th>\n",
       "      <td>...</td>\n",
       "      <td>...</td>\n",
       "      <td>...</td>\n",
       "      <td>...</td>\n",
       "      <td>...</td>\n",
       "      <td>...</td>\n",
       "    </tr>\n",
       "    <tr>\n",
       "      <th>95</th>\n",
       "      <td>Who is a cast member of The New Swiss Family R...</td>\n",
       "      <td>The question directly asks for a cast member o...</td>\n",
       "      <td>Supported</td>\n",
       "      <td>Who directed The New Swiss Family Robinson (19...</td>\n",
       "      <td>This question inquires about the director of t...</td>\n",
       "      <td>Refuted</td>\n",
       "    </tr>\n",
       "    <tr>\n",
       "      <th>96</th>\n",
       "      <td>What sport is La Copa Junior associated with?</td>\n",
       "      <td>The question directly asks for the type of spo...</td>\n",
       "      <td>Supported</td>\n",
       "      <td>Is La Copa Junior a tournament related to amat...</td>\n",
       "      <td>This question inquires if La Copa Junior is as...</td>\n",
       "      <td>Refuted</td>\n",
       "    </tr>\n",
       "    <tr>\n",
       "      <th>97</th>\n",
       "      <td>What movement does 'Portrait of a Man in a Red...</td>\n",
       "      <td>The question directly asks for the classificat...</td>\n",
       "      <td>Supported</td>\n",
       "      <td>Which painting by Hans Memling is considered a...</td>\n",
       "      <td>The question implies an answer that would iden...</td>\n",
       "      <td>Refuted</td>\n",
       "    </tr>\n",
       "    <tr>\n",
       "      <th>98</th>\n",
       "      <td>In which province is the municipality of San E...</td>\n",
       "      <td>This question directly asks for the location (...</td>\n",
       "      <td>Supported</td>\n",
       "      <td>Is San Esteban located in the province of Cebu?</td>\n",
       "      <td>This question suggests an incorrect location (...</td>\n",
       "      <td>Refuted</td>\n",
       "    </tr>\n",
       "    <tr>\n",
       "      <th>99</th>\n",
       "      <td>What is the parent taxon of the genus Verconia?</td>\n",
       "      <td>The question directly asks for the parent taxo...</td>\n",
       "      <td>Supported</td>\n",
       "      <td>What is the parent taxon of the family Chromod...</td>\n",
       "      <td>This question asks for the parent taxon of Chr...</td>\n",
       "      <td>Refuted</td>\n",
       "    </tr>\n",
       "  </tbody>\n",
       "</table>\n",
       "<p>100 rows × 6 columns</p>\n",
       "</div>"
      ],
      "text/plain": [
       "                                                   Q1  \\\n",
       "0   What is the country of origin for the 1955 fil...   \n",
       "1   What language did James P. Coleman, a Mississi...   \n",
       "2        What position did John Joseph O'Connor hold?   \n",
       "3        What is the taxon rank of Lithops aucampiae?   \n",
       "4   What is the parent taxon of the genus Euhalidaya?   \n",
       "..                                                ...   \n",
       "95  Who is a cast member of The New Swiss Family R...   \n",
       "96      What sport is La Copa Junior associated with?   \n",
       "97  What movement does 'Portrait of a Man in a Red...   \n",
       "98  In which province is the municipality of San E...   \n",
       "99    What is the parent taxon of the genus Verconia?   \n",
       "\n",
       "                                         Rationale_Q1   Label_Q1  \\\n",
       "0   This question directly asks for the country of...  Supported   \n",
       "1   The question directly asks for the language sp...  Supported   \n",
       "2   This question directly asks for the 'object no...  Supported   \n",
       "3   This question directly asks for the taxon rank...  Supported   \n",
       "4   This question directly asks for the parent tax...  Supported   \n",
       "..                                                ...        ...   \n",
       "95  The question directly asks for a cast member o...  Supported   \n",
       "96  The question directly asks for the type of spo...  Supported   \n",
       "97  The question directly asks for the classificat...  Supported   \n",
       "98  This question directly asks for the location (...  Supported   \n",
       "99  The question directly asks for the parent taxo...  Supported   \n",
       "\n",
       "                                                   Q2  \\\n",
       "0   Is 'Run for Cover', a 1955 film by Nicholas Ra...   \n",
       "1   Did James P. Coleman, the Mississippi politici...   \n",
       "2   What was John Joseph O'Connor's role in the mi...   \n",
       "3                       Is Lithops aucampiae a genus?   \n",
       "4   Which genus of insects is a member of the trib...   \n",
       "..                                                ...   \n",
       "95  Who directed The New Swiss Family Robinson (19...   \n",
       "96  Is La Copa Junior a tournament related to amat...   \n",
       "97  Which painting by Hans Memling is considered a...   \n",
       "98    Is San Esteban located in the province of Cebu?   \n",
       "99  What is the parent taxon of the family Chromod...   \n",
       "\n",
       "                                         Rationale_Q2 Label_Q2  \n",
       "0   This question is crafted to seek an answer tha...  Refuted  \n",
       "1   This question implies a scenario where James P...  Refuted  \n",
       "2   The second question seeks information that is ...  Refuted  \n",
       "3   The question challenges the fact provided by t...  Refuted  \n",
       "4   This question inverts the relationship, asking...  Refuted  \n",
       "..                                                ...      ...  \n",
       "95  This question inquires about the director of t...  Refuted  \n",
       "96  This question inquires if La Copa Junior is as...  Refuted  \n",
       "97  The question implies an answer that would iden...  Refuted  \n",
       "98  This question suggests an incorrect location (...  Refuted  \n",
       "99  This question asks for the parent taxon of Chr...  Refuted  \n",
       "\n",
       "[100 rows x 6 columns]"
      ]
     },
     "execution_count": 17,
     "metadata": {},
     "output_type": "execute_result"
    }
   ],
   "source": [
    "df"
   ]
  },
  {
   "cell_type": "code",
   "execution_count": 18,
   "metadata": {},
   "outputs": [],
   "source": [
    "df['triplets'] = req_triplets\n",
    "df['descs'] = req_descs"
   ]
  },
  {
   "cell_type": "code",
   "execution_count": 20,
   "metadata": {},
   "outputs": [
    {
     "data": {
      "text/html": [
       "<div>\n",
       "<style scoped>\n",
       "    .dataframe tbody tr th:only-of-type {\n",
       "        vertical-align: middle;\n",
       "    }\n",
       "\n",
       "    .dataframe tbody tr th {\n",
       "        vertical-align: top;\n",
       "    }\n",
       "\n",
       "    .dataframe thead th {\n",
       "        text-align: right;\n",
       "    }\n",
       "</style>\n",
       "<table border=\"1\" class=\"dataframe\">\n",
       "  <thead>\n",
       "    <tr style=\"text-align: right;\">\n",
       "      <th></th>\n",
       "      <th>Q1</th>\n",
       "      <th>Rationale_Q1</th>\n",
       "      <th>Label_Q1</th>\n",
       "      <th>Q2</th>\n",
       "      <th>Rationale_Q2</th>\n",
       "      <th>Label_Q2</th>\n",
       "      <th>triplets</th>\n",
       "      <th>descs</th>\n",
       "    </tr>\n",
       "  </thead>\n",
       "  <tbody>\n",
       "    <tr>\n",
       "      <th>0</th>\n",
       "      <td>What is the country of origin for the 1955 fil...</td>\n",
       "      <td>This question directly asks for the country of...</td>\n",
       "      <td>Supported</td>\n",
       "      <td>Is 'Run for Cover', a 1955 film by Nicholas Ra...</td>\n",
       "      <td>This question is crafted to seek an answer tha...</td>\n",
       "      <td>Refuted</td>\n",
       "      <td>(Run for Cover, country of origin, United Stat...</td>\n",
       "      <td>(1955 film by Nicholas Ray, country of origin ...</td>\n",
       "    </tr>\n",
       "    <tr>\n",
       "      <th>1</th>\n",
       "      <td>What language did James P. Coleman, a Mississi...</td>\n",
       "      <td>The question directly asks for the language sp...</td>\n",
       "      <td>Supported</td>\n",
       "      <td>Did James P. Coleman, the Mississippi politici...</td>\n",
       "      <td>This question implies a scenario where James P...</td>\n",
       "      <td>Refuted</td>\n",
       "      <td>(James P. Coleman, languages spoken, written o...</td>\n",
       "      <td>(Mississippi politician (1914-1991), language(...</td>\n",
       "    </tr>\n",
       "    <tr>\n",
       "      <th>2</th>\n",
       "      <td>What position did John Joseph O'Connor hold?</td>\n",
       "      <td>This question directly asks for the 'object no...</td>\n",
       "      <td>Supported</td>\n",
       "      <td>What was John Joseph O'Connor's role in the mi...</td>\n",
       "      <td>The second question seeks information that is ...</td>\n",
       "      <td>Refuted</td>\n",
       "      <td>(John Joseph O'Connor, position held, archbishop)</td>\n",
       "      <td>(American Cardinal, Archbishop of New York, su...</td>\n",
       "    </tr>\n",
       "    <tr>\n",
       "      <th>3</th>\n",
       "      <td>What is the taxon rank of Lithops aucampiae?</td>\n",
       "      <td>This question directly asks for the taxon rank...</td>\n",
       "      <td>Supported</td>\n",
       "      <td>Is Lithops aucampiae a genus?</td>\n",
       "      <td>The question challenges the fact provided by t...</td>\n",
       "      <td>Refuted</td>\n",
       "      <td>(Lithops aucampiae, taxon rank, species)</td>\n",
       "      <td>(species of plant, level in a taxonomic hierar...</td>\n",
       "    </tr>\n",
       "    <tr>\n",
       "      <th>4</th>\n",
       "      <td>What is the parent taxon of the genus Euhalidaya?</td>\n",
       "      <td>This question directly asks for the parent tax...</td>\n",
       "      <td>Supported</td>\n",
       "      <td>Which genus of insects is a member of the trib...</td>\n",
       "      <td>This question inverts the relationship, asking...</td>\n",
       "      <td>Refuted</td>\n",
       "      <td>(Euhalidaya, parent taxon, Blondeliini)</td>\n",
       "      <td>(genus of insects, closest parent taxon of the...</td>\n",
       "    </tr>\n",
       "    <tr>\n",
       "      <th>...</th>\n",
       "      <td>...</td>\n",
       "      <td>...</td>\n",
       "      <td>...</td>\n",
       "      <td>...</td>\n",
       "      <td>...</td>\n",
       "      <td>...</td>\n",
       "      <td>...</td>\n",
       "      <td>...</td>\n",
       "    </tr>\n",
       "    <tr>\n",
       "      <th>95</th>\n",
       "      <td>Who is a cast member of The New Swiss Family R...</td>\n",
       "      <td>The question directly asks for a cast member o...</td>\n",
       "      <td>Supported</td>\n",
       "      <td>Who directed The New Swiss Family Robinson (19...</td>\n",
       "      <td>This question inquires about the director of t...</td>\n",
       "      <td>Refuted</td>\n",
       "      <td>(The New Swiss Family Robinson, cast member, J...</td>\n",
       "      <td>(1998 film by Stewart Raffill, actor in the su...</td>\n",
       "    </tr>\n",
       "    <tr>\n",
       "      <th>96</th>\n",
       "      <td>What sport is La Copa Junior associated with?</td>\n",
       "      <td>The question directly asks for the type of spo...</td>\n",
       "      <td>Supported</td>\n",
       "      <td>Is La Copa Junior a tournament related to amat...</td>\n",
       "      <td>This question inquires if La Copa Junior is as...</td>\n",
       "      <td>Refuted</td>\n",
       "      <td>(La Copa Junior, sport, professional wrestling)</td>\n",
       "      <td>(Mexican professional wrestling tournament, sp...</td>\n",
       "    </tr>\n",
       "    <tr>\n",
       "      <th>97</th>\n",
       "      <td>What movement does 'Portrait of a Man in a Red...</td>\n",
       "      <td>The question directly asks for the classificat...</td>\n",
       "      <td>Supported</td>\n",
       "      <td>Which painting by Hans Memling is considered a...</td>\n",
       "      <td>The question implies an answer that would iden...</td>\n",
       "      <td>Refuted</td>\n",
       "      <td>(Portrait of a Man in a Red Hat, movement, Ear...</td>\n",
       "      <td>(painting by Hans Memling, literary, artistic,...</td>\n",
       "    </tr>\n",
       "    <tr>\n",
       "      <th>98</th>\n",
       "      <td>In which province is the municipality of San E...</td>\n",
       "      <td>This question directly asks for the location (...</td>\n",
       "      <td>Supported</td>\n",
       "      <td>Is San Esteban located in the province of Cebu?</td>\n",
       "      <td>This question suggests an incorrect location (...</td>\n",
       "      <td>Refuted</td>\n",
       "      <td>(San Esteban, located in the administrative te...</td>\n",
       "      <td>(municipality of the Philippines in the provin...</td>\n",
       "    </tr>\n",
       "    <tr>\n",
       "      <th>99</th>\n",
       "      <td>What is the parent taxon of the genus Verconia?</td>\n",
       "      <td>The question directly asks for the parent taxo...</td>\n",
       "      <td>Supported</td>\n",
       "      <td>What is the parent taxon of the family Chromod...</td>\n",
       "      <td>This question asks for the parent taxon of Chr...</td>\n",
       "      <td>Refuted</td>\n",
       "      <td>(Verconia, parent taxon, Chromodorididae)</td>\n",
       "      <td>(genus of molluscs, closest parent taxon of th...</td>\n",
       "    </tr>\n",
       "  </tbody>\n",
       "</table>\n",
       "<p>100 rows × 8 columns</p>\n",
       "</div>"
      ],
      "text/plain": [
       "                                                   Q1  \\\n",
       "0   What is the country of origin for the 1955 fil...   \n",
       "1   What language did James P. Coleman, a Mississi...   \n",
       "2        What position did John Joseph O'Connor hold?   \n",
       "3        What is the taxon rank of Lithops aucampiae?   \n",
       "4   What is the parent taxon of the genus Euhalidaya?   \n",
       "..                                                ...   \n",
       "95  Who is a cast member of The New Swiss Family R...   \n",
       "96      What sport is La Copa Junior associated with?   \n",
       "97  What movement does 'Portrait of a Man in a Red...   \n",
       "98  In which province is the municipality of San E...   \n",
       "99    What is the parent taxon of the genus Verconia?   \n",
       "\n",
       "                                         Rationale_Q1   Label_Q1  \\\n",
       "0   This question directly asks for the country of...  Supported   \n",
       "1   The question directly asks for the language sp...  Supported   \n",
       "2   This question directly asks for the 'object no...  Supported   \n",
       "3   This question directly asks for the taxon rank...  Supported   \n",
       "4   This question directly asks for the parent tax...  Supported   \n",
       "..                                                ...        ...   \n",
       "95  The question directly asks for a cast member o...  Supported   \n",
       "96  The question directly asks for the type of spo...  Supported   \n",
       "97  The question directly asks for the classificat...  Supported   \n",
       "98  This question directly asks for the location (...  Supported   \n",
       "99  The question directly asks for the parent taxo...  Supported   \n",
       "\n",
       "                                                   Q2  \\\n",
       "0   Is 'Run for Cover', a 1955 film by Nicholas Ra...   \n",
       "1   Did James P. Coleman, the Mississippi politici...   \n",
       "2   What was John Joseph O'Connor's role in the mi...   \n",
       "3                       Is Lithops aucampiae a genus?   \n",
       "4   Which genus of insects is a member of the trib...   \n",
       "..                                                ...   \n",
       "95  Who directed The New Swiss Family Robinson (19...   \n",
       "96  Is La Copa Junior a tournament related to amat...   \n",
       "97  Which painting by Hans Memling is considered a...   \n",
       "98    Is San Esteban located in the province of Cebu?   \n",
       "99  What is the parent taxon of the family Chromod...   \n",
       "\n",
       "                                         Rationale_Q2 Label_Q2  \\\n",
       "0   This question is crafted to seek an answer tha...  Refuted   \n",
       "1   This question implies a scenario where James P...  Refuted   \n",
       "2   The second question seeks information that is ...  Refuted   \n",
       "3   The question challenges the fact provided by t...  Refuted   \n",
       "4   This question inverts the relationship, asking...  Refuted   \n",
       "..                                                ...      ...   \n",
       "95  This question inquires about the director of t...  Refuted   \n",
       "96  This question inquires if La Copa Junior is as...  Refuted   \n",
       "97  The question implies an answer that would iden...  Refuted   \n",
       "98  This question suggests an incorrect location (...  Refuted   \n",
       "99  This question asks for the parent taxon of Chr...  Refuted   \n",
       "\n",
       "                                             triplets  \\\n",
       "0   (Run for Cover, country of origin, United Stat...   \n",
       "1   (James P. Coleman, languages spoken, written o...   \n",
       "2   (John Joseph O'Connor, position held, archbishop)   \n",
       "3            (Lithops aucampiae, taxon rank, species)   \n",
       "4             (Euhalidaya, parent taxon, Blondeliini)   \n",
       "..                                                ...   \n",
       "95  (The New Swiss Family Robinson, cast member, J...   \n",
       "96    (La Copa Junior, sport, professional wrestling)   \n",
       "97  (Portrait of a Man in a Red Hat, movement, Ear...   \n",
       "98  (San Esteban, located in the administrative te...   \n",
       "99          (Verconia, parent taxon, Chromodorididae)   \n",
       "\n",
       "                                                descs  \n",
       "0   (1955 film by Nicholas Ray, country of origin ...  \n",
       "1   (Mississippi politician (1914-1991), language(...  \n",
       "2   (American Cardinal, Archbishop of New York, su...  \n",
       "3   (species of plant, level in a taxonomic hierar...  \n",
       "4   (genus of insects, closest parent taxon of the...  \n",
       "..                                                ...  \n",
       "95  (1998 film by Stewart Raffill, actor in the su...  \n",
       "96  (Mexican professional wrestling tournament, sp...  \n",
       "97  (painting by Hans Memling, literary, artistic,...  \n",
       "98  (municipality of the Philippines in the provin...  \n",
       "99  (genus of molluscs, closest parent taxon of th...  \n",
       "\n",
       "[100 rows x 8 columns]"
      ]
     },
     "execution_count": 20,
     "metadata": {},
     "output_type": "execute_result"
    }
   ],
   "source": [
    "df"
   ]
  },
  {
   "cell_type": "code",
   "execution_count": 21,
   "metadata": {},
   "outputs": [],
   "source": [
    "df.to_csv('outputs/QA_1hop.csv')"
   ]
  },
  {
   "cell_type": "code",
   "execution_count": 28,
   "metadata": {},
   "outputs": [],
   "source": [
    "def generate_sagemaker_groundtruth_input(csv_file_path, output_json_path):\n",
    "    # Load the CSV file\n",
    "    data = pd.read_csv(csv_file_path)\n",
    "\n",
    "    # Create a list to store JSON records\n",
    "    records = []\n",
    "\n",
    "    # Loop through each row in the dataframe and create a JSON record\n",
    "    for index, row in data.iterrows():\n",
    "        # Parse the triplet to extract the object node (answer)\n",
    "        triplet = eval(row[\"triplets\"])\n",
    "        answer = triplet[2]\n",
    "        \n",
    "        record = {\n",
    "            \"source\": {\n",
    "                \"question\": row[\"Q1\"],\n",
    "                \"triplet\": row[\"triplets\"],\n",
    "                \"answer\": answer,\n",
    "                \"assigned_label\": row[\"Label_Q1\"]\n",
    "            }\n",
    "        }\n",
    "        records.append(record)\n",
    "\n",
    "    # Write the records to a JSON file\n",
    "    with open(output_json_path, 'w') as json_file:\n",
    "        for record in records:\n",
    "            json_file.write(json.dumps(record) + '\\n')\n"
   ]
  },
  {
   "cell_type": "code",
   "execution_count": null,
   "metadata": {},
   "outputs": [],
   "source": []
  },
  {
   "cell_type": "code",
   "execution_count": 29,
   "metadata": {},
   "outputs": [],
   "source": [
    "generate_sagemaker_groundtruth_input('outputs/QA_1hop.csv', 'outputs/QA_1hop_sage.json')"
   ]
  },
  {
   "cell_type": "code",
   "execution_count": 30,
   "metadata": {},
   "outputs": [],
   "source": [
    "#open the json file and check the format\n",
    "with open('outputs/QA_1hop_sage.json', 'r') as file:\n",
    "    data = file.readlines()\n",
    "    "
   ]
  },
  {
   "cell_type": "code",
   "execution_count": 56,
   "metadata": {},
   "outputs": [],
   "source": [
    "def generate_sagemaker_formatted_csv(csv_file_path, output_csv_path):\n",
    "    # Load the CSV file\n",
    "    data = pd.read_csv(csv_file_path)\n",
    "\n",
    "    # Create a list to store CSV records\n",
    "    records = []\n",
    "\n",
    "    # Loop through each row in the dataframe and create a CSV record\n",
    "    for index, row in data.iterrows():\n",
    "        # Parse the triplet to extract the object node (answer)\n",
    "        triplet = eval(row[\"triplets\"])\n",
    "        answer = triplet[2]\n",
    "        \n",
    "        record = {\n",
    "            \"question\": f\"*** QUESTION ***: {row['Q1']}\",\n",
    "            \"triplet\": f\"*** TRIPLET ***: {row['triplets']}\",\n",
    "            \"answer\": f\"*** ANSWER ***: {answer}\",\n",
    "            \"assigned_label\": f\"*** PREDICTION ***: {row['Label_Q1']}\"\n",
    "        }\n",
    "        records.append(record)\n",
    "\n",
    "    # Convert the records list to a DataFrame\n",
    "    output_df = pd.DataFrame(records)\n",
    "\n",
    "    # Write the DataFrame to a CSV file\n",
    "    output_df.to_csv(output_csv_path, index=False)\n"
   ]
  },
  {
   "cell_type": "code",
   "execution_count": 52,
   "metadata": {},
   "outputs": [],
   "source": [
    "def generate_sagemaker_groundtruth_input_csv(csv_file_path, output_csv_path):\n",
    "    # Load the CSV file\n",
    "    data = pd.read_csv(csv_file_path)\n",
    "\n",
    "    # Create a list to store CSV records\n",
    "    records = []\n",
    "\n",
    "    # Loop through each row in the dataframe and create a CSV record\n",
    "    for index, row in data.iterrows():\n",
    "        # Parse the triplet to extract the object node (answer)\n",
    "        triplet = eval(row[\"triplets\"])\n",
    "        answer = triplet[2]\n",
    "        \n",
    "        # Create the record in the format expected by SageMaker Ground Truth\n",
    "        record = {\n",
    "            \"taskInput\": {\n",
    "                \"question\": f\"Question: {row['Q1']}\",\n",
    "                \"triplet\": f\"Triplet: {row['triplets']}\",\n",
    "                \"answer\": f\"Answer: {answer}\",\n",
    "                \"assigned_label\": f\"Assigned Label: {row['Label_Q1']}\"\n",
    "            }\n",
    "        }\n",
    "        records.append(record)\n",
    "\n",
    "    # Convert the records list to a DataFrame\n",
    "    output_df = pd.DataFrame(records)\n",
    "\n",
    "    # Write the DataFrame to a CSV file\n",
    "    output_df.to_csv(output_csv_path, index=False, quoting=csv.QUOTE_ALL)"
   ]
  },
  {
   "cell_type": "code",
   "execution_count": 57,
   "metadata": {},
   "outputs": [],
   "source": [
    "\n",
    "generate_sagemaker_formatted_csv('outputs/QA_1hop.csv', 'outputs/QA_1hop_sagemaker_formatted_v1.csv')"
   ]
  },
  {
   "cell_type": "code",
   "execution_count": 53,
   "metadata": {},
   "outputs": [],
   "source": [
    "generate_sagemaker_groundtruth_input_csv('outputs/QA_1hop.csv', 'outputs/QA_1hop_sage_formatted_v1.csv')"
   ]
  },
  {
   "cell_type": "code",
   "execution_count": 1,
   "metadata": {},
   "outputs": [],
   "source": [
    "wikidata_properties = {\n",
    "    \"Geospatial Information\": {\n",
    "        \"Moving Up the Hierarchy\": {\n",
    "            \"Located in the administrative territorial entity\": \"P131\",\n",
    "            \"Part of\": \"P361\",\n",
    "            \"Located on terrain feature\": \"P706\"\n",
    "        },\n",
    "        \"Moving Down the Hierarchy\": {\n",
    "            \"Contains administrative territorial entity\": \"P150\",\n",
    "            \"Location\": \"P276\",\n",
    "            \"Located on street\": \"P669\"\n",
    "        },\n",
    "        \"Lateral Connections\": {\n",
    "            \"Location\": \"P276\",\n",
    "            \"Located on terrain feature\": \"P706\"\n",
    "        },\n",
    "        \"General Context\": {\n",
    "            \"Country\": \"P17\",\n",
    "            \"Instance of\": \"P31\"\n",
    "        }\n",
    "    },\n",
    "    \"Occupation and Professional Information\": {\n",
    "        \"Moving Up the Hierarchy\": {\n",
    "            \"Field of work\": \"P101\",\n",
    "            \"Part of\": \"P361\",\n",
    "            \"Academic discipline\": \"P136\"\n",
    "        },\n",
    "        \"Moving Down the Hierarchy\": {\n",
    "            \"Has part\": \"P527\",\n",
    "            \"Subclass of\": \"P279\"\n",
    "        },\n",
    "        \"Lateral Connections\": {\n",
    "            \"Employer\": \"P108\",\n",
    "            \"Member of\": \"P463\",\n",
    "            \"Affiliation\": \"P1416\"\n",
    "        },\n",
    "        \"General Context\": {\n",
    "            \"Occupation\": \"P106\",\n",
    "            \"Position held\": \"P39\"\n",
    "        }\n",
    "    },\n",
    "    \"Temporal Information\": {\n",
    "        \"Moving Up the Hierarchy\": {\n",
    "            \"Follows\": \"P155\",\n",
    "            \"Part of\": \"P361\"\n",
    "        },\n",
    "        \"Moving Down the Hierarchy\": {\n",
    "            \"Has part\": \"P527\",\n",
    "            \"Subclass of\": \"P279\"\n",
    "        },\n",
    "        \"Lateral Connections\": {\n",
    "            \"Concurrent with\": \"P1072\",\n",
    "            \"Followed by\": \"P156\"\n",
    "        },\n",
    "        \"General Context\": {\n",
    "            \"Point in time\": \"P585\",\n",
    "            \"Duration\": \"P2047\"\n",
    "        }\n",
    "    },\n",
    "    \"Biological and Taxonomic Information\": {\n",
    "        \"Moving Up the Hierarchy\": {\n",
    "            \"Parent taxon\": \"P171\",\n",
    "            \"Part of\": \"P361\"\n",
    "        },\n",
    "        \"Moving Down the Hierarchy\": {\n",
    "            \"Taxon rank\": \"P105\",\n",
    "            \"Has part\": \"P527\"\n",
    "        },\n",
    "        \"Lateral Connections\": {\n",
    "            \"Related to\": \"P2789\",\n",
    "            \"Similar to\": \"P1889\"\n",
    "        },\n",
    "        \"General Context\": {\n",
    "            \"Instance of\": \"P31\",\n",
    "            \"Species\": \"P105\"\n",
    "        }\n",
    "    },\n",
    "    \"Cultural and Creative Work\": {\n",
    "        \"Moving Up the Hierarchy\": {\n",
    "            \"Part of the series\": \"P179\",\n",
    "            \"Genre\": \"P136\"\n",
    "        },\n",
    "        \"Moving Down the Hierarchy\": {\n",
    "            \"Has part\": \"P527\",\n",
    "            \"Subgenre\": \"P741\"\n",
    "        },\n",
    "        \"Lateral Connections\": {\n",
    "            \"Inspired by\": \"P941\",\n",
    "            \"Derivative work\": \"P4969\"\n",
    "        },\n",
    "        \"General Context\": {\n",
    "            \"Instance of\": \"P31\",\n",
    "            \"Creative work type\": \"P1448\"\n",
    "        }\n",
    "    },\n",
    "    \"Historical and Event Information\": {\n",
    "        \"Moving Up the Hierarchy\": {\n",
    "            \"Part of\": \"P361\",\n",
    "            \"Significant event\": \"P793\"\n",
    "        },\n",
    "        \"Moving Down the Hierarchy\": {\n",
    "            \"Has part\": \"P527\",\n",
    "            \"Instance of\": \"P31\"\n",
    "        },\n",
    "        \"Lateral Connections\": {\n",
    "            \"Followed by\": \"P156\",\n",
    "            \"Follows\": \"P155\"\n",
    "        },\n",
    "        \"General Context\": {\n",
    "            \"Point in time\": \"P585\",\n",
    "            \"Location\": \"P276\"\n",
    "        }\n",
    "    },\n",
    "    \"Organizational Information\": {\n",
    "        \"Moving Up the Hierarchy\": {\n",
    "            \"Parent organization\": \"P749\",\n",
    "            \"Part of\": \"P361\"\n",
    "        },\n",
    "        \"Moving Down the Hierarchy\": {\n",
    "            \"Subsidiary\": \"P355\",\n",
    "            \"Branch\": \"P1833\"\n",
    "        },\n",
    "        \"Lateral Connections\": {\n",
    "            \"Affiliate\": \"P1416\",\n",
    "            \"Member of\": \"P463\"\n",
    "        },\n",
    "        \"General Context\": {\n",
    "            \"Industry\": \"P452\",\n",
    "            \"Instance of\": \"P31\"\n",
    "        }\n",
    "    },\n",
    "    \"Literary and Bibliographic Information\": {\n",
    "        \"Moving Up the Hierarchy\": {\n",
    "            \"Part of the series\": \"P179\",\n",
    "            \"Genre\": \"P136\"\n",
    "        },\n",
    "        \"Moving Down the Hierarchy\": {\n",
    "            \"Has part\": \"P527\",\n",
    "            \"Subgenre\": \"P741\"\n",
    "        },\n",
    "        \"Lateral Connections\": {\n",
    "            \"Inspired by\": \"P941\",\n",
    "            \"Derivative work\": \"P4969\"\n",
    "        },\n",
    "        \"General Context\": {\n",
    "            \"Instance of\": \"P31\",\n",
    "            \"Author\": \"P50\"\n",
    "        }\n",
    "    },\n",
    "    \"Scientific and Technical Information\": {\n",
    "        \"Moving Up the Hierarchy\": {\n",
    "            \"Field of work\": \"P101\",\n",
    "            \"Part of\": \"P361\"\n",
    "        },\n",
    "        \"Moving Down the Hierarchy\": {\n",
    "            \"Has part\": \"P527\",\n",
    "            \"Subclass of\": \"P279\"\n",
    "        },\n",
    "        \"Lateral Connections\": {\n",
    "            \"Related to\": \"P2789\",\n",
    "            \"Similar to\": \"P1889\"\n",
    "        },\n",
    "        \"General Context\": {\n",
    "            \"Instance of\": \"P31\",\n",
    "            \"Research topic\": \"P2579\"\n",
    "        }\n",
    "    },\n",
    "    \"Social and Demographic Information\": {\n",
    "        \"Moving Up the Hierarchy\": {\n",
    "            \"Part of\": \"P361\",\n",
    "            \"Member of\": \"P463\"\n",
    "        },\n",
    "        \"Moving Down the Hierarchy\": {\n",
    "            \"Subclass of\": \"P279\",\n",
    "            \"Has part\": \"P527\"\n",
    "        },\n",
    "        \"Lateral Connections\": {\n",
    "            \"Related to\": \"P2789\",\n",
    "            \"Similar to\": \"P1889\"\n",
    "        },\n",
    "        \"General Context\": {\n",
    "            \"Instance of\": \"P31\",\n",
    "            \"Demographic group\": \"P1448\"\n",
    "        }\n",
    "    }\n",
    "}\n",
    "\n"
   ]
  },
  {
   "cell_type": "code",
   "execution_count": 2,
   "metadata": {},
   "outputs": [
    {
     "name": "stdout",
     "output_type": "stream",
     "text": [
      "Field of work: P101\n",
      "Part of: P361\n",
      "Academic discipline: P136\n"
     ]
    }
   ],
   "source": [
    "\n",
    "for key, value in wikidata_properties[\"Occupation and Professional Information\"][\"Moving Up the Hierarchy\"].items():\n",
    "    print(f\"{key}: {value}\")\n"
   ]
  },
  {
   "cell_type": "code",
   "execution_count": null,
   "metadata": {},
   "outputs": [],
   "source": []
  }
 ],
 "metadata": {
  "kernelspec": {
   "display_name": "kg",
   "language": "python",
   "name": "python3"
  },
  "language_info": {
   "codemirror_mode": {
    "name": "ipython",
    "version": 3
   },
   "file_extension": ".py",
   "mimetype": "text/x-python",
   "name": "python",
   "nbconvert_exporter": "python",
   "pygments_lexer": "ipython3",
   "version": "3.9.19"
  }
 },
 "nbformat": 4,
 "nbformat_minor": 2
}
